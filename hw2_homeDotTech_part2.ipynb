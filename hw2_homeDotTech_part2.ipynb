{
  "nbformat": 4,
  "nbformat_minor": 0,
  "metadata": {
    "colab": {
      "name": "hw2_homeDotTech_part2.ipynb",
      "version": "0.3.2",
      "provenance": [],
      "collapsed_sections": [],
      "toc_visible": true,
      "include_colab_link": true
    },
    "kernelspec": {
      "name": "python3",
      "display_name": "Python 3"
    },
    "accelerator": "GPU"
  },
  "cells": [
    {
      "cell_type": "markdown",
      "metadata": {
        "id": "view-in-github",
        "colab_type": "text"
      },
      "source": [
        "<a href=\"https://colab.research.google.com/github/Pataweepr/applyML_vistec_2019/blob/master/hw2_homeDotTech_part2.ipynb\" target=\"_parent\"><img src=\"https://colab.research.google.com/assets/colab-badge.svg\" alt=\"Open In Colab\"/></a>"
      ]
    },
    {
      "metadata": {
        "id": "LyXd3PeVaqIQ",
        "colab_type": "code",
        "cellView": "both",
        "colab": {}
      },
      "cell_type": "code",
      "source": [
        "from google.colab import auth\n",
        "from oauth2client.client import GoogleCredentials\n",
        "\n",
        "import numpy as np\n",
        "import pandas as pd\n",
        "import matplotlib.pyplot as plt\n",
        "from sklearn.cluster import KMeans\n",
        "from sklearn.neighbors import NearestNeighbors\n",
        "from scipy.stats import mode\n",
        "from sklearn import preprocessing\n",
        "from scipy import stats\n",
        "\n",
        "from sklearn.cluster import KMeans"
      ],
      "execution_count": 0,
      "outputs": []
    },
    {
      "metadata": {
        "id": "RdMpqi9N-y5v",
        "colab_type": "text"
      },
      "cell_type": "markdown",
      "source": [
        "# HW2 part 2: Thailand real estate segmentation using k-means\n",
        "\n",
        "The data used here is part of the [Home Hackathon 2018](https://www.homedottech.com/homehackathon-2018/) by courtesy of HomeDotTech. \n",
        "\n",
        "If you have not already done so in the previous homework, get the data by going to this [link](https://drive.google.com/file/d/1X-cacRIF30acXyKotSmDZu5qc8Gs84Wm/view?usp=sharing) and click **add to Drive**\n",
        "\n",
        "We will use this data by linking it with our Google Colab notebook, by using the command below, click the link, and follow the steps to let Google Colab link to your Google Drive by copying the authorization code and pasting it into the space provided."
      ]
    },
    {
      "metadata": {
        "id": "0mKHGjm1_c9i",
        "colab_type": "code",
        "colab": {}
      },
      "cell_type": "code",
      "source": [
        "from google.colab import drive\n",
        "drive.mount('/content/gdrive/')"
      ],
      "execution_count": 0,
      "outputs": []
    },
    {
      "metadata": {
        "id": "OljJuc0Y_kUX",
        "colab_type": "code",
        "colab": {}
      },
      "cell_type": "code",
      "source": [
        "!unzip '/content/gdrive/My Drive/For_participants.zip'\n",
        "!ls"
      ],
      "execution_count": 0,
      "outputs": []
    },
    {
      "metadata": {
        "id": "u64D40zp_o_T",
        "colab_type": "code",
        "colab": {}
      },
      "cell_type": "code",
      "source": [
        "def readDataFromDrive(file_name):\n",
        "  raw_data = pd.read_csv(file_name,delimiter= ';')\n",
        "  return raw_data;"
      ],
      "execution_count": 0,
      "outputs": []
    },
    {
      "metadata": {
        "id": "Go7lnAxN9XZP",
        "colab_type": "text"
      },
      "cell_type": "markdown",
      "source": [
        "## Data pre-processing from previous homework\n",
        "\n",
        "We'll do the same pre-processing done in the previous homework here.\n"
      ]
    },
    {
      "metadata": {
        "id": "UPspM4Q__35d",
        "colab_type": "code",
        "colab": {}
      },
      "cell_type": "code",
      "source": [
        "project_main = readDataFromDrive('project_main.csv')\n",
        "project_main = project_main.loc[project_main['province_id'] == 10]\n",
        "project_main = project_main.drop(columns=['project_land_size_ngan', 'project_land_size_wa'])\n",
        "project_main.loc[project_main[\"project_status\"] == \"A\", \"project_status\"] = 1\n",
        "project_main.loc[project_main[\"project_status\"] == \"U\", \"project_status\"] = 0\n",
        "project_main = project_main.infer_objects()\n",
        "project_main = project_main.dropna(subset=['lat','lon'])\n",
        "project_main[\"starting_price\"] = project_main[\"starting_price\"].fillna(project_main[\"starting_price\"].mode().iloc[0])"
      ],
      "execution_count": 0,
      "outputs": []
    },
    {
      "metadata": {
        "id": "ctzbG7MSAH_R",
        "colab_type": "code",
        "colab": {}
      },
      "cell_type": "code",
      "source": [
        "project_facility = readDataFromDrive('project_facility.csv')\n",
        "project_facility_table = pd.crosstab(project_facility['project_id'], project_facility['facility_id'], rownames=['project_id'], colnames=['facility_id'])\n",
        "project_facility_table = project_facility_table.loc[project_facility_table.index.isin(project_main['project_id'])]\n",
        "project_main = project_main.loc[project_main['project_id'].isin(project_facility_table.index.astype(int))]\n",
        "project_main = project_main.sort_values('project_id')"
      ],
      "execution_count": 0,
      "outputs": []
    },
    {
      "metadata": {
        "id": "9CjezFtUATSl",
        "colab_type": "code",
        "colab": {}
      },
      "cell_type": "code",
      "source": [
        "userLog = readDataFromDrive('userLog_201801_201802_for_participants.csv')\n",
        "userLog = userLog.loc[userLog['project_id'].isin(project_facility_table.index.astype(int))]"
      ],
      "execution_count": 0,
      "outputs": []
    },
    {
      "metadata": {
        "id": "PKNL15SnAmKD",
        "colab_type": "code",
        "colab": {}
      },
      "cell_type": "code",
      "source": [
        "userLog_freq_user = userLog['userCode'].value_counts()\n",
        "userLog_freq_user_np  = np.array(userLog_freq_user.values)\n",
        "userLog_freq_user = userLog_freq_user.loc[userLog_freq_user <= 40 ]\n",
        "userLog_freq_user = userLog_freq_user.loc[userLog_freq_user >= 5 ]\n",
        "userLog_freq_user_np = np.array(userLog_freq_user.values)\n",
        "userLog = userLog.loc[userLog['userCode'].isin(userLog_freq_user.index)]"
      ],
      "execution_count": 0,
      "outputs": []
    },
    {
      "metadata": {
        "id": "NnuZBZYkHrR_",
        "colab_type": "code",
        "colab": {}
      },
      "cell_type": "code",
      "source": [
        "# Functions for features\n",
        "def feature_sel(userLog_data_frame,user_code):\n",
        "  np_data = np.zeros((user_code.shape[0], 3 + project_facility_table.shape[1]))\n",
        "\n",
        "  for i in np.arange(user_code.shape[0]):\n",
        "    user_sel = user_code[i]\n",
        "    userLog_dataF_sel = userLog_data_frame.loc[userLog_data_frame['userCode'] == user_sel]\n",
        "    proj_id_sel = userLog_dataF_sel['project_id'].values\n",
        "    input_np_data = np.zeros((proj_id_sel.shape[0],3 + project_facility_table.shape[1]))\n",
        "    for j in np.arange(proj_id_sel.shape[0]):\n",
        "      user_proj_far = project_facility_table.loc[project_facility_table.index == proj_id_sel[j]]\n",
        "      user_proj_main = project_main.loc[project_main['project_id'] == proj_id_sel[j]]\n",
        "      input_np_data[j,:] = np.hstack(( np.array(user_proj_main[[\"lat\",\"lon\",\"starting_price\"]].values) ,  np.array(user_proj_far.values) ))\n",
        "    np_data[i,:] = np.mean(input_np_data,axis=0)\n",
        "  return np_data\n",
        "\n",
        "# returns a feature normalizer based on training data\n",
        "def normalize(x):\n",
        "  normalizer = preprocessing.MinMaxScaler().fit(x)\n",
        "  return normalizer"
      ],
      "execution_count": 0,
      "outputs": []
    },
    {
      "metadata": {
        "id": "pnuUnj6hHep2",
        "colab_type": "code",
        "colab": {}
      },
      "cell_type": "code",
      "source": [
        "# Functions for k-nn from last time\n",
        "\n",
        "def proj_recommend(nn_dict,dict_seen_train):\n",
        "  nn_proj = {}\n",
        "  for user_code_nn in nn_dict:\n",
        "    list_proj = []\n",
        "    for user_in_list in nn_dict[user_code_nn]:\n",
        "      list_proj = list_proj + list(dict_seen_train[user_in_list])\n",
        "    nn_proj[user_code_nn] = list_proj\n",
        "  return nn_proj\n",
        "\n",
        "####################################################################\n",
        "\n",
        "def index_to_usercode(nn_index,user_code_list):\n",
        "  nn_dict = {}\n",
        "  for i in np.arange(nn_index.shape[0]):\n",
        "    nn_list = []\n",
        "    nn_name = user_code_list[i]\n",
        "    for j in np.arange(nn_index.shape[1]):\n",
        "      ind = nn_index[i][j]\n",
        "      nn_list.append(user_code_list[ind])\n",
        "    nn_dict[nn_name] = nn_list\n",
        "  return nn_dict\n",
        "\n",
        "####################################################################\n",
        "\n",
        "def proj_repeat_out(dict_train,dict_test):\n",
        "  dict_out = {} \n",
        "  for user_code in dict_test:\n",
        "    if user_code in dict_train:\n",
        "      list_proj_train = np.array(dict_train[user_code])\n",
        "      list_proj_test = np.array(dict_test[user_code])\n",
        "      bool_list = np.isin(list_proj_test ,list_proj_train)\n",
        "      dict_out[user_code] = list(list_proj_test[~bool_list])\n",
        "  return dict_out\n",
        "\n",
        "####################################################################\n",
        "\n",
        "def proj_seen(data_freq_seen):\n",
        "  all_colums = data_freq_seen.columns\n",
        "  all_index = data_freq_seen.index\n",
        "  output_list = {}\n",
        "  for index in np.arange(len(all_index)):\n",
        "    np_array = np.array(data_freq_seen.iloc[index])\n",
        "    output_list[all_index[index]] = all_colums[np_array > 0].values\n",
        "  return output_list\n",
        "\n",
        "####################################################################\n",
        "\n",
        "def mean_average_precision(dict_recomment,dict_test,k):\n",
        "  list_map_at_k = []\n",
        "  for user_code in dict_test:\n",
        "    list_map_at_k_user_i = []\n",
        "    list_proj_rec = np.array(dict_recomment[user_code])\n",
        "    list_proj_test = np.array(dict_test[user_code])\n",
        "    \n",
        "    ##########\n",
        "    \n",
        "    for i in np.arange(k):\n",
        "      if(i == len(list_proj_rec) or len(list_proj_test) == 0 or len(list_proj_rec) == 0):\n",
        "        break\n",
        "      bool_list = np.isin(list_proj_rec[0:i+1],list_proj_test)\n",
        "      list_map_at_k_user_i.append(np.sum(bool_list)/(i+1))\n",
        "    \n",
        "    ##########\n",
        "    # if fail   \n",
        "    if len(list_map_at_k_user_i) == 0:\n",
        "      if len(list_proj_test) != 0:\n",
        "        list_map_at_k_user_i.append(0)\n",
        "    \n",
        "    \n",
        "    if len(list_map_at_k_user_i) != 0:\n",
        "      number = np.mean(np.array(list_map_at_k_user_i))\n",
        "      list_map_at_k.append(number)\n",
        "\n",
        "  return np.mean(np.array(list_map_at_k))"
      ],
      "execution_count": 0,
      "outputs": []
    },
    {
      "metadata": {
        "id": "i48fCT1GA6SR",
        "colab_type": "text"
      },
      "cell_type": "markdown",
      "source": [
        "# Hyperparameter tuning\n",
        "\n",
        "In the previous homework, we used k-mean to do recommendation system. In that homework we used 5 as the number of neighbors.\n",
        "\n",
        "How do we know that this value of the k is the best possible?\n",
        "\n",
        "We usually have to try out different values on the validation set (sometimes it's called developement set). \n",
        "\n",
        "In machine learning we usually seperate the dataset into three disjoint sets: **training set**, **validation set**, and **test set**.\n",
        "\n",
        "The training set is used for learning the parameters of the model.\n",
        "The validation set is used to monitor the performance of the training set in order to select different hyperparameters.\n",
        "Finally, the test set is used for evaluating the model.\n"
      ]
    },
    {
      "metadata": {
        "id": "FFAEG1yBHXlT",
        "colab_type": "text"
      },
      "cell_type": "markdown",
      "source": [
        "### TODO#1: Separate the data into sets\n",
        "\n",
        "\n",
        "Seperate the training data into three different sets\n",
        "\n",
        "\n",
        "\n",
        "1.   training set: Feb 12-14\n",
        "2.   validation set: Feb 15-18\n",
        "3.   test set: Feb 19 and onwards\n",
        "\n",
        "(useLog_train, useLog_val, userLog_test)\n",
        "\n",
        "\n"
      ]
    },
    {
      "metadata": {
        "id": "3iIawJazHWy2",
        "colab_type": "code",
        "colab": {}
      },
      "cell_type": "code",
      "source": [
        "# Enter code here"
      ],
      "execution_count": 0,
      "outputs": []
    },
    {
      "metadata": {
        "id": "4z9Jg-W-K8ly",
        "colab_type": "text"
      },
      "cell_type": "markdown",
      "source": [
        "### TODO#2: Hyperparameter tuning\n",
        "\n",
        "Create a recommendation system using **binary view matrix**.\n",
        "Evaluate the model using different values of k from 2 to 10.\n",
        "\n",
        "Use MAP@10 as the evaluation metric. Plot the MAP@10 values for different k on both the validation set and the test set."
      ]
    },
    {
      "metadata": {
        "id": "h0KouT47K7_g",
        "colab_type": "code",
        "colab": {}
      },
      "cell_type": "code",
      "source": [
        "# Enter code here to sweep different k values"
      ],
      "execution_count": 0,
      "outputs": []
    },
    {
      "metadata": {
        "id": "UspNnHX1aqyd",
        "colab_type": "code",
        "outputId": "fcd1889e-a987-4628-aff3-e95e8fa8d3e9",
        "colab": {
          "base_uri": "https://localhost:8080/",
          "height": 395
        }
      },
      "cell_type": "code",
      "source": [
        "# Plot the MAP@k for each k values\n",
        "plt.plot(range(2,11),map_k_freq_test)\n",
        "plt.plot(range(2,11),map_k_freq_val)\n",
        "plt.legend(['test set','val set'])\n",
        "plt.ylabel('map@k')\n",
        "plt.xlabel('k value for k-nn')\n",
        "plt.show()\n",
        "print('best k for test set',np.argmax(map_k_freq_test))\n",
        "print('best k for validation set',np.argmax(map_k_freq_val))"
      ],
      "execution_count": 0,
      "outputs": [
        {
          "output_type": "display_data",
          "data": {
            "image/png": "[encoded data removed]",
            "text/plain": [
              "<Figure size 576x396 with 1 Axes>"
            ]
          },
          "metadata": {
            "tags": []
          }
        },
        {
          "output_type": "stream",
          "text": [
            "best k for test set 4\n",
            "best k for validation set 6\n"
          ],
          "name": "stdout"
        }
      ]
    },
    {
      "metadata": {
        "id": "tGlnMPpSdzoR",
        "colab_type": "text"
      },
      "cell_type": "markdown",
      "source": [
        "As shown in the plot the best k for the validation set and test set are different.\n",
        "\n",
        "Which k should we use for our model? Why?\n",
        "\n",
        "**Ans:**"
      ]
    },
    {
      "metadata": {
        "id": "eFPsNDGXeDWT",
        "colab_type": "text"
      },
      "cell_type": "markdown",
      "source": [
        "Why do you think the best k for the validation set and test set are different? It is important that the validation and test set comes from similar distributions so that we can choose the appropriate k for our model.\n",
        "\n",
        "** Ans: **"
      ]
    },
    {
      "metadata": {
        "id": "uyh8PpT6fH6C",
        "colab_type": "text"
      },
      "cell_type": "markdown",
      "source": [
        "Suggest a better way to split the test and validation set, so that the two sets come from similar distribution.\n",
        "\n",
        "**Ans:**"
      ]
    },
    {
      "metadata": {
        "id": "IYZEtkHReYaq",
        "colab_type": "text"
      },
      "cell_type": "markdown",
      "source": [
        "# Product segmentation using k-means\n",
        "\n",
        "In the next part of the lab, we will use k-means to properties into groups. K-mean is an unsupervised algorithm that can group data points into clusters.\n",
        "\n",
        "We will try to group the properties using different set of features and learn about the precularities of the k-mean algorithm through them."
      ]
    },
    {
      "metadata": {
        "id": "zaJtLpGajbaC",
        "colab_type": "text"
      },
      "cell_type": "markdown",
      "source": [
        "## K-mean using project features\n",
        "\n",
        "First we will use k-mean on project features: lat, lon, starting price.\n",
        "\n",
        "Create a feature matrix using the entire project_main. The rows refer to different projects.\n"
      ]
    },
    {
      "metadata": {
        "id": "lifppanDjpYX",
        "colab_type": "code",
        "colab": {}
      },
      "cell_type": "code",
      "source": [
        ""
      ],
      "execution_count": 0,
      "outputs": []
    },
    {
      "metadata": {
        "id": "abYpoQL7mmwY",
        "colab_type": "text"
      },
      "cell_type": "markdown",
      "source": [
        "<details>\n",
        "    <summary>SOLUTION HERE!</summary>\n",
        "  <pre>\n",
        "  <code>\n",
        "project_main_np_data  = np.array(project_main[[\"lat\",\"lon\",\"starting_price\"]].values)\n",
        "  </code>\n",
        "  </pre>\n",
        "</details>\n"
      ]
    },
    {
      "metadata": {
        "id": "SYbYofIfrjbR",
        "colab_type": "text"
      },
      "cell_type": "markdown",
      "source": [
        "We also provide location data for the mass transit systems in Bangkok (MRT, BTS, ARL), which we will use to help visualize our data."
      ]
    },
    {
      "metadata": {
        "id": "eMDNabEYppJp",
        "colab_type": "code",
        "outputId": "d7e92070-95f5-4b7d-bd0e-beed44ddb4fd",
        "colab": {
          "base_uri": "https://localhost:8080/",
          "height": 238
        }
      },
      "cell_type": "code",
      "source": [
        "mass_transit = pd.read_csv('https://raw.githubusercontent.com/Pataweepr/applyML_vistec_2019/master/data/BKK_metro_data_2019.csv')\n",
        "mass_transit_np_data  = np.array(mass_transit[[\"lat\",\"lon\"]].values)\n",
        "mass_transit.head()"
      ],
      "execution_count": 0,
      "outputs": [
        {
          "output_type": "execute_result",
          "data": {
            "text/html": [
              "<div>\n",
              "<style scoped>\n",
              "    .dataframe tbody tr th:only-of-type {\n",
              "        vertical-align: middle;\n",
              "    }\n",
              "\n",
              "    .dataframe tbody tr th {\n",
              "        vertical-align: top;\n",
              "    }\n",
              "\n",
              "    .dataframe thead th {\n",
              "        text-align: right;\n",
              "    }\n",
              "</style>\n",
              "<table border=\"1\" class=\"dataframe\">\n",
              "  <thead>\n",
              "    <tr style=\"text-align: right;\">\n",
              "      <th></th>\n",
              "      <th>Unnamed: 0</th>\n",
              "      <th>color</th>\n",
              "      <th>lat</th>\n",
              "      <th>lon</th>\n",
              "      <th>name</th>\n",
              "      <th>route</th>\n",
              "      <th>serviceend</th>\n",
              "      <th>servicestart</th>\n",
              "      <th>yearopened</th>\n",
              "    </tr>\n",
              "  </thead>\n",
              "  <tbody>\n",
              "    <tr>\n",
              "      <th>0</th>\n",
              "      <td>BLL07</td>\n",
              "      <td>rail</td>\n",
              "      <td>13.789113</td>\n",
              "      <td>100.574126</td>\n",
              "      <td>สุทธิสาร</td>\n",
              "      <td>BL</td>\n",
              "      <td>24:00</td>\n",
              "      <td>6:00</td>\n",
              "      <td>2004</td>\n",
              "    </tr>\n",
              "    <tr>\n",
              "      <th>1</th>\n",
              "      <td>GRL19</td>\n",
              "      <td>rail</td>\n",
              "      <td>13.772430</td>\n",
              "      <td>100.542058</td>\n",
              "      <td>สนามเป้า</td>\n",
              "      <td>GR</td>\n",
              "      <td>24:00</td>\n",
              "      <td>5:30</td>\n",
              "      <td>1999</td>\n",
              "    </tr>\n",
              "    <tr>\n",
              "      <th>2</th>\n",
              "      <td>PPL08</td>\n",
              "      <td>rail</td>\n",
              "      <td>13.865830</td>\n",
              "      <td>100.494604</td>\n",
              "      <td>แยกนนทบุรี1</td>\n",
              "      <td>PP</td>\n",
              "      <td>24:00</td>\n",
              "      <td>6:00</td>\n",
              "      <td>2015</td>\n",
              "    </tr>\n",
              "    <tr>\n",
              "      <th>3</th>\n",
              "      <td>BRT07</td>\n",
              "      <td>rail</td>\n",
              "      <td>13.682329</td>\n",
              "      <td>100.525417</td>\n",
              "      <td>วัดดอกไม้</td>\n",
              "      <td>BR</td>\n",
              "      <td>24:00</td>\n",
              "      <td>6:00</td>\n",
              "      <td>2010</td>\n",
              "    </tr>\n",
              "    <tr>\n",
              "      <th>4</th>\n",
              "      <td>PPL13</td>\n",
              "      <td>rail</td>\n",
              "      <td>13.829542</td>\n",
              "      <td>100.526946</td>\n",
              "      <td>วงศ์สว่าง</td>\n",
              "      <td>PP</td>\n",
              "      <td>24:00</td>\n",
              "      <td>6:00</td>\n",
              "      <td>2015</td>\n",
              "    </tr>\n",
              "  </tbody>\n",
              "</table>\n",
              "</div>"
            ],
            "text/plain": [
              "  Unnamed: 0 color        lat         lon         name route serviceend  \\\n",
              "0      BLL07  rail  13.789113  100.574126     สุทธิสาร    BL      24:00   \n",
              "1      GRL19  rail  13.772430  100.542058     สนามเป้า    GR      24:00   \n",
              "2      PPL08  rail  13.865830  100.494604  แยกนนทบุรี1    PP      24:00   \n",
              "3      BRT07  rail  13.682329  100.525417    วัดดอกไม้    BR      24:00   \n",
              "4      PPL13  rail  13.829542  100.526946    วงศ์สว่าง    PP      24:00   \n",
              "\n",
              "  servicestart  yearopened  \n",
              "0         6:00        2004  \n",
              "1         5:30        1999  \n",
              "2         6:00        2015  \n",
              "3         6:00        2010  \n",
              "4         6:00        2015  "
            ]
          },
          "metadata": {
            "tags": []
          },
          "execution_count": 63
        }
      ]
    },
    {
      "metadata": {
        "id": "BYWOwSiem7HO",
        "colab_type": "text"
      },
      "cell_type": "markdown",
      "source": [
        "### TODO#3: Visualize projects on a map\n",
        "\n",
        "Plot the projects and the transit locations onto x,y coordinates. Which should be the x coordinate latitude or longitude? Compare it to the map of Bangkok shown below.\n",
        "\n",
        "![Bangkok](https://www.img.in.th/images/02f4f215d503eca7777857e07f6a2b54.md.png)"
      ]
    },
    {
      "metadata": {
        "id": "wW9ROGFVm6nm",
        "colab_type": "code",
        "outputId": "6898ca22-dcf7-4721-ea52-95864852bf24",
        "colab": {
          "base_uri": "https://localhost:8080/",
          "height": 347
        }
      },
      "cell_type": "code",
      "source": [
        "# Code here, it should look something like below"
      ],
      "execution_count": 0,
      "outputs": [
        {
          "output_type": "display_data",
          "data": {
            "image/png": "[encoded data removed]",
            "text/plain": [
              "<Figure size 576x396 with 1 Axes>"
            ]
          },
          "metadata": {
            "tags": []
          }
        }
      ]
    },
    {
      "metadata": {
        "id": "ygGCCoiisHfk",
        "colab_type": "text"
      },
      "cell_type": "markdown",
      "source": [
        "<details>\n",
        "    <summary>SOLUTION HERE!</summary>\n",
        "  <pre>\n",
        "  <code>\n",
        "plt.scatter(project_main_np_data[:,1], project_main_np_data[:,0], c='blue', marker='o')\n",
        "plt.scatter(mass_transit_np_data[:,1], mass_transit_np_data[:,0], c='red', marker='o')\n",
        "plt.show()\n",
        "  </code>\n",
        "  </pre>\n",
        "</details>"
      ]
    },
    {
      "metadata": {
        "id": "wAXt26M1v1dy",
        "colab_type": "text"
      },
      "cell_type": "markdown",
      "source": [
        "### TODO#4: Apply k-means\n",
        "\n",
        "Apply [k-means](https://scikit-learn.org/stable/modules/generated/sklearn.cluster.KMeans.html) using number of cluster = 10.\n",
        "\n",
        "You can look at examples of k-means usage [here](https://scikit-learn.org/stable/auto_examples/cluster/plot_cluster_iris.html)\n",
        "\n",
        "Keep the results in variable name *kmean_result*.\n",
        "\n",
        "\n",
        "\n"
      ]
    },
    {
      "metadata": {
        "id": "0qIeu2yT5DX7",
        "colab_type": "code",
        "colab": {}
      },
      "cell_type": "code",
      "source": [
        ""
      ],
      "execution_count": 0,
      "outputs": []
    },
    {
      "metadata": {
        "id": "uymLxOwJF9ro",
        "colab_type": "text"
      },
      "cell_type": "markdown",
      "source": [
        "<details>\n",
        "    <summary>SOLUTION HERE!</summary>\n",
        "  <pre>\n",
        "  <code>\n",
        "kmean_result =  KMeans(n_clusters = 10).fit(project_main_np_data)\n",
        "  </code>\n",
        "  </pre>\n",
        "</details>"
      ]
    },
    {
      "metadata": {
        "id": "GITSSNe056Pi",
        "colab_type": "text"
      },
      "cell_type": "markdown",
      "source": [
        "Plot the kmean_result as a map using the labels in kmean_result to use different colors. Use the code below to plot the results."
      ]
    },
    {
      "metadata": {
        "id": "nHRRsJeL_sI6",
        "colab_type": "code",
        "colab": {}
      },
      "cell_type": "code",
      "source": [
        "# This part is code that generate different colors for each cluster.\n",
        "# It is done by varying r g b values.\n",
        "# The list of colors is stored in the list colors.\n",
        "a = np.arange(0,256,int(256/5))\n",
        "list_base_16 = []\n",
        "for num in a:\n",
        "  base_16 = hex(num).split('x')[-1]\n",
        "  if len(base_16) == 1:\n",
        "    base_16 = '0' + base_16\n",
        "  list_base_16.append(base_16)\n",
        "colors = []\n",
        "for r in list_base_16:\n",
        "  for g in list_base_16:\n",
        "    for b in list_base_16:\n",
        "      if(r!=g and g!=b and b!=r):\n",
        "        colors.append('#' + r + g + b)"
      ],
      "execution_count": 0,
      "outputs": []
    },
    {
      "metadata": {
        "id": "RBF8fTxW6qXO",
        "colab_type": "code",
        "colab": {}
      },
      "cell_type": "code",
      "source": [
        "# plot each cluster\n",
        "for i in np.arange(project_main_np_data.shape[0]):\n",
        "  plt.scatter(project_main_np_data[i,1], project_main_np_data[i,0],c=colors[kmean_result.labels_[i]], marker='o')\n",
        "#Uncomment to also plot mass transit locations\n",
        "#plt.scatter(mass_transit_np_data[:,1], mass_transit_np_data[:,0], c='red', marker='o')\n",
        "plt.show()"
      ],
      "execution_count": 0,
      "outputs": []
    },
    {
      "metadata": {
        "id": "72zCDPPm_oQb",
        "colab_type": "text"
      },
      "cell_type": "markdown",
      "source": [
        "The results of k-means depend on the initial starting point. Try running k-means twice and visualize the difference.\n"
      ]
    },
    {
      "metadata": {
        "id": "vs2fhwrLGTmJ",
        "colab_type": "code",
        "colab": {}
      },
      "cell_type": "code",
      "source": [
        "# Code here"
      ],
      "execution_count": 0,
      "outputs": []
    },
    {
      "metadata": {
        "id": "XYbhgiSABXdQ",
        "colab_type": "text"
      },
      "cell_type": "markdown",
      "source": [
        "We can set the seed for the random initialization with the parameter *random_state*. From now on we will use *random_state=30*."
      ]
    },
    {
      "metadata": {
        "id": "wH83LvrYB8Cc",
        "colab_type": "text"
      },
      "cell_type": "markdown",
      "source": [
        "Observe the clusters. K-mean groups projects from various places together. can you explain why the cluster came out this way?\n",
        "\n",
        "** Ans: **"
      ]
    },
    {
      "metadata": {
        "id": "3G5DEk5HDt09",
        "colab_type": "text"
      },
      "cell_type": "markdown",
      "source": [
        "### TODO#5: Apply k-means with normalized features\n",
        "\n",
        "To fix the error from the previous section, we should normalize the features to 0 and 1 first.\n",
        "\n",
        "Redo the clustering and plot the clusters using normalized features."
      ]
    },
    {
      "metadata": {
        "id": "Y5yxGCUa_BYf",
        "colab_type": "code",
        "colab": {}
      },
      "cell_type": "code",
      "source": [
        "# Code here"
      ],
      "execution_count": 0,
      "outputs": []
    },
    {
      "metadata": {
        "id": "7nwOaQaPRsJN",
        "colab_type": "text"
      },
      "cell_type": "markdown",
      "source": [
        "Explain why the cluster turns out this way\n",
        "\n",
        "** Ans: **"
      ]
    },
    {
      "metadata": {
        "id": "1q5pp4JVN1HE",
        "colab_type": "text"
      },
      "cell_type": "markdown",
      "source": [
        "### TODO#6: Varying k\n",
        "\n",
        "K-means just like k-nn has a hyperparameter k that you can select. However, picking the best k is not so straightforward since there is no one single objective criterion to use (In our k-nn example we use MAP@k). \n",
        "\n",
        "Note: some people use cluster purity or the elbow method to select k. However, in this case we will just look using our eyes.\n",
        "\n",
        "Vary the value of k from 5,15,25,...,55 and visualize the results.\n"
      ]
    },
    {
      "metadata": {
        "id": "QNkOWr_0TkvF",
        "colab_type": "code",
        "colab": {}
      },
      "cell_type": "code",
      "source": [
        ""
      ],
      "execution_count": 0,
      "outputs": []
    },
    {
      "metadata": {
        "id": "52iE3GapUuBN",
        "colab_type": "text"
      },
      "cell_type": "markdown",
      "source": [
        "Can you observe clustering that is based on more than just locational data? Try zooming into BTS locations."
      ]
    },
    {
      "metadata": {
        "id": "qow9s8uZVNOS",
        "colab_type": "text"
      },
      "cell_type": "markdown",
      "source": [
        "### TODO#7: Clustering based on binary views matrix\n",
        "\n",
        "We can also cluster the projects based on other kinds of features. Try clustering using the binary views of each user (whether or not a user view the project) and visualize the results for k = 5 and 50.\n",
        "\n",
        "Don't forget to filter out projects that has no views.\n",
        "\n",
        "Do you get anything meaningful?"
      ]
    },
    {
      "metadata": {
        "id": "y4QX9b0NWGPl",
        "colab_type": "code",
        "colab": {}
      },
      "cell_type": "code",
      "source": [
        "# Code here"
      ],
      "execution_count": 0,
      "outputs": []
    },
    {
      "metadata": {
        "id": "2Jqp8_dBGokL",
        "colab_type": "text"
      },
      "cell_type": "markdown",
      "source": [
        "<details>\n",
        "    <summary>SOLUTION HERE!</summary>\n",
        "  <pre>\n",
        "  <code>\n",
        "freq_user_seen_proj = pd.crosstab(userLog['project_id'], userLog['userCode'], rownames=['project_id'], colnames=['userCode'])\n",
        "freq_user_seen_proj_np = np.array(freq_user_seen_proj.values > 0)\n",
        "\n",
        "project_main_seen = project_main.loc[project_main['project_id'].isin(freq_user_seen_proj.index.astype(int))]\n",
        "project_main_seen_np_data  = np.array(project_main_seen[[\"lat\",\"lon\",\"starting_price\"]].values)\n",
        "\n",
        "#Need extra code to perform kmean\n",
        "  </code>\n",
        "  </pre>\n",
        "</details>"
      ]
    },
    {
      "metadata": {
        "id": "0jH50VmYgxUF",
        "colab_type": "text"
      },
      "cell_type": "markdown",
      "source": [
        "The problem with this clustering is that each projects has too little views from distinct users.\n",
        "\n",
        "Try filtering the out projects with less than 10 distinct users, and filter users that has less than 10 distinct views. Then, try k = 120.\n",
        "\n",
        "You might find it helpful to remove the biggest cluster from the plot (the cluster with the largest amount of members).\n"
      ]
    },
    {
      "metadata": {
        "id": "CR5m6dJjhHrg",
        "colab_type": "code",
        "colab": {}
      },
      "cell_type": "code",
      "source": [
        "# Code here"
      ],
      "execution_count": 0,
      "outputs": []
    },
    {
      "metadata": {
        "id": "5FMi66bjtfkN",
        "colab_type": "text"
      },
      "cell_type": "markdown",
      "source": [
        "The data provided is too small, and our compute is too small to get nice results. However, below are some example cluters from bigger data with bigger machines. Notice how the clusters can go beyond simple lat-long coordinates, especially in the last picture where the top and bottom parts belong to the same cluster. This is because the two regions have similar travel time to inner bangkok and have around the same price range, so a large group of people consider both regions. This is something that is not obvious until we look into the data.\n",
        "\n",
        "This is the power of collaborative filtering.\n",
        "\n",
        "\n",
        "Groups following the rail lines. (Including the new line underconstruction)\n",
        "![alt text](https://github.com/Pataweepr/applyML_vistec_2019/raw/master/data/figs/Screenshot%202018-03-30%2011.31.39.png)\n",
        "\n",
        "Groups in Pattaya. The cluster at near Pattaya beaches also appears in Hua Hin.\n",
        "![alt text](https://github.com/Pataweepr/applyML_vistec_2019/raw/master/data/figs/Screenshot%202018-03-30%2012.39.36.png)\n",
        "\n",
        "The BTS lines are grouped heavily\n",
        "![alt text](https://github.com/Pataweepr/applyML_vistec_2019/raw/master/data/figs/Screenshot%202018-03-30%2017.29.10.png)\n",
        "\n",
        "A splitted group\n",
        "![alt text](https://github.com/Pataweepr/applyML_vistec_2019/raw/master/data/figs/Screenshot%202018-03-30%2019.19.04.png)"
      ]
    }
  ]
}