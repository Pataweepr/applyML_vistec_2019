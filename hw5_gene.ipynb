{
  "nbformat": 4,
  "nbformat_minor": 0,
  "metadata": {
    "colab": {
      "name": "hw5_gene.ipynb",
      "version": "0.3.2",
      "provenance": [],
      "collapsed_sections": [],
      "include_colab_link": true
    },
    "kernelspec": {
      "display_name": "Python 3",
      "language": "python",
      "name": "python3"
    }
  },
  "cells": [
    {
      "cell_type": "markdown",
      "metadata": {
        "id": "view-in-github",
        "colab_type": "text"
      },
      "source": [
        "<a href=\"https://colab.research.google.com/github/Pataweepr/applyML_vistec_2019/blob/master/hw5_gene.ipynb\" target=\"_parent\"><img src=\"https://colab.research.google.com/assets/colab-badge.svg\" alt=\"Open In Colab\"/></a>"
      ]
    },
    {
      "metadata": {
        "id": "WzsM6PnjcsU5",
        "colab_type": "code",
        "colab": {
          "base_uri": "https://localhost:8080/",
          "height": 54
        },
        "outputId": "de0091ee-4a1c-4c65-e00d-d2d859e99e00"
      },
      "cell_type": "code",
      "source": [
        "'''\n",
        "from sklearn.naive_bayes import MultinomialNB\n",
        "model = MultinomialNB()\n",
        "model.fit(x_f1, label)\n",
        "y_pred = model.predict(x_f1)\n",
        "print(\"Model Acc. on train data %f%%\"\n",
        "       % ((label == y_pred).sum() / x_f1.shape[0] * 100))\n",
        "'''\n"
      ],
      "execution_count": 1,
      "outputs": [
        {
          "output_type": "execute_result",
          "data": {
            "text/plain": [
              "'\\nfrom sklearn.naive_bayes import MultinomialNB\\nmodel = MultinomialNB()\\nmodel.fit(x_f1, label)\\ny_pred = model.predict(x_f1)\\nprint(\"Model Acc. on train data %f%%\"\\n       % ((label == y_pred).sum() / x_f1.shape[0] * 100))\\n'"
            ]
          },
          "metadata": {
            "tags": []
          },
          "execution_count": 1
        }
      ]
    },
    {
      "metadata": {
        "id": "FnOpYlU5cxSu",
        "colab_type": "text"
      },
      "cell_type": "markdown",
      "source": [
        "# [link naive_bayes](https://scikit-learn.org/stable/modules/naive_bayes.html)"
      ]
    },
    {
      "metadata": {
        "id": "aGayBoekQfRU",
        "colab_type": "code",
        "colab": {}
      },
      "cell_type": "code",
      "source": [
        "import csv\n",
        "import numpy as np\n",
        "import matplotlib.pyplot as plt\n",
        "import pandas as pd\n",
        "from IPython.display import display"
      ],
      "execution_count": 0,
      "outputs": []
    },
    {
      "metadata": {
        "id": "SRcYBY_fQio2",
        "colab_type": "code",
        "colab": {
          "base_uri": "https://localhost:8080/",
          "height": 119
        },
        "outputId": "1814bf2e-f3cf-4dc4-a52b-848c54f1daf3"
      },
      "cell_type": "code",
      "source": [
        "!pip install -U -q PyDrive\n",
        "\n",
        "from pydrive.auth import GoogleAuth\n",
        "from pydrive.drive import GoogleDrive\n",
        "from google.colab import auth\n",
        "from oauth2client.client import GoogleCredentials\n",
        "\n",
        "# 1. Authenticate and create the PyDrive client.\n",
        "auth.authenticate_user()\n",
        "gauth = GoogleAuth()\n",
        "gauth.credentials = GoogleCredentials.get_application_default()\n",
        "drive = GoogleDrive(gauth)\n",
        "\n",
        "#'1xKLYVIXVq0lXb9Ys_l3c5_v9S_kcv-xQ'\n",
        "file_list = drive.ListFile({'q': \"'1xKLYVIXVq0lXb9Ys_l3c5_v9S_kcv-xQ' in parents and trashed=false\"}).GetList()\n",
        "for file1 in file_list:\n",
        "  print('title: %s, id: %s' % (file1['title'], file1['id']))"
      ],
      "execution_count": 3,
      "outputs": [
        {
          "output_type": "stream",
          "text": [
            "title: code_and_pred.6872.1506176059.2623.zip, id: 1kA35oyisCxldVeeWxkAU7zjwy4rmQ1kU\n",
            "title: hw2_2.6872.1506176611.9498.pdf, id: 1KJwdU3Lgxe5Z2GfcI95DNp48F8Gl19Ch\n",
            "title: HW2_Housekeeping_Genes.final.pdf, id: 1GicvF61oLpx547LT_tM4FHX-C6DDQoMI\n",
            "title: 12864_2006_660_MOESM1_ESM.csv, id: 1v7vyl4lTiMJA1eDjrC9w7tEZxzYBoK59\n",
            "title: gene.ipynb, id: 13KZylyFQKi-grQtLWZSP7T8TK9_pWW53\n",
            "title: out.csv, id: 1rSZQ24R9gWqlH1UrLm1zHbKMtQwdxPAP\n"
          ],
          "name": "stdout"
        }
      ]
    },
    {
      "metadata": {
        "id": "yq4qBa4iSD07",
        "colab_type": "code",
        "colab": {
          "base_uri": "https://localhost:8080/",
          "height": 224
        },
        "outputId": "e673ed34-8c83-43ab-eac0-4121db738276"
      },
      "cell_type": "code",
      "source": [
        "data_downloaded = drive.CreateFile({'id': '1v7vyl4lTiMJA1eDjrC9w7tEZxzYBoK59'})\n",
        "data_downloaded.GetContentFile('hkg.csv')\n",
        "data_all = pd.read_csv('hkg.csv')\n",
        "data_all.head()"
      ],
      "execution_count": 4,
      "outputs": [
        {
          "output_type": "execute_result",
          "data": {
            "text/html": [
              "<div>\n",
              "<style scoped>\n",
              "    .dataframe tbody tr th:only-of-type {\n",
              "        vertical-align: middle;\n",
              "    }\n",
              "\n",
              "    .dataframe tbody tr th {\n",
              "        vertical-align: top;\n",
              "    }\n",
              "\n",
              "    .dataframe thead th {\n",
              "        text-align: right;\n",
              "    }\n",
              "</style>\n",
              "<table border=\"1\" class=\"dataframe\">\n",
              "  <thead>\n",
              "    <tr style=\"text-align: right;\">\n",
              "      <th></th>\n",
              "      <th>EMBL_transcript_id</th>\n",
              "      <th>cDNA_length</th>\n",
              "      <th>cds_length</th>\n",
              "      <th>exons_nr</th>\n",
              "      <th>5_MAR_presence</th>\n",
              "      <th>3_MAR_presence</th>\n",
              "      <th>5_polyA_18_presence</th>\n",
              "      <th>5_CCGNN_2_5_presence</th>\n",
              "      <th>perc_go_hk_match</th>\n",
              "      <th>perc_go_ts_match</th>\n",
              "      <th>is_hk</th>\n",
              "    </tr>\n",
              "  </thead>\n",
              "  <tbody>\n",
              "    <tr>\n",
              "      <th>0</th>\n",
              "      <td>ENST00000274311</td>\n",
              "      <td>2918.0</td>\n",
              "      <td>1158.0</td>\n",
              "      <td>3.0</td>\n",
              "      <td>no</td>\n",
              "      <td>no</td>\n",
              "      <td>no</td>\n",
              "      <td>yes</td>\n",
              "      <td>0.1</td>\n",
              "      <td>0.200000</td>\n",
              "      <td>NaN</td>\n",
              "    </tr>\n",
              "    <tr>\n",
              "      <th>1</th>\n",
              "      <td>ENST00000282588</td>\n",
              "      <td>4795.0</td>\n",
              "      <td>3540.0</td>\n",
              "      <td>29.0</td>\n",
              "      <td>no</td>\n",
              "      <td>no</td>\n",
              "      <td>no</td>\n",
              "      <td>yes</td>\n",
              "      <td>0.1</td>\n",
              "      <td>0.200000</td>\n",
              "      <td>NaN</td>\n",
              "    </tr>\n",
              "    <tr>\n",
              "      <th>2</th>\n",
              "      <td>ENST00000274311</td>\n",
              "      <td>2918.0</td>\n",
              "      <td>1158.0</td>\n",
              "      <td>3.0</td>\n",
              "      <td>no</td>\n",
              "      <td>no</td>\n",
              "      <td>no</td>\n",
              "      <td>yes</td>\n",
              "      <td>0.1</td>\n",
              "      <td>0.200000</td>\n",
              "      <td>NaN</td>\n",
              "    </tr>\n",
              "    <tr>\n",
              "      <th>3</th>\n",
              "      <td>ENST00000282588</td>\n",
              "      <td>4795.0</td>\n",
              "      <td>3540.0</td>\n",
              "      <td>29.0</td>\n",
              "      <td>no</td>\n",
              "      <td>no</td>\n",
              "      <td>no</td>\n",
              "      <td>yes</td>\n",
              "      <td>0.1</td>\n",
              "      <td>0.200000</td>\n",
              "      <td>NaN</td>\n",
              "    </tr>\n",
              "    <tr>\n",
              "      <th>4</th>\n",
              "      <td>ENST00000337416</td>\n",
              "      <td>4551.0</td>\n",
              "      <td>1656.0</td>\n",
              "      <td>18.0</td>\n",
              "      <td>no</td>\n",
              "      <td>yes</td>\n",
              "      <td>no</td>\n",
              "      <td>no</td>\n",
              "      <td>0.0</td>\n",
              "      <td>0.111111</td>\n",
              "      <td>NaN</td>\n",
              "    </tr>\n",
              "  </tbody>\n",
              "</table>\n",
              "</div>"
            ],
            "text/plain": [
              "  EMBL_transcript_id  cDNA_length  cds_length  exons_nr 5_MAR_presence  \\\n",
              "0    ENST00000274311       2918.0      1158.0       3.0             no   \n",
              "1    ENST00000282588       4795.0      3540.0      29.0             no   \n",
              "2    ENST00000274311       2918.0      1158.0       3.0             no   \n",
              "3    ENST00000282588       4795.0      3540.0      29.0             no   \n",
              "4    ENST00000337416       4551.0      1656.0      18.0             no   \n",
              "\n",
              "  3_MAR_presence 5_polyA_18_presence 5_CCGNN_2_5_presence  perc_go_hk_match  \\\n",
              "0             no                  no                  yes               0.1   \n",
              "1             no                  no                  yes               0.1   \n",
              "2             no                  no                  yes               0.1   \n",
              "3             no                  no                  yes               0.1   \n",
              "4            yes                  no                   no               0.0   \n",
              "\n",
              "   perc_go_ts_match is_hk  \n",
              "0          0.200000   NaN  \n",
              "1          0.200000   NaN  \n",
              "2          0.200000   NaN  \n",
              "3          0.200000   NaN  \n",
              "4          0.111111   NaN  "
            ]
          },
          "metadata": {
            "tags": []
          },
          "execution_count": 4
        }
      ]
    },
    {
      "metadata": {
        "id": "QwLtNP5gQfRr",
        "colab_type": "code",
        "colab": {
          "base_uri": "https://localhost:8080/",
          "height": 297
        },
        "outputId": "2cbf9a49-7dad-4089-fcc7-15e17f1c4b4c"
      },
      "cell_type": "code",
      "source": [
        "data_all.describe()"
      ],
      "execution_count": 5,
      "outputs": [
        {
          "output_type": "execute_result",
          "data": {
            "text/html": [
              "<div>\n",
              "<style scoped>\n",
              "    .dataframe tbody tr th:only-of-type {\n",
              "        vertical-align: middle;\n",
              "    }\n",
              "\n",
              "    .dataframe tbody tr th {\n",
              "        vertical-align: top;\n",
              "    }\n",
              "\n",
              "    .dataframe thead th {\n",
              "        text-align: right;\n",
              "    }\n",
              "</style>\n",
              "<table border=\"1\" class=\"dataframe\">\n",
              "  <thead>\n",
              "    <tr style=\"text-align: right;\">\n",
              "      <th></th>\n",
              "      <th>cDNA_length</th>\n",
              "      <th>cds_length</th>\n",
              "      <th>exons_nr</th>\n",
              "      <th>perc_go_hk_match</th>\n",
              "      <th>perc_go_ts_match</th>\n",
              "    </tr>\n",
              "  </thead>\n",
              "  <tbody>\n",
              "    <tr>\n",
              "      <th>count</th>\n",
              "      <td>35164.000000</td>\n",
              "      <td>35164.000000</td>\n",
              "      <td>20568.000000</td>\n",
              "      <td>25957.000000</td>\n",
              "      <td>25957.000000</td>\n",
              "    </tr>\n",
              "    <tr>\n",
              "      <th>mean</th>\n",
              "      <td>2439.950432</td>\n",
              "      <td>1484.058583</td>\n",
              "      <td>6.568748</td>\n",
              "      <td>0.036278</td>\n",
              "      <td>0.222914</td>\n",
              "    </tr>\n",
              "    <tr>\n",
              "      <th>std</th>\n",
              "      <td>2012.944961</td>\n",
              "      <td>1502.566846</td>\n",
              "      <td>8.333126</td>\n",
              "      <td>0.131669</td>\n",
              "      <td>0.253348</td>\n",
              "    </tr>\n",
              "    <tr>\n",
              "      <th>min</th>\n",
              "      <td>45.000000</td>\n",
              "      <td>45.000000</td>\n",
              "      <td>1.000000</td>\n",
              "      <td>0.000000</td>\n",
              "      <td>0.000000</td>\n",
              "    </tr>\n",
              "    <tr>\n",
              "      <th>25%</th>\n",
              "      <td>1168.000000</td>\n",
              "      <td>642.000000</td>\n",
              "      <td>1.000000</td>\n",
              "      <td>0.000000</td>\n",
              "      <td>0.000000</td>\n",
              "    </tr>\n",
              "    <tr>\n",
              "      <th>50%</th>\n",
              "      <td>2047.000000</td>\n",
              "      <td>1119.000000</td>\n",
              "      <td>3.000000</td>\n",
              "      <td>0.000000</td>\n",
              "      <td>0.166667</td>\n",
              "    </tr>\n",
              "    <tr>\n",
              "      <th>75%</th>\n",
              "      <td>3185.250000</td>\n",
              "      <td>1821.000000</td>\n",
              "      <td>9.000000</td>\n",
              "      <td>0.000000</td>\n",
              "      <td>0.363636</td>\n",
              "    </tr>\n",
              "    <tr>\n",
              "      <th>max</th>\n",
              "      <td>99631.000000</td>\n",
              "      <td>98385.000000</td>\n",
              "      <td>118.000000</td>\n",
              "      <td>1.000000</td>\n",
              "      <td>1.000000</td>\n",
              "    </tr>\n",
              "  </tbody>\n",
              "</table>\n",
              "</div>"
            ],
            "text/plain": [
              "        cDNA_length    cds_length      exons_nr  perc_go_hk_match  \\\n",
              "count  35164.000000  35164.000000  20568.000000      25957.000000   \n",
              "mean    2439.950432   1484.058583      6.568748          0.036278   \n",
              "std     2012.944961   1502.566846      8.333126          0.131669   \n",
              "min       45.000000     45.000000      1.000000          0.000000   \n",
              "25%     1168.000000    642.000000      1.000000          0.000000   \n",
              "50%     2047.000000   1119.000000      3.000000          0.000000   \n",
              "75%     3185.250000   1821.000000      9.000000          0.000000   \n",
              "max    99631.000000  98385.000000    118.000000          1.000000   \n",
              "\n",
              "       perc_go_ts_match  \n",
              "count      25957.000000  \n",
              "mean           0.222914  \n",
              "std            0.253348  \n",
              "min            0.000000  \n",
              "25%            0.000000  \n",
              "50%            0.166667  \n",
              "75%            0.363636  \n",
              "max            1.000000  "
            ]
          },
          "metadata": {
            "tags": []
          },
          "execution_count": 5
        }
      ]
    },
    {
      "metadata": {
        "id": "oupnssvlQfRw",
        "colab_type": "code",
        "colab": {}
      },
      "cell_type": "code",
      "source": [
        "data_all.loc[data_all[\"5_MAR_presence\"] == \"no\", \"5_MAR_presence\"] = 0.0\n",
        "data_all.loc[data_all[\"5_MAR_presence\"] == \"yes\", \"5_MAR_presence\"] = 1.0\n",
        "data_all.loc[data_all[\"3_MAR_presence\"] == \"no\", \"3_MAR_presence\"] = 0.0\n",
        "data_all.loc[data_all[\"3_MAR_presence\"] == \"yes\", \"3_MAR_presence\"] = 1.0\n",
        "data_all.loc[data_all[\"5_polyA_18_presence\"] == \"no\", \"5_polyA_18_presence\"] = 0.0\n",
        "data_all.loc[data_all[\"5_polyA_18_presence\"] == \"yes\", \"5_polyA_18_presence\"] = 1.0\n",
        "data_all.loc[data_all[\"5_CCGNN_2_5_presence\"] == \"no\", \"5_CCGNN_2_5_presence\"] = 0.0\n",
        "data_all.loc[data_all[\"5_CCGNN_2_5_presence\"] == \"yes\", \"5_CCGNN_2_5_presence\"] = 1.0\n",
        "data_all.loc[data_all[\"is_hk\"] == \"no\", \"is_hk\"] = 0.0\n",
        "data_all.loc[data_all[\"is_hk\"] == \"yes\", \"is_hk\"] = 1.0\n",
        "del data_all[\"EMBL_transcript_id\"]"
      ],
      "execution_count": 0,
      "outputs": []
    },
    {
      "metadata": {
        "id": "Ab1mn0NXQfR0",
        "colab_type": "code",
        "colab": {
          "base_uri": "https://localhost:8080/",
          "height": 204
        },
        "outputId": "ef4a237c-00d1-4ff4-dd2a-b4273bf645c7"
      },
      "cell_type": "code",
      "source": [
        "data_all.head()"
      ],
      "execution_count": 7,
      "outputs": [
        {
          "output_type": "execute_result",
          "data": {
            "text/html": [
              "<div>\n",
              "<style scoped>\n",
              "    .dataframe tbody tr th:only-of-type {\n",
              "        vertical-align: middle;\n",
              "    }\n",
              "\n",
              "    .dataframe tbody tr th {\n",
              "        vertical-align: top;\n",
              "    }\n",
              "\n",
              "    .dataframe thead th {\n",
              "        text-align: right;\n",
              "    }\n",
              "</style>\n",
              "<table border=\"1\" class=\"dataframe\">\n",
              "  <thead>\n",
              "    <tr style=\"text-align: right;\">\n",
              "      <th></th>\n",
              "      <th>cDNA_length</th>\n",
              "      <th>cds_length</th>\n",
              "      <th>exons_nr</th>\n",
              "      <th>5_MAR_presence</th>\n",
              "      <th>3_MAR_presence</th>\n",
              "      <th>5_polyA_18_presence</th>\n",
              "      <th>5_CCGNN_2_5_presence</th>\n",
              "      <th>perc_go_hk_match</th>\n",
              "      <th>perc_go_ts_match</th>\n",
              "      <th>is_hk</th>\n",
              "    </tr>\n",
              "  </thead>\n",
              "  <tbody>\n",
              "    <tr>\n",
              "      <th>0</th>\n",
              "      <td>2918.0</td>\n",
              "      <td>1158.0</td>\n",
              "      <td>3.0</td>\n",
              "      <td>0</td>\n",
              "      <td>0</td>\n",
              "      <td>0</td>\n",
              "      <td>1</td>\n",
              "      <td>0.1</td>\n",
              "      <td>0.200000</td>\n",
              "      <td>NaN</td>\n",
              "    </tr>\n",
              "    <tr>\n",
              "      <th>1</th>\n",
              "      <td>4795.0</td>\n",
              "      <td>3540.0</td>\n",
              "      <td>29.0</td>\n",
              "      <td>0</td>\n",
              "      <td>0</td>\n",
              "      <td>0</td>\n",
              "      <td>1</td>\n",
              "      <td>0.1</td>\n",
              "      <td>0.200000</td>\n",
              "      <td>NaN</td>\n",
              "    </tr>\n",
              "    <tr>\n",
              "      <th>2</th>\n",
              "      <td>2918.0</td>\n",
              "      <td>1158.0</td>\n",
              "      <td>3.0</td>\n",
              "      <td>0</td>\n",
              "      <td>0</td>\n",
              "      <td>0</td>\n",
              "      <td>1</td>\n",
              "      <td>0.1</td>\n",
              "      <td>0.200000</td>\n",
              "      <td>NaN</td>\n",
              "    </tr>\n",
              "    <tr>\n",
              "      <th>3</th>\n",
              "      <td>4795.0</td>\n",
              "      <td>3540.0</td>\n",
              "      <td>29.0</td>\n",
              "      <td>0</td>\n",
              "      <td>0</td>\n",
              "      <td>0</td>\n",
              "      <td>1</td>\n",
              "      <td>0.1</td>\n",
              "      <td>0.200000</td>\n",
              "      <td>NaN</td>\n",
              "    </tr>\n",
              "    <tr>\n",
              "      <th>4</th>\n",
              "      <td>4551.0</td>\n",
              "      <td>1656.0</td>\n",
              "      <td>18.0</td>\n",
              "      <td>0</td>\n",
              "      <td>1</td>\n",
              "      <td>0</td>\n",
              "      <td>0</td>\n",
              "      <td>0.0</td>\n",
              "      <td>0.111111</td>\n",
              "      <td>NaN</td>\n",
              "    </tr>\n",
              "  </tbody>\n",
              "</table>\n",
              "</div>"
            ],
            "text/plain": [
              "   cDNA_length  cds_length  exons_nr  5_MAR_presence  3_MAR_presence  \\\n",
              "0       2918.0      1158.0       3.0               0               0   \n",
              "1       4795.0      3540.0      29.0               0               0   \n",
              "2       2918.0      1158.0       3.0               0               0   \n",
              "3       4795.0      3540.0      29.0               0               0   \n",
              "4       4551.0      1656.0      18.0               0               1   \n",
              "\n",
              "   5_polyA_18_presence  5_CCGNN_2_5_presence  perc_go_hk_match  \\\n",
              "0                    0                     1               0.1   \n",
              "1                    0                     1               0.1   \n",
              "2                    0                     1               0.1   \n",
              "3                    0                     1               0.1   \n",
              "4                    0                     0               0.0   \n",
              "\n",
              "   perc_go_ts_match is_hk  \n",
              "0          0.200000   NaN  \n",
              "1          0.200000   NaN  \n",
              "2          0.200000   NaN  \n",
              "3          0.200000   NaN  \n",
              "4          0.111111   NaN  "
            ]
          },
          "metadata": {
            "tags": []
          },
          "execution_count": 7
        }
      ]
    },
    {
      "metadata": {
        "id": "AOm6wPY8QfR4",
        "colab_type": "code",
        "colab": {
          "base_uri": "https://localhost:8080/",
          "height": 221
        },
        "outputId": "e8dc3808-b1c0-4461-819a-c377968912eb"
      },
      "cell_type": "code",
      "source": [
        "print(data_all.count())\n",
        "data_all['is_hk'].isnull().sum()"
      ],
      "execution_count": 8,
      "outputs": [
        {
          "output_type": "stream",
          "text": [
            "cDNA_length             35164\n",
            "cds_length              35164\n",
            "exons_nr                20568\n",
            "5_MAR_presence          47229\n",
            "3_MAR_presence          47229\n",
            "5_polyA_18_presence     47229\n",
            "5_CCGNN_2_5_presence    47229\n",
            "perc_go_hk_match        25957\n",
            "perc_go_ts_match        25957\n",
            "is_hk                     770\n",
            "dtype: int64\n"
          ],
          "name": "stdout"
        },
        {
          "output_type": "execute_result",
          "data": {
            "text/plain": [
              "46459"
            ]
          },
          "metadata": {
            "tags": []
          },
          "execution_count": 8
        }
      ]
    },
    {
      "metadata": {
        "id": "Hrj4JoQgQfR9",
        "colab_type": "code",
        "colab": {
          "base_uri": "https://localhost:8080/",
          "height": 34
        },
        "outputId": "01a8fe9c-1b29-4cc2-8cd1-b73643eebf9d"
      },
      "cell_type": "code",
      "source": [
        "(data_all['is_hk']==1.0).sum()"
      ],
      "execution_count": 9,
      "outputs": [
        {
          "output_type": "execute_result",
          "data": {
            "text/plain": [
              "103"
            ]
          },
          "metadata": {
            "tags": []
          },
          "execution_count": 9
        }
      ]
    },
    {
      "metadata": {
        "id": "Lf5t1oUVQfSB",
        "colab_type": "code",
        "colab": {
          "base_uri": "https://localhost:8080/",
          "height": 204
        },
        "outputId": "8a7a0453-181c-4900-9983-6b5cb5ddabd9"
      },
      "cell_type": "code",
      "source": [
        "known_labels = data_all[data_all['is_hk'].notnull()]\n",
        "known_labels.count()"
      ],
      "execution_count": 10,
      "outputs": [
        {
          "output_type": "execute_result",
          "data": {
            "text/plain": [
              "cDNA_length             770\n",
              "cds_length              770\n",
              "exons_nr                209\n",
              "5_MAR_presence          770\n",
              "3_MAR_presence          770\n",
              "5_polyA_18_presence     770\n",
              "5_CCGNN_2_5_presence    770\n",
              "perc_go_hk_match        760\n",
              "perc_go_ts_match        760\n",
              "is_hk                   770\n",
              "dtype: int64"
            ]
          },
          "metadata": {
            "tags": []
          },
          "execution_count": 10
        }
      ]
    },
    {
      "metadata": {
        "id": "TGu9ypSgQfSF",
        "colab_type": "code",
        "colab": {}
      },
      "cell_type": "code",
      "source": [
        "# Train test split\n",
        "test_0 = data_all[data_all['is_hk']==0].sample(frac=0.1, random_state=200)\n",
        "test_1 = data_all[data_all['is_hk']==1].sample(frac=0.1, random_state=200)\n",
        "test_set = pd.concat([test_0, test_1])\n",
        "train_set = data_all.drop(test_set.index)\n",
        "sup_train_set = train_set[train_set.is_hk.notnull()]\n",
        "unsup_train_set = train_set.drop(sup_train_set.index)"
      ],
      "execution_count": 0,
      "outputs": []
    },
    {
      "metadata": {
        "id": "vfkdIQn7QfSI",
        "colab_type": "code",
        "colab": {
          "base_uri": "https://localhost:8080/",
          "height": 204
        },
        "outputId": "fbddceb4-f441-4ef1-f8b4-8c8d58dd2ab5"
      },
      "cell_type": "code",
      "source": [
        "sup_train_set.count()"
      ],
      "execution_count": 12,
      "outputs": [
        {
          "output_type": "execute_result",
          "data": {
            "text/plain": [
              "cDNA_length             693\n",
              "cds_length              693\n",
              "exons_nr                193\n",
              "5_MAR_presence          693\n",
              "3_MAR_presence          693\n",
              "5_polyA_18_presence     693\n",
              "5_CCGNN_2_5_presence    693\n",
              "perc_go_hk_match        683\n",
              "perc_go_ts_match        683\n",
              "is_hk                   693\n",
              "dtype: int64"
            ]
          },
          "metadata": {
            "tags": []
          },
          "execution_count": 12
        }
      ]
    },
    {
      "metadata": {
        "id": "2-zV-4H0_Rlq",
        "colab_type": "code",
        "colab": {
          "base_uri": "https://localhost:8080/",
          "height": 68
        },
        "outputId": "c2a27f98-4c91-4464-e057-17d3f355c94d"
      },
      "cell_type": "code",
      "source": [
        "sup_train_set['is_hk'].value_counts()"
      ],
      "execution_count": 13,
      "outputs": [
        {
          "output_type": "execute_result",
          "data": {
            "text/plain": [
              "0.0    600\n",
              "1.0     93\n",
              "Name: is_hk, dtype: int64"
            ]
          },
          "metadata": {
            "tags": []
          },
          "execution_count": 13
        }
      ]
    },
    {
      "metadata": {
        "id": "QMP7iGvuQfSM",
        "colab_type": "code",
        "colab": {}
      },
      "cell_type": "code",
      "source": [
        "#print(len(bin_edge.repeat(2)[1:-1]))\n",
        "#print(len(hist.repeat(2)))"
      ],
      "execution_count": 0,
      "outputs": []
    },
    {
      "metadata": {
        "id": "9f6XzFmNAcr3",
        "colab_type": "text"
      },
      "cell_type": "markdown",
      "source": [
        "## หาจุดตัด"
      ]
    },
    {
      "metadata": {
        "id": "SUv1j0fcQfSQ",
        "colab_type": "code",
        "colab": {
          "base_uri": "https://localhost:8080/",
          "height": 1007
        },
        "outputId": "a511bf4d-7487-4bbb-a232-322706359d12"
      },
      "cell_type": "code",
      "source": [
        "train_set_clength = data_all['cDNA_length']\n",
        "# remove NaN values\n",
        "train_set_clength_no_nan = train_set_clength[~np.isnan(train_set_clength)]\n",
        "# bin the data into 1000 equally spaced bins\n",
        "# hist is the count for each bin\n",
        "# bin_edge is the edge values of the bins\n",
        "hist, bin_edge = np.histogram(train_set_clength_no_nan,1000)\n",
        "# make sure to import matplotlib.pyplot as plt\n",
        "# plot the histogram\n",
        "plt.fill_between(bin_edge.repeat(2)[1:-1],hist.repeat(2),facecolor='steelblue')\n",
        "plt.show()\n",
        "# plot the first 100 bins only\n",
        "plt.fill_between(bin_edge.repeat(2)[1:100],hist.repeat(2)[1:100],facecolor='steelblue')\n",
        "plt.show()\n",
        "# plot the first 500 bins only\n",
        "plt.fill_between(bin_edge.repeat(2)[1:500],hist.repeat(2)[1:500],facecolor='steelblue')\n",
        "plt.show()"
      ],
      "execution_count": 15,
      "outputs": [
        {
          "output_type": "display_data",
          "data": {
            "image/png": "[encoded data removed]",
            "text/plain": [
              "<Figure size 576x396 with 1 Axes>"
            ]
          },
          "metadata": {
            "tags": []
          }
        },
        {
          "output_type": "display_data",
          "data": {
            "image/png": "[encoded data removed]",
            "text/plain": [
              "<Figure size 576x396 with 1 Axes>"
            ]
          },
          "metadata": {
            "tags": []
          }
        },
        {
          "output_type": "display_data",
          "data": {
            "image/png": "[encoded data removed]",
            "text/plain": [
              "<Figure size 576x396 with 1 Axes>"
            ]
          },
          "metadata": {
            "tags": []
          }
        }
      ]
    },
    {
      "metadata": {
        "id": "n2ra1MBbQfSU",
        "colab_type": "code",
        "colab": {
          "base_uri": "https://localhost:8080/",
          "height": 51
        },
        "outputId": "9d831147-8973-480d-fd02-77d2e3fb295b"
      },
      "cell_type": "code",
      "source": [
        "print(bin_edge)"
      ],
      "execution_count": 16,
      "outputs": [
        {
          "output_type": "stream",
          "text": [
            "[4.5000000e+01 1.4458600e+02 2.4417200e+02 ... 9.9431828e+04 9.9531414e+04\n",
            " 9.9631000e+04]\n"
          ],
          "name": "stdout"
        }
      ]
    },
    {
      "metadata": {
        "id": "cMJyyWiCQfSZ",
        "colab_type": "code",
        "colab": {
          "base_uri": "https://localhost:8080/",
          "height": 34
        },
        "outputId": "6a09b7fe-d458-4dd5-f281-aa543424e56d"
      },
      "cell_type": "code",
      "source": [
        "print((hist==0).sum())"
      ],
      "execution_count": 17,
      "outputs": [
        {
          "output_type": "stream",
          "text": [
            "823\n"
          ],
          "name": "stdout"
        }
      ]
    },
    {
      "metadata": {
        "id": "M-PraEV7B4Xp",
        "colab_type": "text"
      },
      "cell_type": "markdown",
      "source": [
        "[pd.sort_values()](https://pandas.pydata.org/pandas-docs/stable/reference/api/pandas.DataFrame.sort_values.html)\n",
        "\n",
        "[np.unique](https://docs.scipy.org/doc/numpy/reference/generated/numpy.unique.html)\n",
        "\n",
        "[link np.digitize](https://docs.scipy.org/doc/numpy-1.15.1/reference/generated/numpy.digitize.html)\n",
        "\n",
        "[link np.repeat](https://docs.scipy.org/doc/numpy/reference/generated/numpy.repeat.html)"
      ]
    },
    {
      "metadata": {
        "id": "74OvrlHdQfSf",
        "colab_type": "code",
        "colab": {
          "base_uri": "https://localhost:8080/",
          "height": 51
        },
        "outputId": "b6290d10-9f39-4c24-e4f8-5ce8266d37ff"
      },
      "cell_type": "code",
      "source": [
        "train_set_clength_no_nan_sorted = train_set_clength_no_nan.sort_values(ascending=False)\n",
        "spacing = len(train_set_clength_no_nan) // 500 #1000\n",
        "bin_edge_clength = train_set_clength_no_nan_sorted[0::spacing]\n",
        "print(bin_edge_clength.shape)\n",
        "bin_edge_clength = np.unique(bin_edge_clength)\n",
        "print(bin_edge_clength.shape)\n",
        "np.digitize(train_set_clength_no_nan, bin_edge_clength)\n",
        "hist_clength = np.bincount(np.digitize(train_set_clength_no_nan, bin_edge_clength))"
      ],
      "execution_count": 18,
      "outputs": [
        {
          "output_type": "stream",
          "text": [
            "(503,)\n",
            "(503,)\n"
          ],
          "name": "stdout"
        }
      ]
    },
    {
      "metadata": {
        "id": "IOXZPlDEQfSj",
        "colab_type": "code",
        "colab": {
          "base_uri": "https://localhost:8080/",
          "height": 711
        },
        "outputId": "f5e7b28b-b952-4dd2-da53-28896db6fb35"
      },
      "cell_type": "code",
      "source": [
        "print(len(bin_edge_clength.repeat(2)[1:-1]))\n",
        "print(len(hist_clength.repeat(2)))\n",
        "# plot the histogram\n",
        "#plt.fill_between(bin_edge_clength.repeat(2)[1:2000],hist_clength.repeat(2)[1:2000],facecolor='steelblue')\n",
        "#plt.show()\n",
        "# plot the first 100 bins only\n",
        "plt.fill_between(bin_edge_clength.repeat(2)[1:100],hist_clength.repeat(2)[1:100],facecolor='steelblue')\n",
        "plt.show()\n",
        "# plot the first 500 bins only\n",
        "plt.fill_between(bin_edge_clength.repeat(2)[1:500],hist_clength.repeat(2)[1:500],facecolor='steelblue')\n",
        "plt.show()"
      ],
      "execution_count": 19,
      "outputs": [
        {
          "output_type": "stream",
          "text": [
            "1004\n",
            "1008\n"
          ],
          "name": "stdout"
        },
        {
          "output_type": "display_data",
          "data": {
            "image/png": "[encoded data removed]",
            "text/plain": [
              "<Figure size 576x396 with 1 Axes>"
            ]
          },
          "metadata": {
            "tags": []
          }
        },
        {
          "output_type": "display_data",
          "data": {
            "image/png": "[encoded data removed]",
            "text/plain": [
              "<Figure size 576x396 with 1 Axes>"
            ]
          },
          "metadata": {
            "tags": []
          }
        }
      ]
    },
    {
      "metadata": {
        "id": "vgizAbFwQfSr",
        "colab_type": "code",
        "colab": {
          "base_uri": "https://localhost:8080/",
          "height": 1007
        },
        "outputId": "b79ea416-1a65-4aa9-80f3-4c0c75cd2037"
      },
      "cell_type": "code",
      "source": [
        "# cds_length\n",
        "train_set_cds = data_all['cds_length']\n",
        "# remove NaN values\n",
        "train_set_cds_no_nan = train_set_cds[~np.isnan(train_set_cds)]\n",
        "# bin the data into 1000 equally spaced bins\n",
        "# hist is the count for each bin\n",
        "# bin_edge is the edge values of the bins\n",
        "hist_cds, bin_edge_cds = np.histogram(train_set_cds_no_nan,1000)\n",
        "# make sure to import matplotlib.pyplot as plt\n",
        "# plot the histogram\n",
        "plt.fill_between(bin_edge_cds.repeat(2)[1:-1],hist_cds.repeat(2),facecolor='steelblue')\n",
        "plt.show()\n",
        "# plot the first 100 bins only\n",
        "plt.fill_between(bin_edge_cds.repeat(2)[1:100],hist_cds.repeat(2)[1:100],facecolor='steelblue')\n",
        "plt.show()\n",
        "# plot the first 500 bins only\n",
        "plt.fill_between(bin_edge.repeat(2)[1:500],hist.repeat(2)[1:500],facecolor='steelblue')\n",
        "plt.show()"
      ],
      "execution_count": 20,
      "outputs": [
        {
          "output_type": "display_data",
          "data": {
            "image/png": "[encoded data removed]",
            "text/plain": [
              "<Figure size 576x396 with 1 Axes>"
            ]
          },
          "metadata": {
            "tags": []
          }
        },
        {
          "output_type": "display_data",
          "data": {
            "image/png": "[encoded data removed]",
            "text/plain": [
              "<Figure size 576x396 with 1 Axes>"
            ]
          },
          "metadata": {
            "tags": []
          }
        },
        {
          "output_type": "display_data",
          "data": {
            "image/png": "[encoded data removed]",
            "text/plain": [
              "<Figure size 576x396 with 1 Axes>"
            ]
          },
          "metadata": {
            "tags": []
          }
        }
      ]
    },
    {
      "metadata": {
        "id": "0O-Z_gN1QfSv",
        "colab_type": "code",
        "colab": {
          "base_uri": "https://localhost:8080/",
          "height": 51
        },
        "outputId": "ce9d55ff-50b1-4733-f582-e75fd3eccabe"
      },
      "cell_type": "code",
      "source": [
        "train_set_cds_no_nan_sorted = train_set_cds_no_nan.sort_values(ascending=False)\n",
        "spacing = len(train_set_cds_no_nan) // 500 + 1 #1000 + 1\n",
        "bin_edge_cds = train_set_cds_no_nan_sorted[0::spacing]\n",
        "print(bin_edge_cds.shape)\n",
        "bin_edge_cds = np.unique(bin_edge_cds)\n",
        "print(bin_edge_cds.shape)\n",
        "np.digitize(train_set_cds_no_nan, bin_edge_cds)\n",
        "hist_cds = np.bincount(np.digitize(train_set_cds_no_nan, bin_edge_cds))"
      ],
      "execution_count": 21,
      "outputs": [
        {
          "output_type": "stream",
          "text": [
            "(496,)\n",
            "(491,)\n"
          ],
          "name": "stdout"
        }
      ]
    },
    {
      "metadata": {
        "id": "5UcZxrjQQfSy",
        "colab_type": "code",
        "colab": {
          "base_uri": "https://localhost:8080/",
          "height": 711
        },
        "outputId": "04ab8359-e46c-40fb-c0eb-5a1bc95475ca"
      },
      "cell_type": "code",
      "source": [
        "print(len(bin_edge_cds.repeat(2)[1:-1]))\n",
        "print(len(hist_cds.repeat(2)))\n",
        "# plot the histogram\n",
        "#plt.fill_between(bin_edge_cds.repeat(2)[1:1500],hist_cds.repeat(2)[1:1500],facecolor='steelblue')\n",
        "#plt.show()\n",
        "# plot the first 100 bins only\n",
        "plt.fill_between(bin_edge_cds.repeat(2)[1:100],hist_cds.repeat(2)[1:100],facecolor='steelblue')\n",
        "plt.show()\n",
        "# plot the first 500 bins only\n",
        "plt.fill_between(bin_edge_cds.repeat(2)[1:500],hist_cds.repeat(2)[1:500],facecolor='steelblue')\n",
        "plt.show()"
      ],
      "execution_count": 22,
      "outputs": [
        {
          "output_type": "stream",
          "text": [
            "980\n",
            "984\n"
          ],
          "name": "stdout"
        },
        {
          "output_type": "display_data",
          "data": {
            "image/png": "[encoded data removed]",
            "text/plain": [
              "<Figure size 576x396 with 1 Axes>"
            ]
          },
          "metadata": {
            "tags": []
          }
        },
        {
          "output_type": "display_data",
          "data": {
            "image/png": "[encoded data removed]",
            "text/plain": [
              "<Figure size 576x396 with 1 Axes>"
            ]
          },
          "metadata": {
            "tags": []
          }
        }
      ]
    },
    {
      "metadata": {
        "id": "u2mBk1vEQfS1",
        "colab_type": "code",
        "colab": {
          "base_uri": "https://localhost:8080/",
          "height": 34
        },
        "outputId": "f7daf8ca-e390-4502-a9f9-78466155647e"
      },
      "cell_type": "code",
      "source": [
        "np.max(np.digitize(train_set_cds_no_nan, bin_edge_clength))"
      ],
      "execution_count": 23,
      "outputs": [
        {
          "output_type": "execute_result",
          "data": {
            "text/plain": [
              "502"
            ]
          },
          "metadata": {
            "tags": []
          },
          "execution_count": 23
        }
      ]
    },
    {
      "metadata": {
        "id": "G3fAnPhhTLP9",
        "colab_type": "text"
      },
      "cell_type": "markdown",
      "source": [
        "## ทำการ digitalize ข้อมูล"
      ]
    },
    {
      "metadata": {
        "id": "Mfv6Mtm9QfS4",
        "colab_type": "code",
        "colab": {
          "base_uri": "https://localhost:8080/",
          "height": 224
        },
        "outputId": "de98764a-2f85-4890-badb-3d863479e1c6"
      },
      "cell_type": "code",
      "source": [
        "train_set['cDNA_length_bin'] = np.digitize(train_set['cDNA_length'], bin_edge_clength)\n",
        "train_set['cds_length_bin'] = np.digitize(train_set['cds_length'], bin_edge_cds)\n",
        "train_set.head()"
      ],
      "execution_count": 24,
      "outputs": [
        {
          "output_type": "execute_result",
          "data": {
            "text/html": [
              "<div>\n",
              "<style scoped>\n",
              "    .dataframe tbody tr th:only-of-type {\n",
              "        vertical-align: middle;\n",
              "    }\n",
              "\n",
              "    .dataframe tbody tr th {\n",
              "        vertical-align: top;\n",
              "    }\n",
              "\n",
              "    .dataframe thead th {\n",
              "        text-align: right;\n",
              "    }\n",
              "</style>\n",
              "<table border=\"1\" class=\"dataframe\">\n",
              "  <thead>\n",
              "    <tr style=\"text-align: right;\">\n",
              "      <th></th>\n",
              "      <th>cDNA_length</th>\n",
              "      <th>cds_length</th>\n",
              "      <th>exons_nr</th>\n",
              "      <th>5_MAR_presence</th>\n",
              "      <th>3_MAR_presence</th>\n",
              "      <th>5_polyA_18_presence</th>\n",
              "      <th>5_CCGNN_2_5_presence</th>\n",
              "      <th>perc_go_hk_match</th>\n",
              "      <th>perc_go_ts_match</th>\n",
              "      <th>is_hk</th>\n",
              "      <th>cDNA_length_bin</th>\n",
              "      <th>cds_length_bin</th>\n",
              "    </tr>\n",
              "  </thead>\n",
              "  <tbody>\n",
              "    <tr>\n",
              "      <th>0</th>\n",
              "      <td>2918.0</td>\n",
              "      <td>1158.0</td>\n",
              "      <td>3.0</td>\n",
              "      <td>0</td>\n",
              "      <td>0</td>\n",
              "      <td>0</td>\n",
              "      <td>1</td>\n",
              "      <td>0.1</td>\n",
              "      <td>0.200000</td>\n",
              "      <td>NaN</td>\n",
              "      <td>355</td>\n",
              "      <td>252</td>\n",
              "    </tr>\n",
              "    <tr>\n",
              "      <th>1</th>\n",
              "      <td>4795.0</td>\n",
              "      <td>3540.0</td>\n",
              "      <td>29.0</td>\n",
              "      <td>0</td>\n",
              "      <td>0</td>\n",
              "      <td>0</td>\n",
              "      <td>1</td>\n",
              "      <td>0.1</td>\n",
              "      <td>0.200000</td>\n",
              "      <td>NaN</td>\n",
              "      <td>457</td>\n",
              "      <td>459</td>\n",
              "    </tr>\n",
              "    <tr>\n",
              "      <th>2</th>\n",
              "      <td>2918.0</td>\n",
              "      <td>1158.0</td>\n",
              "      <td>3.0</td>\n",
              "      <td>0</td>\n",
              "      <td>0</td>\n",
              "      <td>0</td>\n",
              "      <td>1</td>\n",
              "      <td>0.1</td>\n",
              "      <td>0.200000</td>\n",
              "      <td>NaN</td>\n",
              "      <td>355</td>\n",
              "      <td>252</td>\n",
              "    </tr>\n",
              "    <tr>\n",
              "      <th>3</th>\n",
              "      <td>4795.0</td>\n",
              "      <td>3540.0</td>\n",
              "      <td>29.0</td>\n",
              "      <td>0</td>\n",
              "      <td>0</td>\n",
              "      <td>0</td>\n",
              "      <td>1</td>\n",
              "      <td>0.1</td>\n",
              "      <td>0.200000</td>\n",
              "      <td>NaN</td>\n",
              "      <td>457</td>\n",
              "      <td>459</td>\n",
              "    </tr>\n",
              "    <tr>\n",
              "      <th>4</th>\n",
              "      <td>4551.0</td>\n",
              "      <td>1656.0</td>\n",
              "      <td>18.0</td>\n",
              "      <td>0</td>\n",
              "      <td>1</td>\n",
              "      <td>0</td>\n",
              "      <td>0</td>\n",
              "      <td>0.0</td>\n",
              "      <td>0.111111</td>\n",
              "      <td>NaN</td>\n",
              "      <td>448</td>\n",
              "      <td>346</td>\n",
              "    </tr>\n",
              "  </tbody>\n",
              "</table>\n",
              "</div>"
            ],
            "text/plain": [
              "   cDNA_length  cds_length  exons_nr  5_MAR_presence  3_MAR_presence  \\\n",
              "0       2918.0      1158.0       3.0               0               0   \n",
              "1       4795.0      3540.0      29.0               0               0   \n",
              "2       2918.0      1158.0       3.0               0               0   \n",
              "3       4795.0      3540.0      29.0               0               0   \n",
              "4       4551.0      1656.0      18.0               0               1   \n",
              "\n",
              "   5_polyA_18_presence  5_CCGNN_2_5_presence  perc_go_hk_match  \\\n",
              "0                    0                     1               0.1   \n",
              "1                    0                     1               0.1   \n",
              "2                    0                     1               0.1   \n",
              "3                    0                     1               0.1   \n",
              "4                    0                     0               0.0   \n",
              "\n",
              "   perc_go_ts_match is_hk  cDNA_length_bin  cds_length_bin  \n",
              "0          0.200000   NaN              355             252  \n",
              "1          0.200000   NaN              457             459  \n",
              "2          0.200000   NaN              355             252  \n",
              "3          0.200000   NaN              457             459  \n",
              "4          0.111111   NaN              448             346  "
            ]
          },
          "metadata": {
            "tags": []
          },
          "execution_count": 24
        }
      ]
    },
    {
      "metadata": {
        "id": "rgqybGCkQfS7",
        "colab_type": "code",
        "colab": {
          "base_uri": "https://localhost:8080/",
          "height": 853
        },
        "outputId": "c2262408-38df-46c2-fae6-3c9a47ad0a77"
      },
      "cell_type": "code",
      "source": [
        "likelihood = {}\n",
        "bin_edges = {}\n",
        "bin_edges['cDNA_length_bin_edge'] = bin_edge_clength\n",
        "bin_edges['cds_length_bin_edge'] = bin_edge_cds\n",
        "#likelihood['cDNA_length'] = \n",
        "print (sup_train_set.count())\n",
        "print(len(np.digitize(sup_train_set['cDNA_length'], bin_edge_clength)) )\n",
        "sup_train_set['cDNA_length_bin'] = np.digitize(sup_train_set['cDNA_length'], bin_edge_clength)\n",
        "sup_train_set['cds_length_bin'] = np.digitize(sup_train_set['cds_length'], bin_edge_cds)\n",
        "print (sup_train_set.count())\n",
        "sup_train_set.head()"
      ],
      "execution_count": 25,
      "outputs": [
        {
          "output_type": "stream",
          "text": [
            "cDNA_length             693\n",
            "cds_length              693\n",
            "exons_nr                193\n",
            "5_MAR_presence          693\n",
            "3_MAR_presence          693\n",
            "5_polyA_18_presence     693\n",
            "5_CCGNN_2_5_presence    693\n",
            "perc_go_hk_match        683\n",
            "perc_go_ts_match        683\n",
            "is_hk                   693\n",
            "dtype: int64\n",
            "693\n",
            "cDNA_length             693\n",
            "cds_length              693\n",
            "exons_nr                193\n",
            "5_MAR_presence          693\n",
            "3_MAR_presence          693\n",
            "5_polyA_18_presence     693\n",
            "5_CCGNN_2_5_presence    693\n",
            "perc_go_hk_match        683\n",
            "perc_go_ts_match        683\n",
            "is_hk                   693\n",
            "cDNA_length_bin         693\n",
            "cds_length_bin          693\n",
            "dtype: int64\n"
          ],
          "name": "stdout"
        },
        {
          "output_type": "stream",
          "text": [
            "/usr/local/lib/python3.6/dist-packages/ipykernel_launcher.py:8: SettingWithCopyWarning: \n",
            "A value is trying to be set on a copy of a slice from a DataFrame.\n",
            "Try using .loc[row_indexer,col_indexer] = value instead\n",
            "\n",
            "See the caveats in the documentation: http://pandas.pydata.org/pandas-docs/stable/indexing.html#indexing-view-versus-copy\n",
            "  \n",
            "/usr/local/lib/python3.6/dist-packages/ipykernel_launcher.py:9: SettingWithCopyWarning: \n",
            "A value is trying to be set on a copy of a slice from a DataFrame.\n",
            "Try using .loc[row_indexer,col_indexer] = value instead\n",
            "\n",
            "See the caveats in the documentation: http://pandas.pydata.org/pandas-docs/stable/indexing.html#indexing-view-versus-copy\n",
            "  if __name__ == '__main__':\n"
          ],
          "name": "stderr"
        },
        {
          "output_type": "execute_result",
          "data": {
            "text/html": [
              "<div>\n",
              "<style scoped>\n",
              "    .dataframe tbody tr th:only-of-type {\n",
              "        vertical-align: middle;\n",
              "    }\n",
              "\n",
              "    .dataframe tbody tr th {\n",
              "        vertical-align: top;\n",
              "    }\n",
              "\n",
              "    .dataframe thead th {\n",
              "        text-align: right;\n",
              "    }\n",
              "</style>\n",
              "<table border=\"1\" class=\"dataframe\">\n",
              "  <thead>\n",
              "    <tr style=\"text-align: right;\">\n",
              "      <th></th>\n",
              "      <th>cDNA_length</th>\n",
              "      <th>cds_length</th>\n",
              "      <th>exons_nr</th>\n",
              "      <th>5_MAR_presence</th>\n",
              "      <th>3_MAR_presence</th>\n",
              "      <th>5_polyA_18_presence</th>\n",
              "      <th>5_CCGNN_2_5_presence</th>\n",
              "      <th>perc_go_hk_match</th>\n",
              "      <th>perc_go_ts_match</th>\n",
              "      <th>is_hk</th>\n",
              "      <th>cDNA_length_bin</th>\n",
              "      <th>cds_length_bin</th>\n",
              "    </tr>\n",
              "  </thead>\n",
              "  <tbody>\n",
              "    <tr>\n",
              "      <th>91</th>\n",
              "      <td>3845.0</td>\n",
              "      <td>786.0</td>\n",
              "      <td>NaN</td>\n",
              "      <td>0</td>\n",
              "      <td>0</td>\n",
              "      <td>0</td>\n",
              "      <td>0</td>\n",
              "      <td>0.333333</td>\n",
              "      <td>0.0</td>\n",
              "      <td>1</td>\n",
              "      <td>419</td>\n",
              "      <td>159</td>\n",
              "    </tr>\n",
              "    <tr>\n",
              "      <th>92</th>\n",
              "      <td>960.0</td>\n",
              "      <td>960.0</td>\n",
              "      <td>NaN</td>\n",
              "      <td>0</td>\n",
              "      <td>0</td>\n",
              "      <td>0</td>\n",
              "      <td>0</td>\n",
              "      <td>0.333333</td>\n",
              "      <td>0.0</td>\n",
              "      <td>1</td>\n",
              "      <td>99</td>\n",
              "      <td>204</td>\n",
              "    </tr>\n",
              "    <tr>\n",
              "      <th>218</th>\n",
              "      <td>4019.0</td>\n",
              "      <td>3861.0</td>\n",
              "      <td>NaN</td>\n",
              "      <td>0</td>\n",
              "      <td>0</td>\n",
              "      <td>0</td>\n",
              "      <td>1</td>\n",
              "      <td>0.000000</td>\n",
              "      <td>0.5</td>\n",
              "      <td>0</td>\n",
              "      <td>427</td>\n",
              "      <td>467</td>\n",
              "    </tr>\n",
              "    <tr>\n",
              "      <th>219</th>\n",
              "      <td>3699.0</td>\n",
              "      <td>3699.0</td>\n",
              "      <td>NaN</td>\n",
              "      <td>0</td>\n",
              "      <td>0</td>\n",
              "      <td>0</td>\n",
              "      <td>1</td>\n",
              "      <td>0.000000</td>\n",
              "      <td>0.5</td>\n",
              "      <td>0</td>\n",
              "      <td>411</td>\n",
              "      <td>464</td>\n",
              "    </tr>\n",
              "    <tr>\n",
              "      <th>220</th>\n",
              "      <td>3847.0</td>\n",
              "      <td>3840.0</td>\n",
              "      <td>NaN</td>\n",
              "      <td>0</td>\n",
              "      <td>0</td>\n",
              "      <td>0</td>\n",
              "      <td>1</td>\n",
              "      <td>0.000000</td>\n",
              "      <td>0.5</td>\n",
              "      <td>0</td>\n",
              "      <td>419</td>\n",
              "      <td>466</td>\n",
              "    </tr>\n",
              "  </tbody>\n",
              "</table>\n",
              "</div>"
            ],
            "text/plain": [
              "     cDNA_length  cds_length  exons_nr  5_MAR_presence  3_MAR_presence  \\\n",
              "91        3845.0       786.0       NaN               0               0   \n",
              "92         960.0       960.0       NaN               0               0   \n",
              "218       4019.0      3861.0       NaN               0               0   \n",
              "219       3699.0      3699.0       NaN               0               0   \n",
              "220       3847.0      3840.0       NaN               0               0   \n",
              "\n",
              "     5_polyA_18_presence  5_CCGNN_2_5_presence  perc_go_hk_match  \\\n",
              "91                     0                     0          0.333333   \n",
              "92                     0                     0          0.333333   \n",
              "218                    0                     1          0.000000   \n",
              "219                    0                     1          0.000000   \n",
              "220                    0                     1          0.000000   \n",
              "\n",
              "     perc_go_ts_match is_hk  cDNA_length_bin  cds_length_bin  \n",
              "91                0.0     1              419             159  \n",
              "92                0.0     1               99             204  \n",
              "218               0.5     0              427             467  \n",
              "219               0.5     0              411             464  \n",
              "220               0.5     0              419             466  "
            ]
          },
          "metadata": {
            "tags": []
          },
          "execution_count": 25
        }
      ]
    },
    {
      "metadata": {
        "id": "JFxm9eSFUG07",
        "colab_type": "text"
      },
      "cell_type": "markdown",
      "source": [
        "## split class เพื่อแยกค่าเป็น 2 กลุ่ม ทำ"
      ]
    },
    {
      "metadata": {
        "id": "63UFMvKNUk4N",
        "colab_type": "code",
        "colab": {
          "base_uri": "https://localhost:8080/",
          "height": 470
        },
        "outputId": "205ef259-4fe7-4323-91a5-bd2dc2d99f08"
      },
      "cell_type": "code",
      "source": [
        "from sklearn.naive_bayes import MultinomialNB\n",
        "model = MultinomialNB()\n",
        "feature = list(sup_train_set.columns.values)\n",
        "feature.remove('cDNA_length')\n",
        "feature.remove('cds_length')\n",
        "feature.remove('is_hk')\n",
        "#model.fit(x_f1, label)\n",
        "X_sp_train = np.array(sup_train_set[feature].values,dtype = int)\n",
        "y_sp_train = np.array(sup_train_set['is_hk'].values,dtype = int)\n",
        "\n",
        "'''\n",
        "import numpy as np\n",
        "y = np.array([1, 2, 3, 4, 5, 6])\n",
        "from sklearn.naive_bayes import MultinomialNB\n",
        "clf = MultinomialNB()\n",
        "clf.fit(X_sp_train, y_sp_train)\n",
        "'''\n",
        "\n",
        "# print(clf.predict(X[2:3]))\n",
        "\n",
        "#display(model)\n",
        "#display(sup_train_set.head())\n",
        "#display(sup_train_set['perc_go_hk_match'].value_counts(dropna=False))\n",
        "#display(sup_train_set['exons_nr'].value_counts(dropna=False))\n",
        "#display(sup_train_set['cDNA_length_bin'].value_counts())\n",
        "#display(sup_train_set['cds_length_bin'].value_counts())\n",
        "#display(feature)\n",
        "#display(X_sp_train)\n",
        "#display(y_sp_train)"
      ],
      "execution_count": 61,
      "outputs": [
        {
          "output_type": "error",
          "ename": "ValueError",
          "evalue": "ignored",
          "traceback": [
            "\u001b[0;31m---------------------------------------------------------------------------\u001b[0m",
            "\u001b[0;31mValueError\u001b[0m                                Traceback (most recent call last)",
            "\u001b[0;32m<ipython-input-61-0026298613af>\u001b[0m in \u001b[0;36m<module>\u001b[0;34m()\u001b[0m\n\u001b[1;32m     13\u001b[0m \u001b[0;32mfrom\u001b[0m \u001b[0msklearn\u001b[0m\u001b[0;34m.\u001b[0m\u001b[0mnaive_bayes\u001b[0m \u001b[0;32mimport\u001b[0m \u001b[0mMultinomialNB\u001b[0m\u001b[0;34m\u001b[0m\u001b[0;34m\u001b[0m\u001b[0m\n\u001b[1;32m     14\u001b[0m \u001b[0mclf\u001b[0m \u001b[0;34m=\u001b[0m \u001b[0mMultinomialNB\u001b[0m\u001b[0;34m(\u001b[0m\u001b[0;34m)\u001b[0m\u001b[0;34m\u001b[0m\u001b[0;34m\u001b[0m\u001b[0m\n\u001b[0;32m---> 15\u001b[0;31m \u001b[0mclf\u001b[0m\u001b[0;34m.\u001b[0m\u001b[0mfit\u001b[0m\u001b[0;34m(\u001b[0m\u001b[0mX_sp_train\u001b[0m\u001b[0;34m,\u001b[0m \u001b[0my_sp_train\u001b[0m\u001b[0;34m)\u001b[0m\u001b[0;34m\u001b[0m\u001b[0;34m\u001b[0m\u001b[0m\n\u001b[0m\u001b[1;32m     16\u001b[0m \u001b[0;34m\u001b[0m\u001b[0m\n\u001b[1;32m     17\u001b[0m \u001b[0;31m# print(clf.predict(X[2:3]))\u001b[0m\u001b[0;34m\u001b[0m\u001b[0;34m\u001b[0m\u001b[0;34m\u001b[0m\u001b[0m\n",
            "\u001b[0;32m/usr/local/lib/python3.6/dist-packages/sklearn/naive_bayes.py\u001b[0m in \u001b[0;36mfit\u001b[0;34m(self, X, y, sample_weight)\u001b[0m\n\u001b[1;32m    608\u001b[0m         self.feature_count_ = np.zeros((n_effective_classes, n_features),\n\u001b[1;32m    609\u001b[0m                                        dtype=np.float64)\n\u001b[0;32m--> 610\u001b[0;31m         \u001b[0mself\u001b[0m\u001b[0;34m.\u001b[0m\u001b[0m_count\u001b[0m\u001b[0;34m(\u001b[0m\u001b[0mX\u001b[0m\u001b[0;34m,\u001b[0m \u001b[0mY\u001b[0m\u001b[0;34m)\u001b[0m\u001b[0;34m\u001b[0m\u001b[0;34m\u001b[0m\u001b[0m\n\u001b[0m\u001b[1;32m    611\u001b[0m         \u001b[0malpha\u001b[0m \u001b[0;34m=\u001b[0m \u001b[0mself\u001b[0m\u001b[0;34m.\u001b[0m\u001b[0m_check_alpha\u001b[0m\u001b[0;34m(\u001b[0m\u001b[0;34m)\u001b[0m\u001b[0;34m\u001b[0m\u001b[0;34m\u001b[0m\u001b[0m\n\u001b[1;32m    612\u001b[0m         \u001b[0mself\u001b[0m\u001b[0;34m.\u001b[0m\u001b[0m_update_feature_log_prob\u001b[0m\u001b[0;34m(\u001b[0m\u001b[0malpha\u001b[0m\u001b[0;34m)\u001b[0m\u001b[0;34m\u001b[0m\u001b[0;34m\u001b[0m\u001b[0m\n",
            "\u001b[0;32m/usr/local/lib/python3.6/dist-packages/sklearn/naive_bayes.py\u001b[0m in \u001b[0;36m_count\u001b[0;34m(self, X, Y)\u001b[0m\n\u001b[1;32m    712\u001b[0m         \u001b[0;34m\"\"\"Count and smooth feature occurrences.\"\"\"\u001b[0m\u001b[0;34m\u001b[0m\u001b[0;34m\u001b[0m\u001b[0m\n\u001b[1;32m    713\u001b[0m         \u001b[0;32mif\u001b[0m \u001b[0mnp\u001b[0m\u001b[0;34m.\u001b[0m\u001b[0many\u001b[0m\u001b[0;34m(\u001b[0m\u001b[0;34m(\u001b[0m\u001b[0mX\u001b[0m\u001b[0;34m.\u001b[0m\u001b[0mdata\u001b[0m \u001b[0;32mif\u001b[0m \u001b[0missparse\u001b[0m\u001b[0;34m(\u001b[0m\u001b[0mX\u001b[0m\u001b[0;34m)\u001b[0m \u001b[0;32melse\u001b[0m \u001b[0mX\u001b[0m\u001b[0;34m)\u001b[0m \u001b[0;34m<\u001b[0m \u001b[0;36m0\u001b[0m\u001b[0;34m)\u001b[0m\u001b[0;34m:\u001b[0m\u001b[0;34m\u001b[0m\u001b[0;34m\u001b[0m\u001b[0m\n\u001b[0;32m--> 714\u001b[0;31m             \u001b[0;32mraise\u001b[0m \u001b[0mValueError\u001b[0m\u001b[0;34m(\u001b[0m\u001b[0;34m\"Input X must be non-negative\"\u001b[0m\u001b[0;34m)\u001b[0m\u001b[0;34m\u001b[0m\u001b[0;34m\u001b[0m\u001b[0m\n\u001b[0m\u001b[1;32m    715\u001b[0m         \u001b[0mself\u001b[0m\u001b[0;34m.\u001b[0m\u001b[0mfeature_count_\u001b[0m \u001b[0;34m+=\u001b[0m \u001b[0msafe_sparse_dot\u001b[0m\u001b[0;34m(\u001b[0m\u001b[0mY\u001b[0m\u001b[0;34m.\u001b[0m\u001b[0mT\u001b[0m\u001b[0;34m,\u001b[0m \u001b[0mX\u001b[0m\u001b[0;34m)\u001b[0m\u001b[0;34m\u001b[0m\u001b[0;34m\u001b[0m\u001b[0m\n\u001b[1;32m    716\u001b[0m         \u001b[0mself\u001b[0m\u001b[0;34m.\u001b[0m\u001b[0mclass_count_\u001b[0m \u001b[0;34m+=\u001b[0m \u001b[0mY\u001b[0m\u001b[0;34m.\u001b[0m\u001b[0msum\u001b[0m\u001b[0;34m(\u001b[0m\u001b[0maxis\u001b[0m\u001b[0;34m=\u001b[0m\u001b[0;36m0\u001b[0m\u001b[0;34m)\u001b[0m\u001b[0;34m\u001b[0m\u001b[0;34m\u001b[0m\u001b[0m\n",
            "\u001b[0;31mValueError\u001b[0m: Input X must be non-negative"
          ]
        }
      ]
    },
    {
      "metadata": {
        "id": "Cb3pzhmaQfTA",
        "colab_type": "code",
        "colab": {}
      },
      "cell_type": "code",
      "source": [
        "sup_train_set_0 = sup_train_set[sup_train_set['is_hk']==0]\n",
        "sup_train_set_1 = sup_train_set[sup_train_set['is_hk']==1]"
      ],
      "execution_count": 0,
      "outputs": []
    },
    {
      "metadata": {
        "id": "r4kDFN6YQfTC",
        "colab_type": "code",
        "colab": {
          "base_uri": "https://localhost:8080/",
          "height": 707
        },
        "outputId": "52726007-d05e-430d-cbde-157221a8a320"
      },
      "cell_type": "code",
      "source": [
        "hist_cDNA_train_0 = np.bincount(sup_train_set_0['cDNA_length_bin'], minlength=1005)\n",
        "hist_cDNA_train_1 = np.bincount(sup_train_set_1['cDNA_length_bin'], minlength=1005)\n",
        "hist_cds_train_0 = np.bincount(sup_train_set_0['cds_length_bin'], minlength=1005)\n",
        "hist_cds_train_1 = np.bincount(sup_train_set_1['cds_length_bin'], minlength=1005)\n",
        "\n",
        "plt.title('cDNA_train')\n",
        "plt.plot(hist_cDNA_train_0/np.sum(hist_cDNA_train_0), label='not hk')# ,color='steelblue')\n",
        "plt.plot(hist_cDNA_train_1/np.sum(hist_cDNA_train_1), label='is hk')\n",
        "plt.legend(loc='upper right')\n",
        "#plt.plot(hist_cds_train/np.sum(hist_cds_train))\n",
        "plt.show()\n",
        "\n",
        "plt.title('cds_train')\n",
        "plt.plot(hist_cds_train_0/np.sum(hist_cds_train_0), label='not hk')\n",
        "plt.plot(hist_cds_train_1/np.sum(hist_cds_train_1), label='is hk')\n",
        "plt.legend(loc='upper right')\n",
        "plt.show()"
      ],
      "execution_count": 28,
      "outputs": [
        {
          "output_type": "display_data",
          "data": {
            "image/png": "[encoded data removed]",
            "text/plain": [
              "<Figure size 576x396 with 1 Axes>"
            ]
          },
          "metadata": {
            "tags": []
          }
        },
        {
          "output_type": "display_data",
          "data": {
            "image/png": "[encoded data removed]",
            "text/plain": [
              "<Figure size 576x396 with 1 Axes>"
            ]
          },
          "metadata": {
            "tags": []
          }
        }
      ]
    },
    {
      "metadata": {
        "id": "PuNPFPK1QfTG",
        "colab_type": "code",
        "colab": {}
      },
      "cell_type": "code",
      "source": [
        "def cal_likelihood_from_hist(hist):\n",
        "  tmp_likelihood = pd.DataFrame(hist/np.sum(hist))\n",
        "  tmp_likelihood.loc[tmp_likelihood[0] == 0] = 5e-4/np.sum(hist)\n",
        "  #plt.plot(tmp_likelihood)\n",
        "  # plt.show()\n",
        "  return tmp_likelihood.to_dict()[0]\n",
        "\n",
        "likelihood['cDNA_length_0'] = cal_likelihood_from_hist(hist_cDNA_train_0)\n",
        "likelihood['cDNA_length_1'] = cal_likelihood_from_hist(hist_cDNA_train_1)\n",
        "likelihood['cds_length_0'] = cal_likelihood_from_hist(hist_cds_train_0)\n",
        "likelihood['cds_length_1'] = cal_likelihood_from_hist(hist_cds_train_1)"
      ],
      "execution_count": 0,
      "outputs": []
    },
    {
      "metadata": {
        "id": "3ZKJPyWnQfTI",
        "colab_type": "code",
        "colab": {
          "base_uri": "https://localhost:8080/",
          "height": 54
        },
        "outputId": "47945d96-209e-4f17-89f3-0365092bdef8"
      },
      "cell_type": "code",
      "source": [
        "def cal_likelihood_bin(data, bin_count,ran=None):\n",
        "  #print(data)\n",
        "  data = data[~np.isnan(data)]\n",
        "  if ran is None:\n",
        "    hist, bin_edge = np.histogram(data,bin_count)\n",
        "  else:\n",
        "    hist, bin_edge = np.histogram(data,bin_count,range=ran)\n",
        "  #plt.plot(hist)\n",
        "  #plt.show()\n",
        "  #print(hist)\n",
        "  #print(cal_likelihood_from_hist(hist))\n",
        "  return cal_likelihood_from_hist(hist)\n",
        "  \n",
        "likelihood['exons_nr_0'] = cal_likelihood_bin(sup_train_set_0['exons_nr'],119, [0,118])\n",
        "likelihood['exons_nr_1'] = cal_likelihood_bin(sup_train_set_1['exons_nr'],119, [0,118])\n",
        "likelihood['5_MAR_presence_0'] = cal_likelihood_bin(sup_train_set_0['5_MAR_presence'].astype(int),2)\n",
        "likelihood['5_MAR_presence_1'] = cal_likelihood_bin(sup_train_set_1['5_MAR_presence'].astype(int),2)\n",
        "likelihood['3_MAR_presence_0'] = cal_likelihood_bin(sup_train_set_0['3_MAR_presence'].astype(int),2)\n",
        "likelihood['3_MAR_presence_1'] = cal_likelihood_bin(sup_train_set_1['3_MAR_presence'].astype(int),2)\n",
        "likelihood['5_polyA_18_presence_0'] = cal_likelihood_bin(sup_train_set_0['5_polyA_18_presence'].astype(int),2)\n",
        "likelihood['5_polyA_18_presence_1'] = cal_likelihood_bin(sup_train_set_1['5_polyA_18_presence'].astype(int),2)\n",
        "likelihood['5_CCGNN_2_5_presence_0'] = cal_likelihood_bin(sup_train_set_0['5_CCGNN_2_5_presence'].astype(int),2)\n",
        "likelihood['5_CCGNN_2_5_presence_1'] = cal_likelihood_bin(sup_train_set_1['5_CCGNN_2_5_presence'].astype(int),2)\n",
        "likelihood['perc_go_hk_match_0'] = cal_likelihood_bin(sup_train_set_0['perc_go_hk_match'],101, [0,100])\n",
        "likelihood['perc_go_hk_match_1'] = cal_likelihood_bin(sup_train_set_1['perc_go_hk_match'],101, [0,100])\n",
        "likelihood['perc_go_ts_match_0'] = cal_likelihood_bin(sup_train_set_0['perc_go_ts_match'],101, [0,100])\n",
        "likelihood['perc_go_ts_match_1'] = cal_likelihood_bin(sup_train_set_1['perc_go_ts_match'],101, [0,100])\n",
        "#plt.title('perc_go_hk_match')\n",
        "#plt.show()\n",
        "print(likelihood.keys(), len(likelihood.keys()))\n"
      ],
      "execution_count": 30,
      "outputs": [
        {
          "output_type": "stream",
          "text": [
            "dict_keys(['cDNA_length_0', 'cDNA_length_1', 'cds_length_0', 'cds_length_1', 'exons_nr_0', 'exons_nr_1', '5_MAR_presence_0', '5_MAR_presence_1', '3_MAR_presence_0', '3_MAR_presence_1', '5_polyA_18_presence_0', '5_polyA_18_presence_1', '5_CCGNN_2_5_presence_0', '5_CCGNN_2_5_presence_1', 'perc_go_hk_match_0', 'perc_go_hk_match_1', 'perc_go_ts_match_0', 'perc_go_ts_match_1']) 18\n"
          ],
          "name": "stdout"
        }
      ]
    },
    {
      "metadata": {
        "id": "qJe51zcOQfTL",
        "colab_type": "code",
        "colab": {
          "base_uri": "https://localhost:8080/",
          "height": 1989
        },
        "outputId": "fbf35084-e85b-4ee3-dbdd-5393b0176b56"
      },
      "cell_type": "code",
      "source": [
        "test_set['cDNA_length_bin'] = np.digitize(test_set['cDNA_length'], bin_edge_clength)\n",
        "test_set['cds_length_bin'] = np.digitize(test_set['cds_length'], bin_edge_cds)\n",
        "\n",
        "test_set['perc_go_hk_match_bin'] = (test_set['perc_go_hk_match']*100).astype(int)\n",
        "test_set['perc_go_ts_match_bin'] = (test_set['perc_go_ts_match']*100).astype(int)\n",
        "test_set "
      ],
      "execution_count": 31,
      "outputs": [
        {
          "output_type": "execute_result",
          "data": {
            "text/html": [
              "<div>\n",
              "<style scoped>\n",
              "    .dataframe tbody tr th:only-of-type {\n",
              "        vertical-align: middle;\n",
              "    }\n",
              "\n",
              "    .dataframe tbody tr th {\n",
              "        vertical-align: top;\n",
              "    }\n",
              "\n",
              "    .dataframe thead th {\n",
              "        text-align: right;\n",
              "    }\n",
              "</style>\n",
              "<table border=\"1\" class=\"dataframe\">\n",
              "  <thead>\n",
              "    <tr style=\"text-align: right;\">\n",
              "      <th></th>\n",
              "      <th>cDNA_length</th>\n",
              "      <th>cds_length</th>\n",
              "      <th>exons_nr</th>\n",
              "      <th>5_MAR_presence</th>\n",
              "      <th>3_MAR_presence</th>\n",
              "      <th>5_polyA_18_presence</th>\n",
              "      <th>5_CCGNN_2_5_presence</th>\n",
              "      <th>perc_go_hk_match</th>\n",
              "      <th>perc_go_ts_match</th>\n",
              "      <th>is_hk</th>\n",
              "      <th>cDNA_length_bin</th>\n",
              "      <th>cds_length_bin</th>\n",
              "      <th>perc_go_hk_match_bin</th>\n",
              "      <th>perc_go_ts_match_bin</th>\n",
              "    </tr>\n",
              "  </thead>\n",
              "  <tbody>\n",
              "    <tr>\n",
              "      <th>9977</th>\n",
              "      <td>1878.0</td>\n",
              "      <td>1248.0</td>\n",
              "      <td>NaN</td>\n",
              "      <td>0</td>\n",
              "      <td>0</td>\n",
              "      <td>0</td>\n",
              "      <td>0</td>\n",
              "      <td>0.000000</td>\n",
              "      <td>0.333333</td>\n",
              "      <td>0</td>\n",
              "      <td>226</td>\n",
              "      <td>271</td>\n",
              "      <td>0</td>\n",
              "      <td>33</td>\n",
              "    </tr>\n",
              "    <tr>\n",
              "      <th>22035</th>\n",
              "      <td>2327.0</td>\n",
              "      <td>1587.0</td>\n",
              "      <td>NaN</td>\n",
              "      <td>0</td>\n",
              "      <td>1</td>\n",
              "      <td>0</td>\n",
              "      <td>0</td>\n",
              "      <td>0.000000</td>\n",
              "      <td>0.636364</td>\n",
              "      <td>0</td>\n",
              "      <td>290</td>\n",
              "      <td>335</td>\n",
              "      <td>0</td>\n",
              "      <td>63</td>\n",
              "    </tr>\n",
              "    <tr>\n",
              "      <th>31699</th>\n",
              "      <td>1239.0</td>\n",
              "      <td>1239.0</td>\n",
              "      <td>NaN</td>\n",
              "      <td>0</td>\n",
              "      <td>0</td>\n",
              "      <td>0</td>\n",
              "      <td>0</td>\n",
              "      <td>0.000000</td>\n",
              "      <td>0.600000</td>\n",
              "      <td>0</td>\n",
              "      <td>135</td>\n",
              "      <td>269</td>\n",
              "      <td>0</td>\n",
              "      <td>60</td>\n",
              "    </tr>\n",
              "    <tr>\n",
              "      <th>30881</th>\n",
              "      <td>1618.0</td>\n",
              "      <td>678.0</td>\n",
              "      <td>6.0</td>\n",
              "      <td>0</td>\n",
              "      <td>0</td>\n",
              "      <td>0</td>\n",
              "      <td>1</td>\n",
              "      <td>0.000000</td>\n",
              "      <td>0.461539</td>\n",
              "      <td>0</td>\n",
              "      <td>188</td>\n",
              "      <td>130</td>\n",
              "      <td>0</td>\n",
              "      <td>46</td>\n",
              "    </tr>\n",
              "    <tr>\n",
              "      <th>19125</th>\n",
              "      <td>1167.0</td>\n",
              "      <td>855.0</td>\n",
              "      <td>10.0</td>\n",
              "      <td>0</td>\n",
              "      <td>0</td>\n",
              "      <td>0</td>\n",
              "      <td>1</td>\n",
              "      <td>0.000000</td>\n",
              "      <td>0.250000</td>\n",
              "      <td>0</td>\n",
              "      <td>126</td>\n",
              "      <td>175</td>\n",
              "      <td>0</td>\n",
              "      <td>25</td>\n",
              "    </tr>\n",
              "    <tr>\n",
              "      <th>15237</th>\n",
              "      <td>913.0</td>\n",
              "      <td>810.0</td>\n",
              "      <td>NaN</td>\n",
              "      <td>0</td>\n",
              "      <td>0</td>\n",
              "      <td>0</td>\n",
              "      <td>0</td>\n",
              "      <td>0.000000</td>\n",
              "      <td>0.800000</td>\n",
              "      <td>0</td>\n",
              "      <td>90</td>\n",
              "      <td>165</td>\n",
              "      <td>0</td>\n",
              "      <td>80</td>\n",
              "    </tr>\n",
              "    <tr>\n",
              "      <th>12901</th>\n",
              "      <td>4254.0</td>\n",
              "      <td>2523.0</td>\n",
              "      <td>17.0</td>\n",
              "      <td>0</td>\n",
              "      <td>0</td>\n",
              "      <td>0</td>\n",
              "      <td>0</td>\n",
              "      <td>0.000000</td>\n",
              "      <td>0.222222</td>\n",
              "      <td>0</td>\n",
              "      <td>437</td>\n",
              "      <td>423</td>\n",
              "      <td>0</td>\n",
              "      <td>22</td>\n",
              "    </tr>\n",
              "    <tr>\n",
              "      <th>22011</th>\n",
              "      <td>2327.0</td>\n",
              "      <td>1587.0</td>\n",
              "      <td>NaN</td>\n",
              "      <td>0</td>\n",
              "      <td>1</td>\n",
              "      <td>0</td>\n",
              "      <td>0</td>\n",
              "      <td>0.000000</td>\n",
              "      <td>0.636364</td>\n",
              "      <td>0</td>\n",
              "      <td>290</td>\n",
              "      <td>335</td>\n",
              "      <td>0</td>\n",
              "      <td>63</td>\n",
              "    </tr>\n",
              "    <tr>\n",
              "      <th>2038</th>\n",
              "      <td>3690.0</td>\n",
              "      <td>1800.0</td>\n",
              "      <td>NaN</td>\n",
              "      <td>0</td>\n",
              "      <td>0</td>\n",
              "      <td>0</td>\n",
              "      <td>1</td>\n",
              "      <td>0.000000</td>\n",
              "      <td>0.666667</td>\n",
              "      <td>0</td>\n",
              "      <td>411</td>\n",
              "      <td>365</td>\n",
              "      <td>0</td>\n",
              "      <td>66</td>\n",
              "    </tr>\n",
              "    <tr>\n",
              "      <th>21706</th>\n",
              "      <td>3360.0</td>\n",
              "      <td>2022.0</td>\n",
              "      <td>17.0</td>\n",
              "      <td>0</td>\n",
              "      <td>0</td>\n",
              "      <td>0</td>\n",
              "      <td>0</td>\n",
              "      <td>0.000000</td>\n",
              "      <td>0.333333</td>\n",
              "      <td>0</td>\n",
              "      <td>389</td>\n",
              "      <td>387</td>\n",
              "      <td>0</td>\n",
              "      <td>33</td>\n",
              "    </tr>\n",
              "    <tr>\n",
              "      <th>12891</th>\n",
              "      <td>5428.0</td>\n",
              "      <td>3000.0</td>\n",
              "      <td>16.0</td>\n",
              "      <td>1</td>\n",
              "      <td>0</td>\n",
              "      <td>0</td>\n",
              "      <td>0</td>\n",
              "      <td>0.000000</td>\n",
              "      <td>0.125000</td>\n",
              "      <td>0</td>\n",
              "      <td>471</td>\n",
              "      <td>445</td>\n",
              "      <td>0</td>\n",
              "      <td>12</td>\n",
              "    </tr>\n",
              "    <tr>\n",
              "      <th>21991</th>\n",
              "      <td>2256.0</td>\n",
              "      <td>471.0</td>\n",
              "      <td>NaN</td>\n",
              "      <td>0</td>\n",
              "      <td>1</td>\n",
              "      <td>0</td>\n",
              "      <td>0</td>\n",
              "      <td>0.000000</td>\n",
              "      <td>0.636364</td>\n",
              "      <td>0</td>\n",
              "      <td>281</td>\n",
              "      <td>75</td>\n",
              "      <td>0</td>\n",
              "      <td>63</td>\n",
              "    </tr>\n",
              "    <tr>\n",
              "      <th>43263</th>\n",
              "      <td>759.0</td>\n",
              "      <td>759.0</td>\n",
              "      <td>NaN</td>\n",
              "      <td>0</td>\n",
              "      <td>0</td>\n",
              "      <td>0</td>\n",
              "      <td>0</td>\n",
              "      <td>0.000000</td>\n",
              "      <td>0.750000</td>\n",
              "      <td>0</td>\n",
              "      <td>69</td>\n",
              "      <td>152</td>\n",
              "      <td>0</td>\n",
              "      <td>75</td>\n",
              "    </tr>\n",
              "    <tr>\n",
              "      <th>12627</th>\n",
              "      <td>1271.0</td>\n",
              "      <td>1128.0</td>\n",
              "      <td>NaN</td>\n",
              "      <td>0</td>\n",
              "      <td>0</td>\n",
              "      <td>0</td>\n",
              "      <td>0</td>\n",
              "      <td>0.000000</td>\n",
              "      <td>0.900000</td>\n",
              "      <td>0</td>\n",
              "      <td>138</td>\n",
              "      <td>246</td>\n",
              "      <td>0</td>\n",
              "      <td>90</td>\n",
              "    </tr>\n",
              "    <tr>\n",
              "      <th>27602</th>\n",
              "      <td>655.0</td>\n",
              "      <td>510.0</td>\n",
              "      <td>NaN</td>\n",
              "      <td>0</td>\n",
              "      <td>0</td>\n",
              "      <td>0</td>\n",
              "      <td>0</td>\n",
              "      <td>0.000000</td>\n",
              "      <td>0.666667</td>\n",
              "      <td>0</td>\n",
              "      <td>57</td>\n",
              "      <td>86</td>\n",
              "      <td>0</td>\n",
              "      <td>66</td>\n",
              "    </tr>\n",
              "    <tr>\n",
              "      <th>40406</th>\n",
              "      <td>3534.0</td>\n",
              "      <td>2985.0</td>\n",
              "      <td>23.0</td>\n",
              "      <td>0</td>\n",
              "      <td>0</td>\n",
              "      <td>0</td>\n",
              "      <td>0</td>\n",
              "      <td>0.000000</td>\n",
              "      <td>0.428571</td>\n",
              "      <td>0</td>\n",
              "      <td>401</td>\n",
              "      <td>444</td>\n",
              "      <td>0</td>\n",
              "      <td>42</td>\n",
              "    </tr>\n",
              "    <tr>\n",
              "      <th>12858</th>\n",
              "      <td>1237.0</td>\n",
              "      <td>714.0</td>\n",
              "      <td>NaN</td>\n",
              "      <td>0</td>\n",
              "      <td>0</td>\n",
              "      <td>0</td>\n",
              "      <td>1</td>\n",
              "      <td>0.000000</td>\n",
              "      <td>0.000000</td>\n",
              "      <td>0</td>\n",
              "      <td>134</td>\n",
              "      <td>140</td>\n",
              "      <td>0</td>\n",
              "      <td>0</td>\n",
              "    </tr>\n",
              "    <tr>\n",
              "      <th>16814</th>\n",
              "      <td>614.0</td>\n",
              "      <td>393.0</td>\n",
              "      <td>4.0</td>\n",
              "      <td>0</td>\n",
              "      <td>0</td>\n",
              "      <td>1</td>\n",
              "      <td>0</td>\n",
              "      <td>0.000000</td>\n",
              "      <td>1.000000</td>\n",
              "      <td>0</td>\n",
              "      <td>53</td>\n",
              "      <td>52</td>\n",
              "      <td>0</td>\n",
              "      <td>100</td>\n",
              "    </tr>\n",
              "    <tr>\n",
              "      <th>22034</th>\n",
              "      <td>1691.0</td>\n",
              "      <td>798.0</td>\n",
              "      <td>NaN</td>\n",
              "      <td>0</td>\n",
              "      <td>1</td>\n",
              "      <td>0</td>\n",
              "      <td>0</td>\n",
              "      <td>0.000000</td>\n",
              "      <td>0.636364</td>\n",
              "      <td>0</td>\n",
              "      <td>199</td>\n",
              "      <td>162</td>\n",
              "      <td>0</td>\n",
              "      <td>63</td>\n",
              "    </tr>\n",
              "    <tr>\n",
              "      <th>31468</th>\n",
              "      <td>2458.0</td>\n",
              "      <td>2064.0</td>\n",
              "      <td>NaN</td>\n",
              "      <td>0</td>\n",
              "      <td>0</td>\n",
              "      <td>0</td>\n",
              "      <td>0</td>\n",
              "      <td>0.000000</td>\n",
              "      <td>0.428571</td>\n",
              "      <td>0</td>\n",
              "      <td>308</td>\n",
              "      <td>390</td>\n",
              "      <td>0</td>\n",
              "      <td>42</td>\n",
              "    </tr>\n",
              "    <tr>\n",
              "      <th>22007</th>\n",
              "      <td>2256.0</td>\n",
              "      <td>471.0</td>\n",
              "      <td>NaN</td>\n",
              "      <td>0</td>\n",
              "      <td>1</td>\n",
              "      <td>0</td>\n",
              "      <td>0</td>\n",
              "      <td>0.000000</td>\n",
              "      <td>0.636364</td>\n",
              "      <td>0</td>\n",
              "      <td>281</td>\n",
              "      <td>75</td>\n",
              "      <td>0</td>\n",
              "      <td>63</td>\n",
              "    </tr>\n",
              "    <tr>\n",
              "      <th>4648</th>\n",
              "      <td>1374.0</td>\n",
              "      <td>1266.0</td>\n",
              "      <td>NaN</td>\n",
              "      <td>0</td>\n",
              "      <td>0</td>\n",
              "      <td>0</td>\n",
              "      <td>0</td>\n",
              "      <td>0.000000</td>\n",
              "      <td>0.833333</td>\n",
              "      <td>0</td>\n",
              "      <td>152</td>\n",
              "      <td>275</td>\n",
              "      <td>0</td>\n",
              "      <td>83</td>\n",
              "    </tr>\n",
              "    <tr>\n",
              "      <th>21604</th>\n",
              "      <td>2246.0</td>\n",
              "      <td>2163.0</td>\n",
              "      <td>16.0</td>\n",
              "      <td>0</td>\n",
              "      <td>0</td>\n",
              "      <td>0</td>\n",
              "      <td>0</td>\n",
              "      <td>0.000000</td>\n",
              "      <td>0.875000</td>\n",
              "      <td>0</td>\n",
              "      <td>279</td>\n",
              "      <td>399</td>\n",
              "      <td>0</td>\n",
              "      <td>87</td>\n",
              "    </tr>\n",
              "    <tr>\n",
              "      <th>8006</th>\n",
              "      <td>1951.0</td>\n",
              "      <td>1578.0</td>\n",
              "      <td>NaN</td>\n",
              "      <td>1</td>\n",
              "      <td>0</td>\n",
              "      <td>0</td>\n",
              "      <td>0</td>\n",
              "      <td>0.000000</td>\n",
              "      <td>0.666667</td>\n",
              "      <td>0</td>\n",
              "      <td>237</td>\n",
              "      <td>333</td>\n",
              "      <td>0</td>\n",
              "      <td>66</td>\n",
              "    </tr>\n",
              "    <tr>\n",
              "      <th>10054</th>\n",
              "      <td>595.0</td>\n",
              "      <td>354.0</td>\n",
              "      <td>NaN</td>\n",
              "      <td>0</td>\n",
              "      <td>0</td>\n",
              "      <td>0</td>\n",
              "      <td>0</td>\n",
              "      <td>0.000000</td>\n",
              "      <td>0.500000</td>\n",
              "      <td>0</td>\n",
              "      <td>50</td>\n",
              "      <td>39</td>\n",
              "      <td>0</td>\n",
              "      <td>50</td>\n",
              "    </tr>\n",
              "    <tr>\n",
              "      <th>21989</th>\n",
              "      <td>2357.0</td>\n",
              "      <td>1602.0</td>\n",
              "      <td>NaN</td>\n",
              "      <td>0</td>\n",
              "      <td>1</td>\n",
              "      <td>0</td>\n",
              "      <td>0</td>\n",
              "      <td>0.000000</td>\n",
              "      <td>0.636364</td>\n",
              "      <td>0</td>\n",
              "      <td>295</td>\n",
              "      <td>338</td>\n",
              "      <td>0</td>\n",
              "      <td>63</td>\n",
              "    </tr>\n",
              "    <tr>\n",
              "      <th>25513</th>\n",
              "      <td>2262.0</td>\n",
              "      <td>939.0</td>\n",
              "      <td>NaN</td>\n",
              "      <td>1</td>\n",
              "      <td>0</td>\n",
              "      <td>0</td>\n",
              "      <td>0</td>\n",
              "      <td>0.000000</td>\n",
              "      <td>0.500000</td>\n",
              "      <td>0</td>\n",
              "      <td>281</td>\n",
              "      <td>198</td>\n",
              "      <td>0</td>\n",
              "      <td>50</td>\n",
              "    </tr>\n",
              "    <tr>\n",
              "      <th>22038</th>\n",
              "      <td>2349.0</td>\n",
              "      <td>1605.0</td>\n",
              "      <td>NaN</td>\n",
              "      <td>0</td>\n",
              "      <td>1</td>\n",
              "      <td>0</td>\n",
              "      <td>0</td>\n",
              "      <td>0.000000</td>\n",
              "      <td>0.636364</td>\n",
              "      <td>0</td>\n",
              "      <td>294</td>\n",
              "      <td>338</td>\n",
              "      <td>0</td>\n",
              "      <td>63</td>\n",
              "    </tr>\n",
              "    <tr>\n",
              "      <th>3325</th>\n",
              "      <td>2274.0</td>\n",
              "      <td>1977.0</td>\n",
              "      <td>NaN</td>\n",
              "      <td>0</td>\n",
              "      <td>0</td>\n",
              "      <td>0</td>\n",
              "      <td>0</td>\n",
              "      <td>0.000000</td>\n",
              "      <td>0.833333</td>\n",
              "      <td>0</td>\n",
              "      <td>283</td>\n",
              "      <td>383</td>\n",
              "      <td>0</td>\n",
              "      <td>83</td>\n",
              "    </tr>\n",
              "    <tr>\n",
              "      <th>19300</th>\n",
              "      <td>1980.0</td>\n",
              "      <td>1782.0</td>\n",
              "      <td>14.0</td>\n",
              "      <td>0</td>\n",
              "      <td>0</td>\n",
              "      <td>0</td>\n",
              "      <td>1</td>\n",
              "      <td>0.000000</td>\n",
              "      <td>0.272727</td>\n",
              "      <td>0</td>\n",
              "      <td>241</td>\n",
              "      <td>362</td>\n",
              "      <td>0</td>\n",
              "      <td>27</td>\n",
              "    </tr>\n",
              "    <tr>\n",
              "      <th>...</th>\n",
              "      <td>...</td>\n",
              "      <td>...</td>\n",
              "      <td>...</td>\n",
              "      <td>...</td>\n",
              "      <td>...</td>\n",
              "      <td>...</td>\n",
              "      <td>...</td>\n",
              "      <td>...</td>\n",
              "      <td>...</td>\n",
              "      <td>...</td>\n",
              "      <td>...</td>\n",
              "      <td>...</td>\n",
              "      <td>...</td>\n",
              "      <td>...</td>\n",
              "    </tr>\n",
              "    <tr>\n",
              "      <th>7004</th>\n",
              "      <td>2286.0</td>\n",
              "      <td>834.0</td>\n",
              "      <td>NaN</td>\n",
              "      <td>0</td>\n",
              "      <td>1</td>\n",
              "      <td>0</td>\n",
              "      <td>0</td>\n",
              "      <td>0.000000</td>\n",
              "      <td>0.400000</td>\n",
              "      <td>0</td>\n",
              "      <td>285</td>\n",
              "      <td>171</td>\n",
              "      <td>0</td>\n",
              "      <td>40</td>\n",
              "    </tr>\n",
              "    <tr>\n",
              "      <th>1557</th>\n",
              "      <td>3260.0</td>\n",
              "      <td>2793.0</td>\n",
              "      <td>NaN</td>\n",
              "      <td>0</td>\n",
              "      <td>0</td>\n",
              "      <td>0</td>\n",
              "      <td>0</td>\n",
              "      <td>0.000000</td>\n",
              "      <td>0.750000</td>\n",
              "      <td>0</td>\n",
              "      <td>383</td>\n",
              "      <td>436</td>\n",
              "      <td>0</td>\n",
              "      <td>75</td>\n",
              "    </tr>\n",
              "    <tr>\n",
              "      <th>31337</th>\n",
              "      <td>2500.0</td>\n",
              "      <td>1389.0</td>\n",
              "      <td>10.0</td>\n",
              "      <td>0</td>\n",
              "      <td>0</td>\n",
              "      <td>0</td>\n",
              "      <td>1</td>\n",
              "      <td>0.000000</td>\n",
              "      <td>0.636364</td>\n",
              "      <td>0</td>\n",
              "      <td>313</td>\n",
              "      <td>299</td>\n",
              "      <td>0</td>\n",
              "      <td>63</td>\n",
              "    </tr>\n",
              "    <tr>\n",
              "      <th>24810</th>\n",
              "      <td>678.0</td>\n",
              "      <td>678.0</td>\n",
              "      <td>NaN</td>\n",
              "      <td>0</td>\n",
              "      <td>0</td>\n",
              "      <td>0</td>\n",
              "      <td>0</td>\n",
              "      <td>0.000000</td>\n",
              "      <td>0.625000</td>\n",
              "      <td>0</td>\n",
              "      <td>60</td>\n",
              "      <td>130</td>\n",
              "      <td>0</td>\n",
              "      <td>62</td>\n",
              "    </tr>\n",
              "    <tr>\n",
              "      <th>22026</th>\n",
              "      <td>1691.0</td>\n",
              "      <td>798.0</td>\n",
              "      <td>NaN</td>\n",
              "      <td>0</td>\n",
              "      <td>1</td>\n",
              "      <td>0</td>\n",
              "      <td>0</td>\n",
              "      <td>0.000000</td>\n",
              "      <td>0.636364</td>\n",
              "      <td>0</td>\n",
              "      <td>199</td>\n",
              "      <td>162</td>\n",
              "      <td>0</td>\n",
              "      <td>63</td>\n",
              "    </tr>\n",
              "    <tr>\n",
              "      <th>22010</th>\n",
              "      <td>1691.0</td>\n",
              "      <td>798.0</td>\n",
              "      <td>NaN</td>\n",
              "      <td>0</td>\n",
              "      <td>1</td>\n",
              "      <td>0</td>\n",
              "      <td>0</td>\n",
              "      <td>0.000000</td>\n",
              "      <td>0.636364</td>\n",
              "      <td>0</td>\n",
              "      <td>199</td>\n",
              "      <td>162</td>\n",
              "      <td>0</td>\n",
              "      <td>63</td>\n",
              "    </tr>\n",
              "    <tr>\n",
              "      <th>22039</th>\n",
              "      <td>2256.0</td>\n",
              "      <td>471.0</td>\n",
              "      <td>NaN</td>\n",
              "      <td>0</td>\n",
              "      <td>1</td>\n",
              "      <td>0</td>\n",
              "      <td>0</td>\n",
              "      <td>0.000000</td>\n",
              "      <td>0.636364</td>\n",
              "      <td>0</td>\n",
              "      <td>281</td>\n",
              "      <td>75</td>\n",
              "      <td>0</td>\n",
              "      <td>63</td>\n",
              "    </tr>\n",
              "    <tr>\n",
              "      <th>1169</th>\n",
              "      <td>3493.0</td>\n",
              "      <td>1167.0</td>\n",
              "      <td>9.0</td>\n",
              "      <td>0</td>\n",
              "      <td>0</td>\n",
              "      <td>1</td>\n",
              "      <td>0</td>\n",
              "      <td>0.000000</td>\n",
              "      <td>0.500000</td>\n",
              "      <td>0</td>\n",
              "      <td>398</td>\n",
              "      <td>254</td>\n",
              "      <td>0</td>\n",
              "      <td>50</td>\n",
              "    </tr>\n",
              "    <tr>\n",
              "      <th>17991</th>\n",
              "      <td>2997.0</td>\n",
              "      <td>2997.0</td>\n",
              "      <td>NaN</td>\n",
              "      <td>0</td>\n",
              "      <td>0</td>\n",
              "      <td>0</td>\n",
              "      <td>1</td>\n",
              "      <td>0.000000</td>\n",
              "      <td>0.500000</td>\n",
              "      <td>0</td>\n",
              "      <td>361</td>\n",
              "      <td>445</td>\n",
              "      <td>0</td>\n",
              "      <td>50</td>\n",
              "    </tr>\n",
              "    <tr>\n",
              "      <th>19633</th>\n",
              "      <td>1398.0</td>\n",
              "      <td>1152.0</td>\n",
              "      <td>NaN</td>\n",
              "      <td>0</td>\n",
              "      <td>1</td>\n",
              "      <td>0</td>\n",
              "      <td>0</td>\n",
              "      <td>0.000000</td>\n",
              "      <td>0.200000</td>\n",
              "      <td>0</td>\n",
              "      <td>156</td>\n",
              "      <td>251</td>\n",
              "      <td>0</td>\n",
              "      <td>20</td>\n",
              "    </tr>\n",
              "    <tr>\n",
              "      <th>40316</th>\n",
              "      <td>15365.0</td>\n",
              "      <td>15123.0</td>\n",
              "      <td>NaN</td>\n",
              "      <td>0</td>\n",
              "      <td>0</td>\n",
              "      <td>0</td>\n",
              "      <td>0</td>\n",
              "      <td>0.000000</td>\n",
              "      <td>0.740741</td>\n",
              "      <td>0</td>\n",
              "      <td>502</td>\n",
              "      <td>490</td>\n",
              "      <td>0</td>\n",
              "      <td>74</td>\n",
              "    </tr>\n",
              "    <tr>\n",
              "      <th>22588</th>\n",
              "      <td>552.0</td>\n",
              "      <td>552.0</td>\n",
              "      <td>2.0</td>\n",
              "      <td>0</td>\n",
              "      <td>0</td>\n",
              "      <td>0</td>\n",
              "      <td>0</td>\n",
              "      <td>0.000000</td>\n",
              "      <td>0.500000</td>\n",
              "      <td>0</td>\n",
              "      <td>46</td>\n",
              "      <td>96</td>\n",
              "      <td>0</td>\n",
              "      <td>50</td>\n",
              "    </tr>\n",
              "    <tr>\n",
              "      <th>1410</th>\n",
              "      <td>1440.0</td>\n",
              "      <td>1209.0</td>\n",
              "      <td>NaN</td>\n",
              "      <td>0</td>\n",
              "      <td>0</td>\n",
              "      <td>0</td>\n",
              "      <td>1</td>\n",
              "      <td>0.000000</td>\n",
              "      <td>0.500000</td>\n",
              "      <td>0</td>\n",
              "      <td>162</td>\n",
              "      <td>263</td>\n",
              "      <td>0</td>\n",
              "      <td>50</td>\n",
              "    </tr>\n",
              "    <tr>\n",
              "      <th>31703</th>\n",
              "      <td>2174.0</td>\n",
              "      <td>945.0</td>\n",
              "      <td>NaN</td>\n",
              "      <td>0</td>\n",
              "      <td>0</td>\n",
              "      <td>0</td>\n",
              "      <td>0</td>\n",
              "      <td>0.000000</td>\n",
              "      <td>0.600000</td>\n",
              "      <td>0</td>\n",
              "      <td>270</td>\n",
              "      <td>200</td>\n",
              "      <td>0</td>\n",
              "      <td>60</td>\n",
              "    </tr>\n",
              "    <tr>\n",
              "      <th>31702</th>\n",
              "      <td>2575.0</td>\n",
              "      <td>1326.0</td>\n",
              "      <td>NaN</td>\n",
              "      <td>0</td>\n",
              "      <td>0</td>\n",
              "      <td>0</td>\n",
              "      <td>0</td>\n",
              "      <td>0.000000</td>\n",
              "      <td>0.600000</td>\n",
              "      <td>0</td>\n",
              "      <td>321</td>\n",
              "      <td>287</td>\n",
              "      <td>0</td>\n",
              "      <td>60</td>\n",
              "    </tr>\n",
              "    <tr>\n",
              "      <th>8645</th>\n",
              "      <td>2335.0</td>\n",
              "      <td>2244.0</td>\n",
              "      <td>NaN</td>\n",
              "      <td>0</td>\n",
              "      <td>0</td>\n",
              "      <td>0</td>\n",
              "      <td>0</td>\n",
              "      <td>0.000000</td>\n",
              "      <td>0.750000</td>\n",
              "      <td>0</td>\n",
              "      <td>292</td>\n",
              "      <td>405</td>\n",
              "      <td>0</td>\n",
              "      <td>75</td>\n",
              "    </tr>\n",
              "    <tr>\n",
              "      <th>10230</th>\n",
              "      <td>1334.0</td>\n",
              "      <td>732.0</td>\n",
              "      <td>NaN</td>\n",
              "      <td>0</td>\n",
              "      <td>0</td>\n",
              "      <td>0</td>\n",
              "      <td>0</td>\n",
              "      <td>0.000000</td>\n",
              "      <td>1.000000</td>\n",
              "      <td>0</td>\n",
              "      <td>147</td>\n",
              "      <td>145</td>\n",
              "      <td>0</td>\n",
              "      <td>100</td>\n",
              "    </tr>\n",
              "    <tr>\n",
              "      <th>8085</th>\n",
              "      <td>2132.0</td>\n",
              "      <td>1866.0</td>\n",
              "      <td>NaN</td>\n",
              "      <td>0</td>\n",
              "      <td>0</td>\n",
              "      <td>0</td>\n",
              "      <td>0</td>\n",
              "      <td>0.000000</td>\n",
              "      <td>0.333333</td>\n",
              "      <td>0</td>\n",
              "      <td>264</td>\n",
              "      <td>372</td>\n",
              "      <td>0</td>\n",
              "      <td>33</td>\n",
              "    </tr>\n",
              "    <tr>\n",
              "      <th>17328</th>\n",
              "      <td>2749.0</td>\n",
              "      <td>1119.0</td>\n",
              "      <td>NaN</td>\n",
              "      <td>0</td>\n",
              "      <td>1</td>\n",
              "      <td>0</td>\n",
              "      <td>0</td>\n",
              "      <td>0.000000</td>\n",
              "      <td>0.545455</td>\n",
              "      <td>0</td>\n",
              "      <td>339</td>\n",
              "      <td>243</td>\n",
              "      <td>0</td>\n",
              "      <td>54</td>\n",
              "    </tr>\n",
              "    <tr>\n",
              "      <th>33006</th>\n",
              "      <td>4055.0</td>\n",
              "      <td>3663.0</td>\n",
              "      <td>NaN</td>\n",
              "      <td>0</td>\n",
              "      <td>0</td>\n",
              "      <td>0</td>\n",
              "      <td>0</td>\n",
              "      <td>0.000000</td>\n",
              "      <td>0.615385</td>\n",
              "      <td>0</td>\n",
              "      <td>428</td>\n",
              "      <td>463</td>\n",
              "      <td>0</td>\n",
              "      <td>61</td>\n",
              "    </tr>\n",
              "    <tr>\n",
              "      <th>11864</th>\n",
              "      <td>3556.0</td>\n",
              "      <td>3177.0</td>\n",
              "      <td>NaN</td>\n",
              "      <td>0</td>\n",
              "      <td>0</td>\n",
              "      <td>0</td>\n",
              "      <td>0</td>\n",
              "      <td>0.600000</td>\n",
              "      <td>0.000000</td>\n",
              "      <td>1</td>\n",
              "      <td>402</td>\n",
              "      <td>450</td>\n",
              "      <td>60</td>\n",
              "      <td>0</td>\n",
              "    </tr>\n",
              "    <tr>\n",
              "      <th>93</th>\n",
              "      <td>3492.0</td>\n",
              "      <td>786.0</td>\n",
              "      <td>NaN</td>\n",
              "      <td>0</td>\n",
              "      <td>0</td>\n",
              "      <td>0</td>\n",
              "      <td>0</td>\n",
              "      <td>0.333333</td>\n",
              "      <td>0.000000</td>\n",
              "      <td>1</td>\n",
              "      <td>398</td>\n",
              "      <td>159</td>\n",
              "      <td>33</td>\n",
              "      <td>0</td>\n",
              "    </tr>\n",
              "    <tr>\n",
              "      <th>19615</th>\n",
              "      <td>694.0</td>\n",
              "      <td>480.0</td>\n",
              "      <td>NaN</td>\n",
              "      <td>0</td>\n",
              "      <td>0</td>\n",
              "      <td>1</td>\n",
              "      <td>0</td>\n",
              "      <td>0.714286</td>\n",
              "      <td>0.000000</td>\n",
              "      <td>1</td>\n",
              "      <td>61</td>\n",
              "      <td>78</td>\n",
              "      <td>71</td>\n",
              "      <td>0</td>\n",
              "    </tr>\n",
              "    <tr>\n",
              "      <th>8876</th>\n",
              "      <td>1719.0</td>\n",
              "      <td>813.0</td>\n",
              "      <td>NaN</td>\n",
              "      <td>0</td>\n",
              "      <td>0</td>\n",
              "      <td>1</td>\n",
              "      <td>0</td>\n",
              "      <td>0.600000</td>\n",
              "      <td>0.000000</td>\n",
              "      <td>1</td>\n",
              "      <td>204</td>\n",
              "      <td>166</td>\n",
              "      <td>60</td>\n",
              "      <td>0</td>\n",
              "    </tr>\n",
              "    <tr>\n",
              "      <th>7751</th>\n",
              "      <td>392.0</td>\n",
              "      <td>249.0</td>\n",
              "      <td>NaN</td>\n",
              "      <td>0</td>\n",
              "      <td>0</td>\n",
              "      <td>0</td>\n",
              "      <td>0</td>\n",
              "      <td>0.333333</td>\n",
              "      <td>0.000000</td>\n",
              "      <td>1</td>\n",
              "      <td>25</td>\n",
              "      <td>17</td>\n",
              "      <td>33</td>\n",
              "      <td>0</td>\n",
              "    </tr>\n",
              "    <tr>\n",
              "      <th>4197</th>\n",
              "      <td>540.0</td>\n",
              "      <td>459.0</td>\n",
              "      <td>NaN</td>\n",
              "      <td>0</td>\n",
              "      <td>0</td>\n",
              "      <td>1</td>\n",
              "      <td>1</td>\n",
              "      <td>0.800000</td>\n",
              "      <td>0.000000</td>\n",
              "      <td>1</td>\n",
              "      <td>44</td>\n",
              "      <td>71</td>\n",
              "      <td>80</td>\n",
              "      <td>0</td>\n",
              "    </tr>\n",
              "    <tr>\n",
              "      <th>14445</th>\n",
              "      <td>707.0</td>\n",
              "      <td>648.0</td>\n",
              "      <td>NaN</td>\n",
              "      <td>0</td>\n",
              "      <td>1</td>\n",
              "      <td>0</td>\n",
              "      <td>0</td>\n",
              "      <td>0.666667</td>\n",
              "      <td>0.000000</td>\n",
              "      <td>1</td>\n",
              "      <td>63</td>\n",
              "      <td>122</td>\n",
              "      <td>66</td>\n",
              "      <td>0</td>\n",
              "    </tr>\n",
              "    <tr>\n",
              "      <th>16385</th>\n",
              "      <td>2622.0</td>\n",
              "      <td>309.0</td>\n",
              "      <td>NaN</td>\n",
              "      <td>0</td>\n",
              "      <td>0</td>\n",
              "      <td>0</td>\n",
              "      <td>0</td>\n",
              "      <td>0.166667</td>\n",
              "      <td>0.000000</td>\n",
              "      <td>1</td>\n",
              "      <td>326</td>\n",
              "      <td>28</td>\n",
              "      <td>16</td>\n",
              "      <td>0</td>\n",
              "    </tr>\n",
              "    <tr>\n",
              "      <th>2278</th>\n",
              "      <td>2351.0</td>\n",
              "      <td>1647.0</td>\n",
              "      <td>NaN</td>\n",
              "      <td>0</td>\n",
              "      <td>0</td>\n",
              "      <td>0</td>\n",
              "      <td>1</td>\n",
              "      <td>0.555556</td>\n",
              "      <td>0.000000</td>\n",
              "      <td>1</td>\n",
              "      <td>294</td>\n",
              "      <td>344</td>\n",
              "      <td>55</td>\n",
              "      <td>0</td>\n",
              "    </tr>\n",
              "    <tr>\n",
              "      <th>4037</th>\n",
              "      <td>3067.0</td>\n",
              "      <td>1761.0</td>\n",
              "      <td>NaN</td>\n",
              "      <td>0</td>\n",
              "      <td>0</td>\n",
              "      <td>0</td>\n",
              "      <td>1</td>\n",
              "      <td>0.333333</td>\n",
              "      <td>0.000000</td>\n",
              "      <td>1</td>\n",
              "      <td>367</td>\n",
              "      <td>360</td>\n",
              "      <td>33</td>\n",
              "      <td>0</td>\n",
              "    </tr>\n",
              "  </tbody>\n",
              "</table>\n",
              "<p>77 rows × 14 columns</p>\n",
              "</div>"
            ],
            "text/plain": [
              "       cDNA_length  cds_length  exons_nr  5_MAR_presence  3_MAR_presence  \\\n",
              "9977        1878.0      1248.0       NaN               0               0   \n",
              "22035       2327.0      1587.0       NaN               0               1   \n",
              "31699       1239.0      1239.0       NaN               0               0   \n",
              "30881       1618.0       678.0       6.0               0               0   \n",
              "19125       1167.0       855.0      10.0               0               0   \n",
              "15237        913.0       810.0       NaN               0               0   \n",
              "12901       4254.0      2523.0      17.0               0               0   \n",
              "22011       2327.0      1587.0       NaN               0               1   \n",
              "2038        3690.0      1800.0       NaN               0               0   \n",
              "21706       3360.0      2022.0      17.0               0               0   \n",
              "12891       5428.0      3000.0      16.0               1               0   \n",
              "21991       2256.0       471.0       NaN               0               1   \n",
              "43263        759.0       759.0       NaN               0               0   \n",
              "12627       1271.0      1128.0       NaN               0               0   \n",
              "27602        655.0       510.0       NaN               0               0   \n",
              "40406       3534.0      2985.0      23.0               0               0   \n",
              "12858       1237.0       714.0       NaN               0               0   \n",
              "16814        614.0       393.0       4.0               0               0   \n",
              "22034       1691.0       798.0       NaN               0               1   \n",
              "31468       2458.0      2064.0       NaN               0               0   \n",
              "22007       2256.0       471.0       NaN               0               1   \n",
              "4648        1374.0      1266.0       NaN               0               0   \n",
              "21604       2246.0      2163.0      16.0               0               0   \n",
              "8006        1951.0      1578.0       NaN               1               0   \n",
              "10054        595.0       354.0       NaN               0               0   \n",
              "21989       2357.0      1602.0       NaN               0               1   \n",
              "25513       2262.0       939.0       NaN               1               0   \n",
              "22038       2349.0      1605.0       NaN               0               1   \n",
              "3325        2274.0      1977.0       NaN               0               0   \n",
              "19300       1980.0      1782.0      14.0               0               0   \n",
              "...            ...         ...       ...             ...             ...   \n",
              "7004        2286.0       834.0       NaN               0               1   \n",
              "1557        3260.0      2793.0       NaN               0               0   \n",
              "31337       2500.0      1389.0      10.0               0               0   \n",
              "24810        678.0       678.0       NaN               0               0   \n",
              "22026       1691.0       798.0       NaN               0               1   \n",
              "22010       1691.0       798.0       NaN               0               1   \n",
              "22039       2256.0       471.0       NaN               0               1   \n",
              "1169        3493.0      1167.0       9.0               0               0   \n",
              "17991       2997.0      2997.0       NaN               0               0   \n",
              "19633       1398.0      1152.0       NaN               0               1   \n",
              "40316      15365.0     15123.0       NaN               0               0   \n",
              "22588        552.0       552.0       2.0               0               0   \n",
              "1410        1440.0      1209.0       NaN               0               0   \n",
              "31703       2174.0       945.0       NaN               0               0   \n",
              "31702       2575.0      1326.0       NaN               0               0   \n",
              "8645        2335.0      2244.0       NaN               0               0   \n",
              "10230       1334.0       732.0       NaN               0               0   \n",
              "8085        2132.0      1866.0       NaN               0               0   \n",
              "17328       2749.0      1119.0       NaN               0               1   \n",
              "33006       4055.0      3663.0       NaN               0               0   \n",
              "11864       3556.0      3177.0       NaN               0               0   \n",
              "93          3492.0       786.0       NaN               0               0   \n",
              "19615        694.0       480.0       NaN               0               0   \n",
              "8876        1719.0       813.0       NaN               0               0   \n",
              "7751         392.0       249.0       NaN               0               0   \n",
              "4197         540.0       459.0       NaN               0               0   \n",
              "14445        707.0       648.0       NaN               0               1   \n",
              "16385       2622.0       309.0       NaN               0               0   \n",
              "2278        2351.0      1647.0       NaN               0               0   \n",
              "4037        3067.0      1761.0       NaN               0               0   \n",
              "\n",
              "       5_polyA_18_presence  5_CCGNN_2_5_presence  perc_go_hk_match  \\\n",
              "9977                     0                     0          0.000000   \n",
              "22035                    0                     0          0.000000   \n",
              "31699                    0                     0          0.000000   \n",
              "30881                    0                     1          0.000000   \n",
              "19125                    0                     1          0.000000   \n",
              "15237                    0                     0          0.000000   \n",
              "12901                    0                     0          0.000000   \n",
              "22011                    0                     0          0.000000   \n",
              "2038                     0                     1          0.000000   \n",
              "21706                    0                     0          0.000000   \n",
              "12891                    0                     0          0.000000   \n",
              "21991                    0                     0          0.000000   \n",
              "43263                    0                     0          0.000000   \n",
              "12627                    0                     0          0.000000   \n",
              "27602                    0                     0          0.000000   \n",
              "40406                    0                     0          0.000000   \n",
              "12858                    0                     1          0.000000   \n",
              "16814                    1                     0          0.000000   \n",
              "22034                    0                     0          0.000000   \n",
              "31468                    0                     0          0.000000   \n",
              "22007                    0                     0          0.000000   \n",
              "4648                     0                     0          0.000000   \n",
              "21604                    0                     0          0.000000   \n",
              "8006                     0                     0          0.000000   \n",
              "10054                    0                     0          0.000000   \n",
              "21989                    0                     0          0.000000   \n",
              "25513                    0                     0          0.000000   \n",
              "22038                    0                     0          0.000000   \n",
              "3325                     0                     0          0.000000   \n",
              "19300                    0                     1          0.000000   \n",
              "...                    ...                   ...               ...   \n",
              "7004                     0                     0          0.000000   \n",
              "1557                     0                     0          0.000000   \n",
              "31337                    0                     1          0.000000   \n",
              "24810                    0                     0          0.000000   \n",
              "22026                    0                     0          0.000000   \n",
              "22010                    0                     0          0.000000   \n",
              "22039                    0                     0          0.000000   \n",
              "1169                     1                     0          0.000000   \n",
              "17991                    0                     1          0.000000   \n",
              "19633                    0                     0          0.000000   \n",
              "40316                    0                     0          0.000000   \n",
              "22588                    0                     0          0.000000   \n",
              "1410                     0                     1          0.000000   \n",
              "31703                    0                     0          0.000000   \n",
              "31702                    0                     0          0.000000   \n",
              "8645                     0                     0          0.000000   \n",
              "10230                    0                     0          0.000000   \n",
              "8085                     0                     0          0.000000   \n",
              "17328                    0                     0          0.000000   \n",
              "33006                    0                     0          0.000000   \n",
              "11864                    0                     0          0.600000   \n",
              "93                       0                     0          0.333333   \n",
              "19615                    1                     0          0.714286   \n",
              "8876                     1                     0          0.600000   \n",
              "7751                     0                     0          0.333333   \n",
              "4197                     1                     1          0.800000   \n",
              "14445                    0                     0          0.666667   \n",
              "16385                    0                     0          0.166667   \n",
              "2278                     0                     1          0.555556   \n",
              "4037                     0                     1          0.333333   \n",
              "\n",
              "       perc_go_ts_match is_hk  cDNA_length_bin  cds_length_bin  \\\n",
              "9977           0.333333     0              226             271   \n",
              "22035          0.636364     0              290             335   \n",
              "31699          0.600000     0              135             269   \n",
              "30881          0.461539     0              188             130   \n",
              "19125          0.250000     0              126             175   \n",
              "15237          0.800000     0               90             165   \n",
              "12901          0.222222     0              437             423   \n",
              "22011          0.636364     0              290             335   \n",
              "2038           0.666667     0              411             365   \n",
              "21706          0.333333     0              389             387   \n",
              "12891          0.125000     0              471             445   \n",
              "21991          0.636364     0              281              75   \n",
              "43263          0.750000     0               69             152   \n",
              "12627          0.900000     0              138             246   \n",
              "27602          0.666667     0               57              86   \n",
              "40406          0.428571     0              401             444   \n",
              "12858          0.000000     0              134             140   \n",
              "16814          1.000000     0               53              52   \n",
              "22034          0.636364     0              199             162   \n",
              "31468          0.428571     0              308             390   \n",
              "22007          0.636364     0              281              75   \n",
              "4648           0.833333     0              152             275   \n",
              "21604          0.875000     0              279             399   \n",
              "8006           0.666667     0              237             333   \n",
              "10054          0.500000     0               50              39   \n",
              "21989          0.636364     0              295             338   \n",
              "25513          0.500000     0              281             198   \n",
              "22038          0.636364     0              294             338   \n",
              "3325           0.833333     0              283             383   \n",
              "19300          0.272727     0              241             362   \n",
              "...                 ...   ...              ...             ...   \n",
              "7004           0.400000     0              285             171   \n",
              "1557           0.750000     0              383             436   \n",
              "31337          0.636364     0              313             299   \n",
              "24810          0.625000     0               60             130   \n",
              "22026          0.636364     0              199             162   \n",
              "22010          0.636364     0              199             162   \n",
              "22039          0.636364     0              281              75   \n",
              "1169           0.500000     0              398             254   \n",
              "17991          0.500000     0              361             445   \n",
              "19633          0.200000     0              156             251   \n",
              "40316          0.740741     0              502             490   \n",
              "22588          0.500000     0               46              96   \n",
              "1410           0.500000     0              162             263   \n",
              "31703          0.600000     0              270             200   \n",
              "31702          0.600000     0              321             287   \n",
              "8645           0.750000     0              292             405   \n",
              "10230          1.000000     0              147             145   \n",
              "8085           0.333333     0              264             372   \n",
              "17328          0.545455     0              339             243   \n",
              "33006          0.615385     0              428             463   \n",
              "11864          0.000000     1              402             450   \n",
              "93             0.000000     1              398             159   \n",
              "19615          0.000000     1               61              78   \n",
              "8876           0.000000     1              204             166   \n",
              "7751           0.000000     1               25              17   \n",
              "4197           0.000000     1               44              71   \n",
              "14445          0.000000     1               63             122   \n",
              "16385          0.000000     1              326              28   \n",
              "2278           0.000000     1              294             344   \n",
              "4037           0.000000     1              367             360   \n",
              "\n",
              "       perc_go_hk_match_bin  perc_go_ts_match_bin  \n",
              "9977                      0                    33  \n",
              "22035                     0                    63  \n",
              "31699                     0                    60  \n",
              "30881                     0                    46  \n",
              "19125                     0                    25  \n",
              "15237                     0                    80  \n",
              "12901                     0                    22  \n",
              "22011                     0                    63  \n",
              "2038                      0                    66  \n",
              "21706                     0                    33  \n",
              "12891                     0                    12  \n",
              "21991                     0                    63  \n",
              "43263                     0                    75  \n",
              "12627                     0                    90  \n",
              "27602                     0                    66  \n",
              "40406                     0                    42  \n",
              "12858                     0                     0  \n",
              "16814                     0                   100  \n",
              "22034                     0                    63  \n",
              "31468                     0                    42  \n",
              "22007                     0                    63  \n",
              "4648                      0                    83  \n",
              "21604                     0                    87  \n",
              "8006                      0                    66  \n",
              "10054                     0                    50  \n",
              "21989                     0                    63  \n",
              "25513                     0                    50  \n",
              "22038                     0                    63  \n",
              "3325                      0                    83  \n",
              "19300                     0                    27  \n",
              "...                     ...                   ...  \n",
              "7004                      0                    40  \n",
              "1557                      0                    75  \n",
              "31337                     0                    63  \n",
              "24810                     0                    62  \n",
              "22026                     0                    63  \n",
              "22010                     0                    63  \n",
              "22039                     0                    63  \n",
              "1169                      0                    50  \n",
              "17991                     0                    50  \n",
              "19633                     0                    20  \n",
              "40316                     0                    74  \n",
              "22588                     0                    50  \n",
              "1410                      0                    50  \n",
              "31703                     0                    60  \n",
              "31702                     0                    60  \n",
              "8645                      0                    75  \n",
              "10230                     0                   100  \n",
              "8085                      0                    33  \n",
              "17328                     0                    54  \n",
              "33006                     0                    61  \n",
              "11864                    60                     0  \n",
              "93                       33                     0  \n",
              "19615                    71                     0  \n",
              "8876                     60                     0  \n",
              "7751                     33                     0  \n",
              "4197                     80                     0  \n",
              "14445                    66                     0  \n",
              "16385                    16                     0  \n",
              "2278                     55                     0  \n",
              "4037                     33                     0  \n",
              "\n",
              "[77 rows x 14 columns]"
            ]
          },
          "metadata": {
            "tags": []
          },
          "execution_count": 31
        }
      ]
    },
    {
      "metadata": {
        "id": "GW9kokN9QfTO",
        "colab_type": "code",
        "colab": {}
      },
      "cell_type": "code",
      "source": [
        "cols = ['cDNA_length_bin','cds_length_bin','exons_nr','5_MAR_presence',\n",
        "        '3_MAR_presence','5_polyA_18_presence','5_CCGNN_2_5_presence','perc_go_hk_match_bin',\n",
        "        'perc_go_ts_match_bin']\n",
        "#test_set.values\n",
        "#(test_set['is_hk'] == 1).count()\n",
        "# test_np = test_set.values\n",
        "test_x = test_set[cols].values\n",
        "test_y = test_set['is_hk'].values\n",
        "prior_0 = 0.865801\n",
        "prior_1 = 0.134199"
      ],
      "execution_count": 0,
      "outputs": []
    },
    {
      "metadata": {
        "id": "w_yhzZsxQfTR",
        "colab_type": "code",
        "colab": {}
      },
      "cell_type": "code",
      "source": [
        "# test_y.shape\n",
        "likelihood_name = ['cDNA_length','cds_length','exons_nr','5_MAR_presence',\n",
        "                   '3_MAR_presence','5_polyA_18_presence','5_CCGNN_2_5_presence','perc_go_hk_match',\n",
        "                   'perc_go_ts_match']"
      ],
      "execution_count": 0,
      "outputs": []
    },
    {
      "metadata": {
        "id": "X267-hphQfTU",
        "colab_type": "code",
        "colab": {}
      },
      "cell_type": "code",
      "source": [
        "def predict(x, lname, threshold=0):\n",
        "  # print(x)\n",
        "  sc = np.log(prior_1) - np.log(prior_0)\n",
        "  for i,feat in enumerate(x):\n",
        "    if not np.isnan(feat):\n",
        "      feat = int(feat)\n",
        "      sc += np.log(likelihood[lname[i]+'_1'][feat]) - np.log(likelihood[lname[i]+'_0'][feat])\n",
        "  # print(sc)\n",
        "  return int(sc > threshold), sc"
      ],
      "execution_count": 0,
      "outputs": []
    },
    {
      "metadata": {
        "id": "lK1iF328QfTW",
        "colab_type": "code",
        "colab": {
          "base_uri": "https://localhost:8080/",
          "height": 119
        },
        "outputId": "8c73d31f-b684-48d3-df2c-62d88fd0e51a"
      },
      "cell_type": "code",
      "source": [
        "pred = np.zeros(test_y.shape)\n",
        "score = np.zeros(test_y.shape)\n",
        "for i, x in enumerate(test_x):\n",
        "  pred[i], score[i] = predict(x,likelihood_name)\n",
        "  # print(pred[i], test_y[i])\n",
        "\n",
        "def cal_accuracy(pred, test, verbose=False):\n",
        "  acc = np.mean(pred == test)\n",
        "  \n",
        "  tp = np.sum((pred == test) & (test == 1.0))\n",
        "  tn = np.sum((pred == test) & (test == 0.0))\n",
        "  fp = np.sum((pred != test) & (pred == 1.0))\n",
        "  fn = np.sum((pred != test) & (pred == 0.0))\n",
        "\n",
        "  precision = 1. * tp / (tp + fp)\n",
        "  recall = 1. * tp / (tp + fn)\n",
        "  fscore = 2. * precision * recall / (precision + recall)\n",
        "  if verbose:\n",
        "    print(tp,tn,fp,fn)\n",
        "    print('Accuracy: ', acc)\n",
        "    print('Precision: ', precision )\n",
        "    print('Recall: ', recall )\n",
        "    print('F-score: ', fscore)\n",
        "\n",
        "  return acc, fscore, recall, 1. * fp / (fp + tn)\n",
        "\n",
        "cal_accuracy(pred, test_y,True)"
      ],
      "execution_count": 35,
      "outputs": [
        {
          "output_type": "stream",
          "text": [
            "8 55 12 2\n",
            "Accuracy:  0.8181818181818182\n",
            "Precision:  0.4\n",
            "Recall:  0.8\n",
            "F-score:  0.5333333333333333\n"
          ],
          "name": "stdout"
        },
        {
          "output_type": "execute_result",
          "data": {
            "text/plain": [
              "(0.8181818181818182, 0.5333333333333333, 0.8, 0.1791044776119403)"
            ]
          },
          "metadata": {
            "tags": []
          },
          "execution_count": 35
        }
      ]
    },
    {
      "metadata": {
        "id": "8ieMAX_7QfTZ",
        "colab_type": "code",
        "colab": {
          "base_uri": "https://localhost:8080/",
          "height": 119
        },
        "outputId": "f41654b3-80c5-4ab8-b9e5-7cdb47dac1d4"
      },
      "cell_type": "code",
      "source": [
        "random_pred = np.random.randint(2, size=len(pred))\n",
        "cal_accuracy(random_pred, test_y, True)"
      ],
      "execution_count": 36,
      "outputs": [
        {
          "output_type": "stream",
          "text": [
            "7 36 31 3\n",
            "Accuracy:  0.5584415584415584\n",
            "Precision:  0.18421052631578946\n",
            "Recall:  0.7\n",
            "F-score:  0.29166666666666663\n"
          ],
          "name": "stdout"
        },
        {
          "output_type": "execute_result",
          "data": {
            "text/plain": [
              "(0.5584415584415584, 0.29166666666666663, 0.7, 0.4626865671641791)"
            ]
          },
          "metadata": {
            "tags": []
          },
          "execution_count": 36
        }
      ]
    },
    {
      "metadata": {
        "id": "PoEcMVkhQfTc",
        "colab_type": "code",
        "colab": {
          "base_uri": "https://localhost:8080/",
          "height": 153
        },
        "outputId": "48e2201d-499f-41be-97fd-aa0aca28edc8"
      },
      "cell_type": "code",
      "source": [
        "zero_pred = np.zeros(len(pred))\n",
        "cal_accuracy(zero_pred, test_y, True)"
      ],
      "execution_count": 37,
      "outputs": [
        {
          "output_type": "stream",
          "text": [
            "0 67 0 10\n",
            "Accuracy:  0.8701298701298701\n",
            "Precision:  nan\n",
            "Recall:  0.0\n",
            "F-score:  nan\n"
          ],
          "name": "stdout"
        },
        {
          "output_type": "stream",
          "text": [
            "/usr/local/lib/python3.6/dist-packages/ipykernel_launcher.py:15: RuntimeWarning: invalid value encountered in double_scalars\n",
            "  from ipykernel import kernelapp as app\n"
          ],
          "name": "stderr"
        },
        {
          "output_type": "execute_result",
          "data": {
            "text/plain": [
              "(0.8701298701298701, nan, 0.0, 0.0)"
            ]
          },
          "metadata": {
            "tags": []
          },
          "execution_count": 37
        }
      ]
    },
    {
      "metadata": {
        "scrolled": true,
        "id": "lxnDs0hpQfTj",
        "colab_type": "code",
        "colab": {
          "base_uri": "https://localhost:8080/",
          "height": 3762
        },
        "outputId": "deacc8b4-6b2c-472e-aa83-fcfee6c3bf81"
      },
      "cell_type": "code",
      "source": [
        "t = np.arange(-5,5,0.05)\n",
        "accuracy_sweep = np.zeros_like(t)\n",
        "fscore_sweep = np.zeros_like(t)\n",
        "true_positive_rate = np.zeros_like(t)\n",
        "false_positive_rate = np.zeros_like(t)\n",
        "\n",
        "for idx, threshold in enumerate(t):\n",
        "  pred_tmp = (score > threshold).astype(int)\n",
        "  accuracy_sweep[idx], fscore_sweep[idx], \\\n",
        "    true_positive_rate[idx], false_positive_rate[idx] = cal_accuracy(pred_tmp, test_y)\n",
        "  if np.isnan(fscore_sweep[idx]):\n",
        "    fscore_sweep[idx] = 0\n",
        "  print(fscore_sweep[idx])\n",
        "\n",
        "plt.title('Threshold Sweep')\n",
        "plt.plot(t,accuracy_sweep, label='accuracy')\n",
        "plt.plot(t,fscore_sweep, label='fscore')\n",
        "plt.legend()\n",
        "plt.show()"
      ],
      "execution_count": 38,
      "outputs": [
        {
          "output_type": "stream",
          "text": [
            "0.372093023255814\n",
            "0.4\n",
            "0.4\n",
            "0.4\n",
            "0.4102564102564103\n",
            "0.4102564102564103\n",
            "0.4102564102564103\n",
            "0.4102564102564103\n",
            "0.4102564102564103\n",
            "0.4102564102564103\n",
            "0.4102564102564103\n",
            "0.4102564102564103\n",
            "0.4102564102564103\n",
            "0.4102564102564103\n",
            "0.4102564102564103\n",
            "0.43243243243243246\n",
            "0.43243243243243246\n",
            "0.43243243243243246\n",
            "0.4444444444444444\n",
            "0.4444444444444444\n",
            "0.4444444444444444\n",
            "0.4444444444444444\n",
            "0.45714285714285713\n",
            "0.48484848484848486\n",
            "0.48484848484848486\n",
            "0.48484848484848486\n",
            "0.48484848484848486\n",
            "0.48484848484848486\n",
            "0.48484848484848486\n",
            "0.48484848484848486\n",
            "0.48484848484848486\n",
            "0.5000000000000001\n",
            "0.5000000000000001\n",
            "0.5000000000000001\n",
            "0.5000000000000001\n",
            "0.5000000000000001\n",
            "0.5000000000000001\n",
            "0.5000000000000001\n",
            "0.5000000000000001\n",
            "0.5000000000000001\n",
            "0.5000000000000001\n",
            "0.5000000000000001\n",
            "0.5000000000000001\n",
            "0.5000000000000001\n",
            "0.5000000000000001\n",
            "0.5161290322580645\n",
            "0.5161290322580645\n",
            "0.5161290322580645\n",
            "0.5161290322580645\n",
            "0.5161290322580645\n",
            "0.5333333333333333\n",
            "0.5333333333333333\n",
            "0.5333333333333333\n",
            "0.5333333333333333\n",
            "0.5333333333333333\n",
            "0.5333333333333333\n",
            "0.5333333333333333\n",
            "0.5333333333333333\n",
            "0.5333333333333333\n",
            "0.5333333333333333\n",
            "0.5333333333333333\n",
            "0.5333333333333333\n",
            "0.5333333333333333\n",
            "0.5333333333333333\n",
            "0.5333333333333333\n",
            "0.5333333333333333\n",
            "0.5333333333333333\n",
            "0.5333333333333333\n",
            "0.5333333333333333\n",
            "0.5333333333333333\n",
            "0.5333333333333333\n",
            "0.5333333333333333\n",
            "0.5333333333333333\n",
            "0.5333333333333333\n",
            "0.5333333333333333\n",
            "0.5333333333333333\n",
            "0.5333333333333333\n",
            "0.5333333333333333\n",
            "0.5333333333333333\n",
            "0.5333333333333333\n",
            "0.5333333333333333\n",
            "0.5333333333333333\n",
            "0.5333333333333333\n",
            "0.5333333333333333\n",
            "0.5333333333333333\n",
            "0.5333333333333333\n",
            "0.5333333333333333\n",
            "0.5333333333333333\n",
            "0.5333333333333333\n",
            "0.5333333333333333\n",
            "0.5333333333333333\n",
            "0.5333333333333333\n",
            "0.5333333333333333\n",
            "0.5333333333333333\n",
            "0.5333333333333333\n",
            "0.5333333333333333\n",
            "0.5333333333333333\n",
            "0.5333333333333333\n",
            "0.5333333333333333\n",
            "0.5333333333333333\n",
            "0.5333333333333333\n",
            "0.5333333333333333\n",
            "0.5333333333333333\n",
            "0.5333333333333333\n",
            "0.5333333333333333\n",
            "0.5333333333333333\n",
            "0.5333333333333333\n",
            "0.5333333333333333\n",
            "0.5333333333333333\n",
            "0.5333333333333333\n",
            "0.5333333333333333\n",
            "0.5333333333333333\n",
            "0.5333333333333333\n",
            "0.5333333333333333\n",
            "0.5333333333333333\n",
            "0.5333333333333333\n",
            "0.5333333333333333\n",
            "0.5333333333333333\n",
            "0.5333333333333333\n",
            "0.5333333333333333\n",
            "0.5333333333333333\n",
            "0.5333333333333333\n",
            "0.5333333333333333\n",
            "0.5333333333333333\n",
            "0.5333333333333333\n",
            "0.5333333333333333\n",
            "0.5333333333333333\n",
            "0.5333333333333333\n",
            "0.5333333333333333\n",
            "0.5333333333333333\n",
            "0.5517241379310345\n",
            "0.5714285714285714\n",
            "0.5714285714285714\n",
            "0.5714285714285714\n",
            "0.5714285714285714\n",
            "0.5714285714285714\n",
            "0.5714285714285714\n",
            "0.5714285714285714\n",
            "0.5714285714285714\n",
            "0.5925925925925927\n",
            "0.5925925925925927\n",
            "0.5384615384615384\n",
            "0.5384615384615384\n",
            "0.5384615384615384\n",
            "0.5384615384615384\n",
            "0.56\n",
            "0.56\n",
            "0.5833333333333334\n",
            "0.5833333333333334\n",
            "0.5833333333333334\n",
            "0.5833333333333334\n",
            "0.5833333333333334\n",
            "0.5833333333333334\n",
            "0.5833333333333334\n",
            "0.5833333333333334\n",
            "0.5833333333333334\n",
            "0.5833333333333334\n",
            "0.5833333333333334\n",
            "0.5833333333333334\n",
            "0.5833333333333334\n",
            "0.608695652173913\n",
            "0.608695652173913\n",
            "0.608695652173913\n",
            "0.608695652173913\n",
            "0.608695652173913\n",
            "0.608695652173913\n",
            "0.608695652173913\n",
            "0.6363636363636365\n",
            "0.6363636363636365\n",
            "0.6363636363636365\n",
            "0.33333333333333326\n",
            "0.33333333333333326\n",
            "0.33333333333333326\n",
            "0.33333333333333326\n",
            "0.33333333333333326\n",
            "0.33333333333333326\n",
            "0.33333333333333326\n",
            "0.23529411764705882\n",
            "0.23529411764705882\n",
            "0.23529411764705882\n",
            "0.23529411764705882\n",
            "0.23529411764705882\n",
            "0.23529411764705882\n",
            "0.25\n",
            "0.25\n",
            "0.25\n",
            "0.13333333333333333\n",
            "0.13333333333333333\n",
            "0.13333333333333333\n",
            "0.13333333333333333\n",
            "0.13333333333333333\n",
            "0.13333333333333333\n",
            "0.13333333333333333\n",
            "0.13333333333333333\n",
            "0.13333333333333333\n",
            "0.13333333333333333\n",
            "0.13333333333333333\n",
            "0.13333333333333333\n",
            "0.13333333333333333\n",
            "0.13333333333333333\n"
          ],
          "name": "stdout"
        },
        {
          "output_type": "display_data",
          "data": {
            "image/png": "[encoded data removed]",
            "text/plain": [
              "<Figure size 576x396 with 1 Axes>"
            ]
          },
          "metadata": {
            "tags": []
          }
        }
      ]
    },
    {
      "metadata": {
        "id": "nUpPpjSFQfTq",
        "colab_type": "code",
        "colab": {
          "base_uri": "https://localhost:8080/",
          "height": 51
        },
        "outputId": "f8165cfe-06e1-4839-c2f3-5865c885ee5f"
      },
      "cell_type": "code",
      "source": [
        "#print(np.argmax(accuracy_sweep))\n",
        "print(t[np.argmax(fscore_sweep)])\n",
        "print(t[np.argmax(accuracy_sweep)])"
      ],
      "execution_count": 39,
      "outputs": [
        {
          "output_type": "stream",
          "text": [
            "3.3499999999999694\n",
            "3.3499999999999694\n"
          ],
          "name": "stdout"
        }
      ]
    },
    {
      "metadata": {
        "id": "HLtKECRhQfTu",
        "colab_type": "code",
        "colab": {
          "base_uri": "https://localhost:8080/",
          "height": 413
        },
        "outputId": "e103e3d7-48d7-45d8-80d5-aae4d14179f5"
      },
      "cell_type": "code",
      "source": [
        "t = np.arange(-100,100,0.05)\n",
        "accuracy_sweep = np.zeros_like(t)\n",
        "fscore_sweep = np.zeros_like(t)\n",
        "true_positive_rate = np.zeros_like(t)\n",
        "false_positive_rate = np.zeros_like(t)\n",
        "\n",
        "for idx, threshold in enumerate(t):\n",
        "  pred_tmp = (score > threshold).astype(int)\n",
        "  accuracy_sweep[idx], fscore_sweep[idx], \\\n",
        "    true_positive_rate[idx], false_positive_rate[idx] = cal_accuracy(pred_tmp, test_y)\n",
        "  #if np.isnan(fscore_sweep[idx]):\n",
        "  #  fscore_sweep[idx] = 0\n",
        "  #print(fscore_sweep[idx])\n",
        "\n",
        "#plt.title('Threshold Sweep')\n",
        "#plt.plot(t,true_positive_rate, label='true_positive_rate')\n",
        "#plt.plot(t,false_positive_rate, label='false_positive_rate')\n",
        "#plt.legend()\n",
        "#plt.show()\n",
        "\n",
        "plt.title('RoC Curve')\n",
        "plt.plot(false_positive_rate,true_positive_rate)\n",
        "plt.axis([0, 1, 0, 1])\n",
        "plt.show()"
      ],
      "execution_count": 40,
      "outputs": [
        {
          "output_type": "stream",
          "text": [
            "/usr/local/lib/python3.6/dist-packages/ipykernel_launcher.py:17: RuntimeWarning: invalid value encountered in double_scalars\n",
            "/usr/local/lib/python3.6/dist-packages/ipykernel_launcher.py:15: RuntimeWarning: invalid value encountered in double_scalars\n",
            "  from ipykernel import kernelapp as app\n"
          ],
          "name": "stderr"
        },
        {
          "output_type": "display_data",
          "data": {
            "image/png": "[encoded data removed]",
            "text/plain": [
              "<Figure size 576x396 with 1 Axes>"
            ]
          },
          "metadata": {
            "tags": []
          }
        }
      ]
    },
    {
      "metadata": {
        "id": "EkNlelhmQfT0",
        "colab_type": "code",
        "colab": {}
      },
      "cell_type": "code",
      "source": [
        "unsup_train_set['cDNA_length_bin'] = np.digitize(unsup_train_set['cDNA_length'], bin_edge_clength)\n",
        "unsup_train_set['cds_length_bin'] = np.digitize(unsup_train_set['cds_length'], bin_edge_cds)\n",
        "\n",
        "unsup_train_set['perc_go_hk_match_bin'] = (unsup_train_set['perc_go_hk_match']*100)\n",
        "unsup_train_set['perc_go_ts_match_bin'] = (unsup_train_set['perc_go_ts_match']*100)\n",
        "pred_index = unsup_train_set.index\n",
        "unsup_x = unsup_train_set[cols].values"
      ],
      "execution_count": 0,
      "outputs": []
    },
    {
      "metadata": {
        "id": "cEJKp2SZQfT3",
        "colab_type": "code",
        "colab": {
          "base_uri": "https://localhost:8080/",
          "height": 34
        },
        "outputId": "aee6e5c3-f443-4a3b-f96e-6ca941909587"
      },
      "cell_type": "code",
      "source": [
        "pred_unsup = np.zeros(pred_index.shape)\n",
        "for i, x in enumerate(unsup_x):\n",
        "  pred_unsup[i],_ = predict(x,likelihood_name,3.35)\n",
        "  # print(pred_index[i], int(pred_unsup[i]))\n",
        "pred_unsup = pred_unsup.astype(int)\n",
        "np.sum(pred_unsup)"
      ],
      "execution_count": 42,
      "outputs": [
        {
          "output_type": "execute_result",
          "data": {
            "text/plain": [
              "4074"
            ]
          },
          "metadata": {
            "tags": []
          },
          "execution_count": 42
        }
      ]
    },
    {
      "metadata": {
        "id": "h7Pkz8b-QfT7",
        "colab_type": "code",
        "colab": {}
      },
      "cell_type": "code",
      "source": [
        "with open('out.csv', 'w') as csvfile:\n",
        "  outwriter = csv.writer(csvfile, delimiter=',')\n",
        "  outwriter.writerow(['ID','is_hk'])\n",
        "  for (idx,y) in zip(pred_index, pred_unsup):\n",
        "    #print(idx, y)  \n",
        "    outwriter.writerow([idx,y])"
      ],
      "execution_count": 0,
      "outputs": []
    },
    {
      "metadata": {
        "id": "MJZfhKylctPD",
        "colab_type": "text"
      },
      "cell_type": "markdown",
      "source": [
        ""
      ]
    },
    {
      "metadata": {
        "id": "jIIvCBhFQfT_",
        "colab_type": "code",
        "colab": {
          "base_uri": "https://localhost:8080/",
          "height": 51
        },
        "outputId": "0475af6a-c862-4f00-cc7d-923dc4a53301"
      },
      "cell_type": "code",
      "source": [
        "\n"
      ],
      "execution_count": 48,
      "outputs": [
        {
          "output_type": "execute_result",
          "data": {
            "text/plain": [
              "array([[ 1,  2,  3,  4],\n",
              "       [ 9, 10, 11, 12]])"
            ]
          },
          "metadata": {
            "tags": []
          },
          "execution_count": 48
        }
      ]
    }
  ]
}