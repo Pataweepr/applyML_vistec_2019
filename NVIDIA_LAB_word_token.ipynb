{
  "nbformat": 4,
  "nbformat_minor": 0,
  "metadata": {
    "colab": {
      "name": "NVIDIA_LAB_word_token.ipynb",
      "version": "0.3.2",
      "provenance": [],
      "toc_visible": true,
      "include_colab_link": true
    },
    "kernelspec": {
      "name": "python3",
      "display_name": "Python 3"
    },
    "accelerator": "GPU"
  },
  "cells": [
    {
      "cell_type": "markdown",
      "metadata": {
        "id": "view-in-github",
        "colab_type": "text"
      },
      "source": [
        "<a href=\"https://colab.research.google.com/github/Pataweepr/applyML_vistec_2019/blob/master/NVIDIA_LAB_word_token.ipynb\" target=\"_parent\"><img src=\"https://colab.research.google.com/assets/colab-badge.svg\" alt=\"Open In Colab\"/></a>"
      ]
    },
    {
      "cell_type": "code",
      "metadata": {
        "id": "hctJ61HmCjJY",
        "colab_type": "code",
        "outputId": "96058357-d234-4771-ac5d-47d05b99bbb0",
        "colab": {
          "base_uri": "https://localhost:8080/",
          "height": 34
        }
      },
      "source": [
        "%tensorflow_version 2.0.0a0"
      ],
      "execution_count": 0,
      "outputs": [
        {
          "output_type": "stream",
          "text": [
            "TensorFlow 2.0.0a0 selected.\n"
          ],
          "name": "stdout"
        }
      ]
    },
    {
      "cell_type": "code",
      "metadata": {
        "id": "GB076rQ_C5Bh",
        "colab_type": "code",
        "outputId": "f718ad32-61f3-4e42-9f55-9639357fe50d",
        "colab": {
          "base_uri": "https://localhost:8080/",
          "height": 34
        }
      },
      "source": [
        "import tensorflow as tf\n",
        "tf.__version__"
      ],
      "execution_count": 0,
      "outputs": [
        {
          "output_type": "execute_result",
          "data": {
            "text/plain": [
              "'2.0.0-alpha0'"
            ]
          },
          "metadata": {
            "tags": []
          },
          "execution_count": 3
        }
      ]
    },
    {
      "cell_type": "markdown",
      "metadata": {
        "id": "sKBssDgiECzJ",
        "colab_type": "text"
      },
      "source": [
        "## Setting up to use the gpu  \n",
        "\n",
        "Before we start, we need to change the environment of Colab to use GPU. Do so by:\n",
        "\n",
        "Runtime -> Change runtime type -> Hardware accelerator -> GPU"
      ]
    },
    {
      "cell_type": "code",
      "metadata": {
        "id": "teiwAR57ENeK",
        "colab_type": "code",
        "outputId": "6ce7fa72-f8de-467b-fb08-fe6aa3d76bf4",
        "colab": {
          "base_uri": "https://localhost:8080/",
          "height": 306
        }
      },
      "source": [
        "## check gpu\n",
        "!nvidia-smi"
      ],
      "execution_count": 0,
      "outputs": [
        {
          "output_type": "stream",
          "text": [
            "Thu Jun  6 09:14:17 2019       \n",
            "+-----------------------------------------------------------------------------+\n",
            "| NVIDIA-SMI 418.67       Driver Version: 410.79       CUDA Version: 10.0     |\n",
            "|-------------------------------+----------------------+----------------------+\n",
            "| GPU  Name        Persistence-M| Bus-Id        Disp.A | Volatile Uncorr. ECC |\n",
            "| Fan  Temp  Perf  Pwr:Usage/Cap|         Memory-Usage | GPU-Util  Compute M. |\n",
            "|===============================+======================+======================|\n",
            "|   0  Tesla T4            Off  | 00000000:00:04.0 Off |                    0 |\n",
            "| N/A   56C    P8    17W /  70W |      0MiB / 15079MiB |      0%      Default |\n",
            "+-------------------------------+----------------------+----------------------+\n",
            "                                                                               \n",
            "+-----------------------------------------------------------------------------+\n",
            "| Processes:                                                       GPU Memory |\n",
            "|  GPU       PID   Type   Process name                             Usage      |\n",
            "|=============================================================================|\n",
            "|  No running processes found                                                 |\n",
            "+-----------------------------------------------------------------------------+\n"
          ],
          "name": "stdout"
        }
      ]
    },
    {
      "cell_type": "code",
      "metadata": {
        "id": "sRWiw3pNImP1",
        "colab_type": "code",
        "outputId": "fc6da252-ed05-4db9-fcd9-edadc9cf3482",
        "colab": {
          "base_uri": "https://localhost:8080/",
          "height": 241
        }
      },
      "source": [
        "!wget https://raw.githubusercontent.com/PyThaiNLP/pythainlp/dev/pythainlp/corpus/words_th.txt\n",
        "!ls"
      ],
      "execution_count": 0,
      "outputs": [
        {
          "output_type": "stream",
          "text": [
            "--2019-06-06 09:34:14--  https://raw.githubusercontent.com/PyThaiNLP/pythainlp/dev/pythainlp/corpus/words_th.txt\n",
            "Resolving raw.githubusercontent.com (raw.githubusercontent.com)... 151.101.0.133, 151.101.64.133, 151.101.128.133, ...\n",
            "Connecting to raw.githubusercontent.com (raw.githubusercontent.com)|151.101.0.133|:443... connected.\n",
            "HTTP request sent, awaiting response... 200 OK\n",
            "Length: 1548640 (1.5M) [text/plain]\n",
            "Saving to: ‘words_th.txt’\n",
            "\n",
            "\rwords_th.txt          0%[                    ]       0  --.-KB/s               \rwords_th.txt        100%[===================>]   1.48M  --.-KB/s    in 0.07s   \n",
            "\n",
            "2019-06-06 09:34:14 (20.3 MB/s) - ‘words_th.txt’ saved [1548640/1548640]\n",
            "\n",
            "sample_data  words_th.txt\n"
          ],
          "name": "stdout"
        }
      ]
    },
    {
      "cell_type": "code",
      "metadata": {
        "id": "xID-GrB4IuxA",
        "colab_type": "code",
        "colab": {}
      },
      "source": [
        "#!rm words_th.txt"
      ],
      "execution_count": 0,
      "outputs": []
    },
    {
      "cell_type": "code",
      "metadata": {
        "id": "aygu3JGqJBkP",
        "colab_type": "code",
        "colab": {}
      },
      "source": [
        ""
      ],
      "execution_count": 0,
      "outputs": []
    },
    {
      "cell_type": "markdown",
      "metadata": {
        "id": "mGL_Pe5VIO8p",
        "colab_type": "text"
      },
      "source": [
        "###[FILE](https://drive.google.com/file/d/1iodAqVNWEkiJgH8cWkccsLi_tqoFcMrV/view)"
      ]
    },
    {
      "cell_type": "markdown",
      "metadata": {
        "id": "gTqtPrUuINvK",
        "colab_type": "text"
      },
      "source": [
        "---"
      ]
    },
    {
      "cell_type": "markdown",
      "metadata": {
        "id": "aNLQWSLBGNVs",
        "colab_type": "text"
      },
      "source": [
        "## Word Tokenizer exercise##\n",
        "\n",
        "In this exercise, you are going to build a set of deep learning models on a (sort of) real world task using Tensorflow and Keras. Tensorflow is a deep learning framwork developed by Google, and Keras is a frontend library built on top of Tensorflow (or Theano, CNTK) to provide an easier way to use standard layers and networks.\n",
        "\n",
        "To complete this exercise, you will need to build deep learning models for word tokenization in Thai (แบ่งเว้นวรรคภาษาไทย) using NECTEC's BEST corpus. You will build one model for each of the following type:\n",
        "- Fully Connected (Feedforward) Neural Network\n",
        "- One-Dimentional Convolution Neural Network (1D-CNN)\n",
        "- Recurrent Neural Network with Gated Recurrent Unit (GRU)\n",
        "\n",
        "and one more model of your choice to achieve the highest score possible.\n",
        "\n",
        "We provide the code for data cleaning and some starter code for keras in this notebook but feel free to modify those parts to suit your needs. You can also complete this exercise using only Tensorflow (without using Keras). Feel free to use additional libraries (e.g. scikit-learn) as long as you have a model for each type mentioned above.\n",
        "\n",
        "This notebook assumes you have already installed Tensorflow and Keras with python3 and had GPU enabled. If you run this exercise on GCloud using the provided disk image you are all set.\n",
        "\n",
        "As a reminder,\n",
        "\n",
        "### Don't forget to shut down your instance on Gcloud when you are not using it ###"
      ]
    },
    {
      "cell_type": "code",
      "metadata": {
        "id": "jdDJ3GfXEPPP",
        "colab_type": "code",
        "colab": {}
      },
      "source": [
        "# Create a character map\n",
        "CHARS = [\n",
        "  '\\n', ' ', '!', '\"', '#', '$', '%', '&', \"'\", '(', ')', '*', '+',\n",
        "  ',', '-', '.', '/', '0', '1', '2', '3', '4', '5', '6', '7', '8',\n",
        "  '9', ':', ';', '<', '=', '>', '?', '@', 'A', 'B', 'C', 'D', 'E',\n",
        "  'F', 'G', 'H', 'I', 'J', 'K', 'L', 'M', 'N', 'O', 'P', 'Q', 'R',\n",
        "  'S', 'T', 'U', 'V', 'W', 'X', 'Y', 'Z', '[', '\\\\', ']', '^', '_',\n",
        "  'a', 'b', 'c', 'd', 'e', 'f', 'g', 'h', 'i', 'j', 'k', 'l', 'm',\n",
        "  'n', 'o', 'other', 'p', 'q', 'r', 's', 't', 'u', 'v', 'w', 'x', 'y',\n",
        "  'z', '}', '~', 'ก', 'ข', 'ฃ', 'ค', 'ฅ', 'ฆ', 'ง', 'จ', 'ฉ', 'ช',\n",
        "  'ซ', 'ฌ', 'ญ', 'ฎ', 'ฏ', 'ฐ', 'ฑ', 'ฒ', 'ณ', 'ด', 'ต', 'ถ', 'ท',\n",
        "  'ธ', 'น', 'บ', 'ป', 'ผ', 'ฝ', 'พ', 'ฟ', 'ภ', 'ม', 'ย', 'ร', 'ฤ',\n",
        "  'ล', 'ว', 'ศ', 'ษ', 'ส', 'ห', 'ฬ', 'อ', 'ฮ', 'ฯ', 'ะ', 'ั', 'า',\n",
        "  'ำ', 'ิ', 'ี', 'ึ', 'ื', 'ุ', 'ู', 'ฺ', 'เ', 'แ', 'โ', 'ใ', 'ไ',\n",
        "  'ๅ', 'ๆ', '็', '่', '้', '๊', '๋', '์', 'ํ', '๐', '๑', '๒', '๓',\n",
        "  '๔', '๕', '๖', '๗', '๘', '๙', '‘', '’', '\\ufeff'\n",
        "]\n",
        "CHARS_MAP = {v: k for k, v in enumerate(CHARS)}"
      ],
      "execution_count": 0,
      "outputs": []
    },
    {
      "cell_type": "code",
      "metadata": {
        "id": "k5nfX2BTGiP8",
        "colab_type": "code",
        "colab": {}
      },
      "source": [
        "def create_n_gram_df(df, n_pad):\n",
        "  \"\"\"\n",
        "  Given an input dataframe, create a feature dataframe of shifted characters\n",
        "  Input:\n",
        "  df: timeseries of size (N)\n",
        "  n_pad: the number of context. For a given character at position [idx],\n",
        "    character at position [idx-n_pad/2 : idx+n_pad/2] will be used \n",
        "    as features for that character.\n",
        "  \n",
        "  Output:\n",
        "  dataframe of size (N * n_pad) which each row contains the character, \n",
        "    n_pad_2 characters to the left, and n_pad_2 characters to the right\n",
        "    of that character.\n",
        "  \"\"\"\n",
        "  n_pad_2 = int((n_pad - 1)/2)\n",
        "  for i in range(n_pad_2):\n",
        "      df['char-{}'.format(i+1)] = df['char'].shift(i + 1)\n",
        "      df['char{}'.format(i+1)] = df['char'].shift(-i - 1)\n",
        "  return df[n_pad_2: -n_pad_2]"
      ],
      "execution_count": 0,
      "outputs": []
    },
    {
      "cell_type": "code",
      "metadata": {
        "id": "8u_vSQFiG3U2",
        "colab_type": "code",
        "colab": {}
      },
      "source": [
        "def prepare_feature(best_processed_path, option='train'):\n",
        "  \"\"\"\n",
        "  Transform the path to a directory containing processed files \n",
        "  into a feature matrix and output array\n",
        "  Input:\n",
        "  best_processed_path: str, path to a processed version of the BEST dataset\n",
        "  option: str, 'train' or 'test'\n",
        "  \"\"\"\n",
        "  # we use padding equals 21 here to consider 10 characters to the left\n",
        "  # and 10 characters to the right as features for the character in the middle\n",
        "  n_pad = 21\n",
        "  n_pad_2 = int((n_pad - 1)/2)\n",
        "  pad = [{'char': ' ', 'target': True}]\n",
        "  df_pad = pd.DataFrame(pad * n_pad_2)\n",
        "\n",
        "  df = []\n",
        "  # article types in BEST corpus\n",
        "  article_types = ['article', 'encyclopedia', 'news', 'novel']\n",
        "  for article_type in article_types:\n",
        "      df.append(pd.read_csv(os.path.join(best_processed_path, option, 'df_best_{}_{}.csv'.format(article_type, option))))\n",
        "  \n",
        "  df = pd.concat(df)\n",
        "  # pad with empty string feature\n",
        "  df = pd.concat((df_pad, df, df_pad))\n",
        "\n",
        "  # map characters to numbers, use 'other' if not in the predefined character set.\n",
        "  df['char'] = df['char'].map(lambda x: CHARS_MAP.get(x, 80))\n",
        "\n",
        "  # Use nearby characters as features\n",
        "  df_with_context = create_n_gram_df(df, n_pad=n_pad)\n",
        "\n",
        "  char_row = ['char' + str(i + 1) for i in range(n_pad_2)] + \\\n",
        "             ['char-' + str(i + 1) for i in range(n_pad_2)] + ['char']\n",
        "\n",
        "  # convert pandas dataframe to numpy array to feed to the model\n",
        "  x_char = df_with_context[char_row].as_matrix()\n",
        "  y = df_with_context['target'].astype(int).as_matrix()\n",
        "\n",
        "  return x_char, y"
      ],
      "execution_count": 0,
      "outputs": []
    },
    {
      "cell_type": "code",
      "metadata": {
        "id": "lV7_tlICG5t7",
        "colab_type": "code",
        "colab": {}
      },
      "source": [
        ""
      ],
      "execution_count": 0,
      "outputs": []
    },
    {
      "cell_type": "markdown",
      "metadata": {
        "id": "6-mgcWEaHnD-",
        "colab_type": "text"
      },
      "source": [
        "---"
      ]
    },
    {
      "cell_type": "markdown",
      "metadata": {
        "id": "QhiDwZjOJdfW",
        "colab_type": "text"
      },
      "source": [
        "# pythaiNLP (mm)"
      ]
    },
    {
      "cell_type": "code",
      "metadata": {
        "id": "VVouG8DgHoS5",
        "colab_type": "code",
        "outputId": "5d637739-93dc-4e3b-dc99-09af7113879b",
        "colab": {
          "base_uri": "https://localhost:8080/",
          "height": 445
        }
      },
      "source": [
        "!pip install pythainlp"
      ],
      "execution_count": 0,
      "outputs": [
        {
          "output_type": "stream",
          "text": [
            "Collecting pythainlp\n",
            "\u001b[?25l  Downloading https://files.pythonhosted.org/packages/91/bb/d4d1711d331c080ca29bce13f04590d06add379471fb9a1147a153073871/pythainlp-2.0.5-py3-none-any.whl (11.0MB)\n",
            "\u001b[K     |████████████████████████████████| 11.0MB 3.3MB/s \n",
            "\u001b[?25hRequirement already satisfied: dill in /usr/local/lib/python3.6/dist-packages (from pythainlp) (0.2.9)\n",
            "Requirement already satisfied: requests in /usr/local/lib/python3.6/dist-packages (from pythainlp) (2.21.0)\n",
            "Requirement already satisfied: pytz in /usr/local/lib/python3.6/dist-packages (from pythainlp) (2018.9)\n",
            "Requirement already satisfied: tqdm in /usr/local/lib/python3.6/dist-packages (from pythainlp) (4.28.1)\n",
            "Requirement already satisfied: nltk>=3.2.2 in /usr/local/lib/python3.6/dist-packages (from pythainlp) (3.2.5)\n",
            "Collecting tinydb (from pythainlp)\n",
            "  Downloading https://files.pythonhosted.org/packages/d7/f9/0e871cbf0da678cf1780609dc6aef26a5ed544c86733fc1ceaf134fce52c/tinydb-3.13.0-py2.py3-none-any.whl\n",
            "Collecting marisa-trie (from pythainlp)\n",
            "\u001b[?25l  Downloading https://files.pythonhosted.org/packages/20/95/d23071d0992dabcb61c948fb118a90683193befc88c23e745b050a29e7db/marisa-trie-0.7.5.tar.gz (270kB)\n",
            "\u001b[K     |████████████████████████████████| 276kB 52.6MB/s \n",
            "\u001b[?25hRequirement already satisfied: idna<2.9,>=2.5 in /usr/local/lib/python3.6/dist-packages (from requests->pythainlp) (2.8)\n",
            "Requirement already satisfied: urllib3<1.25,>=1.21.1 in /usr/local/lib/python3.6/dist-packages (from requests->pythainlp) (1.24.3)\n",
            "Requirement already satisfied: certifi>=2017.4.17 in /usr/local/lib/python3.6/dist-packages (from requests->pythainlp) (2019.3.9)\n",
            "Requirement already satisfied: chardet<3.1.0,>=3.0.2 in /usr/local/lib/python3.6/dist-packages (from requests->pythainlp) (3.0.4)\n",
            "Requirement already satisfied: six in /usr/local/lib/python3.6/dist-packages (from nltk>=3.2.2->pythainlp) (1.12.0)\n",
            "Building wheels for collected packages: marisa-trie\n",
            "  Building wheel for marisa-trie (setup.py) ... \u001b[?25l\u001b[?25hdone\n",
            "  Stored in directory: /root/.cache/pip/wheels/45/24/79/022624fc914f0e559fe8a1141aaff1f9df810905a13fc75d57\n",
            "Successfully built marisa-trie\n",
            "Installing collected packages: tinydb, marisa-trie, pythainlp\n",
            "Successfully installed marisa-trie-0.7.5 pythainlp-2.0.5 tinydb-3.13.0\n"
          ],
          "name": "stdout"
        }
      ]
    },
    {
      "cell_type": "code",
      "metadata": {
        "id": "26EtD9EzJpUs",
        "colab_type": "code",
        "outputId": "29beb940-e012-4dc6-8174-5a2071f04da1",
        "colab": {
          "base_uri": "https://localhost:8080/",
          "height": 34
        }
      },
      "source": [
        "from pythainlp.tokenize import word_tokenize\n",
        "text='ผมรักคุณนะครับโอเคบ่พวกเราเป็นคนไทยรักภาษาไทยภาษาบ้านเกิด'\n",
        "c=word_tokenize(text,engine='mm')\n",
        "print(c)"
      ],
      "execution_count": 0,
      "outputs": [
        {
          "output_type": "stream",
          "text": [
            "['ผม', 'รัก', 'คุณ', 'นะ', 'ครับ', 'โอเค', 'บ่', 'พวกเรา', 'เป็น', 'คนไทย', 'รัก', 'ภาษาไทย', 'ภาษา', 'บ้านเกิด']\n"
          ],
          "name": "stdout"
        }
      ]
    },
    {
      "cell_type": "code",
      "metadata": {
        "id": "itqRjuXzJ9-M",
        "colab_type": "code",
        "colab": {}
      },
      "source": [
        ""
      ],
      "execution_count": 0,
      "outputs": []
    }
  ]
}