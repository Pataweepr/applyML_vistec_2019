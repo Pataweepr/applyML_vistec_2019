{
  "nbformat": 4,
  "nbformat_minor": 0,
  "metadata": {
    "colab": {
      "name": "hw3_Titanic.ipynb",
      "version": "0.3.2",
      "provenance": [],
      "collapsed_sections": [],
      "include_colab_link": true
    },
    "kernelspec": {
      "display_name": "Python 3",
      "language": "python",
      "name": "python3"
    }
  },
  "cells": [
    {
      "cell_type": "markdown",
      "metadata": {
        "id": "view-in-github",
        "colab_type": "text"
      },
      "source": [
        "<a href=\"https://colab.research.google.com/github/Pataweepr/applyML_vistec_2019/blob/master/hw3_Titanic.ipynb\" target=\"_parent\"><img src=\"https://colab.research.google.com/assets/colab-badge.svg\" alt=\"Open In Colab\"/></a>"
      ]
    },
    {
      "metadata": {
        "id": "G6CGOezHSexx",
        "colab_type": "text"
      },
      "cell_type": "markdown",
      "source": [
        "## Titanic\n",
        "\n",
        "พวกเราจะพยายามให้ logictic reg เพื่อทำนาย แบบจำลอง\n",
        "\n",
        "[kaggle](https://www.kaggle.com/c/titanic)\n",
        "\n",
        "[linear_model](https://scikit-learn.org/stable/modules/linear_model.html)\n",
        "\n",
        "[confusion_matrix](https://scikit-learn.org/stable/modules/generated/sklearn.metrics.confusion_matrix.html)"
      ]
    },
    {
      "metadata": {
        "id": "ki92RGEezm_l",
        "colab_type": "code",
        "colab": {}
      },
      "cell_type": "code",
      "source": [
        "# import library \n",
        "import numpy as np\n",
        "import pandas as pd\n",
        "import matplotlib.pyplot as plt\n",
        "from sklearn.linear_model import LogisticRegression\n",
        "from sklearn.metrics import f1_score,precision_score,recall_score,accuracy_score\n",
        "from google.colab import files\n",
        "from sklearn import preprocessing\n",
        "from sklearn.model_selection import train_test_split\n",
        "from IPython.display import display\n",
        "\n",
        "# load data from kaggle \n",
        "train_url = \"http://s3.amazonaws.com/assets.datacamp.com/course/Kaggle/train.csv\"\n",
        "train = pd.read_csv(train_url) #training set\n",
        "test_url = \"http://s3.amazonaws.com/assets.datacamp.com/course/Kaggle/test.csv\"\n",
        "test = pd.read_csv(test_url) #test set\n"
      ],
      "execution_count": 0,
      "outputs": []
    },
    {
      "metadata": {
        "id": "UKemp0SzVGLA",
        "colab_type": "code",
        "colab": {
          "base_uri": "https://localhost:8080/",
          "height": 431
        },
        "outputId": "dd9d644d-47ab-47aa-8992-14d71990195f"
      },
      "cell_type": "code",
      "source": [
        "for col in train.columns:\n",
        "  print(col , ': ',train[col].isnull().values.any())\n",
        "print('--------------------------')\n",
        "for col in test.columns:\n",
        "  print(col , ': ',test[col].isnull().values.any())"
      ],
      "execution_count": 2,
      "outputs": [
        {
          "output_type": "stream",
          "text": [
            "PassengerId :  False\n",
            "Survived :  False\n",
            "Pclass :  False\n",
            "Name :  False\n",
            "Sex :  False\n",
            "Age :  True\n",
            "SibSp :  False\n",
            "Parch :  False\n",
            "Ticket :  False\n",
            "Fare :  False\n",
            "Cabin :  True\n",
            "Embarked :  True\n",
            "--------------------------\n",
            "PassengerId :  False\n",
            "Pclass :  False\n",
            "Name :  False\n",
            "Sex :  False\n",
            "Age :  True\n",
            "SibSp :  False\n",
            "Parch :  False\n",
            "Ticket :  False\n",
            "Fare :  True\n",
            "Cabin :  True\n",
            "Embarked :  False\n"
          ],
          "name": "stdout"
        }
      ]
    },
    {
      "metadata": {
        "id": "kw9x1Wi1zm_s",
        "colab_type": "code",
        "colab": {}
      },
      "cell_type": "code",
      "source": [
        "################################################################################\n",
        "# TODO#1:                                                                      #\n",
        "# clean your data\n",
        "################################################################################\n",
        "#                            WRITE YOUR CODE BELOW                             #\n",
        "################################################################################\n",
        "train[\"Age\"] = train[\"Age\"].fillna(train[\"Age\"].mode().iloc[0])\n",
        "train[\"Embarked\"] = train[\"Embarked\"].fillna(train[\"Embarked\"].mode().iloc[0])\n",
        "\n",
        "train.loc[train[\"Embarked\"] == \"S\", \"Embarked\"] = 0\n",
        "train.loc[train[\"Embarked\"] == \"C\", \"Embarked\"] = 1\n",
        "train.loc[train[\"Embarked\"] == \"Q\", \"Embarked\"] = 2\n",
        "\n",
        "train[\"Embarked\"] = train[\"Embarked\"].fillna(train[\"Embarked\"].mode().iloc[0])\n",
        "\n",
        "train.loc[train[\"Sex\"] == \"male\", \"Sex\"] = 0\n",
        "train.loc[train[\"Sex\"] == \"female\", \"Sex\"] = 1\n"
      ],
      "execution_count": 0,
      "outputs": []
    },
    {
      "metadata": {
        "id": "cjnnZeo66dH3",
        "colab_type": "code",
        "colab": {}
      },
      "cell_type": "code",
      "source": [
        "test[\"Age\"] = test[\"Age\"].fillna(train[\"Age\"].mode().iloc[0])\n",
        "test[\"Fare\"] = test[\"Fare\"].fillna(train[\"Fare\"].mode().iloc[0])\n",
        "\n",
        "test.loc[test[\"Embarked\"] == \"S\", \"Embarked\"] = 0\n",
        "test.loc[test[\"Embarked\"] == \"C\", \"Embarked\"] = 1\n",
        "test.loc[test[\"Embarked\"] == \"Q\", \"Embarked\"] = 2\n",
        "\n",
        "test.loc[test[\"Sex\"] == \"male\", \"Sex\"] = 0\n",
        "test.loc[test[\"Sex\"] == \"female\", \"Sex\"] = 1\n",
        "\n",
        "data_test = np.array(test[[\"Pclass\",\"Sex\",\"Age\",\"Embarked\"]].values)"
      ],
      "execution_count": 0,
      "outputs": []
    },
    {
      "metadata": {
        "id": "hh6LumTrQage",
        "colab_type": "text"
      },
      "cell_type": "markdown",
      "source": [
        "train test split"
      ]
    },
    {
      "metadata": {
        "id": "UhVWDQWamJxU",
        "colab_type": "code",
        "colab": {}
      },
      "cell_type": "code",
      "source": [
        "train = train.iloc[np.random.permutation(len(train))]\n",
        "val = train.iloc[np.arange(800,len(train))].copy().reset_index(drop=True)\n",
        "train = train.iloc[np.arange(800)].copy().reset_index(drop=True)\n",
        "\n",
        "\n",
        "\n",
        "data_train = np.array(train[[\"Pclass\",\"Sex\",\"Age\",\"Embarked\"]].values)\n",
        "y_train = np.array(train[\"Survived\"].values, dtype = int)\n",
        "\n",
        "data_val = np.array(val[[\"Pclass\",\"Sex\",\"Age\",\"Embarked\"]].values)\n",
        "y_val = np.array(val[\"Survived\"].values, dtype = int)"
      ],
      "execution_count": 0,
      "outputs": []
    },
    {
      "metadata": {
        "id": "wGi2sVyJ8UCY",
        "colab_type": "code",
        "colab": {}
      },
      "cell_type": "code",
      "source": [
        "#display(val.head())\n",
        "#display(train.head())"
      ],
      "execution_count": 0,
      "outputs": []
    },
    {
      "metadata": {
        "id": "Kooorz0Yypsx",
        "colab_type": "code",
        "colab": {}
      },
      "cell_type": "code",
      "source": [
        ""
      ],
      "execution_count": 0,
      "outputs": []
    },
    {
      "metadata": {
        "id": "rDgsS5KBsZ-X",
        "colab_type": "code",
        "colab": {}
      },
      "cell_type": "code",
      "source": [
        "# normalize\n",
        "def normalizer(x):\n",
        "  x_nor_zer = preprocessing.StandardScaler().fit(x.reshape((x.shape[0],1)))\n",
        "  return x_nor_zer;"
      ],
      "execution_count": 0,
      "outputs": []
    },
    {
      "metadata": {
        "id": "2j03LQYfzm_5",
        "colab_type": "code",
        "colab": {}
      },
      "cell_type": "code",
      "source": [
        "################################################################################\n",
        "# TODO#2: using scikit learn creat Logistic regression model \n",
        "# and fit it with data_train\n",
        "################################################################################\n",
        "#                            WRITE YOUR CODE BELOW                             #\n",
        "################################################################################\n",
        "clf = LogisticRegression(random_state=10, solver='lbfgs').fit(data_train, y_train)\n",
        "y_pred_train = clf.predict(data_train)\n",
        "y_pred_val = clf.predict(data_val)\n",
        "y_pred = clf.predict(data_test)"
      ],
      "execution_count": 0,
      "outputs": []
    },
    {
      "metadata": {
        "id": "GIrRUX3yZgbs",
        "colab_type": "code",
        "colab": {
          "base_uri": "https://localhost:8080/",
          "height": 34
        },
        "outputId": "70a4be8b-082c-496d-dfbe-8ee32d2589b2"
      },
      "cell_type": "code",
      "source": [
        "clf.coef_"
      ],
      "execution_count": 9,
      "outputs": [
        {
          "output_type": "execute_result",
          "data": {
            "text/plain": [
              "array([[-1.23672997,  2.58489528, -0.03658988,  0.29504941]])"
            ]
          },
          "metadata": {
            "tags": []
          },
          "execution_count": 9
        }
      ]
    },
    {
      "metadata": {
        "id": "XvUdJHXvySX_",
        "colab_type": "code",
        "colab": {}
      },
      "cell_type": "code",
      "source": [
        "def evaluate(yPred,yTrue):\n",
        "  acc = accuracy_score(yTrue,yPred)\n",
        "  f1 = f1_score(yTrue,yPred)\n",
        "  precision = precision_score(yTrue,yPred)\n",
        "  recall = recall_score(yTrue,yPred)\n",
        "  print('accuracy : ',acc)\n",
        "  print('f1 : ',f1)\n",
        "  print('precision : ',precision)\n",
        "  print('recall : ',recall)\n",
        "  return acc,f1,precision,recall"
      ],
      "execution_count": 0,
      "outputs": []
    },
    {
      "metadata": {
        "id": "VYXfvWRMzK9f",
        "colab_type": "code",
        "colab": {
          "base_uri": "https://localhost:8080/",
          "height": 207
        },
        "outputId": "640198af-4f05-4eb2-ea9e-ef01d594660a"
      },
      "cell_type": "code",
      "source": [
        "print('train set')\n",
        "acc_train,f1_train,precision_train,recall_train = evaluate(y_pred_train,y_train)\n",
        "print('---------------------------------------------')\n",
        "print('val set')\n",
        "acc_val,f1_val,precision_val,recall_val = evaluate(y_pred_val,y_val)"
      ],
      "execution_count": 11,
      "outputs": [
        {
          "output_type": "stream",
          "text": [
            "train set\n",
            "accuracy :  0.79625\n",
            "f1 :  0.7260504201680673\n",
            "precision :  0.7372013651877133\n",
            "recall :  0.7152317880794702\n",
            "---------------------------------------------\n",
            "val set\n",
            "accuracy :  0.6593406593406593\n",
            "f1 :  0.6075949367088608\n",
            "precision :  0.6153846153846154\n",
            "recall :  0.6\n"
          ],
          "name": "stdout"
        }
      ]
    },
    {
      "metadata": {
        "id": "51Z6GQRG2-1D",
        "colab_type": "text"
      },
      "cell_type": "markdown",
      "source": [
        "[logistic regression](https://scikit-learn.org/stable/modules/generated/sklearn.linear_model.LogisticRegression.html)"
      ]
    },
    {
      "metadata": {
        "id": "W2Jee4Gkyw0g",
        "colab_type": "code",
        "colab": {}
      },
      "cell_type": "code",
      "source": [
        ""
      ],
      "execution_count": 0,
      "outputs": []
    },
    {
      "metadata": {
        "id": "85OLvG4e6TAs",
        "colab_type": "code",
        "colab": {}
      },
      "cell_type": "code",
      "source": [
        ""
      ],
      "execution_count": 0,
      "outputs": []
    },
    {
      "metadata": {
        "id": "xyBGEJgaXrMv",
        "colab_type": "code",
        "colab": {}
      },
      "cell_type": "code",
      "source": [
        "# ดูค่า precision recall ที่หาได้\n",
        "################################################################################\n",
        "# TODO#3: using scikit learn creat Logistic regression model \n",
        "# and fit it with data_train\n",
        "################################################################################\n",
        "#                            WRITE YOUR CODE BELOW                             #\n",
        "################################################################################"
      ],
      "execution_count": 0,
      "outputs": []
    },
    {
      "metadata": {
        "id": "6DMbdPoYW40C",
        "colab_type": "text"
      },
      "cell_type": "markdown",
      "source": [
        "## submit your result"
      ]
    },
    {
      "metadata": {
        "id": "Pu9D4v2Mzm_8",
        "colab_type": "code",
        "colab": {}
      },
      "cell_type": "code",
      "source": [
        "################################################################################\n",
        "# TODO#4:                                                                      #\n",
        "# using the model with your test set\n",
        "################################################################################\n",
        "#                            WRITE YOUR CODE BELOW                             #\n",
        "################################################################################\n"
      ],
      "execution_count": 0,
      "outputs": []
    },
    {
      "metadata": {
        "id": "LnCWZOEkViHS",
        "colab_type": "text"
      },
      "cell_type": "markdown",
      "source": [
        ""
      ]
    },
    {
      "metadata": {
        "id": "Q7K6uMEHznAA",
        "colab_type": "code",
        "colab": {}
      },
      "cell_type": "code",
      "source": [
        "################################################################################\n",
        "# TODO#5:  Submit a screenshot of your submission (with the scores)\n",
        "# Warning! check your format before submit to kaggle\n",
        "# example data type\n",
        "################################################################################\n"
      ],
      "execution_count": 0,
      "outputs": []
    },
    {
      "metadata": {
        "id": "HTEv_ju5WL8X",
        "colab_type": "text"
      },
      "cell_type": "markdown",
      "source": [
        "## select feature\n",
        " What happens if you reduce the amount of features to just Sex and Age? (Use logistic regression)\n"
      ]
    },
    {
      "metadata": {
        "id": "7lbjr8_D96N6",
        "colab_type": "code",
        "outputId": "4c7db85d-ea0b-42d7-eec8-51845ac6f51e",
        "colab": {
          "base_uri": "https://localhost:8080/",
          "height": 533
        }
      },
      "cell_type": "code",
      "source": [
        "display(train.head())\n",
        "classes = ['Pclass','Sex','Age','SibSp','Parch','Fare','Embarked','Survived']\n",
        "\n",
        "data_train = np.array(train[classes].values)\n",
        "data_val = np.array(val[classes].values)\n",
        "\n",
        "data_to_sel_feature = np.vstack((data_train,data_val))\n",
        "#display(data_train_sel)\n",
        "\n",
        "#display(np.corrcoef(data_train_sel.T))\n",
        "fig, ax = plt.subplots()\n",
        "\n",
        "corre_mat = np.corrcoef(data_to_sel_feature.T)\n",
        "ax.matshow(corre_mat)\n",
        "ax.set(xticklabels = ['0']+classes,yticklabels = ['0']+classes)\n",
        "\n",
        "plt.show()"
      ],
      "execution_count": 14,
      "outputs": [
        {
          "output_type": "display_data",
          "data": {
            "text/html": [
              "<div>\n",
              "<style scoped>\n",
              "    .dataframe tbody tr th:only-of-type {\n",
              "        vertical-align: middle;\n",
              "    }\n",
              "\n",
              "    .dataframe tbody tr th {\n",
              "        vertical-align: top;\n",
              "    }\n",
              "\n",
              "    .dataframe thead th {\n",
              "        text-align: right;\n",
              "    }\n",
              "</style>\n",
              "<table border=\"1\" class=\"dataframe\">\n",
              "  <thead>\n",
              "    <tr style=\"text-align: right;\">\n",
              "      <th></th>\n",
              "      <th>PassengerId</th>\n",
              "      <th>Survived</th>\n",
              "      <th>Pclass</th>\n",
              "      <th>Name</th>\n",
              "      <th>Sex</th>\n",
              "      <th>Age</th>\n",
              "      <th>SibSp</th>\n",
              "      <th>Parch</th>\n",
              "      <th>Ticket</th>\n",
              "      <th>Fare</th>\n",
              "      <th>Cabin</th>\n",
              "      <th>Embarked</th>\n",
              "    </tr>\n",
              "  </thead>\n",
              "  <tbody>\n",
              "    <tr>\n",
              "      <th>0</th>\n",
              "      <td>805</td>\n",
              "      <td>1</td>\n",
              "      <td>3</td>\n",
              "      <td>Hedman, Mr. Oskar Arvid</td>\n",
              "      <td>0</td>\n",
              "      <td>27.0</td>\n",
              "      <td>0</td>\n",
              "      <td>0</td>\n",
              "      <td>347089</td>\n",
              "      <td>6.975</td>\n",
              "      <td>NaN</td>\n",
              "      <td>0</td>\n",
              "    </tr>\n",
              "    <tr>\n",
              "      <th>1</th>\n",
              "      <td>226</td>\n",
              "      <td>0</td>\n",
              "      <td>3</td>\n",
              "      <td>Berglund, Mr. Karl Ivar Sven</td>\n",
              "      <td>0</td>\n",
              "      <td>22.0</td>\n",
              "      <td>0</td>\n",
              "      <td>0</td>\n",
              "      <td>PP 4348</td>\n",
              "      <td>9.350</td>\n",
              "      <td>NaN</td>\n",
              "      <td>0</td>\n",
              "    </tr>\n",
              "    <tr>\n",
              "      <th>2</th>\n",
              "      <td>271</td>\n",
              "      <td>0</td>\n",
              "      <td>1</td>\n",
              "      <td>Cairns, Mr. Alexander</td>\n",
              "      <td>0</td>\n",
              "      <td>24.0</td>\n",
              "      <td>0</td>\n",
              "      <td>0</td>\n",
              "      <td>113798</td>\n",
              "      <td>31.000</td>\n",
              "      <td>NaN</td>\n",
              "      <td>0</td>\n",
              "    </tr>\n",
              "    <tr>\n",
              "      <th>3</th>\n",
              "      <td>377</td>\n",
              "      <td>1</td>\n",
              "      <td>3</td>\n",
              "      <td>Landergren, Miss. Aurora Adelia</td>\n",
              "      <td>1</td>\n",
              "      <td>22.0</td>\n",
              "      <td>0</td>\n",
              "      <td>0</td>\n",
              "      <td>C 7077</td>\n",
              "      <td>7.250</td>\n",
              "      <td>NaN</td>\n",
              "      <td>0</td>\n",
              "    </tr>\n",
              "    <tr>\n",
              "      <th>4</th>\n",
              "      <td>764</td>\n",
              "      <td>1</td>\n",
              "      <td>1</td>\n",
              "      <td>Carter, Mrs. William Ernest (Lucile Polk)</td>\n",
              "      <td>1</td>\n",
              "      <td>36.0</td>\n",
              "      <td>1</td>\n",
              "      <td>2</td>\n",
              "      <td>113760</td>\n",
              "      <td>120.000</td>\n",
              "      <td>B96 B98</td>\n",
              "      <td>0</td>\n",
              "    </tr>\n",
              "  </tbody>\n",
              "</table>\n",
              "</div>"
            ],
            "text/plain": [
              "   PassengerId  Survived  Pclass                                       Name  \\\n",
              "0          805         1       3                    Hedman, Mr. Oskar Arvid   \n",
              "1          226         0       3               Berglund, Mr. Karl Ivar Sven   \n",
              "2          271         0       1                      Cairns, Mr. Alexander   \n",
              "3          377         1       3            Landergren, Miss. Aurora Adelia   \n",
              "4          764         1       1  Carter, Mrs. William Ernest (Lucile Polk)   \n",
              "\n",
              "   Sex   Age  SibSp  Parch   Ticket     Fare    Cabin  Embarked  \n",
              "0    0  27.0      0      0   347089    6.975      NaN         0  \n",
              "1    0  22.0      0      0  PP 4348    9.350      NaN         0  \n",
              "2    0  24.0      0      0   113798   31.000      NaN         0  \n",
              "3    1  22.0      0      0   C 7077    7.250      NaN         0  \n",
              "4    1  36.0      1      2   113760  120.000  B96 B98         0  "
            ]
          },
          "metadata": {
            "tags": []
          }
        },
        {
          "output_type": "display_data",
          "data": {
            "image/png": "[encoded data removed]",
            "text/plain": [
              "<Figure size 576x396 with 1 Axes>"
            ]
          },
          "metadata": {
            "tags": []
          }
        }
      ]
    },
    {
      "metadata": {
        "id": "0dYNE44dznAZ",
        "colab_type": "code",
        "colab": {
          "base_uri": "https://localhost:8080/",
          "height": 207
        },
        "outputId": "a97a1e97-c58a-4f24-bc34-e74ac1028367"
      },
      "cell_type": "code",
      "source": [
        "################################################################################\n",
        "# TODO#7: RE-do with linear regression model                                                                   #\n",
        "################################################################################\n",
        "#                            WRITE YOUR CODE BELOW                             #\n",
        "################################################################################\n",
        "data_train_low = np.array(train[[\"Sex\",\"Fare\",'Age']].values)\n",
        "data_val_low = np.array(val[[\"Sex\",\"Fare\",'Age']].values)\n",
        "#data_test_low = np.array(test[[\"Sex\",\"Fare\"]].values)\n",
        "\n",
        "\n",
        "clf = LogisticRegression(random_state=10, solver='lbfgs',max_iter = 1000).fit(data_train_low, y_train)\n",
        "y_pred_train = clf.predict(data_train_low)\n",
        "y_pred_val = clf.predict(data_val_low)\n",
        "#y_pred_test = clf.predict(data_test_low)\n",
        "\n",
        "print('train set')\n",
        "acc_train,f1_train,precision_train,recall_train = evaluate(y_pred_train,y_train)\n",
        "print('---------------------------------------------')\n",
        "print('val set')\n",
        "acc_val,f1_val,precision_val,recall_val = evaluate(y_pred_val,y_val)\n",
        "\n",
        "\n"
      ],
      "execution_count": 38,
      "outputs": [
        {
          "output_type": "stream",
          "text": [
            "train set\n",
            "accuracy :  0.7925\n",
            "f1 :  0.7195945945945947\n",
            "precision :  0.7344827586206897\n",
            "recall :  0.7052980132450332\n",
            "---------------------------------------------\n",
            "val set\n",
            "accuracy :  0.6923076923076923\n",
            "f1 :  0.631578947368421\n",
            "precision :  0.6666666666666666\n",
            "recall :  0.6\n"
          ],
          "name": "stdout"
        }
      ]
    },
    {
      "metadata": {
        "id": "bZAPhuxyaNYc",
        "colab_type": "code",
        "colab": {}
      },
      "cell_type": "code",
      "source": [
        ""
      ],
      "execution_count": 0,
      "outputs": []
    },
    {
      "metadata": {
        "id": "sgsgog2hWZfb",
        "colab_type": "text"
      },
      "cell_type": "markdown",
      "source": [
        "## created complex feature\n",
        "\n",
        "Try adding some higher order features to your training (x2 1,x1x2,...). \n",
        "\n",
        "[polynomial feature](https://scikit-learn.org/stable/modules/generated/sklearn.preprocessing.PolynomialFeatures.html)"
      ]
    },
    {
      "metadata": {
        "id": "XYcL5kKh6bmU",
        "colab_type": "code",
        "outputId": "6393e951-5cf4-4c8a-ed32-0f7ff1622bc2",
        "colab": {
          "base_uri": "https://localhost:8080/",
          "height": 261
        }
      },
      "cell_type": "code",
      "source": [
        "################################################################################\n",
        "# TODO#8: RE-do with linear regression model                                                                   #\n",
        "################################################################################\n",
        "#                            WRITE YOUR CODE BELOW                             #\n",
        "################################################################################\n",
        "data_trian_new = preprocessing.PolynomialFeatures(2).fit_transform(data_train)\n",
        "data_val_new = preprocessing.PolynomialFeatures(2).fit_transform(data_val)\n",
        "data_test_new = preprocessing.PolynomialFeatures(2).fit_transform(data_test)\n",
        "\n",
        "\n",
        "clf = LogisticRegression(random_state=10, solver='lbfgs',max_iter = 1000).fit(data_trian_new, y_train)\n",
        "y_pred_train =clf.predict(data_trian_new)\n",
        "y_pred = clf.predict(data_val_new)\n",
        "\n",
        "\n",
        "print('train set')\n",
        "acc_train,f1_train,precision_train,recall_train = evaluate(y_pred_train,y_train)\n",
        "print('---------------------------------------------')\n",
        "print('val set')\n",
        "acc_val,f1_val,precision_val,recall_val = evaluate(y_pred_val,y_val)"
      ],
      "execution_count": 39,
      "outputs": [
        {
          "output_type": "stream",
          "text": [
            "train set\n",
            "accuracy :  0.8275\n",
            "f1 :  0.7561837455830389\n",
            "precision :  0.8106060606060606\n",
            "recall :  0.7086092715231788\n",
            "---------------------------------------------\n",
            "val set\n",
            "accuracy :  0.6923076923076923\n",
            "f1 :  0.631578947368421\n",
            "precision :  0.6666666666666666\n",
            "recall :  0.6\n"
          ],
          "name": "stdout"
        },
        {
          "output_type": "stream",
          "text": [
            "/usr/local/lib/python3.6/dist-packages/sklearn/linear_model/logistic.py:758: ConvergenceWarning: lbfgs failed to converge. Increase the number of iterations.\n",
            "  \"of iterations.\", ConvergenceWarning)\n"
          ],
          "name": "stderr"
        }
      ]
    },
    {
      "metadata": {
        "id": "ZXPCV7URiPbi",
        "colab_type": "text"
      },
      "cell_type": "markdown",
      "source": [
        "#Lasso"
      ]
    },
    {
      "metadata": {
        "id": "MTQ3zS91a6FK",
        "colab_type": "code",
        "colab": {
          "base_uri": "https://localhost:8080/",
          "height": 207
        },
        "outputId": "0450fc55-6e6c-4a3d-a8eb-489e66e939bc"
      },
      "cell_type": "code",
      "source": [
        "classes = ['Pclass','Sex','Age','SibSp','Parch','Fare','Embarked']\n",
        "\n",
        "data_train = np.array(train[classes].values)\n",
        "data_val = np.array(val[classes].values)\n",
        "reg_coef = 8\n",
        "clf = LogisticRegression(random_state=10,C=1/reg_coef, solver='lbfgs',max_iter = 1000).fit(data_train, y_train)\n",
        "y_pred_train = clf.predict(data_train)\n",
        "y_pred_val = clf.predict(data_val)\n",
        "#y_pred_test = clf.predict(data_test_low)\n",
        "\n",
        "print('train set')\n",
        "acc_train,f1_train,precision_train,recall_train = evaluate(y_pred_train,y_train)\n",
        "print('---------------------------------------------')\n",
        "print('val set')\n",
        "acc_val,f1_val,precision_val,recall_val = evaluate(y_pred_val,y_val)"
      ],
      "execution_count": 36,
      "outputs": [
        {
          "output_type": "stream",
          "text": [
            "train set\n",
            "accuracy :  0.81375\n",
            "f1 :  0.7426597582037996\n",
            "precision :  0.776173285198556\n",
            "recall :  0.7119205298013245\n",
            "---------------------------------------------\n",
            "val set\n",
            "accuracy :  0.7032967032967034\n",
            "f1 :  0.6493506493506493\n",
            "precision :  0.6756756756756757\n",
            "recall :  0.625\n"
          ],
          "name": "stdout"
        }
      ]
    },
    {
      "metadata": {
        "id": "xMIhv34KdnvT",
        "colab_type": "text"
      },
      "cell_type": "markdown",
      "source": [
        "[bar chart](https://pythonspot.com/matplotlib-bar-chart/)\n",
        "\n",
        "[linear_model](https://scikit-learn.org/stable/modules/linear_model.html)"
      ]
    },
    {
      "metadata": {
        "id": "8E-U82Yab1sh",
        "colab_type": "code",
        "colab": {
          "base_uri": "https://localhost:8080/",
          "height": 362
        },
        "outputId": "76a573ab-d353-4ea8-e014-2575efdb6ff8"
      },
      "cell_type": "code",
      "source": [
        "coeff_np = np.array(clf.coef_).reshape(len(classes))\n",
        "ind = np.arange(coeff_np.shape[0])\n",
        "\n",
        "objects = ('w0', 'w1', 'w2', 'w3', 'w4', 'w5', 'w6')\n",
        "plt.bar(ind, np.absolute(coeff_np), align='center', alpha=0.5)\n",
        "plt.xticks(ind, objects)\n",
        "plt.ylabel('values')\n",
        "plt.title('absolute of coefficient')\n",
        " \n",
        "plt.show()"
      ],
      "execution_count": 37,
      "outputs": [
        {
          "output_type": "display_data",
          "data": {
            "image/png": "[encoded data removed]",
            "text/plain": [
              "<Figure size 576x396 with 1 Axes>"
            ]
          },
          "metadata": {
            "tags": []
          }
        }
      ]
    },
    {
      "metadata": {
        "id": "b86rmSsciU8A",
        "colab_type": "code",
        "colab": {
          "base_uri": "https://localhost:8080/",
          "height": 207
        },
        "outputId": "23e55f68-6de1-475a-cd54-b201b6f9fb66"
      },
      "cell_type": "code",
      "source": [
        "data_train = np.array(train[classes].values)\n",
        "data_val = np.array(val[classes].values)\n",
        "reg_coef = 8\n",
        "clf_lasso = LogisticRegression(penalty = 'l1',C = 1/reg_coef,random_state=10, solver='liblinear',max_iter = 1000).fit(data_train, y_train)\n",
        "y_pred_train = clf_lasso.predict(data_train)\n",
        "y_pred_val = clf_lasso.predict(data_val)\n",
        "#y_pred_test = clf.predict(data_test_low)\n",
        "\n",
        "print('train set')\n",
        "acc_train,f1_train,precision_train,recall_train = evaluate(y_pred_train,y_train)\n",
        "print('---------------------------------------------')\n",
        "print('val set')\n",
        "acc_val,f1_val,precision_val,recall_val = evaluate(y_pred_val,y_val)"
      ],
      "execution_count": 34,
      "outputs": [
        {
          "output_type": "stream",
          "text": [
            "train set\n",
            "accuracy :  0.8\n",
            "f1 :  0.726027397260274\n",
            "precision :  0.75177304964539\n",
            "recall :  0.7019867549668874\n",
            "---------------------------------------------\n",
            "val set\n",
            "accuracy :  0.7252747252747253\n",
            "f1 :  0.6478873239436619\n",
            "precision :  0.7419354838709677\n",
            "recall :  0.575\n"
          ],
          "name": "stdout"
        }
      ]
    },
    {
      "metadata": {
        "id": "Uyc2XnecjGaC",
        "colab_type": "code",
        "colab": {
          "base_uri": "https://localhost:8080/",
          "height": 362
        },
        "outputId": "be31a272-43bc-4032-9e47-52206a7e199b"
      },
      "cell_type": "code",
      "source": [
        "coeff_np = np.array(clf_lasso.coef_).reshape(len(classes))\n",
        "ind = np.arange(coeff_np.shape[0])\n",
        "\n",
        "objects = ('w0', 'w1', 'w2', 'w3', 'w4', 'w5', 'w6')\n",
        "plt.bar(ind, np.absolute(coeff_np), align='center', alpha=0.5)\n",
        "plt.xticks(ind, objects)\n",
        "plt.ylabel('values')\n",
        "plt.title('absolute of coefficient')\n",
        " \n",
        "plt.show()"
      ],
      "execution_count": 35,
      "outputs": [
        {
          "output_type": "display_data",
          "data": {
            "image/png": "[encoded data removed]",
            "text/plain": [
              "<Figure size 576x396 with 1 Axes>"
            ]
          },
          "metadata": {
            "tags": []
          }
        }
      ]
    }
  ]
}