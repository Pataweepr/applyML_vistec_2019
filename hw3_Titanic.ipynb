{
  "nbformat": 4,
  "nbformat_minor": 0,
  "metadata": {
    "colab": {
      "name": "hw3_Titanic.ipynb",
      "version": "0.3.2",
      "provenance": [],
      "collapsed_sections": [],
      "include_colab_link": true
    },
    "kernelspec": {
      "display_name": "Python 3",
      "language": "python",
      "name": "python3"
    }
  },
  "cells": [
    {
      "cell_type": "markdown",
      "metadata": {
        "id": "view-in-github",
        "colab_type": "text"
      },
      "source": [
        "<a href=\"https://colab.research.google.com/github/Pataweepr/applyML_vistec_2019/blob/master/hw3_Titanic.ipynb\" target=\"_parent\"><img src=\"https://colab.research.google.com/assets/colab-badge.svg\" alt=\"Open In Colab\"/></a>"
      ]
    },
    {
      "metadata": {
        "id": "G6CGOezHSexx",
        "colab_type": "text"
      },
      "cell_type": "markdown",
      "source": [
        "## Titanic\n",
        "\n",
        "พวกเราจะพยายามให้ logictic reg เพื่อทำนาย แบบจำลอง\n",
        "\n",
        "[kaggle](https://www.kaggle.com/c/titanic)"
      ]
    },
    {
      "metadata": {
        "id": "ki92RGEezm_l",
        "colab_type": "code",
        "colab": {}
      },
      "cell_type": "code",
      "source": [
        "# import library \n",
        "import numpy as np\n",
        "import pandas as pd\n",
        "import matplotlib.pyplot as plt\n",
        "from sklearn.linear_model import LogisticRegression, LinearRegression\n",
        "from sklearn.metrics import f1_score,precision_score,recall_score,accuracy_score\n",
        "from google.colab import files\n",
        "from sklearn import preprocessing\n",
        "# from sklearn import datasets\n",
        "\n",
        "# load data from kaggle \n",
        "train_url = \"http://s3.amazonaws.com/assets.datacamp.com/course/Kaggle/train.csv\"\n",
        "train = pd.read_csv(train_url) #training set\n",
        "test_url = \"http://s3.amazonaws.com/assets.datacamp.com/course/Kaggle/test.csv\"\n",
        "test = pd.read_csv(test_url) #test set\n"
      ],
      "execution_count": 0,
      "outputs": []
    },
    {
      "metadata": {
        "id": "kw9x1Wi1zm_s",
        "colab_type": "code",
        "colab": {}
      },
      "cell_type": "code",
      "source": [
        "################################################################################\n",
        "# TODO#1:                                                                      #\n",
        "# clean your data\n",
        "################################################################################\n",
        "#                            WRITE YOUR CODE BELOW                             #\n",
        "################################################################################\n",
        "train = train.dropna(subset=['Embarked'])\n",
        "train[\"Age\"] = train[\"Age\"].fillna(train[\"Age\"].median())\n",
        "\n",
        "train.loc[train[\"Embarked\"] == \"S\", \"Embarked\"] = 0\n",
        "train.loc[train[\"Embarked\"] == \"C\", \"Embarked\"] = 1\n",
        "train.loc[train[\"Embarked\"] == \"Q\", \"Embarked\"] = 2\n",
        "train[\"Embarked\"] = train[\"Embarked\"].fillna(train[\"Embarked\"].median())\n",
        "\n",
        "train.loc[train[\"Sex\"] == \"male\", \"Sex\"] = 1\n",
        "train.loc[train[\"Sex\"] == \"female\", \"Sex\"] = 2\n",
        "\n",
        "data = np.array(train[[\"Pclass\",\"Sex\",\"Age\",\"Embarked\"]].values)\n",
        "y = np.array(train[\"Survived\"].values, dtype = int)"
      ],
      "execution_count": 0,
      "outputs": []
    },
    {
      "metadata": {
        "id": "cjnnZeo66dH3",
        "colab_type": "code",
        "colab": {}
      },
      "cell_type": "code",
      "source": [
        "test[\"Age\"] = test[\"Age\"].fillna(test[\"Age\"].median())\n",
        "\n",
        "test.loc[test[\"Embarked\"] == \"S\", \"Embarked\"] = 0\n",
        "test.loc[test[\"Embarked\"] == \"C\", \"Embarked\"] = 1\n",
        "test.loc[test[\"Embarked\"] == \"Q\", \"Embarked\"] = 2\n",
        "\n",
        "test.loc[test[\"Sex\"] == \"male\", \"Sex\"] = 1\n",
        "test.loc[test[\"Sex\"] == \"female\", \"Sex\"] = 2\n",
        "\n",
        "data_test = np.array(test[[\"Pclass\",\"Sex\",\"Age\",\"Embarked\"]].values)"
      ],
      "execution_count": 0,
      "outputs": []
    },
    {
      "metadata": {
        "id": "Kooorz0Yypsx",
        "colab_type": "code",
        "outputId": "7f3975ab-fee7-4dff-ce18-c245e9095009",
        "colab": {
          "base_uri": "https://localhost:8080/",
          "height": 34
        }
      },
      "cell_type": "code",
      "source": [
        "data.shape"
      ],
      "execution_count": 96,
      "outputs": [
        {
          "output_type": "execute_result",
          "data": {
            "text/plain": [
              "(889, 4)"
            ]
          },
          "metadata": {
            "tags": []
          },
          "execution_count": 96
        }
      ]
    },
    {
      "metadata": {
        "id": "rDgsS5KBsZ-X",
        "colab_type": "code",
        "colab": {}
      },
      "cell_type": "code",
      "source": [
        "# normalize\n",
        "def normalizer(x):\n",
        "  x_nor_zer = preprocessing.StandardScaler().fit(x.reshape((x.shape[0],1)))\n",
        "  return x_nor_zer;"
      ],
      "execution_count": 0,
      "outputs": []
    },
    {
      "metadata": {
        "id": "asdv6OCTxTIs",
        "colab_type": "code",
        "colab": {
          "base_uri": "https://localhost:8080/",
          "height": 54
        },
        "outputId": "e86d2a88-8bab-4cdb-9ca4-132b35e861c9"
      },
      "cell_type": "code",
      "source": [
        "'''\n",
        "# data[:,2]\n",
        "age = np.copy(data[:,2])\n",
        "# print(age)\n",
        "age_normalizer = normalizer(age)\n",
        "age_norm = age_normalizer.transform(age.reshape((age.shape[0],1)))\n",
        "data[:,2] = age_norm.reshape(age_norm.shape[0])\n",
        "# print(data[:,2])\n",
        "'''"
      ],
      "execution_count": 98,
      "outputs": [
        {
          "output_type": "execute_result",
          "data": {
            "text/plain": [
              "'\\n# data[:,2]\\nage = np.copy(data[:,2])\\n# print(age)\\nage_normalizer = normalizer(age)\\nage_norm = age_normalizer.transform(age.reshape((age.shape[0],1)))\\ndata[:,2] = age_norm.reshape(age_norm.shape[0])\\n# print(data[:,2])\\n'"
            ]
          },
          "metadata": {
            "tags": []
          },
          "execution_count": 98
        }
      ]
    },
    {
      "metadata": {
        "id": "2j03LQYfzm_5",
        "colab_type": "code",
        "colab": {}
      },
      "cell_type": "code",
      "source": [
        "################################################################################\n",
        "# TODO#2: using scikit learn creat Logistic regression model \n",
        "# and fit it with data_train\n",
        "################################################################################\n",
        "#                            WRITE YOUR CODE BELOW                             #\n",
        "################################################################################\n",
        "clf = LogisticRegression(random_state=10, solver='lbfgs').fit(data, y)\n",
        "y_pred_train =clf.predict(data)\n",
        "y_pred = clf.predict(data_test)"
      ],
      "execution_count": 0,
      "outputs": []
    },
    {
      "metadata": {
        "id": "VYXfvWRMzK9f",
        "colab_type": "code",
        "colab": {}
      },
      "cell_type": "code",
      "source": [
        "# print(y_pred)"
      ],
      "execution_count": 0,
      "outputs": []
    },
    {
      "metadata": {
        "id": "51Z6GQRG2-1D",
        "colab_type": "text"
      },
      "cell_type": "markdown",
      "source": [
        "[logistic regression](https://scikit-learn.org/stable/modules/generated/sklearn.linear_model.LogisticRegression.html)"
      ]
    },
    {
      "metadata": {
        "id": "XvUdJHXvySX_",
        "colab_type": "code",
        "colab": {}
      },
      "cell_type": "code",
      "source": [
        "def evaluate(yPred,yTrue):\n",
        "  acc = accuracy_score(yTrue,yPred)\n",
        "  f1 = f1_score(yTrue,yPred)\n",
        "  precision = precision_score(yTrue,yPred)\n",
        "  recall = recall_score(yTrue,yPred)\n",
        "  return acc,f1,precision,recall"
      ],
      "execution_count": 0,
      "outputs": []
    },
    {
      "metadata": {
        "id": "W2Jee4Gkyw0g",
        "colab_type": "code",
        "outputId": "d7f8930c-34ef-4e02-dd6a-80f29ae93e0c",
        "colab": {
          "base_uri": "https://localhost:8080/",
          "height": 85
        }
      },
      "cell_type": "code",
      "source": [
        "evaluate(y_pred_train,y)"
      ],
      "execution_count": 102,
      "outputs": [
        {
          "output_type": "execute_result",
          "data": {
            "text/plain": [
              "(0.7896512935883014,\n",
              " 0.7170953101361572,\n",
              " 0.7383177570093458,\n",
              " 0.6970588235294117)"
            ]
          },
          "metadata": {
            "tags": []
          },
          "execution_count": 102
        }
      ]
    },
    {
      "metadata": {
        "id": "85OLvG4e6TAs",
        "colab_type": "code",
        "colab": {}
      },
      "cell_type": "code",
      "source": [
        "submission = pd.DataFrame({\n",
        "    \"PassengerId\" : test[\"PassengerId\"],\n",
        "    \"Survived\" : y_pred\n",
        "})  \n",
        "#  is the name of your .csv file\n",
        "submission.to_csv('test_kaggle.csv' , index=False ) \n",
        "files.download('test_kaggle.csv') # This command downloads the file."
      ],
      "execution_count": 0,
      "outputs": []
    },
    {
      "metadata": {
        "id": "xyBGEJgaXrMv",
        "colab_type": "code",
        "colab": {}
      },
      "cell_type": "code",
      "source": [
        "# ดูค่า precision recall ที่หาได้\n",
        "################################################################################\n",
        "# TODO#3: using scikit learn creat Logistic regression model \n",
        "# and fit it with data_train\n",
        "################################################################################\n",
        "#                            WRITE YOUR CODE BELOW                             #\n",
        "################################################################################"
      ],
      "execution_count": 0,
      "outputs": []
    },
    {
      "metadata": {
        "id": "6DMbdPoYW40C",
        "colab_type": "text"
      },
      "cell_type": "markdown",
      "source": [
        "## submit your result"
      ]
    },
    {
      "metadata": {
        "id": "Pu9D4v2Mzm_8",
        "colab_type": "code",
        "colab": {}
      },
      "cell_type": "code",
      "source": [
        "################################################################################\n",
        "# TODO#4:                                                                      #\n",
        "# using the model with your test set\n",
        "################################################################################\n",
        "#                            WRITE YOUR CODE BELOW                             #\n",
        "################################################################################\n"
      ],
      "execution_count": 0,
      "outputs": []
    },
    {
      "metadata": {
        "id": "LnCWZOEkViHS",
        "colab_type": "text"
      },
      "cell_type": "markdown",
      "source": [
        ""
      ]
    },
    {
      "metadata": {
        "id": "Q7K6uMEHznAA",
        "colab_type": "code",
        "colab": {}
      },
      "cell_type": "code",
      "source": [
        "################################################################################\n",
        "# TODO#5:  Submit a screenshot of your submission (with the scores)\n",
        "# Warning! check your format before submit to kaggle\n",
        "# example data type\n",
        "################################################################################\n"
      ],
      "execution_count": 0,
      "outputs": []
    },
    {
      "metadata": {
        "id": "BLj-tSNoVo0t",
        "colab_type": "text"
      },
      "cell_type": "markdown",
      "source": [
        "## RE-do with linear regression model \n",
        "[link text](https://scikit-learn.org/stable/modules/generated/sklearn.linear_model.LinearRegression.html)"
      ]
    },
    {
      "metadata": {
        "id": "VgTC6QloznAM",
        "colab_type": "code",
        "colab": {}
      },
      "cell_type": "code",
      "source": [
        "################################################################################\n",
        "# TODO#6: solving linear regression model                                                                   #\n",
        "################################################################################\n",
        "#                            WRITE YOUR CODE BELOW                             #\n",
        "################################################################################\n",
        "\n",
        "reg = LinearRegression().fit(data, y)\n",
        "y_pred_train =reg.predict(data)\n",
        "y_pred = reg.predict(data_test)\n",
        "\n",
        "y_pred_discrete =np.zeros(y_pred.shape[0], dtype=int)\n",
        "\n",
        "for i in np.arange(y_pred.shape[0]):\n",
        "  if y_pred[i] >= 0.5:\n",
        "    y_pred_discrete[i] = 1\n",
        "\n",
        "submission = pd.DataFrame({\n",
        "    \"PassengerId\" : test[\"PassengerId\"],\n",
        "    \"Survived\" : y_pred_discrete\n",
        "})  \n",
        "#  is the name of your .csv file\n",
        "submission.to_csv('test_kaggle2.csv' , index=False ) \n",
        "files.download('test_kaggle2.csv') # This command downloads the file."
      ],
      "execution_count": 0,
      "outputs": []
    },
    {
      "metadata": {
        "id": "QuiGDgkPV8kz",
        "colab_type": "text"
      },
      "cell_type": "markdown",
      "source": [
        "## compare result"
      ]
    },
    {
      "metadata": {
        "id": "HTEv_ju5WL8X",
        "colab_type": "text"
      },
      "cell_type": "markdown",
      "source": [
        "## select feature\n",
        " What happens if you reduce the amount of features to just Sex and Age? (Use logistic regression)\n"
      ]
    },
    {
      "metadata": {
        "id": "0dYNE44dznAZ",
        "colab_type": "code",
        "colab": {}
      },
      "cell_type": "code",
      "source": [
        "################################################################################\n",
        "# TODO#7: RE-do with linear regression model                                                                   #\n",
        "################################################################################\n",
        "#                            WRITE YOUR CODE BELOW                             #\n",
        "################################################################################\n",
        "data_low = np.array(train[[\"Sex\",\"Age\"]].values)\n",
        "data_test_low = np.array(test[[\"Sex\",\"Age\"]].values)\n",
        "\n",
        "\n",
        "clf = LogisticRegression(random_state=10, solver='lbfgs',max_iter = 1000).fit(data_low, y)\n",
        "y_pred_train =clf.predict(data_low)\n",
        "y_pred = clf.predict(data_test_low)\n",
        "\n",
        "\n",
        "\n",
        "submission = pd.DataFrame({\n",
        "    \"PassengerId\" : test[\"PassengerId\"],\n",
        "    \"Survived\" : y_pred\n",
        "})  \n",
        "#  is the name of your .csv file\n",
        "submission.to_csv('test_kaggle2.csv' , index=False ) \n",
        "files.download('test_kaggle2.csv') # This command downloads the file."
      ],
      "execution_count": 0,
      "outputs": []
    },
    {
      "metadata": {
        "id": "sgsgog2hWZfb",
        "colab_type": "text"
      },
      "cell_type": "markdown",
      "source": [
        "## created complex feature\n",
        "\n",
        "Try adding some higher order features to your training (x2 1,x1x2,...). \n",
        "\n",
        "[polynomial feature](https://scikit-learn.org/stable/modules/generated/sklearn.preprocessing.PolynomialFeatures.html)"
      ]
    },
    {
      "metadata": {
        "id": "XYcL5kKh6bmU",
        "colab_type": "code",
        "colab": {
          "base_uri": "https://localhost:8080/",
          "height": 51
        },
        "outputId": "335c07bb-8975-437a-bc1d-105b7d64c70a"
      },
      "cell_type": "code",
      "source": [
        "################################################################################\n",
        "# TODO#8: RE-do with linear regression model                                                                   #\n",
        "################################################################################\n",
        "#                            WRITE YOUR CODE BELOW                             #\n",
        "################################################################################\n",
        "data_new = preprocessing.PolynomialFeatures(3).fit_transform(data)\n",
        "data_test_new = preprocessing.PolynomialFeatures(3).fit_transform(data_test)\n",
        "\n",
        "\n",
        "clf = LogisticRegression(random_state=10, solver='lbfgs',max_iter = 1000).fit(data_new, y)\n",
        "y_pred_train =clf.predict(data_new)\n",
        "y_pred = clf.predict(data_test_new)\n",
        "\n",
        "\n",
        "\n",
        "submission = pd.DataFrame({\n",
        "    \"PassengerId\" : test[\"PassengerId\"],\n",
        "    \"Survived\" : y_pred\n",
        "})  \n",
        "#  is the name of your .csv file\n",
        "submission.to_csv('test_kaggle3.csv' , index=False ) \n",
        "files.download('test_kaggle3.csv')"
      ],
      "execution_count": 107,
      "outputs": [
        {
          "output_type": "stream",
          "text": [
            "/usr/local/lib/python3.6/dist-packages/sklearn/linear_model/logistic.py:758: ConvergenceWarning: lbfgs failed to converge. Increase the number of iterations.\n",
            "  \"of iterations.\", ConvergenceWarning)\n"
          ],
          "name": "stderr"
        }
      ]
    }
  ]
}