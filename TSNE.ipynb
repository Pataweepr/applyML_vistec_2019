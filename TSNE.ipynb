{
  "nbformat": 4,
  "nbformat_minor": 0,
  "metadata": {
    "colab": {
      "name": "TSNE.ipynb",
      "version": "0.3.2",
      "provenance": [],
      "collapsed_sections": [],
      "include_colab_link": true
    },
    "kernelspec": {
      "display_name": "Python 3",
      "language": "python",
      "name": "python3"
    }
  },
  "cells": [
    {
      "cell_type": "markdown",
      "metadata": {
        "id": "view-in-github",
        "colab_type": "text"
      },
      "source": [
        "<a href=\"https://colab.research.google.com/github/Pataweepr/applyML_vistec_2019/blob/master/TSNE.ipynb\" target=\"_parent\"><img src=\"https://colab.research.google.com/assets/colab-badge.svg\" alt=\"Open In Colab\"/></a>"
      ]
    },
    {
      "metadata": {
        "id": "oPS1-2OQUBeZ",
        "colab_type": "text"
      },
      "cell_type": "markdown",
      "source": [
        "#  Virus Classification using Support Vector Machines (SVM)\n",
        "\n",
        "In this lab we will classify viruses into their sub families using their DNA sequence. This has potential applications in disease control where scientists can monitor the spread and mutations of viruses, and potentially try to identify whether when a benign virus will mutate to a malignant virus.\n",
        "\n",
        "For this lab we will mainly use Support Vector Machines ([SVM](https://scikit-learn.org/stable/modules/svm.html))"
      ]
    },
    {
      "metadata": {
        "id": "YldhiIUZSRTr",
        "colab_type": "code",
        "colab": {}
      },
      "cell_type": "code",
      "source": [
        "import numpy as np\n",
        "import pandas as pd\n",
        "import matplotlib.pyplot as plt\n",
        "import itertools\n",
        "import collections\n",
        "import csv\n",
        "\n",
        "from sklearn.model_selection import train_test_split\n",
        "from sklearn.metrics import roc_curve, auc\n",
        "from sklearn.metrics import confusion_matrix\n",
        "from sklearn.utils import shuffle\n",
        "import seaborn as sns\n",
        "from IPython.display import display\n",
        "from scipy.stats import mode\n",
        "\n",
        "from sklearn.svm import SVC\n",
        "\n",
        "seed = 976\n",
        "np.random.seed(seed)\n",
        "\n",
        "import time"
      ],
      "execution_count": 0,
      "outputs": []
    },
    {
      "metadata": {
        "id": "Vl0AS5E4RQsE",
        "colab_type": "text"
      },
      "cell_type": "markdown",
      "source": [
        "## The data\n",
        "\n",
        "The data can be found [here](https://drive.google.com/file/d/1tb1pvtUNqx3r4FVbNsRKum2hwaLOIYmO/view?usp=sharing). Click add to drive so that you can mount it later.\n"
      ]
    },
    {
      "metadata": {
        "id": "rINs2LCh43Zn",
        "colab_type": "code",
        "colab": {}
      },
      "cell_type": "code",
      "source": [
        "from google.colab import drive\n",
        "drive.mount('/content/gdrive/')"
      ],
      "execution_count": 0,
      "outputs": []
    },
    {
      "metadata": {
        "id": "9cGvgDubCaEe",
        "colab_type": "code",
        "colab": {}
      },
      "cell_type": "code",
      "source": [
        "df = pd.read_csv(\"/content/gdrive/My Drive/Chosen_Data_clearToN.csv\")"
      ],
      "execution_count": 0,
      "outputs": []
    },
    {
      "metadata": {
        "id": "vJd89780SRUB",
        "colab_type": "code",
        "colab": {}
      },
      "cell_type": "code",
      "source": [
        "## TODO#1 ##\n",
        "df = df[[\"Sequences\", \"Label\"]]\n",
        "key_virus = df[\"Label\"].value_counts().index\n",
        "print(key_virus)"
      ],
      "execution_count": 0,
      "outputs": []
    },
    {
      "metadata": {
        "id": "ftsxDz5AFUSm",
        "colab_type": "text"
      },
      "cell_type": "markdown",
      "source": [
        "Each DNA string has different length. Plot the histogram of the length of the DNA."
      ]
    },
    {
      "metadata": {
        "id": "FU04USfPF9Nk",
        "colab_type": "code",
        "colab": {}
      },
      "cell_type": "code",
      "source": [
        "## TODO#2 ##\n",
        "df[\"len\"] = df[\"Sequences\"].apply(len)\n",
        "len_np = df[\"len\"].values\n",
        "n, bins, patches = plt.hist(len_np, 100, density=True, facecolor='g', alpha=0.75)\n",
        "plt.show()"
      ],
      "execution_count": 0,
      "outputs": []
    },
    {
      "metadata": {
        "id": "8D9eZrCBSRUZ",
        "colab_type": "code",
        "colab": {}
      },
      "cell_type": "code",
      "source": [
        "def splitTrainTest(data):\n",
        "  keyDatas = data[\"Label\"].value_counts().keys()\n",
        "  train = pd.DataFrame()\n",
        "  valid = pd.DataFrame()\n",
        "  test = pd.DataFrame()\n",
        "  chk = 0\n",
        "  for k in keyDatas:\n",
        "    tmp = data[data[\"Label\"]==k]\n",
        "    tmp_train, tmp_test = train_test_split(tmp, test_size=2/5, random_state=seed)\n",
        "    tmp_train, tmp_valid = train_test_split(tmp_train, test_size=1/6, random_state=seed)\n",
        "    train = train.append(tmp_train)\n",
        "    valid = valid.append(tmp_valid)\n",
        "    test = test.append(tmp_test)\n",
        "  return train, valid, test"
      ],
      "execution_count": 0,
      "outputs": []
    },
    {
      "metadata": {
        "id": "GwxCgJOnSRUf",
        "colab_type": "code",
        "colab": {}
      },
      "cell_type": "code",
      "source": [
        "df_train, df_valid, df_test = splitTrainTest(df)\n",
        "df_train = df_train.reset_index(drop=True)\n",
        "df_valid = df_valid.reset_index(drop=True)\n",
        "df_test = df_test.reset_index(drop=True)"
      ],
      "execution_count": 0,
      "outputs": []
    },
    {
      "metadata": {
        "id": "l6xPpXrJJpJE",
        "colab_type": "code",
        "colab": {}
      },
      "cell_type": "code",
      "source": [
        "## TODO#3 ##\n",
        "df_train[\"Label\"].value_counts()"
      ],
      "execution_count": 0,
      "outputs": []
    },
    {
      "metadata": {
        "id": "XV6OOdEiSRUk",
        "colab_type": "code",
        "colab": {}
      },
      "cell_type": "code",
      "source": [
        "def createGram(sequence, gram=5):\n",
        "  # sequence is the DNA sequence\n",
        "  # returns: np array where each entry is an n-gram count\n",
        "\n",
        "  ## TODO#4 ##\n",
        "  nGram = dict.fromkeys([\"\".join(x) for x in itertools.product(\"ACTG\",repeat=gram) ],0)\n",
        "  for i in  range(len(sequence)-gram+1):\n",
        "    if \"N\" not in str([sequence[i:i+gram]]):\n",
        "      nGram[sequence[i:i+gram]]+=1\n",
        "  return np.array(list(nGram.values()))"
      ],
      "execution_count": 0,
      "outputs": []
    },
    {
      "metadata": {
        "id": "pA9bf7OSylWt",
        "colab_type": "code",
        "colab": {}
      },
      "cell_type": "code",
      "source": [
        "# Try\n",
        "print(createGram('AGTCATC',1))\n",
        "print(createGram('AGTCATC',2))\n",
        "\n",
        "#You should get\n",
        "#[2 2 2 1]\n",
        "#[0 0 1 1 1 0 0 0 0 2 0 0 0 0 1 0]"
      ],
      "execution_count": 0,
      "outputs": []
    },
    {
      "metadata": {
        "id": "WtYvcrso8AfS",
        "colab_type": "code",
        "colab": {}
      },
      "cell_type": "code",
      "source": [
        "def createGramDataset(data, gram=5, length=10000, train=False):\n",
        "  datangram = []\n",
        "  label = []\n",
        "\n",
        "  if(train):\n",
        "    # Upsampling if training data\n",
        "    \n",
        "    # Assume first class has maximum amount\n",
        "    max_sam = data[\"Label\"].value_counts()[0]\n",
        "    # For each label\n",
        "    for i in data[\"Label\"].value_counts().keys():\n",
        "      tmp_virus = data[data[\"Label\"]==i]\n",
        "      tmp_virus = tmp_virus.reset_index(drop=True)\n",
        "      # Upsample by j times\n",
        "      for j in range(0, max_sam//len(tmp_virus)):\n",
        "        # For data point\n",
        "        for k in range(len(tmp_virus)):\n",
        "          # Select location of the sub-sequence\n",
        "          if(len(tmp_virus[\"Sequences\"][k])-length == 0):\n",
        "            rand_int = 0\n",
        "          else:\n",
        "            rand_int = np.random.randint(len(tmp_virus[\"Sequences\"][k])-length)\n",
        "          selected_sequence = tmp_virus[\"Sequences\"][k][rand_int:rand_int+length]\n",
        "          datangram.append(createGram(tmp_virus[\"Sequences\"][k]))\n",
        "          label.append(i)\n",
        "  else:\n",
        "    # For data point\n",
        "    for k in range(len(data)):\n",
        "      if (len(data[\"Sequences\"][k])-length == 0) :\n",
        "        rand_int = 0\n",
        "      else:\n",
        "        rand_int = np.random.randint(len(data[\"Sequences\"][k])-length)\n",
        "      selected_sequence = data[\"Sequences\"][k][rand_int:rand_int+length]\n",
        "      datangram.append(createGram(data[\"Sequences\"][k]))\n",
        "      label.append(data[\"Label\"][k])\n",
        "\n",
        "  return np.array(datangram), label"
      ],
      "execution_count": 0,
      "outputs": []
    },
    {
      "metadata": {
        "id": "j3TBJVUrSRUo",
        "colab_type": "code",
        "colab": {}
      },
      "cell_type": "code",
      "source": [
        "X_train, y_train = createGramDataset(df_train, 5, 20000, True)\n",
        "X_valid, y_valid = createGramDataset(df_valid, 5, 20000, False)\n",
        "X_test, y_test = createGramDataset(df_test, 5, 20000, False)"
      ],
      "execution_count": 0,
      "outputs": []
    },
    {
      "metadata": {
        "id": "SGpBU-kISL33",
        "colab_type": "text"
      },
      "cell_type": "markdown",
      "source": [
        "buildlLabel() is a function that maps categorical values to numbers."
      ]
    },
    {
      "metadata": {
        "id": "Ks3KnaP-SRU6",
        "colab_type": "code",
        "colab": {}
      },
      "cell_type": "code",
      "source": [
        "def buildLabel(y_str_label,key_virus_label):\n",
        "  nplabel = []\n",
        "  for lab in y_str_label:\n",
        "    for i in np.arange(len(key_virus_label)):\n",
        "      if(lab == key_virus_label[i]):\n",
        "        nplabel.append(i+1)\n",
        "        break\n",
        "  return np.array(nplabel)"
      ],
      "execution_count": 0,
      "outputs": []
    },
    {
      "metadata": {
        "id": "4J_Hajs0LeaT",
        "colab_type": "code",
        "colab": {}
      },
      "cell_type": "code",
      "source": [
        "from sklearn.metrics import f1_score, precision_score, recall_score, accuracy_score\n",
        "\n",
        "def eval(y_pred,y_test):\n",
        "  acc = accuracy_score(y_test, y_pred)\n",
        "  f1 = f1_score(y_test, y_pred, average='macro') \n",
        "  prec = precision_score(y_test, y_pred, average='macro') \n",
        "  recall = recall_score(y_test, y_pred, average='macro') \n",
        "  return acc, f1, prec, recall"
      ],
      "execution_count": 0,
      "outputs": []
    },
    {
      "metadata": {
        "id": "DuAFbBKGSRU9",
        "colab_type": "code",
        "colab": {}
      },
      "cell_type": "code",
      "source": [
        "y_train = buildLabel(y_train,key_virus)\n",
        "y_valid = buildLabel(y_valid,key_virus)\n",
        "y_test = buildLabel(y_test,key_virus)\n",
        "print(y_train)"
      ],
      "execution_count": 0,
      "outputs": []
    },
    {
      "metadata": {
        "id": "21KP26jfSRVD",
        "colab_type": "code",
        "colab": {}
      },
      "cell_type": "code",
      "source": [
        "# Shuffle the training data so that classes will not appear together.\n",
        "X_train, y_train = shuffle(X_train, y_train, random_state=seed)"
      ],
      "execution_count": 0,
      "outputs": []
    },
    {
      "metadata": {
        "id": "PLVHx53pVWW5",
        "colab_type": "code",
        "colab": {}
      },
      "cell_type": "code",
      "source": [
        "from sklearn.manifold import TSNE\n",
        "X_embedded = TSNE(n_components=2,n_iter=10000,random_state = seed).fit_transform(X_train)\n",
        "colors = ['r','g','b','c','y','k']\n",
        "for i in range(1,7):\n",
        "  label_i = (y_train == i) \n",
        "  plt.scatter(X_embedded[label_i,0],X_embedded[label_i,1],c = colors[i-1])\n",
        "plt.show()"
      ],
      "execution_count": 0,
      "outputs": []
    },
    {
      "metadata": {
        "id": "cdMI9z1Zqu4M",
        "colab_type": "code",
        "colab": {}
      },
      "cell_type": "code",
      "source": [
        "X_embedded_2 = TSNE(n_components=3,n_iter=15000,random_state = seed).fit_transform(X_train)\n",
        "from mpl_toolkits.mplot3d import Axes3D\n",
        "colors = ['r','g','b','c','y','k']"
      ],
      "execution_count": 0,
      "outputs": []
    },
    {
      "metadata": {
        "id": "NDHaCik8wBFd",
        "colab_type": "code",
        "colab": {}
      },
      "cell_type": "code",
      "source": [
        "# 300 120\n",
        "\n",
        "ii = 120\n",
        "sns.set_style(\"whitegrid\", {'axes.grid' : False})\n",
        "fig = plt.figure(figsize=(8,8))\n",
        "ax = Axes3D(fig)\n",
        "\n",
        "print('print ', ii)\n",
        "\n",
        "ax.view_init(elev=10., azim=ii)\n",
        "for i in range(1,7):\n",
        "  label_i = (y_train == i) \n",
        "  ax.scatter(X_embedded_2[label_i,0],X_embedded_2[label_i,1],X_embedded_2[label_i,2],c = colors[i-1])\n",
        "plt.show()\n",
        "print('-----------------------------------------------------------------------------------------------')"
      ],
      "execution_count": 0,
      "outputs": []
    },
    {
      "metadata": {
        "id": "Xl6_3mbNHCVT",
        "colab_type": "code",
        "colab": {}
      },
      "cell_type": "code",
      "source": [
        "from sklearn.metrics import confusion_matrix\n",
        "from sklearn.metrics import roc_curve\n",
        "\n",
        "y_test_new = np.zeros(len(y_test),dtype ='int') \n",
        "y_train_new = np.zeros(len(y_train),dtype ='int')\n",
        "y_valid_new = np.zeros(len(y_valid),dtype ='int')\n",
        "\n",
        "y_test_new[y_test == 3] = 1\n",
        "y_train_new[y_train == 3] = 1\n",
        "y_valid_new[y_valid == 3] = 1\n",
        "\n",
        "\n",
        "############ linear\n",
        "clf_Linear = SVC(kernel='linear',probability=True)\n",
        "clf_Linear.fit(X_train, y_train)\n",
        "y_pred_linear = clf_Linear.predict(X_test)\n",
        "y_test_lin_score = clf_Linear.predict_proba(X_test)[:,1]\n",
        "\n",
        "acc, f1, precision, recall = eval(y_pred_linear,y_test)\n",
        "fpr_linear, tpr_linear, thresholds_linear = roc_curve(y_test_new,y_test_lin_score)\n",
        "\n",
        "print('Linear_kernel')\n",
        "print('accuracy :',acc)\n",
        "print('f1 :',f1)\n",
        "print('precision :',precision)\n",
        "print('recall :',recall)\n",
        "\n",
        "############ poly\n",
        "clf_poly = SVC(kernel='poly',degree = 2,gamma='auto',probability=True)\n",
        "clf_poly.fit(X_train, y_train)\n",
        "y_pred_poly = clf_poly.predict(X_test)\n",
        "y_test_poly_score = clf_poly.predict_proba(X_test)[:,1]\n",
        "\n",
        "acc, f1, precision, recall = eval(y_pred_poly,y_test)\n",
        "fpr_poly, tpr_poly, thresholds_poly = roc_curve(y_test_new,y_test_poly_score)\n",
        "\n",
        "print('poly_kernel')\n",
        "print('accuracy :',acc)\n",
        "print('f1 :',f1)\n",
        "print('precision :',precision)\n",
        "print('recall :',recall)\n",
        "\n",
        "############ rbf\n",
        "\n",
        "clf_rbf = SVC(kernel='rbf',gamma = 10**-5,probability=True)\n",
        "clf_rbf.fit(X_train, y_train_new)\n",
        "y_pred_rbf = clf_rbf.predict(X_test)\n",
        "y_test_rbf_score = clf_rbf.predict_proba(X_test)[:,1]\n",
        "\n",
        "acc, f1, precision, recall = eval(y_pred_rbf,y_test_new)\n",
        "fpr_rbf, tpr_rbf, thresholds_rbf = roc_curve(y_test_new,y_test_rbf_score)\n",
        "\n",
        "print('rbf_kernel')\n",
        "print('accuracy :',acc)\n",
        "print('f1 :',f1)\n",
        "print('precision :',precision)\n",
        "print('recall :',recall)\n",
        "\n",
        "############ \n",
        "\n",
        "plt.plot(fpr_linear,tpr_linear,label=\"linear\")\n",
        "plt.plot(fpr_poly,tpr_poly,label=\"poly\")\n",
        "plt.plot(fpr_rbf,tpr_rbf,label=\"rbf\")\n",
        "plt.legend(bbox_to_anchor=(1.05, 1), loc='upper right', borderaxespad=0.)\n",
        "plt.show()"
      ],
      "execution_count": 0,
      "outputs": []
    },
    {
      "metadata": {
        "id": "d_b7walDNcEx",
        "colab_type": "text"
      },
      "cell_type": "markdown",
      "source": [
        "[link confusion_matrix](https://scikit-learn.org/stable/modules/generated/sklearn.metrics.confusion_matrix.html)"
      ]
    },
    {
      "metadata": {
        "colab_type": "code",
        "id": "CxDjBF6OV2jH",
        "colab": {}
      },
      "cell_type": "code",
      "source": [
        "## TODO#7 ##\n",
        "key_virus_new = ['others','hku']\n",
        "y_test_new = np.zeros(len(y_test),dtype ='int') \n",
        "y_train_new = np.zeros(len(y_train),dtype ='int')\n",
        "y_valid_new = np.zeros(len(y_valid),dtype ='int')\n",
        "\n",
        "y_test_new[y_test == 3] = 1\n",
        "y_train_new[y_train == 3] = 1\n",
        "y_valid_new[y_valid == 3] = 1\n",
        "\n",
        "clf_rbf_new = SVC(kernel='rbf',gamma = 10**val,probability=True)\n",
        "clf_rbf_new.fit(X_train, y_train_new)\n",
        "\n",
        "print(clf_rbf_new.n_support_ )\n",
        "\n",
        "\n",
        "y_pred_rbf = clf_rbf_new.predict(X_test)\n",
        "n, bins, patches = plt.hist(y_pred_rbf, 50, density=True, facecolor='g', alpha=0.75)\n",
        "plt.show()\n",
        "y_test_rbf_score = clf_rbf_new.predict_proba(X_test)[:,1]\n",
        "acc_test, f1, precision, recall = eval(y_pred_rbf,y_test_new)\n",
        "confuse_test_2 = confusion_matrix(y_test_new, y_pred_rbf)\n",
        "confuse_test_2 = confuse_test/confuse_test.sum(axis = 1)\n",
        "print(confuse_test_2.shape)\n",
        "fpr_test, tpr_test, thresholds_test = roc_curve(y_test_new,y_test_rbf_score)\n",
        "\n",
        "y_pred_rbf = clf_rbf_new.predict(X_valid)\n",
        "y_valid_rbf_score = clf_rbf_new.predict_proba(X_valid)[:,1]\n",
        "acc_val, f1, precision, recall = eval(y_pred_rbf,y_valid_new)\n",
        "confuse_val_2 = confusion_matrix(y_valid_new, y_pred_rbf)\n",
        "confuse_val_2 = confuse_val/confuse_val.sum(axis = 1)\n",
        "fpr_valid, tpr_valid, thresholds_valid = roc_curve(y_valid_new,y_valid_rbf_score)\n",
        "\n",
        "y_pred_rbf = clf_rbf_new.predict(X_train)\n",
        "y_train_rbf_score = clf_rbf_new.predict_proba(X_train)[:,1]\n",
        "acc_train, f1, precision, recall = eval(y_pred_rbf,y_train_new)\n",
        "confuse_train_2 = confusion_matrix(y_train_new, y_pred_rbf)\n",
        "confuse_train_2 = confuse_train/confuse_train.sum(axis = 1)\n",
        "fpr_train, tpr_train, thresholds_train = roc_curve(y_train_new,y_train_rbf_score)\n",
        "\n",
        "print('###################################################')\n",
        "print('train')\n",
        "df_train = pd.DataFrame(data=confuse_train_2 )\n",
        "ax = sns.heatmap(df_train, annot=True, fmt=\"g\")\n",
        "plt.show()\n",
        "\n",
        "print('###################################################')\n",
        "print('valid')\n",
        "df_valid = pd.DataFrame(data=confuse_val_2 )\n",
        "ax = sns.heatmap(df_valid , annot=True, fmt=\"g\")\n",
        "plt.show()\n",
        "\n",
        "print('###################################################')\n",
        "print('test')\n",
        "df_test = pd.DataFrame(data=confuse_test_2)\n",
        "ax = sns.heatmap(df_test, annot=True, fmt=\"g\")\n",
        "plt.show()\n",
        "\n",
        "print('###################################################')\n",
        "'''\n",
        "plt.plot(fpr_train,tpr_train,label=\"train\")\n",
        "plt.plot(fpr_valid,tpr_valid,label=\"valid\")\n",
        "plt.plot(fpr_test,tpr_test,label=\"test\")\n",
        "plt.legend(bbox_to_anchor=(1.05, 1), loc='upper right', borderaxespad=0.)\n",
        "plt.show()\n",
        "'''\n",
        "\n"
      ],
      "execution_count": 0,
      "outputs": []
    },
    {
      "metadata": {
        "id": "tCAxMyD1SRVK",
        "colab_type": "code",
        "colab": {}
      },
      "cell_type": "code",
      "source": [
        "## TODO#7 ##\n",
        "\n",
        "val = -5\n",
        "\n",
        "clf_rbf_all = SVC(kernel='rbf',gamma = 10**val,probability=True)\n",
        "clf_rbf_all.fit(X_train, y_train)\n",
        "y_pred_rbf = clf_rbf_all.predict(X_test)\n",
        "y_test_rbf_score = clf_rbf_all.predict_proba(X_test)[:,1]\n",
        "acc_test, f1, precision, recall = eval(y_pred_rbf,y_test)\n",
        "confuse_test = confusion_matrix(y_test, y_pred_rbf)\n",
        "confuse_test = confuse_test/confuse_test.sum(axis = 1)\n",
        "\n",
        "y_pred_rbf = clf_rbf_all.predict(X_valid)\n",
        "y_valid_rbf_score = clf_rbf_all.predict_proba(X_valid)[:,1]\n",
        "acc_val, f1, precision, recall = eval(y_pred_rbf,y_valid)\n",
        "confuse_val = confusion_matrix(y_valid, y_pred_rbf)\n",
        "confuse_val = confuse_val/confuse_val.sum(axis = 1)\n",
        "\n",
        "y_pred_rbf = clf_rbf_all.predict(X_train)\n",
        "y_train_rbf_score = clf_rbf_all.predict_proba(X_train)[:,1]\n",
        "acc_train, f1, precision, recall = eval(y_pred_rbf,y_train)\n",
        "confuse_train = confusion_matrix(y_train, y_pred_rbf)\n",
        "confuse_train = confuse_train/confuse_train.sum(axis = 1)\n",
        "\n",
        "print('###################################################')\n",
        "print('train')\n",
        "df_train_2 = pd.DataFrame(data=confuse_train, index=key_virus, columns = key_virus)\n",
        "ax = sns.heatmap(df_train_2, annot=True, fmt=\"g\")\n",
        "plt.show()\n",
        "\n",
        "print('###################################################')\n",
        "print('valid')\n",
        "df_valid_2 = pd.DataFrame(data=confuse_val, index=key_virus, columns = key_virus)\n",
        "ax = sns.heatmap(df_valid_2 , annot=True, fmt=\"g\")\n",
        "plt.show()\n",
        "\n",
        "print('###################################################')\n",
        "print('test')\n",
        "df_test_2 = pd.DataFrame(data=confuse_test, index=key_virus, columns = key_virus)\n",
        "ax = sns.heatmap(df_test_2, annot=True, fmt=\"g\")\n",
        "plt.show()\n",
        "\n"
      ],
      "execution_count": 0,
      "outputs": []
    },
    {
      "metadata": {
        "id": "LPY3KXY4Fe0n",
        "colab_type": "code",
        "colab": {}
      },
      "cell_type": "code",
      "source": [
        "## TODO#8 ##"
      ],
      "execution_count": 0,
      "outputs": []
    },
    {
      "metadata": {
        "id": "IwMKbeLlEGjg",
        "colab_type": "code",
        "colab": {}
      },
      "cell_type": "code",
      "source": [
        "df_cut = df.copy()\n",
        "sub_Sequences = [x[8000:10001] for x in df_cut['Sequences'].values]\n",
        "df_cut['sub_Sequences'] = sub_Sequences\n",
        "df_cut = df_cut[['sub_Sequences','Label']]\n",
        "\n",
        "df_cut.rename(columns={'sub_Sequences': 'Sequences'}, inplace=True)\n",
        "\n",
        "df_cut_train, df_cut_valid, df_cut_test = splitTrainTest(df_cut)\n",
        "df_cut_train = df_cut_train.reset_index(drop=True)\n",
        "df_cut_valid = df_cut_valid.reset_index(drop=True)\n",
        "df_cut_test = df_cut_test.reset_index(drop=True)\n",
        "\n",
        "X_train_key_seq, y_train_key_seq = createGramDataset(df_cut_train, 5, 2000, True)\n",
        "X_valid_key_seq, y_valid_key_seq = createGramDataset(df_cut_valid, 5, 2000, False)\n",
        "X_test_key_seq, y_test_key_seq = createGramDataset(df_cut_test, 5, 2000, False)\n",
        "\n",
        "y_train_key_seq = buildLabel(y_train_key_seq,key_virus)\n",
        "y_valid_key_seq = buildLabel(y_valid_key_seq,key_virus)\n",
        "y_test_key_seq = buildLabel(y_test_key_seq,key_virus)\n",
        "\n",
        "X_train_key_seq, y_train_key_seq = shuffle(X_train_key_seq, y_train_key_seq, random_state=seed)\n"
      ],
      "execution_count": 0,
      "outputs": []
    },
    {
      "metadata": {
        "id": "gCzubkWHErzs",
        "colab_type": "code",
        "colab": {}
      },
      "cell_type": "code",
      "source": [
        "a = range(-7,0)\n",
        "acc_train = np.zeros((7,))\n",
        "acc_val = np.zeros((7,))\n",
        "acc_test = np.zeros((7,))\n",
        "for idx, val in enumerate(a):\n",
        "  clf_rbf = SVC(kernel='rbf',gamma = 10**val,probability=True)\n",
        "  clf_rbf.fit(X_train_key_seq, y_train_key_seq)\n",
        "  y_pred_rbf = clf_rbf.predict(X_test_key_seq)\n",
        "  acc_test[idx], f1, precision, recall = eval(y_pred_rbf,y_test_key_seq)\n",
        "  y_pred_rbf = clf_rbf.predict(X_valid_key_seq)\n",
        "  acc_val[idx], f1, precision, recall = eval(y_pred_rbf,y_valid_key_seq)\n",
        "  y_pred_rbf = clf_rbf.predict(X_train_key_seq)\n",
        "  acc_train[idx], f1, precision, recall = eval(y_pred_rbf,y_train_key_seq)\n",
        "  \n",
        "  \n",
        "  "
      ],
      "execution_count": 0,
      "outputs": []
    },
    {
      "metadata": {
        "id": "YSC9qAQGGT-2",
        "colab_type": "code",
        "colab": {
          "base_uri": "https://localhost:8080/",
          "height": 85
        },
        "outputId": "5081e32a-553c-4a7a-f683-4ec050b569ed"
      },
      "cell_type": "code",
      "source": [
        "df_cut = df.copy()\n",
        "sub_Sequences = [x[6000:8001] for x in df_cut['Sequences'].values]\n",
        "df_cut['sub_Sequences'] = sub_Sequences\n",
        "df_cut = df_cut[['sub_Sequences','Label']]\n",
        "\n",
        "df_cut.rename(columns={'sub_Sequences': 'Sequences'}, inplace=True)\n",
        "\n",
        "df_cut_train, df_cut_valid, df_cut_test = splitTrainTest(df_cut)\n",
        "df_cut_train = df_cut_train.reset_index(drop=True)\n",
        "df_cut_valid = df_cut_valid.reset_index(drop=True)\n",
        "df_cut_test = df_cut_test.reset_index(drop=True)\n",
        "\n",
        "X_train_key_seq, y_train_key_seq = createGramDataset(df_cut_train, 5, 2000, True)\n",
        "X_valid_key_seq, y_valid_key_seq = createGramDataset(df_cut_valid, 5, 2000, False)\n",
        "X_test_key_seq, y_test_key_seq = createGramDataset(df_cut_test, 5, 2000, False)\n",
        "\n",
        "y_train_key_seq = buildLabel(y_train_key_seq,key_virus)\n",
        "y_valid_key_seq = buildLabel(y_valid_key_seq,key_virus)\n",
        "y_test_key_seq = buildLabel(y_test_key_seq,key_virus)\n",
        "\n",
        "X_train_key_seq, y_train_key_seq = shuffle(X_train_key_seq, y_train_key_seq, random_state=seed)\n",
        "\n",
        "clf = SVC(kernel ='linear')\n",
        "clf.fit(X_train_key_seq, y_train_key_seq)\n",
        "y_pred = clf.predict(X_test_key_seq)\n",
        "\n",
        "acc, f1, precision, recall = eval(y_pred,y_test_key_seq)\n",
        "print('accuracy :',acc)\n",
        "print('f1 :',f1)\n",
        "print('precision :',precision)\n",
        "print('recall :',recall)"
      ],
      "execution_count": 80,
      "outputs": [
        {
          "output_type": "stream",
          "text": [
            "accuracy : 0.948936170212766\n",
            "f1 : 0.9473153009633499\n",
            "precision : 0.9611558515518569\n",
            "recall : 0.935782232473409\n"
          ],
          "name": "stdout"
        }
      ]
    },
    {
      "metadata": {
        "id": "ylop-vCWGcWA",
        "colab_type": "code",
        "colab": {
          "base_uri": "https://localhost:8080/",
          "height": 493
        },
        "outputId": "e51dc099-a1eb-481d-877c-0e20b710fa24"
      },
      "cell_type": "code",
      "source": [
        "a = range(-7,0)\n",
        "acc_train = np.zeros((7,))\n",
        "acc_val = np.zeros((7,))\n",
        "acc_test = np.zeros((7,))\n",
        "for idx, val in enumerate(a):\n",
        "  clf_rbf = SVC(kernel='rbf',gamma = 10**val)\n",
        "  clf_rbf.fit(X_train_key_seq, y_train_key_seq)\n",
        "  y_pred_rbf = clf_rbf.predict(X_test_key_seq)\n",
        "  acc_test[idx], f1, precision, recall = eval(y_pred_rbf,y_test_key_seq)\n",
        "  y_pred_rbf = clf_rbf.predict(X_valid_key_seq)\n",
        "  acc_val[idx], f1, precision, recall = eval(y_pred_rbf,y_valid_key_seq)\n",
        "  y_pred_rbf = clf_rbf.predict(X_train_key_seq)\n",
        "  acc_train[idx], f1, precision, recall = eval(y_pred_rbf,y_train_key_seq)"
      ],
      "execution_count": 81,
      "outputs": [
        {
          "output_type": "stream",
          "text": [
            "/usr/local/lib/python3.6/dist-packages/sklearn/metrics/classification.py:1143: UndefinedMetricWarning: F-score is ill-defined and being set to 0.0 in labels with no predicted samples.\n",
            "  'precision', 'predicted', average, warn_for)\n",
            "/usr/local/lib/python3.6/dist-packages/sklearn/metrics/classification.py:1143: UndefinedMetricWarning: Precision is ill-defined and being set to 0.0 in labels with no predicted samples.\n",
            "  'precision', 'predicted', average, warn_for)\n",
            "/usr/local/lib/python3.6/dist-packages/sklearn/metrics/classification.py:1143: UndefinedMetricWarning: F-score is ill-defined and being set to 0.0 in labels with no predicted samples.\n",
            "  'precision', 'predicted', average, warn_for)\n",
            "/usr/local/lib/python3.6/dist-packages/sklearn/metrics/classification.py:1143: UndefinedMetricWarning: Precision is ill-defined and being set to 0.0 in labels with no predicted samples.\n",
            "  'precision', 'predicted', average, warn_for)\n",
            "/usr/local/lib/python3.6/dist-packages/sklearn/metrics/classification.py:1143: UndefinedMetricWarning: F-score is ill-defined and being set to 0.0 in labels with no predicted samples.\n",
            "  'precision', 'predicted', average, warn_for)\n",
            "/usr/local/lib/python3.6/dist-packages/sklearn/metrics/classification.py:1143: UndefinedMetricWarning: Precision is ill-defined and being set to 0.0 in labels with no predicted samples.\n",
            "  'precision', 'predicted', average, warn_for)\n",
            "/usr/local/lib/python3.6/dist-packages/sklearn/metrics/classification.py:1143: UndefinedMetricWarning: F-score is ill-defined and being set to 0.0 in labels with no predicted samples.\n",
            "  'precision', 'predicted', average, warn_for)\n",
            "/usr/local/lib/python3.6/dist-packages/sklearn/metrics/classification.py:1143: UndefinedMetricWarning: Precision is ill-defined and being set to 0.0 in labels with no predicted samples.\n",
            "  'precision', 'predicted', average, warn_for)\n",
            "/usr/local/lib/python3.6/dist-packages/sklearn/metrics/classification.py:1143: UndefinedMetricWarning: F-score is ill-defined and being set to 0.0 in labels with no predicted samples.\n",
            "  'precision', 'predicted', average, warn_for)\n",
            "/usr/local/lib/python3.6/dist-packages/sklearn/metrics/classification.py:1143: UndefinedMetricWarning: Precision is ill-defined and being set to 0.0 in labels with no predicted samples.\n",
            "  'precision', 'predicted', average, warn_for)\n",
            "/usr/local/lib/python3.6/dist-packages/sklearn/metrics/classification.py:1143: UndefinedMetricWarning: F-score is ill-defined and being set to 0.0 in labels with no predicted samples.\n",
            "  'precision', 'predicted', average, warn_for)\n",
            "/usr/local/lib/python3.6/dist-packages/sklearn/metrics/classification.py:1143: UndefinedMetricWarning: Precision is ill-defined and being set to 0.0 in labels with no predicted samples.\n",
            "  'precision', 'predicted', average, warn_for)\n",
            "/usr/local/lib/python3.6/dist-packages/sklearn/metrics/classification.py:1143: UndefinedMetricWarning: F-score is ill-defined and being set to 0.0 in labels with no predicted samples.\n",
            "  'precision', 'predicted', average, warn_for)\n",
            "/usr/local/lib/python3.6/dist-packages/sklearn/metrics/classification.py:1143: UndefinedMetricWarning: Precision is ill-defined and being set to 0.0 in labels with no predicted samples.\n",
            "  'precision', 'predicted', average, warn_for)\n"
          ],
          "name": "stderr"
        }
      ]
    },
    {
      "metadata": {
        "id": "Actpyj4HGfdI",
        "colab_type": "code",
        "colab": {
          "base_uri": "https://localhost:8080/",
          "height": 364
        },
        "outputId": "1b8afac9-4d84-4894-fe60-12c81532712a"
      },
      "cell_type": "code",
      "source": [
        "plt.plot(a,acc_test,'r')\n",
        "plt.plot(a,acc_val,'g')\n",
        "plt.plot(a,acc_train,'b')\n",
        "plt.legend(('test', 'val', 'train'),loc='upper right')\n",
        "plt.show()\n",
        "\n",
        "print(np.max(acc_test))"
      ],
      "execution_count": 82,
      "outputs": [
        {
          "output_type": "display_data",
          "data": {
            "image/png": "[encoded data removed]",
            "text/plain": [
              "<Figure size 576x396 with 1 Axes>"
            ]
          },
          "metadata": {
            "tags": []
          }
        },
        {
          "output_type": "stream",
          "text": [
            "0.9702127659574468\n"
          ],
          "name": "stdout"
        }
      ]
    },
    {
      "metadata": {
        "id": "gUUph7O1Gd3K",
        "colab_type": "code",
        "colab": {}
      },
      "cell_type": "code",
      "source": [
        "## TODO#9 ##\n",
        "df_train, df_valid, df_test = splitTrainTest(df)\n",
        "df_train = df_train.reset_index(drop=True)\n",
        "df_valid = df_valid.reset_index(drop=True)\n",
        "df_test = df_test.reset_index(drop=True)\n",
        "\n",
        "X_train_key_seq, y_train_key_seq = createGramDataset(df_train, 5, 20000, True)\n",
        "X_valid_key_seq, y_valid_key_seq = createGramDataset(df_valid, 5, 20000, False)\n",
        "X_test_key_seq, y_test_key_seq = createGramDataset(df_test, 5, 20000, False)\n",
        "\n",
        "y_train_key_seq = buildLabel(y_train_key_seq,key_virus)\n",
        "y_valid_key_seq = buildLabel(y_valid_key_seq,key_virus)\n",
        "y_test_key_seq = buildLabel(y_test_key_seq,key_virus)\n",
        "\n",
        "X_train_key_seq, y_train_key_seq = shuffle(X_train_key_seq, y_train_key_seq, random_state=seed)"
      ],
      "execution_count": 0,
      "outputs": []
    },
    {
      "metadata": {
        "id": "g44MNc73LfOT",
        "colab_type": "code",
        "colab": {}
      },
      "cell_type": "code",
      "source": [
        "train_acc = [] \n",
        "test_acc = []\n",
        "number_sv = []\n",
        "runtime = []\n",
        "\n",
        "a = range(-4,4)\n",
        "\n",
        "for idx,val in enumerate(a):\n",
        "  clf = SVC(gamma='auto',C=10**val,probability=True)\n",
        "  start_time = time.time()\n",
        "  for runs in range(10):\n",
        "    clf.fit(X_train_key_seq, y_train_key_seq)\n",
        "  end_time = time.time()\n",
        "  y_pred_train = clf.predict(X_train_key_seq)\n",
        "  y_pred = clf.predict(X_test_key_seq)"
      ],
      "execution_count": 0,
      "outputs": []
    },
    {
      "metadata": {
        "id": "bwvHnZS1I-69",
        "colab_type": "code",
        "colab": {}
      },
      "cell_type": "code",
      "source": [
        "plt.plot(a, np.array(train_acc), 'r', a, np.array(test_acc), 'b')\n",
        "plt.legend(('train', 'test'),loc='upper right')\n",
        "plt.show()\n",
        "\n",
        "plt.plot(a, np.array(number_sv), 'r')\n",
        "plt.show()\n",
        "\n",
        "plt.plot(a, np.array(runtime), 'r')\n",
        "plt.show()"
      ],
      "execution_count": 0,
      "outputs": []
    },
    {
      "metadata": {
        "id": "L9bzXIBCODAD",
        "colab_type": "text"
      },
      "cell_type": "markdown",
      "source": [
        "<details>\n",
        "    <summary>SOLUTION HERE!</summary>\n",
        "      <pre>\n",
        "        <code>\n",
        "df_train, df_valid, df_test = splitTrainTest(df)\n",
        "df_train = df_train.reset_index(drop=True)\n",
        "df_valid = df_valid.reset_index(drop=True)\n",
        "df_test = df_test.reset_index(drop=True)\n",
        "\n",
        "X_train_key_seq, y_train_key_seq = createGramDataset(df_train, 5, 20000, True)\n",
        "X_valid_key_seq, y_valid_key_seq = createGramDataset(df_valid, 5, 20000, False)\n",
        "X_test_key_seq, y_test_key_seq = createGramDataset(df_test, 5, 20000, False)\n",
        "\n",
        "y_train_key_seq = buildLabel(y_train_key_seq,key_virus)\n",
        "y_valid_key_seq = buildLabel(y_valid_key_seq,key_virus)\n",
        "y_test_key_seq = buildLabel(y_test_key_seq,key_virus)\n",
        "\n",
        "X_train_key_seq, y_train_key_seq = shuffle(X_train_key_seq, y_train_key_seq, random_state=seed)\n",
        "\n",
        "train_acc = [] \n",
        "test_acc = []\n",
        "number_sv = []\n",
        "runtime = []\n",
        "\n",
        "a = range(-4,4)\n",
        "\n",
        "for idx,val in enumerate(a):\n",
        "  clf = SVC(gamma='auto',C=10**val)\n",
        "  start_time = time.time()\n",
        "  for runs in range(10):\n",
        "    clf.fit(X_train_key_seq, y_train_key_seq)\n",
        "  end_time = time.time()\n",
        "  y_pred_train = clf.predict(X_train_key_seq)\n",
        "  y_pred = clf.predict(X_test_key_seq)\n",
        "  \n",
        "  number_sv.append(np.sum(clf.n_support_))\n",
        "  acc_train, _, _, _ = evluate(y_pred_train,y_train_key_seq)\n",
        "  acc_test, _, _, _ = evluate(y_pred,y_test_key_seq)\n",
        "  train_acc.append(acc_train)\n",
        "  test_acc.append(acc_test)\n",
        "  runtime.append((end_time - start_time)/10)\n",
        "  \n",
        "plt.plot(a, np.array(train_acc), 'r', a, np.array(test_acc), 'b')\n",
        "plt.legend(('train', 'test'),loc='upper right')\n",
        "plt.show()\n",
        "\n",
        "plt.plot(a, np.array(number_sv), 'r')\n",
        "plt.show()\n",
        "\n",
        "plt.plot(a, np.array(runtime), 'r')\n",
        "plt.show()\n",
        "        </code>\n",
        "      </pre>\n",
        "</details>"
      ]
    }
  ]
}