{
  "nbformat": 4,
  "nbformat_minor": 0,
  "metadata": {
    "colab": {
      "name": "hw4_virus_SVMForNectec_pca_tsne.ipynb",
      "version": "0.3.2",
      "provenance": [],
      "collapsed_sections": [],
      "include_colab_link": true
    },
    "kernelspec": {
      "display_name": "Python 3",
      "language": "python",
      "name": "python3"
    }
  },
  "cells": [
    {
      "cell_type": "markdown",
      "metadata": {
        "id": "view-in-github",
        "colab_type": "text"
      },
      "source": [
        "<a href=\"https://colab.research.google.com/github/Pataweepr/applyML_vistec_2019/blob/master/hw4_virus_SVMForNectec_pca_tsne.ipynb\" target=\"_parent\"><img src=\"https://colab.research.google.com/assets/colab-badge.svg\" alt=\"Open In Colab\"/></a>"
      ]
    },
    {
      "metadata": {
        "id": "oPS1-2OQUBeZ",
        "colab_type": "text"
      },
      "cell_type": "markdown",
      "source": [
        "#  [SVM](https://scikit-learn.org/stable/modules/svm.html)"
      ]
    },
    {
      "metadata": {
        "id": "Vl0AS5E4RQsE",
        "colab_type": "text"
      },
      "cell_type": "markdown",
      "source": [
        "## [k-mer](https://en.wikipedia.org/wiki/K-mer)"
      ]
    },
    {
      "metadata": {
        "id": "YldhiIUZSRTr",
        "colab_type": "code",
        "colab": {}
      },
      "cell_type": "code",
      "source": [
        "import numpy as np\n",
        "import pandas as pd\n",
        "import matplotlib.pyplot as plt\n",
        "import itertools\n",
        "import collections\n",
        "import csv\n",
        "\n",
        "from sklearn.model_selection import train_test_split\n",
        "from sklearn.metrics import roc_curve, auc\n",
        "from sklearn.metrics import confusion_matrix\n",
        "from sklearn.utils import shuffle\n",
        "import seaborn as sns\n",
        "from IPython.display import display\n",
        "from scipy.stats import mode\n",
        "\n",
        "seed = 976\n",
        "length = 20000\n",
        "np.random.seed(seed)"
      ],
      "execution_count": 0,
      "outputs": []
    },
    {
      "metadata": {
        "id": "OWp2rKXZaELV",
        "colab_type": "code",
        "colab": {}
      },
      "cell_type": "code",
      "source": [
        "!pip install -U -q PyDrive\n",
        "\n",
        "from pydrive.auth import GoogleAuth\n",
        "from pydrive.drive import GoogleDrive\n",
        "from google.colab import auth\n",
        "from oauth2client.client import GoogleCredentials\n",
        "\n",
        "# 1. Authenticate and create the PyDrive client.\n",
        "auth.authenticate_user()\n",
        "gauth = GoogleAuth()\n",
        "gauth.credentials = GoogleCredentials.get_application_default()\n",
        "drive = GoogleDrive(gauth)\n",
        "\n",
        "\n"
      ],
      "execution_count": 0,
      "outputs": []
    },
    {
      "metadata": {
        "id": "gOc_pdz2SRT4",
        "colab_type": "code",
        "colab": {}
      },
      "cell_type": "code",
      "source": [
        "developer_brand_downloaded = drive.CreateFile({'id': '1tb1pvtUNqx3r4FVbNsRKum2hwaLOIYmO'})\n",
        "developer_brand_downloaded.GetContentFile('Chosen_Data_clearToN.csv')\n",
        "df = pd.read_csv(\"Chosen_Data_clearToN.csv\")"
      ],
      "execution_count": 0,
      "outputs": []
    },
    {
      "metadata": {
        "id": "vJd89780SRUB",
        "colab_type": "code",
        "outputId": "58b9e801-c9eb-414d-945e-d2c30f693d95",
        "colab": {
          "base_uri": "https://localhost:8080/",
          "height": 204
        }
      },
      "cell_type": "code",
      "source": [
        "df = df[[\"Sequences\", \"Label\"]]\n",
        "df.head()"
      ],
      "execution_count": 48,
      "outputs": [
        {
          "output_type": "execute_result",
          "data": {
            "text/html": [
              "<div>\n",
              "<style scoped>\n",
              "    .dataframe tbody tr th:only-of-type {\n",
              "        vertical-align: middle;\n",
              "    }\n",
              "\n",
              "    .dataframe tbody tr th {\n",
              "        vertical-align: top;\n",
              "    }\n",
              "\n",
              "    .dataframe thead th {\n",
              "        text-align: right;\n",
              "    }\n",
              "</style>\n",
              "<table border=\"1\" class=\"dataframe\">\n",
              "  <thead>\n",
              "    <tr style=\"text-align: right;\">\n",
              "      <th></th>\n",
              "      <th>Sequences</th>\n",
              "      <th>Label</th>\n",
              "    </tr>\n",
              "  </thead>\n",
              "  <tbody>\n",
              "    <tr>\n",
              "      <th>0</th>\n",
              "      <td>AGCCAGGGACGTGTTGTATCCTNGGCAGTGGCCCACCCATAGGTCA...</td>\n",
              "      <td>hku</td>\n",
              "    </tr>\n",
              "    <tr>\n",
              "      <th>1</th>\n",
              "      <td>TGGGGATTGTGAGCGATTTGCGTGCGTGCATCCCGCTTCACTGATC...</td>\n",
              "      <td>hku</td>\n",
              "    </tr>\n",
              "    <tr>\n",
              "      <th>2</th>\n",
              "      <td>GACTAAAGATAAAAATTATAGCATTAGTCTATAATTTTATCTCCCT...</td>\n",
              "      <td>hku</td>\n",
              "    </tr>\n",
              "    <tr>\n",
              "      <th>3</th>\n",
              "      <td>GACTAAAGATAAAAATTATAGCATTAGTCTATAATTTTATCTCCCT...</td>\n",
              "      <td>hku</td>\n",
              "    </tr>\n",
              "    <tr>\n",
              "      <th>4</th>\n",
              "      <td>GACAAAGTTCAAAAATATATATATATATATTTTTTGCAACTCCTAG...</td>\n",
              "      <td>hku</td>\n",
              "    </tr>\n",
              "  </tbody>\n",
              "</table>\n",
              "</div>"
            ],
            "text/plain": [
              "                                           Sequences Label\n",
              "0  AGCCAGGGACGTGTTGTATCCTNGGCAGTGGCCCACCCATAGGTCA...   hku\n",
              "1  TGGGGATTGTGAGCGATTTGCGTGCGTGCATCCCGCTTCACTGATC...   hku\n",
              "2  GACTAAAGATAAAAATTATAGCATTAGTCTATAATTTTATCTCCCT...   hku\n",
              "3  GACTAAAGATAAAAATTATAGCATTAGTCTATAATTTTATCTCCCT...   hku\n",
              "4  GACAAAGTTCAAAAATATATATATATATATTTTTTGCAACTCCTAG...   hku"
            ]
          },
          "metadata": {
            "tags": []
          },
          "execution_count": 48
        }
      ]
    },
    {
      "metadata": {
        "id": "lyF9V9moSRUL",
        "colab_type": "code",
        "outputId": "0688b187-6697-4741-bdef-ddbb475e227a",
        "colab": {
          "base_uri": "https://localhost:8080/",
          "height": 34
        }
      },
      "cell_type": "code",
      "source": [
        "key_virus = df[\"Label\"].value_counts().index\n",
        "print(key_virus)"
      ],
      "execution_count": 49,
      "outputs": [
        {
          "output_type": "stream",
          "text": [
            "Index(['mers', 'sars', 'hku', 'oc43', 'nl63', '229e'], dtype='object')\n"
          ],
          "name": "stdout"
        }
      ]
    },
    {
      "metadata": {
        "id": "8D9eZrCBSRUZ",
        "colab_type": "code",
        "colab": {}
      },
      "cell_type": "code",
      "source": [
        "def splitTrainTest(data):\n",
        "  keyDatas = data[\"Label\"].value_counts().keys()\n",
        "  train = pd.DataFrame()\n",
        "  valid = pd.DataFrame()\n",
        "  test = pd.DataFrame()\n",
        "  chk = 0\n",
        "  for k in keyDatas:\n",
        "    tmp = data[data[\"Label\"]==k]\n",
        "    tmp_train, tmp_test = train_test_split(tmp, test_size=2/5, random_state=seed)\n",
        "    tmp_train, tmp_valid = train_test_split(tmp_train, test_size=1/6, random_state=seed)\n",
        "    train = train.append(tmp_train)\n",
        "    valid = valid.append(tmp_valid)\n",
        "    test = test.append(tmp_test)\n",
        "  return train, valid, test"
      ],
      "execution_count": 0,
      "outputs": []
    },
    {
      "metadata": {
        "id": "GwxCgJOnSRUf",
        "colab_type": "code",
        "colab": {}
      },
      "cell_type": "code",
      "source": [
        "df_train, df_valid, df_test = splitTrainTest(df)\n",
        "df_train = df_train.reset_index(drop=True)\n",
        "df_valid = df_valid.reset_index(drop=True)\n",
        "df_test = df_test.reset_index(drop=True)"
      ],
      "execution_count": 0,
      "outputs": []
    },
    {
      "metadata": {
        "id": "r5Raum4ASvet",
        "colab_type": "text"
      },
      "cell_type": "markdown",
      "source": [
        "## [itertools.product](https://www.hackerrank.com/challenges/itertools-product/problem)"
      ]
    },
    {
      "metadata": {
        "id": "XV6OOdEiSRUk",
        "colab_type": "code",
        "colab": {}
      },
      "cell_type": "code",
      "source": [
        "def createGram(sequence, gram=5):\n",
        "  nGram = dict.fromkeys([\"\".join(x) for x in itertools.product(\"ACTG\",repeat=gram) ],0)\n",
        "  for i in  range(len(sequence)-gram+1):\n",
        "    if \"N\" not in str([sequence[i:i+gram]]):\n",
        "      nGram[sequence[i:i+gram]]+=1\n",
        "#     return np.array(list(nGram.values()))/((len(sequence)-gram+1))\n",
        "  return np.array(list(nGram.values()))\n",
        "\n",
        "def createFrequence(data, gram=5, length=10000, train=False):\n",
        "  frequence = []\n",
        "  label = []\n",
        "\n",
        "  if(train):\n",
        "    ### Upsampling\n",
        "    max_sam = data[\"Label\"].value_counts()[0]\n",
        "    for i in data[\"Label\"].value_counts().keys():\n",
        "      tmp_virus = data[data[\"Label\"]==i]\n",
        "      tmp_virus = tmp_virus.reset_index(drop=True)\n",
        "      for j in range(0, max_sam//len(tmp_virus)):\n",
        "        for k in range(len(tmp_virus)):\n",
        "          if(len(tmp_virus[\"Sequences\"][k])-length == 0):\n",
        "            rand_int = 0\n",
        "          else:\n",
        "            rand_int = np.random.randint(len(tmp_virus[\"Sequences\"][k])-length)\n",
        "          selected_sequence = tmp_virus[\"Sequences\"][k][rand_int:rand_int+length]\n",
        "          frequence.append(createGram(tmp_virus[\"Sequences\"][k]))\n",
        "          label.append(i)\n",
        "  else:\n",
        "    for k in range(len(data)):\n",
        "      if (len(data[\"Sequences\"][k])-length == 0) :\n",
        "        rand_int = 0\n",
        "      else:\n",
        "        rand_int = np.random.randint(len(data[\"Sequences\"][k])-length)\n",
        "      selected_sequence = data[\"Sequences\"][k][rand_int:rand_int+length]\n",
        "    #             frequence.append(createGram(selected_sequence))\n",
        "      frequence.append(createGram(data[\"Sequences\"][k]))\n",
        "      label.append(data[\"Label\"][k])\n",
        "\n",
        "  return np.array(frequence), label"
      ],
      "execution_count": 0,
      "outputs": []
    },
    {
      "metadata": {
        "id": "j3TBJVUrSRUo",
        "colab_type": "code",
        "colab": {}
      },
      "cell_type": "code",
      "source": [
        "X_train, y_train = createFrequence(df_train, 5, length, True)\n",
        "X_valid, y_valid = createFrequence(df_valid, 5, length, False)\n",
        "X_test, y_test = createFrequence(df_test, 5, length, False)"
      ],
      "execution_count": 0,
      "outputs": []
    },
    {
      "metadata": {
        "id": "Ks3KnaP-SRU6",
        "colab_type": "code",
        "colab": {}
      },
      "cell_type": "code",
      "source": [
        "def buildLabel(y_str_label,key_virus_label):\n",
        "  nplabel = []\n",
        "  for lab in y_str_label:\n",
        "    for i in np.arange(len(key_virus_label)):\n",
        "      if(lab == key_virus_label[i]):\n",
        "        nplabel.append(i+1)\n",
        "        break\n",
        "  return np.array(nplabel)"
      ],
      "execution_count": 0,
      "outputs": []
    },
    {
      "metadata": {
        "id": "4J_Hajs0LeaT",
        "colab_type": "code",
        "colab": {}
      },
      "cell_type": "code",
      "source": [
        "from sklearn.metrics import f1_score, precision_score, recall_score, accuracy_score\n",
        "\n",
        "def evluate(y_pred,y_test):\n",
        "  acc = accuracy_score(y_test, y_pred)\n",
        "  f1 = f1_score(y_test, y_pred, average='macro') \n",
        "  prec = precision_score(y_test, y_pred, average='macro') \n",
        "  recall = recall_score(y_test, y_pred, average='macro') \n",
        "  return acc, f1, prec, recall"
      ],
      "execution_count": 0,
      "outputs": []
    },
    {
      "metadata": {
        "id": "DuAFbBKGSRU9",
        "colab_type": "code",
        "colab": {}
      },
      "cell_type": "code",
      "source": [
        "y_train = buildLabel(y_train,key_virus)\n",
        "y_valid = buildLabel(y_valid,key_virus)\n",
        "y_test = buildLabel(y_test,key_virus)\n",
        "# print(y_train)"
      ],
      "execution_count": 0,
      "outputs": []
    },
    {
      "metadata": {
        "id": "PXHRzNGISRU_",
        "colab_type": "code",
        "outputId": "3801011c-2515-44e5-fc7a-119d97516315",
        "colab": {
          "base_uri": "https://localhost:8080/",
          "height": 136
        }
      },
      "cell_type": "code",
      "source": [
        "pd.Series(y_train).value_counts()"
      ],
      "execution_count": 57,
      "outputs": [
        {
          "output_type": "execute_result",
          "data": {
            "text/plain": [
              "1    220\n",
              "5    217\n",
              "4    207\n",
              "6    204\n",
              "3    168\n",
              "2    160\n",
              "dtype: int64"
            ]
          },
          "metadata": {
            "tags": []
          },
          "execution_count": 57
        }
      ]
    },
    {
      "metadata": {
        "id": "21KP26jfSRVD",
        "colab_type": "code",
        "colab": {}
      },
      "cell_type": "code",
      "source": [
        "X_train, y_train = shuffle(X_train, y_train, random_state=seed)"
      ],
      "execution_count": 0,
      "outputs": []
    },
    {
      "metadata": {
        "id": "tCAxMyD1SRVK",
        "colab_type": "code",
        "outputId": "6ef67a7e-08f1-441f-f1c9-6b58eace835b",
        "colab": {
          "base_uri": "https://localhost:8080/",
          "height": 71
        }
      },
      "cell_type": "code",
      "source": [
        "from sklearn.svm import SVC\n",
        "clf = SVC()\n",
        "clf.fit(X_train, y_train)\n",
        "y_pred = clf.predict(X_test)"
      ],
      "execution_count": 59,
      "outputs": [
        {
          "output_type": "stream",
          "text": [
            "/usr/local/lib/python3.6/dist-packages/sklearn/svm/base.py:196: FutureWarning: The default value of gamma will change from 'auto' to 'scale' in version 0.22 to account better for unscaled features. Set gamma explicitly to 'auto' or 'scale' to avoid this warning.\n",
            "  \"avoid this warning.\", FutureWarning)\n"
          ],
          "name": "stderr"
        }
      ]
    },
    {
      "metadata": {
        "id": "ec2atrrHmUkJ",
        "colab_type": "code",
        "outputId": "eb4687c0-09d2-40ae-85fb-94aea623df14",
        "colab": {
          "base_uri": "https://localhost:8080/",
          "height": 85
        }
      },
      "cell_type": "code",
      "source": [
        "acc, f1, precision, recall = evluate(y_pred,y_test)\n",
        "print('accuracy :',acc)\n",
        "print('f1 :',f1)\n",
        "print('precision :',precision)\n",
        "print('recall :',recall)"
      ],
      "execution_count": 60,
      "outputs": [
        {
          "output_type": "stream",
          "text": [
            "accuracy : 0.9191489361702128\n",
            "f1 : 0.8992588522588522\n",
            "precision : 0.9338688610240334\n",
            "recall : 0.8794334342128459\n"
          ],
          "name": "stdout"
        }
      ]
    },
    {
      "metadata": {
        "id": "q24TSpuxX1gW",
        "colab_type": "text"
      },
      "cell_type": "markdown",
      "source": [
        "---"
      ]
    },
    {
      "metadata": {
        "id": "QA0zulZGMMcD",
        "colab_type": "text"
      },
      "cell_type": "markdown",
      "source": [
        "## 8000-10000"
      ]
    },
    {
      "metadata": {
        "id": "0YaZd0s7XZli",
        "colab_type": "code",
        "outputId": "3db65ee1-5f6b-49f5-de2f-b8b592e1170b",
        "colab": {
          "base_uri": "https://localhost:8080/",
          "height": 347
        }
      },
      "cell_type": "code",
      "source": [
        "df_cut = df.copy()\n",
        "len_Sequences = [len(x) for x in df_cut['Sequences'].values]\n",
        "df_cut['len_Sequences'] = len_Sequences\n",
        "n, bins, patches = plt.hist(np.array(len_Sequences), 100, density=True, facecolor='g', alpha=0.75)\n",
        "plt.show()"
      ],
      "execution_count": 61,
      "outputs": [
        {
          "output_type": "display_data",
          "data": {
            "image/png": "[encoded data removed]",
            "text/plain": [
              "<Figure size 576x396 with 1 Axes>"
            ]
          },
          "metadata": {
            "tags": []
          }
        }
      ]
    },
    {
      "metadata": {
        "id": "QXmmQmFIQlwi",
        "colab_type": "code",
        "colab": {}
      },
      "cell_type": "code",
      "source": [
        "sub_Sequences = [x[8000:10001] for x in df_cut['Sequences'].values]\n",
        "df_cut['sub_Sequences'] = sub_Sequences\n",
        "df_cut = df_cut[['sub_Sequences','Label','len_Sequences']]"
      ],
      "execution_count": 0,
      "outputs": []
    },
    {
      "metadata": {
        "id": "LJZr3G55Prza",
        "colab_type": "code",
        "outputId": "bbe9841a-577a-4e67-f900-a31f29ad3898",
        "colab": {
          "base_uri": "https://localhost:8080/",
          "height": 204
        }
      },
      "cell_type": "code",
      "source": [
        "display(df_cut.head())"
      ],
      "execution_count": 63,
      "outputs": [
        {
          "output_type": "display_data",
          "data": {
            "text/html": [
              "<div>\n",
              "<style scoped>\n",
              "    .dataframe tbody tr th:only-of-type {\n",
              "        vertical-align: middle;\n",
              "    }\n",
              "\n",
              "    .dataframe tbody tr th {\n",
              "        vertical-align: top;\n",
              "    }\n",
              "\n",
              "    .dataframe thead th {\n",
              "        text-align: right;\n",
              "    }\n",
              "</style>\n",
              "<table border=\"1\" class=\"dataframe\">\n",
              "  <thead>\n",
              "    <tr style=\"text-align: right;\">\n",
              "      <th></th>\n",
              "      <th>sub_Sequences</th>\n",
              "      <th>Label</th>\n",
              "      <th>len_Sequences</th>\n",
              "    </tr>\n",
              "  </thead>\n",
              "  <tbody>\n",
              "    <tr>\n",
              "      <th>0</th>\n",
              "      <td>ATTGACGGATGAAAGTTGTAATAACTTGGTGCCAACATATTTGAAG...</td>\n",
              "      <td>hku</td>\n",
              "      <td>30851</td>\n",
              "    </tr>\n",
              "    <tr>\n",
              "      <th>1</th>\n",
              "      <td>ATGCTTTAATAGCAACTGCGCATTCTTCTATAAAACAGGGTACGCA...</td>\n",
              "      <td>hku</td>\n",
              "      <td>31041</td>\n",
              "    </tr>\n",
              "    <tr>\n",
              "      <th>2</th>\n",
              "      <td>CAGTTGTACACACCACCTAAATTTGCAGTTGTTCAGAGTCTTAAGA...</td>\n",
              "      <td>hku</td>\n",
              "      <td>25422</td>\n",
              "    </tr>\n",
              "    <tr>\n",
              "      <th>3</th>\n",
              "      <td>CTAAATTTGCAGTTGTTCAGAGTCTTAAGACCAAGCTGCAAGCAGG...</td>\n",
              "      <td>hku</td>\n",
              "      <td>25406</td>\n",
              "    </tr>\n",
              "    <tr>\n",
              "      <th>4</th>\n",
              "      <td>TGGTAAGTACAAAGGTGAACAATGGGCCCATATGGTATCCATTGCT...</td>\n",
              "      <td>hku</td>\n",
              "      <td>26162</td>\n",
              "    </tr>\n",
              "  </tbody>\n",
              "</table>\n",
              "</div>"
            ],
            "text/plain": [
              "                                       sub_Sequences Label  len_Sequences\n",
              "0  ATTGACGGATGAAAGTTGTAATAACTTGGTGCCAACATATTTGAAG...   hku          30851\n",
              "1  ATGCTTTAATAGCAACTGCGCATTCTTCTATAAAACAGGGTACGCA...   hku          31041\n",
              "2  CAGTTGTACACACCACCTAAATTTGCAGTTGTTCAGAGTCTTAAGA...   hku          25422\n",
              "3  CTAAATTTGCAGTTGTTCAGAGTCTTAAGACCAAGCTGCAAGCAGG...   hku          25406\n",
              "4  TGGTAAGTACAAAGGTGAACAATGGGCCCATATGGTATCCATTGCT...   hku          26162"
            ]
          },
          "metadata": {
            "tags": []
          }
        }
      ]
    },
    {
      "metadata": {
        "id": "zLco7pv8SGAM",
        "colab_type": "code",
        "colab": {}
      },
      "cell_type": "code",
      "source": [
        "df_cut.rename(columns={'sub_Sequences': 'Sequences'}, inplace=True)\n",
        "\n",
        "df_cut_train, df_cut_valid, df_cut_test = splitTrainTest(df_cut)\n",
        "df_cut_train = df_cut_train.reset_index(drop=True)\n",
        "df_cut_valid = df_cut_valid.reset_index(drop=True)\n",
        "df_cut_test = df_cut_test.reset_index(drop=True)\n",
        "\n",
        "X_train, y_train = createFrequence(df_cut_train, 5, 2000, True)\n",
        "X_valid, y_valid = createFrequence(df_cut_valid, 5, 2000, False)\n",
        "X_test, y_test = createFrequence(df_cut_test, 5, 2000, False)\n",
        "\n",
        "y_train = buildLabel(y_train,key_virus)\n",
        "y_valid = buildLabel(y_valid,key_virus)\n",
        "y_test = buildLabel(y_test,key_virus)\n",
        "\n",
        "X_train, y_train = shuffle(X_train, y_train, random_state=seed)"
      ],
      "execution_count": 0,
      "outputs": []
    },
    {
      "metadata": {
        "id": "jKpbg8BTXc3q",
        "colab_type": "code",
        "outputId": "4897cd51-58bf-4e79-d67f-d9dbe152490e",
        "colab": {
          "base_uri": "https://localhost:8080/",
          "height": 136
        }
      },
      "cell_type": "code",
      "source": [
        "pd.Series(y_train.reshape(-1)).value_counts()"
      ],
      "execution_count": 65,
      "outputs": [
        {
          "output_type": "execute_result",
          "data": {
            "text/plain": [
              "1    220\n",
              "5    217\n",
              "4    207\n",
              "6    204\n",
              "3    168\n",
              "2    160\n",
              "dtype: int64"
            ]
          },
          "metadata": {
            "tags": []
          },
          "execution_count": 65
        }
      ]
    },
    {
      "metadata": {
        "id": "UPWUaZSpXt22",
        "colab_type": "code",
        "outputId": "26810e8d-d50e-4084-e749-293e0ad71721",
        "colab": {
          "base_uri": "https://localhost:8080/",
          "height": 71
        }
      },
      "cell_type": "code",
      "source": [
        "clf = SVC()\n",
        "clf.fit(X_train, y_train)\n",
        "y_pred = clf.predict(X_test)"
      ],
      "execution_count": 66,
      "outputs": [
        {
          "output_type": "stream",
          "text": [
            "/usr/local/lib/python3.6/dist-packages/sklearn/svm/base.py:196: FutureWarning: The default value of gamma will change from 'auto' to 'scale' in version 0.22 to account better for unscaled features. Set gamma explicitly to 'auto' or 'scale' to avoid this warning.\n",
            "  \"avoid this warning.\", FutureWarning)\n"
          ],
          "name": "stderr"
        }
      ]
    },
    {
      "metadata": {
        "id": "z7sr3omSXzlu",
        "colab_type": "code",
        "outputId": "3f9e6211-578e-45c4-f50e-beb3be9ce48d",
        "colab": {
          "base_uri": "https://localhost:8080/",
          "height": 85
        }
      },
      "cell_type": "code",
      "source": [
        "acc, f1, precision, recall = evluate(y_pred,y_test)\n",
        "print('accuracy :',acc)\n",
        "print('f1 :',f1)\n",
        "print('precision :',precision)\n",
        "print('recall :',recall)"
      ],
      "execution_count": 67,
      "outputs": [
        {
          "output_type": "stream",
          "text": [
            "accuracy : 0.9723404255319149\n",
            "f1 : 0.9707190286078009\n",
            "precision : 0.978366033869467\n",
            "recall : 0.9636942714148597\n"
          ],
          "name": "stdout"
        }
      ]
    },
    {
      "metadata": {
        "id": "r6K-D-MdYULi",
        "colab_type": "text"
      },
      "cell_type": "markdown",
      "source": [
        "------"
      ]
    },
    {
      "metadata": {
        "id": "q2Y4c5_XLpHv",
        "colab_type": "text"
      },
      "cell_type": "markdown",
      "source": [
        "## creted data majority"
      ]
    },
    {
      "metadata": {
        "id": "zxbD0-WOLuv6",
        "colab_type": "code",
        "colab": {}
      },
      "cell_type": "code",
      "source": [
        "num_sub_seq = 5\n",
        "len_sub_seq = int(length/num_sub_seq)\n",
        "df_majority = df.copy()\n",
        "\n",
        "for i in np.arange(num_sub_seq):\n",
        "  sub_seq_name ='sub_Sequences_'+ str(i)\n",
        "  sub_Sequences = [x[i*len_sub_seq:(i+1)*len_sub_seq] for x in df_majority['Sequences'].values]\n",
        "  df_majority[sub_seq_name] = sub_Sequences"
      ],
      "execution_count": 0,
      "outputs": []
    },
    {
      "metadata": {
        "id": "eE1L-YiZNuSB",
        "colab_type": "code",
        "colab": {}
      },
      "cell_type": "code",
      "source": [
        "#df_majority.head()"
      ],
      "execution_count": 0,
      "outputs": []
    },
    {
      "metadata": {
        "id": "eVA2toFZDtDk",
        "colab_type": "text"
      },
      "cell_type": "markdown",
      "source": [
        "## majority vote"
      ]
    },
    {
      "metadata": {
        "colab_type": "code",
        "outputId": "2233d5da-075b-4261-943f-48cbb45b8ba5",
        "id": "zYwSKUdhC_pB",
        "colab": {
          "base_uri": "https://localhost:8080/",
          "height": 207
        }
      },
      "cell_type": "code",
      "source": [
        "X_train_major = []\n",
        "y_train_major = []\n",
        "X_valid_major = []\n",
        "y_valid_major = []\n",
        "X_test_major = []\n",
        "y_test_major = []\n",
        "\n",
        "svc_sub_seq = []\n",
        "\n",
        "y_pred_val_major = []\n",
        "y_pred_test_major = []\n",
        "\n",
        "\n",
        "for i in np.arange(num_sub_seq):\n",
        "  \n",
        "  sub_seq_name ='sub_Sequences_'+ str(i)\n",
        "  \n",
        "  df_cut_maj = df_majority[[sub_seq_name,'Label']].copy()\n",
        "  df_cut_maj.rename(columns={ sub_seq_name : 'Sequences'}, inplace=True)\n",
        "  \n",
        "  df_majority_train,df_majority_valid, df_majority_test = splitTrainTest(df_cut_maj)\n",
        "  df_majority_train = df_majority_train.reset_index(drop=True)\n",
        "  df_majority_valid = df_majority_valid.reset_index(drop=True)\n",
        "  df_majority_test = df_majority_test.reset_index(drop=True)\n",
        "  \n",
        "  X_train_A, y_train_A = createFrequence(df_majority_train, 5, len_sub_seq, True)\n",
        "  X_valid_A, y_valid_A = createFrequence(df_majority_valid, 5, len_sub_seq, False)\n",
        "  X_test_A, y_test_A = createFrequence(df_majority_test, 5, len_sub_seq, False)\n",
        "  y_train_A = buildLabel(y_train_A,key_virus)\n",
        "  y_valid_A = buildLabel(y_valid_A,key_virus)\n",
        "  y_test_A = buildLabel(y_test_A,key_virus)\n",
        "\n",
        "  X_train_A, y_train_A = shuffle(X_train_A, y_train_A, random_state=seed)\n",
        "  \n",
        "  X_train_major.append(X_train_A)\n",
        "  X_valid_major.append(X_valid_A)\n",
        "  X_test_major.append(X_test_A)\n",
        "  \n",
        "  if(i == 0):\n",
        "    y_train_major.append(y_train_A)\n",
        "    y_valid_major.append(y_valid_A)\n",
        "    y_test_major.append(y_test_A)\n",
        "  \n",
        "  \n",
        "  clf = SVC()\n",
        "  clf.fit(X_train_major[i], y_train_major[0].reshape(-1))\n",
        "  svc_sub_seq.append(clf)\n",
        "  \n",
        "  ## predict val set\n",
        "  y_pred_val = clf.predict(X_valid_A)\n",
        "  y_pred_test = clf.predict(X_test_A)\n",
        "  \n",
        "  y_pred_val_major.append(y_pred_val)\n",
        "  y_pred_test_major.append(y_pred_test)\n",
        "  ##"
      ],
      "execution_count": 70,
      "outputs": [
        {
          "output_type": "stream",
          "text": [
            "/usr/local/lib/python3.6/dist-packages/sklearn/svm/base.py:196: FutureWarning: The default value of gamma will change from 'auto' to 'scale' in version 0.22 to account better for unscaled features. Set gamma explicitly to 'auto' or 'scale' to avoid this warning.\n",
            "  \"avoid this warning.\", FutureWarning)\n",
            "/usr/local/lib/python3.6/dist-packages/sklearn/svm/base.py:196: FutureWarning: The default value of gamma will change from 'auto' to 'scale' in version 0.22 to account better for unscaled features. Set gamma explicitly to 'auto' or 'scale' to avoid this warning.\n",
            "  \"avoid this warning.\", FutureWarning)\n",
            "/usr/local/lib/python3.6/dist-packages/sklearn/svm/base.py:196: FutureWarning: The default value of gamma will change from 'auto' to 'scale' in version 0.22 to account better for unscaled features. Set gamma explicitly to 'auto' or 'scale' to avoid this warning.\n",
            "  \"avoid this warning.\", FutureWarning)\n",
            "/usr/local/lib/python3.6/dist-packages/sklearn/svm/base.py:196: FutureWarning: The default value of gamma will change from 'auto' to 'scale' in version 0.22 to account better for unscaled features. Set gamma explicitly to 'auto' or 'scale' to avoid this warning.\n",
            "  \"avoid this warning.\", FutureWarning)\n",
            "/usr/local/lib/python3.6/dist-packages/sklearn/svm/base.py:196: FutureWarning: The default value of gamma will change from 'auto' to 'scale' in version 0.22 to account better for unscaled features. Set gamma explicitly to 'auto' or 'scale' to avoid this warning.\n",
            "  \"avoid this warning.\", FutureWarning)\n"
          ],
          "name": "stderr"
        }
      ]
    },
    {
      "metadata": {
        "colab_type": "code",
        "id": "AzS_LZZaC_pG",
        "colab": {
          "base_uri": "https://localhost:8080/",
          "height": 153
        },
        "outputId": "47a23ead-60f6-4cf6-815d-e402658dc16b"
      },
      "cell_type": "code",
      "source": [
        "print(len(svc_sub_seq))\n",
        "\n",
        "print(len(X_train_major))\n",
        "print(len(X_valid_major))\n",
        "print(len(X_test_major)) \n",
        "\n",
        "print(len(y_train_major))\n",
        "print(len(y_valid_major))\n",
        "print(len(y_test_major)) \n",
        "\n",
        "print(y_train_major[0])"
      ],
      "execution_count": 71,
      "outputs": [
        {
          "output_type": "stream",
          "text": [
            "5\n",
            "5\n",
            "5\n",
            "5\n",
            "1\n",
            "1\n",
            "1\n",
            "[1 6 4 ... 1 3 1]\n"
          ],
          "name": "stdout"
        }
      ]
    },
    {
      "metadata": {
        "colab_type": "code",
        "outputId": "36e3a9f6-a4ef-42ae-9fea-c2518deaf425",
        "id": "C1vCECiUC_pL",
        "colab": {
          "base_uri": "https://localhost:8080/",
          "height": 221
        }
      },
      "cell_type": "code",
      "source": [
        "\n",
        "'''\n",
        "y_pred_val_major = []\n",
        "y_pred_test_major = []\n",
        "'''\n",
        "\n",
        "y_real_predict_val = []\n",
        "y_real_predict_test = []\n",
        "\n",
        "for i in np.arange(len(y_valid_major[0])):\n",
        "  all_predict_val = [] \n",
        "  for j in np.arange(num_sub_seq):\n",
        "    all_predict_val.append(y_pred_val_major[j][i])\n",
        "    \n",
        "  all_predict_val = np.array(all_predict_val) \n",
        "  y_real_predict_val.append(mode(all_predict_val)[0])\n",
        "  \n",
        "\n",
        "for i in np.arange(len(y_pred_test_major[0])):\n",
        "  all_predict_test = []\n",
        "  for j in np.arange(num_sub_seq):\n",
        "    all_predict_test.append(y_pred_test_major[j][i])\n",
        "  all_predict_test = np.array(all_predict_test)\n",
        "  y_real_predict_test.append(mode(all_predict_test)[0])\n",
        "  \n",
        "\n",
        "print('val set')\n",
        "acc, f1, precision, recall = evluate(y_real_predict_val,y_valid_major[0])\n",
        "print('accuracy :',acc)\n",
        "print('f1 :',f1)\n",
        "print('precision :',precision)\n",
        "print('recall :',recall)  \n",
        "\n",
        "\n",
        "print(len(y_real_predict_test))\n",
        "print(len(y_test_major[0]))\n",
        "\n",
        "print('test set')\n",
        "acc, f1, precision, recall = evluate(y_real_predict_test,y_test_major[0])\n",
        "print('accuracy :',acc)\n",
        "print('f1 :',f1)\n",
        "print('precision :',precision)\n",
        "print('recall :',recall)\n",
        "\n"
      ],
      "execution_count": 72,
      "outputs": [
        {
          "output_type": "stream",
          "text": [
            "val set\n",
            "accuracy : 0.9747899159663865\n",
            "f1 : 0.9785806785806787\n",
            "precision : 0.9823369565217391\n",
            "recall : 0.97534165181224\n",
            "470\n",
            "470\n",
            "test set\n",
            "accuracy : 0.9638297872340426\n",
            "f1 : 0.9552771842311981\n",
            "precision : 0.9693873460849524\n",
            "recall : 0.9431502321208204\n"
          ],
          "name": "stdout"
        }
      ]
    },
    {
      "metadata": {
        "id": "YGvb6fD2IpDI",
        "colab_type": "text"
      },
      "cell_type": "markdown",
      "source": [
        "----"
      ]
    },
    {
      "metadata": {
        "id": "d9mzTqQAYWGm",
        "colab_type": "text"
      },
      "cell_type": "markdown",
      "source": [
        "## majority vote 2"
      ]
    },
    {
      "metadata": {
        "id": "X4od-7_qGu-9",
        "colab_type": "code",
        "outputId": "bf292548-b573-4a5e-b10e-a67b3789879d",
        "colab": {
          "base_uri": "https://localhost:8080/",
          "height": 139
        }
      },
      "cell_type": "code",
      "source": [
        "'''\n",
        "df_majority = df.copy()\n",
        "name_all_col =['Sequences']\n",
        "\n",
        "num_sub_seq = 5\n",
        "len_sub_seq = int(length/num_sub_seq)\n",
        "print(len_sub_seq)\n",
        "\n",
        "X_train_major = []\n",
        "y_train_major = []\n",
        "X_valid_major = []\n",
        "y_valid_major = []\n",
        "X_test_major = []\n",
        "y_test_major = []\n",
        "\n",
        "svc_sub_seq = []\n",
        "'''\n",
        "\n",
        "\n",
        "for i in np.arange(num_sub_seq):\n",
        "  if i == 0:\n",
        "    X_train_maj_merge = np.copy(X_train_major[0])\n",
        "    y_train_maj_merge = list(y_train_major[0].copy())\n",
        "  else:\n",
        "    X_to_merge = np.copy(X_train_major[i])\n",
        "    y_to_merge = y_train_major[0].copy()\n",
        "    \n",
        "    X_train_maj_merge = np.vstack((X_train_maj_merge,X_to_merge))\n",
        "    y_train_maj_merge = y_train_maj_merge + list(y_to_merge)\n",
        "\n",
        "#print(X_train_maj_merge.shape)\n",
        "#print(len(y_train_maj_merge)) \n",
        "\n",
        "#print(X_train_major[0].shape)\n",
        "#print(len(y_train_major[0]))\n",
        "  ##\n",
        "\n",
        "clf = SVC()\n",
        "clf.fit(X_train_maj_merge, y_train_maj_merge)\n",
        "\n",
        "#print(y_train_maj_merge)\n"
      ],
      "execution_count": 73,
      "outputs": [
        {
          "output_type": "stream",
          "text": [
            "/usr/local/lib/python3.6/dist-packages/sklearn/svm/base.py:196: FutureWarning: The default value of gamma will change from 'auto' to 'scale' in version 0.22 to account better for unscaled features. Set gamma explicitly to 'auto' or 'scale' to avoid this warning.\n",
            "  \"avoid this warning.\", FutureWarning)\n"
          ],
          "name": "stderr"
        },
        {
          "output_type": "execute_result",
          "data": {
            "text/plain": [
              "SVC(C=1.0, cache_size=200, class_weight=None, coef0=0.0,\n",
              "  decision_function_shape='ovr', degree=3, gamma='auto_deprecated',\n",
              "  kernel='rbf', max_iter=-1, probability=False, random_state=None,\n",
              "  shrinking=True, tol=0.001, verbose=False)"
            ]
          },
          "metadata": {
            "tags": []
          },
          "execution_count": 73
        }
      ]
    },
    {
      "metadata": {
        "id": "lmoZaUZeTi3j",
        "colab_type": "code",
        "colab": {}
      },
      "cell_type": "code",
      "source": [
        "'''\n",
        "df_majority = df.copy()\n",
        "name_all_col =['Sequences']\n",
        "\n",
        "num_sub_seq = 5\n",
        "len_sub_seq = int(length/num_sub_seq)\n",
        "print(len_sub_seq)\n",
        "\n",
        "X_train_major = []\n",
        "y_train_major = []\n",
        "X_valid_major = []\n",
        "y_valid_major = []\n",
        "X_test_major = []\n",
        "y_test_major = []\n",
        "\n",
        "svc_sub_seq = []\n",
        "'''\n",
        "\n",
        "y_pred_val_maj = []\n",
        "y_pred_test_maj = []\n",
        "for i in np.arange(num_sub_seq):\n",
        "  y_pred_val = clf.predict(X_valid_major[i])\n",
        "  y_pred_val_maj.append(y_pred_val)\n",
        "  \n",
        "  y_pred_test = clf.predict(X_test_major[i])\n",
        "  y_pred_test_maj.append(y_pred_test)\n",
        "  "
      ],
      "execution_count": 0,
      "outputs": []
    },
    {
      "metadata": {
        "id": "6tyAq89IlVqW",
        "colab_type": "code",
        "outputId": "b3d2ee7c-d91e-4581-a14a-5f78943b6ae8",
        "colab": {
          "base_uri": "https://localhost:8080/",
          "height": 221
        }
      },
      "cell_type": "code",
      "source": [
        "\n",
        "y_real_predict_major_val = []\n",
        "y_real_predict_major_test = []\n",
        "\n",
        "for i in np.arange(len(y_valid_major[0])):\n",
        "  all_predict_val = [] \n",
        "  for j in np.arange(num_sub_seq):\n",
        "    all_predict_val.append(y_pred_val_maj[j][i])\n",
        "    \n",
        "  all_predict_val = np.array(all_predict_val) \n",
        "  y_real_predict_major_val.append(mode(all_predict_val)[0])\n",
        "  \n",
        "\n",
        "for i in np.arange(len(y_pred_test_major[0])):\n",
        "  all_predict_test = []\n",
        "  for j in np.arange(num_sub_seq):\n",
        "    all_predict_test.append(y_pred_test_maj[j][i])\n",
        "  all_predict_test = np.array(all_predict_test)\n",
        "  y_real_predict_major_test.append(mode(all_predict_test)[0])\n",
        "  \n",
        "\n",
        "print('val set')\n",
        "acc, f1, precision, recall = evluate(y_real_predict_major_val,y_valid_major[0])\n",
        "print('accuracy :',acc)\n",
        "print('f1 :',f1)\n",
        "print('precision :',precision)\n",
        "print('recall :',recall)  \n",
        "\n",
        "\n",
        "print(len(y_real_predict_test))\n",
        "print(len(y_test_major[0]))\n",
        "\n",
        "print('test set')\n",
        "acc, f1, precision, recall = evluate(y_real_predict_major_test,y_test_major[0])\n",
        "print('accuracy :',acc)\n",
        "print('f1 :',f1)\n",
        "print('precision :',precision)\n",
        "print('recall :',recall)\n",
        "\n"
      ],
      "execution_count": 75,
      "outputs": [
        {
          "output_type": "stream",
          "text": [
            "val set\n",
            "accuracy : 0.9747899159663865\n",
            "f1 : 0.9785806785806787\n",
            "precision : 0.9823369565217391\n",
            "recall : 0.97534165181224\n",
            "470\n",
            "470\n",
            "test set\n",
            "accuracy : 0.9638297872340426\n",
            "f1 : 0.9552771842311981\n",
            "precision : 0.9693873460849524\n",
            "recall : 0.9431502321208204\n"
          ],
          "name": "stdout"
        }
      ]
    },
    {
      "metadata": {
        "id": "5i7eXad7DAt9",
        "colab_type": "text"
      },
      "cell_type": "markdown",
      "source": [
        "-----"
      ]
    },
    {
      "metadata": {
        "id": "GAT9tlBWDE9s",
        "colab_type": "text"
      },
      "cell_type": "markdown",
      "source": [
        "------"
      ]
    },
    {
      "metadata": {
        "id": "WNg7N0uFeFfO",
        "colab_type": "code",
        "colab": {
          "base_uri": "https://localhost:8080/",
          "height": 224
        },
        "outputId": "c7e6ffa2-abe9-4cf0-85e8-f36a0385df22"
      },
      "cell_type": "code",
      "source": [
        "df_majority.head()"
      ],
      "execution_count": 76,
      "outputs": [
        {
          "output_type": "execute_result",
          "data": {
            "text/html": [
              "<div>\n",
              "<style scoped>\n",
              "    .dataframe tbody tr th:only-of-type {\n",
              "        vertical-align: middle;\n",
              "    }\n",
              "\n",
              "    .dataframe tbody tr th {\n",
              "        vertical-align: top;\n",
              "    }\n",
              "\n",
              "    .dataframe thead th {\n",
              "        text-align: right;\n",
              "    }\n",
              "</style>\n",
              "<table border=\"1\" class=\"dataframe\">\n",
              "  <thead>\n",
              "    <tr style=\"text-align: right;\">\n",
              "      <th></th>\n",
              "      <th>Sequences</th>\n",
              "      <th>Label</th>\n",
              "      <th>sub_Sequences_0</th>\n",
              "      <th>sub_Sequences_1</th>\n",
              "      <th>sub_Sequences_2</th>\n",
              "      <th>sub_Sequences_3</th>\n",
              "      <th>sub_Sequences_4</th>\n",
              "    </tr>\n",
              "  </thead>\n",
              "  <tbody>\n",
              "    <tr>\n",
              "      <th>0</th>\n",
              "      <td>AGCCAGGGACGTGTTGTATCCTNGGCAGTGGCCCACCCATAGGTCA...</td>\n",
              "      <td>hku</td>\n",
              "      <td>AGCCAGGGACGTGTTGTATCCTNGGCAGTGGCCCACCCATAGGTCA...</td>\n",
              "      <td>CTGGACAGCAGTTCGTTAAAGAGACTACCGATATGGTTAAGTCTAA...</td>\n",
              "      <td>ATTGACGGATGAAAGTTGTAATAACTTGGTGCCAACATATTTGAAG...</td>\n",
              "      <td>TTGGAGCGTATGGCAGATTTGGCTCTTACTAATATGTATAAAGAAG...</td>\n",
              "      <td>AAAGCCTCTTCTTTGCTGCAAGTGTTGTTACGATCACGTTATGGCA...</td>\n",
              "    </tr>\n",
              "    <tr>\n",
              "      <th>1</th>\n",
              "      <td>TGGGGATTGTGAGCGATTTGCGTGCGTGCATCCCGCTTCACTGATC...</td>\n",
              "      <td>hku</td>\n",
              "      <td>TGGGGATTGTGAGCGATTTGCGTGCGTGCATCCCGCTTCACTGATC...</td>\n",
              "      <td>TTTGAAATTGCCCAATTGTATGGTTCTTGTATAACACCTAATGTAT...</td>\n",
              "      <td>ATGCTTTAATAGCAACTGCGCATTCTTCTATAAAACAGGGTACGCA...</td>\n",
              "      <td>TGAATTTGTTAATATGGCTAGCTTTGTTGAATATGAAGTTGCTAAG...</td>\n",
              "      <td>AGATCTTGGATAGCTACAGTGTTATTTTAAGTACTTGTGATGGACA...</td>\n",
              "    </tr>\n",
              "    <tr>\n",
              "      <th>2</th>\n",
              "      <td>GACTAAAGATAAAAATTATAGCATTAGTCTATAATTTTATCTCCCT...</td>\n",
              "      <td>hku</td>\n",
              "      <td>GACTAAAGATAAAAATTATAGCATTAGTCTATAATTTTATCTCCCT...</td>\n",
              "      <td>GAACCAAGCCAAGGAACTTGACCTTAACCTTCAGCAATACTGCGTC...</td>\n",
              "      <td>CAGTTGTACACACCACCTAAATTTGCAGTTGTTCAGAGTCTTAAGA...</td>\n",
              "      <td>TCTTGTTGGCATATTAACACCCGATAATCAAGACCTCCTGGGTCAG...</td>\n",
              "      <td>CGCTGCGGCTATGAGTATAATGGCGTCCATCCAGCTCATGCTTTGA...</td>\n",
              "    </tr>\n",
              "    <tr>\n",
              "      <th>3</th>\n",
              "      <td>GACTAAAGATAAAAATTATAGCATTAGTCTATAATTTTATCTCCCT...</td>\n",
              "      <td>hku</td>\n",
              "      <td>GACTAAAGATAAAAATTATAGCATTAGTCTATAATTTTATCTCCCT...</td>\n",
              "      <td>CTTGACCTTAACCTTCAGCAATACTGCGTCTACCTGAAGACTTGCC...</td>\n",
              "      <td>CTAAATTTGCAGTTGTTCAGAGTCTTAAGACCAAGCTGCAAGCAGG...</td>\n",
              "      <td>ACACCCGACAATCAAGACCTCCTGGGTCAGATCTATGACTTTGGAG...</td>\n",
              "      <td>ATAATGGCGTCCATCCAGCTCATGCTTTGACCTGGCATGATTGTGG...</td>\n",
              "    </tr>\n",
              "    <tr>\n",
              "      <th>4</th>\n",
              "      <td>GACAAAGTTCAAAAATATATATATATATATTTTTTGCAACTCCTAG...</td>\n",
              "      <td>hku</td>\n",
              "      <td>GACAAAGTTCAAAAATATATATATATATATTTTTTGCAACTCCTAG...</td>\n",
              "      <td>TTGCCATTGATGAACTATACCAGGAGTACAGAAATGGTAATCCCAG...</td>\n",
              "      <td>TGGTAAGTACAAAGGTGAACAATGGGCCCATATGGTATCCATTGCT...</td>\n",
              "      <td>CTATAGAGTATGATGGTTTCCAATATGACTTTACTGACTTTAAGCG...</td>\n",
              "      <td>TGAATACCGCTGTGATGAACCATTAGCCAAACTAGTAGGTGTCTCT...</td>\n",
              "    </tr>\n",
              "  </tbody>\n",
              "</table>\n",
              "</div>"
            ],
            "text/plain": [
              "                                           Sequences Label  \\\n",
              "0  AGCCAGGGACGTGTTGTATCCTNGGCAGTGGCCCACCCATAGGTCA...   hku   \n",
              "1  TGGGGATTGTGAGCGATTTGCGTGCGTGCATCCCGCTTCACTGATC...   hku   \n",
              "2  GACTAAAGATAAAAATTATAGCATTAGTCTATAATTTTATCTCCCT...   hku   \n",
              "3  GACTAAAGATAAAAATTATAGCATTAGTCTATAATTTTATCTCCCT...   hku   \n",
              "4  GACAAAGTTCAAAAATATATATATATATATTTTTTGCAACTCCTAG...   hku   \n",
              "\n",
              "                                     sub_Sequences_0  \\\n",
              "0  AGCCAGGGACGTGTTGTATCCTNGGCAGTGGCCCACCCATAGGTCA...   \n",
              "1  TGGGGATTGTGAGCGATTTGCGTGCGTGCATCCCGCTTCACTGATC...   \n",
              "2  GACTAAAGATAAAAATTATAGCATTAGTCTATAATTTTATCTCCCT...   \n",
              "3  GACTAAAGATAAAAATTATAGCATTAGTCTATAATTTTATCTCCCT...   \n",
              "4  GACAAAGTTCAAAAATATATATATATATATTTTTTGCAACTCCTAG...   \n",
              "\n",
              "                                     sub_Sequences_1  \\\n",
              "0  CTGGACAGCAGTTCGTTAAAGAGACTACCGATATGGTTAAGTCTAA...   \n",
              "1  TTTGAAATTGCCCAATTGTATGGTTCTTGTATAACACCTAATGTAT...   \n",
              "2  GAACCAAGCCAAGGAACTTGACCTTAACCTTCAGCAATACTGCGTC...   \n",
              "3  CTTGACCTTAACCTTCAGCAATACTGCGTCTACCTGAAGACTTGCC...   \n",
              "4  TTGCCATTGATGAACTATACCAGGAGTACAGAAATGGTAATCCCAG...   \n",
              "\n",
              "                                     sub_Sequences_2  \\\n",
              "0  ATTGACGGATGAAAGTTGTAATAACTTGGTGCCAACATATTTGAAG...   \n",
              "1  ATGCTTTAATAGCAACTGCGCATTCTTCTATAAAACAGGGTACGCA...   \n",
              "2  CAGTTGTACACACCACCTAAATTTGCAGTTGTTCAGAGTCTTAAGA...   \n",
              "3  CTAAATTTGCAGTTGTTCAGAGTCTTAAGACCAAGCTGCAAGCAGG...   \n",
              "4  TGGTAAGTACAAAGGTGAACAATGGGCCCATATGGTATCCATTGCT...   \n",
              "\n",
              "                                     sub_Sequences_3  \\\n",
              "0  TTGGAGCGTATGGCAGATTTGGCTCTTACTAATATGTATAAAGAAG...   \n",
              "1  TGAATTTGTTAATATGGCTAGCTTTGTTGAATATGAAGTTGCTAAG...   \n",
              "2  TCTTGTTGGCATATTAACACCCGATAATCAAGACCTCCTGGGTCAG...   \n",
              "3  ACACCCGACAATCAAGACCTCCTGGGTCAGATCTATGACTTTGGAG...   \n",
              "4  CTATAGAGTATGATGGTTTCCAATATGACTTTACTGACTTTAAGCG...   \n",
              "\n",
              "                                     sub_Sequences_4  \n",
              "0  AAAGCCTCTTCTTTGCTGCAAGTGTTGTTACGATCACGTTATGGCA...  \n",
              "1  AGATCTTGGATAGCTACAGTGTTATTTTAAGTACTTGTGATGGACA...  \n",
              "2  CGCTGCGGCTATGAGTATAATGGCGTCCATCCAGCTCATGCTTTGA...  \n",
              "3  ATAATGGCGTCCATCCAGCTCATGCTTTGACCTGGCATGATTGTGG...  \n",
              "4  TGAATACCGCTGTGATGAACCATTAGCCAAACTAGTAGGTGTCTCT...  "
            ]
          },
          "metadata": {
            "tags": []
          },
          "execution_count": 76
        }
      ]
    },
    {
      "metadata": {
        "id": "bKv7VXfhMo1j",
        "colab_type": "code",
        "outputId": "7f287ae1-0b51-4664-9c38-df06fdbc0c32",
        "colab": {
          "base_uri": "https://localhost:8080/",
          "height": 34
        }
      },
      "cell_type": "code",
      "source": [
        "\n",
        "\n",
        "print('sub_Sequences_' +str(8))"
      ],
      "execution_count": 77,
      "outputs": [
        {
          "output_type": "stream",
          "text": [
            "sub_Sequences_8\n"
          ],
          "name": "stdout"
        }
      ]
    },
    {
      "metadata": {
        "colab_type": "code",
        "id": "z10ZByeQ8Wat",
        "colab": {
          "base_uri": "https://localhost:8080/",
          "height": 71
        },
        "outputId": "fe2e42fb-80c0-48ea-b3ba-2043a046f453"
      },
      "cell_type": "code",
      "source": [
        "clf = SVC()\n",
        "clf.fit(X_train, y_train.reshape(-1))\n",
        "y_pred = clf.predict(X_test)"
      ],
      "execution_count": 78,
      "outputs": [
        {
          "output_type": "stream",
          "text": [
            "/usr/local/lib/python3.6/dist-packages/sklearn/svm/base.py:196: FutureWarning: The default value of gamma will change from 'auto' to 'scale' in version 0.22 to account better for unscaled features. Set gamma explicitly to 'auto' or 'scale' to avoid this warning.\n",
            "  \"avoid this warning.\", FutureWarning)\n"
          ],
          "name": "stderr"
        }
      ]
    },
    {
      "metadata": {
        "colab_type": "code",
        "id": "5b1c-_ZJ8Way",
        "colab": {
          "base_uri": "https://localhost:8080/",
          "height": 85
        },
        "outputId": "62d9d032-dc92-4ba5-9dfb-5544e787caf7"
      },
      "cell_type": "code",
      "source": [
        "acc, f1, precision, recall = evluate(y_pred,y_test)\n",
        "print('accuracy :',acc)\n",
        "print('f1 :',f1)\n",
        "print('precision :',precision)\n",
        "print('recall :',recall)"
      ],
      "execution_count": 79,
      "outputs": [
        {
          "output_type": "stream",
          "text": [
            "accuracy : 0.9723404255319149\n",
            "f1 : 0.9707190286078009\n",
            "precision : 0.978366033869467\n",
            "recall : 0.9636942714148597\n"
          ],
          "name": "stdout"
        }
      ]
    },
    {
      "metadata": {
        "id": "rJ_AL8_edj0x",
        "colab_type": "text"
      },
      "cell_type": "markdown",
      "source": [
        "---"
      ]
    },
    {
      "metadata": {
        "id": "227J8hWEdtaz",
        "colab_type": "text"
      },
      "cell_type": "markdown",
      "source": [
        "## [PCA](https://scikit-learn.org/stable/modules/generated/sklearn.decomposition.PCA.html)"
      ]
    },
    {
      "metadata": {
        "id": "MbFNVjZ0SRVf",
        "colab_type": "code",
        "colab": {}
      },
      "cell_type": "code",
      "source": [
        ""
      ],
      "execution_count": 0,
      "outputs": []
    },
    {
      "metadata": {
        "id": "PWGip2vNeMUV",
        "colab_type": "text"
      },
      "cell_type": "markdown",
      "source": [
        "---"
      ]
    },
    {
      "metadata": {
        "id": "RZxZ0DUHeQeN",
        "colab_type": "text"
      },
      "cell_type": "markdown",
      "source": [
        "## [t-SNE](https://scikit-learn.org/stable/modules/generated/sklearn.manifold.TSNE.html)"
      ]
    },
    {
      "metadata": {
        "id": "eIkkNqhee4O_",
        "colab_type": "code",
        "colab": {
          "base_uri": "https://localhost:8080/",
          "height": 54
        },
        "outputId": "b99c72b8-c8aa-4c95-bfce-ade5dae076d7"
      },
      "cell_type": "code",
      "source": [
        "'''\n",
        "from sklearn.manifold import TSNE\n",
        "import matplotlib.pyplot as plt\n",
        "import matplotlib as mpl\n",
        "\n",
        "tsne = TSNE(perplexity=30, n_components=2, init='pca', n_iter=2500)\n",
        "plot_only = 500 #only top 500 words\n",
        "low_dim_embs = tsne.fit_transform(X_train)\n",
        "labels = [reverse_dictionary[i] for i in range(plot_only)]\n",
        "plot_with_labels(low_dim_embs, labels)\n",
        "'''\n",
        " "
      ],
      "execution_count": 80,
      "outputs": [
        {
          "output_type": "execute_result",
          "data": {
            "text/plain": [
              "\"\\nfrom sklearn.manifold import TSNE\\nimport matplotlib.pyplot as plt\\nimport matplotlib as mpl\\n\\ntsne = TSNE(perplexity=30, n_components=2, init='pca', n_iter=2500)\\nplot_only = 500 #only top 500 words\\nlow_dim_embs = tsne.fit_transform(X_train)\\nlabels = [reverse_dictionary[i] for i in range(plot_only)]\\nplot_with_labels(low_dim_embs, labels)\\n\""
            ]
          },
          "metadata": {
            "tags": []
          },
          "execution_count": 80
        }
      ]
    },
    {
      "metadata": {
        "id": "hKcsyw0ZfLNN",
        "colab_type": "text"
      },
      "cell_type": "markdown",
      "source": [
        "---"
      ]
    }
  ]
}