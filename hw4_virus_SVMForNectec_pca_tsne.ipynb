{
  "nbformat": 4,
  "nbformat_minor": 0,
  "metadata": {
    "colab": {
      "name": "hw4_virus_SVMForNectec_pca_tsne.ipynb",
      "version": "0.3.2",
      "provenance": [],
      "collapsed_sections": [],
      "include_colab_link": true
    },
    "kernelspec": {
      "display_name": "Python 3",
      "language": "python",
      "name": "python3"
    }
  },
  "cells": [
    {
      "cell_type": "markdown",
      "metadata": {
        "id": "view-in-github",
        "colab_type": "text"
      },
      "source": [
        "<a href=\"https://colab.research.google.com/github/Pataweepr/applyML_vistec_2019/blob/master/hw4_virus_SVMForNectec_pca_tsne.ipynb\" target=\"_parent\"><img src=\"https://colab.research.google.com/assets/colab-badge.svg\" alt=\"Open In Colab\"/></a>"
      ]
    },
    {
      "metadata": {
        "id": "oPS1-2OQUBeZ",
        "colab_type": "text"
      },
      "cell_type": "markdown",
      "source": [
        "#  [SVM](https://scikit-learn.org/stable/modules/svm.html)"
      ]
    },
    {
      "metadata": {
        "id": "Vl0AS5E4RQsE",
        "colab_type": "text"
      },
      "cell_type": "markdown",
      "source": [
        "## [k-mer](https://en.wikipedia.org/wiki/K-mer)"
      ]
    },
    {
      "metadata": {
        "id": "YldhiIUZSRTr",
        "colab_type": "code",
        "colab": {}
      },
      "cell_type": "code",
      "source": [
        "import numpy as np\n",
        "import pandas as pd\n",
        "import matplotlib.pyplot as plt\n",
        "import itertools\n",
        "import collections\n",
        "import csv\n",
        "\n",
        "from sklearn.model_selection import train_test_split\n",
        "from sklearn.metrics import roc_curve, auc\n",
        "from sklearn.metrics import confusion_matrix\n",
        "from sklearn.utils import shuffle\n",
        "import seaborn as sns\n",
        "from IPython.display import display\n",
        "from scipy.stats import mode\n",
        "\n",
        "seed = 976\n",
        "length = 20000\n",
        "np.random.seed(seed)\n",
        "\n",
        "import time\n",
        "\n"
      ],
      "execution_count": 0,
      "outputs": []
    },
    {
      "metadata": {
        "id": "OWp2rKXZaELV",
        "colab_type": "code",
        "colab": {}
      },
      "cell_type": "code",
      "source": [
        "!pip install -U -q PyDrive\n",
        "\n",
        "from pydrive.auth import GoogleAuth\n",
        "from pydrive.drive import GoogleDrive\n",
        "from google.colab import auth\n",
        "from oauth2client.client import GoogleCredentials\n",
        "\n",
        "# 1. Authenticate and create the PyDrive client.\n",
        "auth.authenticate_user()\n",
        "gauth = GoogleAuth()\n",
        "gauth.credentials = GoogleCredentials.get_application_default()\n",
        "drive = GoogleDrive(gauth)\n",
        "\n",
        "\n"
      ],
      "execution_count": 0,
      "outputs": []
    },
    {
      "metadata": {
        "id": "gOc_pdz2SRT4",
        "colab_type": "code",
        "colab": {}
      },
      "cell_type": "code",
      "source": [
        "developer_brand_downloaded = drive.CreateFile({'id': '1tb1pvtUNqx3r4FVbNsRKum2hwaLOIYmO'})\n",
        "developer_brand_downloaded.GetContentFile('Chosen_Data_clearToN.csv')\n",
        "df = pd.read_csv(\"Chosen_Data_clearToN.csv\")"
      ],
      "execution_count": 0,
      "outputs": []
    },
    {
      "metadata": {
        "id": "vJd89780SRUB",
        "colab_type": "code",
        "outputId": "91d39d37-6021-460e-b700-4353d136d191",
        "colab": {
          "base_uri": "https://localhost:8080/",
          "height": 204
        }
      },
      "cell_type": "code",
      "source": [
        "df = df[[\"Sequences\", \"Label\"]]\n",
        "df.head()"
      ],
      "execution_count": 4,
      "outputs": [
        {
          "output_type": "execute_result",
          "data": {
            "text/html": [
              "<div>\n",
              "<style scoped>\n",
              "    .dataframe tbody tr th:only-of-type {\n",
              "        vertical-align: middle;\n",
              "    }\n",
              "\n",
              "    .dataframe tbody tr th {\n",
              "        vertical-align: top;\n",
              "    }\n",
              "\n",
              "    .dataframe thead th {\n",
              "        text-align: right;\n",
              "    }\n",
              "</style>\n",
              "<table border=\"1\" class=\"dataframe\">\n",
              "  <thead>\n",
              "    <tr style=\"text-align: right;\">\n",
              "      <th></th>\n",
              "      <th>Sequences</th>\n",
              "      <th>Label</th>\n",
              "    </tr>\n",
              "  </thead>\n",
              "  <tbody>\n",
              "    <tr>\n",
              "      <th>0</th>\n",
              "      <td>AGCCAGGGACGTGTTGTATCCTNGGCAGTGGCCCACCCATAGGTCA...</td>\n",
              "      <td>hku</td>\n",
              "    </tr>\n",
              "    <tr>\n",
              "      <th>1</th>\n",
              "      <td>TGGGGATTGTGAGCGATTTGCGTGCGTGCATCCCGCTTCACTGATC...</td>\n",
              "      <td>hku</td>\n",
              "    </tr>\n",
              "    <tr>\n",
              "      <th>2</th>\n",
              "      <td>GACTAAAGATAAAAATTATAGCATTAGTCTATAATTTTATCTCCCT...</td>\n",
              "      <td>hku</td>\n",
              "    </tr>\n",
              "    <tr>\n",
              "      <th>3</th>\n",
              "      <td>GACTAAAGATAAAAATTATAGCATTAGTCTATAATTTTATCTCCCT...</td>\n",
              "      <td>hku</td>\n",
              "    </tr>\n",
              "    <tr>\n",
              "      <th>4</th>\n",
              "      <td>GACAAAGTTCAAAAATATATATATATATATTTTTTGCAACTCCTAG...</td>\n",
              "      <td>hku</td>\n",
              "    </tr>\n",
              "  </tbody>\n",
              "</table>\n",
              "</div>"
            ],
            "text/plain": [
              "                                           Sequences Label\n",
              "0  AGCCAGGGACGTGTTGTATCCTNGGCAGTGGCCCACCCATAGGTCA...   hku\n",
              "1  TGGGGATTGTGAGCGATTTGCGTGCGTGCATCCCGCTTCACTGATC...   hku\n",
              "2  GACTAAAGATAAAAATTATAGCATTAGTCTATAATTTTATCTCCCT...   hku\n",
              "3  GACTAAAGATAAAAATTATAGCATTAGTCTATAATTTTATCTCCCT...   hku\n",
              "4  GACAAAGTTCAAAAATATATATATATATATTTTTTGCAACTCCTAG...   hku"
            ]
          },
          "metadata": {
            "tags": []
          },
          "execution_count": 4
        }
      ]
    },
    {
      "metadata": {
        "id": "lyF9V9moSRUL",
        "colab_type": "code",
        "outputId": "942b00da-f75a-4bd0-e766-23a82b8e4b00",
        "colab": {
          "base_uri": "https://localhost:8080/",
          "height": 34
        }
      },
      "cell_type": "code",
      "source": [
        "key_virus = df[\"Label\"].value_counts().index\n",
        "print(key_virus)"
      ],
      "execution_count": 5,
      "outputs": [
        {
          "output_type": "stream",
          "text": [
            "Index(['mers', 'sars', 'hku', 'oc43', 'nl63', '229e'], dtype='object')\n"
          ],
          "name": "stdout"
        }
      ]
    },
    {
      "metadata": {
        "id": "8D9eZrCBSRUZ",
        "colab_type": "code",
        "colab": {}
      },
      "cell_type": "code",
      "source": [
        "def splitTrainTest(data):\n",
        "  keyDatas = data[\"Label\"].value_counts().keys()\n",
        "  train = pd.DataFrame()\n",
        "  valid = pd.DataFrame()\n",
        "  test = pd.DataFrame()\n",
        "  chk = 0\n",
        "  for k in keyDatas:\n",
        "    tmp = data[data[\"Label\"]==k]\n",
        "    tmp_train, tmp_test = train_test_split(tmp, test_size=2/5, random_state=seed)\n",
        "    tmp_train, tmp_valid = train_test_split(tmp_train, test_size=1/6, random_state=seed)\n",
        "    train = train.append(tmp_train)\n",
        "    valid = valid.append(tmp_valid)\n",
        "    test = test.append(tmp_test)\n",
        "  return train, valid, test"
      ],
      "execution_count": 0,
      "outputs": []
    },
    {
      "metadata": {
        "id": "GwxCgJOnSRUf",
        "colab_type": "code",
        "colab": {}
      },
      "cell_type": "code",
      "source": [
        "df_train, df_valid, df_test = splitTrainTest(df)\n",
        "df_train = df_train.reset_index(drop=True)\n",
        "df_valid = df_valid.reset_index(drop=True)\n",
        "df_test = df_test.reset_index(drop=True)"
      ],
      "execution_count": 0,
      "outputs": []
    },
    {
      "metadata": {
        "id": "l6xPpXrJJpJE",
        "colab_type": "code",
        "outputId": "f9d45f07-ea04-467b-e693-08e5cc6e5fd1",
        "colab": {
          "base_uri": "https://localhost:8080/",
          "height": 34
        }
      },
      "cell_type": "code",
      "source": [
        "\n"
      ],
      "execution_count": 8,
      "outputs": [
        {
          "output_type": "execute_result",
          "data": {
            "text/plain": [
              "'the code you want to test stays here'"
            ]
          },
          "metadata": {
            "tags": []
          },
          "execution_count": 8
        }
      ]
    },
    {
      "metadata": {
        "id": "r5Raum4ASvet",
        "colab_type": "text"
      },
      "cell_type": "markdown",
      "source": [
        "## [itertools.product](https://www.hackerrank.com/challenges/itertools-product/problem)"
      ]
    },
    {
      "metadata": {
        "id": "XV6OOdEiSRUk",
        "colab_type": "code",
        "colab": {}
      },
      "cell_type": "code",
      "source": [
        "def createGram(sequence, gram=5):\n",
        "  nGram = dict.fromkeys([\"\".join(x) for x in itertools.product(\"ACTG\",repeat=gram) ],0)\n",
        "  for i in  range(len(sequence)-gram+1):\n",
        "    if \"N\" not in str([sequence[i:i+gram]]):\n",
        "      nGram[sequence[i:i+gram]]+=1\n",
        "#     return np.array(list(nGram.values()))/((len(sequence)-gram+1))\n",
        "  return np.array(list(nGram.values()))\n",
        "\n",
        "def createFrequence(data, gram=5, length=10000, train=False):\n",
        "  frequence = []\n",
        "  label = []\n",
        "\n",
        "  if(train):\n",
        "    ### Upsampling\n",
        "    max_sam = data[\"Label\"].value_counts()[0]\n",
        "    for i in data[\"Label\"].value_counts().keys():\n",
        "      tmp_virus = data[data[\"Label\"]==i]\n",
        "      tmp_virus = tmp_virus.reset_index(drop=True)\n",
        "      for j in range(0, max_sam//len(tmp_virus)):\n",
        "        for k in range(len(tmp_virus)):\n",
        "          if(len(tmp_virus[\"Sequences\"][k])-length == 0):\n",
        "            rand_int = 0\n",
        "          else:\n",
        "            rand_int = np.random.randint(len(tmp_virus[\"Sequences\"][k])-length)\n",
        "          selected_sequence = tmp_virus[\"Sequences\"][k][rand_int:rand_int+length]\n",
        "          frequence.append(createGram(tmp_virus[\"Sequences\"][k]))\n",
        "          label.append(i)\n",
        "  else:\n",
        "    for k in range(len(data)):\n",
        "      if (len(data[\"Sequences\"][k])-length == 0) :\n",
        "        rand_int = 0\n",
        "      else:\n",
        "        rand_int = np.random.randint(len(data[\"Sequences\"][k])-length)\n",
        "      selected_sequence = data[\"Sequences\"][k][rand_int:rand_int+length]\n",
        "    #             frequence.append(createGram(selected_sequence))\n",
        "      frequence.append(createGram(data[\"Sequences\"][k]))\n",
        "      label.append(data[\"Label\"][k])\n",
        "\n",
        "  return np.array(frequence), label"
      ],
      "execution_count": 0,
      "outputs": []
    },
    {
      "metadata": {
        "id": "j3TBJVUrSRUo",
        "colab_type": "code",
        "colab": {}
      },
      "cell_type": "code",
      "source": [
        "X_train, y_train = createFrequence(df_train, 5, length, True)\n",
        "X_valid, y_valid = createFrequence(df_valid, 5, length, False)\n",
        "X_test, y_test = createFrequence(df_test, 5, length, False)"
      ],
      "execution_count": 0,
      "outputs": []
    },
    {
      "metadata": {
        "id": "Ks3KnaP-SRU6",
        "colab_type": "code",
        "colab": {}
      },
      "cell_type": "code",
      "source": [
        "def buildLabel(y_str_label,key_virus_label):\n",
        "  nplabel = []\n",
        "  for lab in y_str_label:\n",
        "    for i in np.arange(len(key_virus_label)):\n",
        "      if(lab == key_virus_label[i]):\n",
        "        nplabel.append(i+1)\n",
        "        break\n",
        "  return np.array(nplabel)"
      ],
      "execution_count": 0,
      "outputs": []
    },
    {
      "metadata": {
        "id": "4J_Hajs0LeaT",
        "colab_type": "code",
        "colab": {}
      },
      "cell_type": "code",
      "source": [
        "from sklearn.metrics import f1_score, precision_score, recall_score, accuracy_score\n",
        "\n",
        "def evluate(y_pred,y_test):\n",
        "  acc = accuracy_score(y_test, y_pred)\n",
        "  f1 = f1_score(y_test, y_pred, average='macro') \n",
        "  prec = precision_score(y_test, y_pred, average='macro') \n",
        "  recall = recall_score(y_test, y_pred, average='macro') \n",
        "  return acc, f1, prec, recall"
      ],
      "execution_count": 0,
      "outputs": []
    },
    {
      "metadata": {
        "id": "DuAFbBKGSRU9",
        "colab_type": "code",
        "colab": {}
      },
      "cell_type": "code",
      "source": [
        "y_train = buildLabel(y_train,key_virus)\n",
        "y_valid = buildLabel(y_valid,key_virus)\n",
        "y_test = buildLabel(y_test,key_virus)\n",
        "# print(y_train)"
      ],
      "execution_count": 0,
      "outputs": []
    },
    {
      "metadata": {
        "id": "PXHRzNGISRU_",
        "colab_type": "code",
        "outputId": "4b5ae213-94a5-483f-9e82-1346cf029b33",
        "colab": {
          "base_uri": "https://localhost:8080/",
          "height": 136
        }
      },
      "cell_type": "code",
      "source": [
        "pd.Series(y_train).value_counts()"
      ],
      "execution_count": 14,
      "outputs": [
        {
          "output_type": "execute_result",
          "data": {
            "text/plain": [
              "1    220\n",
              "5    217\n",
              "4    207\n",
              "6    204\n",
              "3    168\n",
              "2    160\n",
              "dtype: int64"
            ]
          },
          "metadata": {
            "tags": []
          },
          "execution_count": 14
        }
      ]
    },
    {
      "metadata": {
        "id": "21KP26jfSRVD",
        "colab_type": "code",
        "colab": {}
      },
      "cell_type": "code",
      "source": [
        "X_train, y_train = shuffle(X_train, y_train, random_state=seed)"
      ],
      "execution_count": 0,
      "outputs": []
    },
    {
      "metadata": {
        "id": "FxrTWyN5J0Fd",
        "colab_type": "code",
        "outputId": "d7c0907a-674f-4ced-eecb-6438bdfbcf4c",
        "colab": {
          "base_uri": "https://localhost:8080/",
          "height": 34
        }
      },
      "cell_type": "code",
      "source": [
        "end = time.time()\n",
        "print(end - start)"
      ],
      "execution_count": 16,
      "outputs": [
        {
          "output_type": "stream",
          "text": [
            "44.69570279121399\n"
          ],
          "name": "stdout"
        }
      ]
    },
    {
      "metadata": {
        "id": "Xl6_3mbNHCVT",
        "colab_type": "code",
        "outputId": "b439852d-5f00-4a8b-dcce-ef14e6be1c66",
        "colab": {
          "base_uri": "https://localhost:8080/",
          "height": 85
        }
      },
      "cell_type": "code",
      "source": [
        "from sklearn.svm import SVC\n",
        "\n",
        "clf_Linear = SVC(kernel='linear')\n",
        "clf_Linear.fit(X_train, y_train)\n",
        "y_pred_linear = clf_Linear.predict(X_test)\n",
        "\n",
        "acc, f1, precision, recall = evluate(y_pred_linear,y_test)\n",
        "print('accuracy :',acc)\n",
        "print('f1 :',f1)\n",
        "print('precision :',precision)\n",
        "print('recall :',recall)"
      ],
      "execution_count": 17,
      "outputs": [
        {
          "output_type": "stream",
          "text": [
            "accuracy : 0.951063829787234\n",
            "f1 : 0.95802280066015\n",
            "precision : 0.9595498663295273\n",
            "recall : 0.9566570684217743\n"
          ],
          "name": "stdout"
        }
      ]
    },
    {
      "metadata": {
        "id": "YVKmyMIHIimj",
        "colab_type": "code",
        "outputId": "7bdbc649-aa9d-42d9-d979-852e36596350",
        "colab": {
          "base_uri": "https://localhost:8080/",
          "height": 139
        }
      },
      "cell_type": "code",
      "source": [
        "clf_poly = SVC(kernel='poly')\n",
        "clf_poly.fit(X_train, y_train)\n",
        "y_pred_poly = clf_poly.predict(X_test)\n",
        "\n",
        "acc, f1, precision, recall = evluate(y_pred_poly,y_test)\n",
        "print('accuracy :',acc)\n",
        "print('f1 :',f1)\n",
        "print('precision :',precision)\n",
        "print('recall :',recall)"
      ],
      "execution_count": 18,
      "outputs": [
        {
          "output_type": "stream",
          "text": [
            "/usr/local/lib/python3.6/dist-packages/sklearn/svm/base.py:196: FutureWarning: The default value of gamma will change from 'auto' to 'scale' in version 0.22 to account better for unscaled features. Set gamma explicitly to 'auto' or 'scale' to avoid this warning.\n",
            "  \"avoid this warning.\", FutureWarning)\n"
          ],
          "name": "stderr"
        },
        {
          "output_type": "stream",
          "text": [
            "accuracy : 0.948936170212766\n",
            "f1 : 0.9546940563646354\n",
            "precision : 0.9599029014701724\n",
            "recall : 0.9499117304264363\n"
          ],
          "name": "stdout"
        }
      ]
    },
    {
      "metadata": {
        "id": "tCAxMyD1SRVK",
        "colab_type": "code",
        "outputId": "51832aff-bc3c-461e-a3f3-35f62a95ad4b",
        "colab": {
          "base_uri": "https://localhost:8080/",
          "height": 139
        }
      },
      "cell_type": "code",
      "source": [
        "clf_rbf = SVC(kernel='rbf')\n",
        "clf_rbf.fit(X_train, y_train)\n",
        "y_pred_rbf = clf_rbf.predict(X_test)\n",
        "\n",
        "acc, f1, precision, recall = evluate(y_pred_rbf,y_test)\n",
        "print('accuracy :',acc)\n",
        "print('f1 :',f1)\n",
        "print('precision :',precision)\n",
        "print('recall :',recall)"
      ],
      "execution_count": 19,
      "outputs": [
        {
          "output_type": "stream",
          "text": [
            "/usr/local/lib/python3.6/dist-packages/sklearn/svm/base.py:196: FutureWarning: The default value of gamma will change from 'auto' to 'scale' in version 0.22 to account better for unscaled features. Set gamma explicitly to 'auto' or 'scale' to avoid this warning.\n",
            "  \"avoid this warning.\", FutureWarning)\n"
          ],
          "name": "stderr"
        },
        {
          "output_type": "stream",
          "text": [
            "accuracy : 0.9191489361702128\n",
            "f1 : 0.8992588522588522\n",
            "precision : 0.9338688610240334\n",
            "recall : 0.8794334342128459\n"
          ],
          "name": "stdout"
        }
      ]
    },
    {
      "metadata": {
        "id": "q24TSpuxX1gW",
        "colab_type": "text"
      },
      "cell_type": "markdown",
      "source": [
        "---"
      ]
    },
    {
      "metadata": {
        "id": "QA0zulZGMMcD",
        "colab_type": "text"
      },
      "cell_type": "markdown",
      "source": [
        "## 8000-10000"
      ]
    },
    {
      "metadata": {
        "id": "0YaZd0s7XZli",
        "colab_type": "code",
        "outputId": "480e0ffb-eaac-4662-b83b-cc7bc5c82894",
        "colab": {
          "base_uri": "https://localhost:8080/",
          "height": 347
        }
      },
      "cell_type": "code",
      "source": [
        "df_cut = df.copy()\n",
        "len_Sequences = [len(x) for x in df_cut['Sequences'].values]\n",
        "df_cut['len_Sequences'] = len_Sequences\n",
        "n, bins, patches = plt.hist(np.array(len_Sequences), 100, density=True, facecolor='g', alpha=0.75)\n",
        "plt.show()"
      ],
      "execution_count": 20,
      "outputs": [
        {
          "output_type": "display_data",
          "data": {
            "image/png": "[encoded data removed]",
            "text/plain": [
              "<Figure size 576x396 with 1 Axes>"
            ]
          },
          "metadata": {
            "tags": []
          }
        }
      ]
    },
    {
      "metadata": {
        "id": "QXmmQmFIQlwi",
        "colab_type": "code",
        "colab": {}
      },
      "cell_type": "code",
      "source": [
        "sub_Sequences = [x[8000:10001] for x in df_cut['Sequences'].values]\n",
        "df_cut['sub_Sequences'] = sub_Sequences\n",
        "df_cut = df_cut[['sub_Sequences','Label','len_Sequences']]"
      ],
      "execution_count": 0,
      "outputs": []
    },
    {
      "metadata": {
        "id": "LJZr3G55Prza",
        "colab_type": "code",
        "outputId": "ee9c94b2-a2bb-4e74-aa0c-3e297059ebb9",
        "colab": {
          "base_uri": "https://localhost:8080/",
          "height": 204
        }
      },
      "cell_type": "code",
      "source": [
        "display(df_cut.head())"
      ],
      "execution_count": 22,
      "outputs": [
        {
          "output_type": "display_data",
          "data": {
            "text/html": [
              "<div>\n",
              "<style scoped>\n",
              "    .dataframe tbody tr th:only-of-type {\n",
              "        vertical-align: middle;\n",
              "    }\n",
              "\n",
              "    .dataframe tbody tr th {\n",
              "        vertical-align: top;\n",
              "    }\n",
              "\n",
              "    .dataframe thead th {\n",
              "        text-align: right;\n",
              "    }\n",
              "</style>\n",
              "<table border=\"1\" class=\"dataframe\">\n",
              "  <thead>\n",
              "    <tr style=\"text-align: right;\">\n",
              "      <th></th>\n",
              "      <th>sub_Sequences</th>\n",
              "      <th>Label</th>\n",
              "      <th>len_Sequences</th>\n",
              "    </tr>\n",
              "  </thead>\n",
              "  <tbody>\n",
              "    <tr>\n",
              "      <th>0</th>\n",
              "      <td>ATTGACGGATGAAAGTTGTAATAACTTGGTGCCAACATATTTGAAG...</td>\n",
              "      <td>hku</td>\n",
              "      <td>30851</td>\n",
              "    </tr>\n",
              "    <tr>\n",
              "      <th>1</th>\n",
              "      <td>ATGCTTTAATAGCAACTGCGCATTCTTCTATAAAACAGGGTACGCA...</td>\n",
              "      <td>hku</td>\n",
              "      <td>31041</td>\n",
              "    </tr>\n",
              "    <tr>\n",
              "      <th>2</th>\n",
              "      <td>CAGTTGTACACACCACCTAAATTTGCAGTTGTTCAGAGTCTTAAGA...</td>\n",
              "      <td>hku</td>\n",
              "      <td>25422</td>\n",
              "    </tr>\n",
              "    <tr>\n",
              "      <th>3</th>\n",
              "      <td>CTAAATTTGCAGTTGTTCAGAGTCTTAAGACCAAGCTGCAAGCAGG...</td>\n",
              "      <td>hku</td>\n",
              "      <td>25406</td>\n",
              "    </tr>\n",
              "    <tr>\n",
              "      <th>4</th>\n",
              "      <td>TGGTAAGTACAAAGGTGAACAATGGGCCCATATGGTATCCATTGCT...</td>\n",
              "      <td>hku</td>\n",
              "      <td>26162</td>\n",
              "    </tr>\n",
              "  </tbody>\n",
              "</table>\n",
              "</div>"
            ],
            "text/plain": [
              "                                       sub_Sequences Label  len_Sequences\n",
              "0  ATTGACGGATGAAAGTTGTAATAACTTGGTGCCAACATATTTGAAG...   hku          30851\n",
              "1  ATGCTTTAATAGCAACTGCGCATTCTTCTATAAAACAGGGTACGCA...   hku          31041\n",
              "2  CAGTTGTACACACCACCTAAATTTGCAGTTGTTCAGAGTCTTAAGA...   hku          25422\n",
              "3  CTAAATTTGCAGTTGTTCAGAGTCTTAAGACCAAGCTGCAAGCAGG...   hku          25406\n",
              "4  TGGTAAGTACAAAGGTGAACAATGGGCCCATATGGTATCCATTGCT...   hku          26162"
            ]
          },
          "metadata": {
            "tags": []
          }
        }
      ]
    },
    {
      "metadata": {
        "id": "zLco7pv8SGAM",
        "colab_type": "code",
        "colab": {}
      },
      "cell_type": "code",
      "source": [
        "df_cut.rename(columns={'sub_Sequences': 'Sequences'}, inplace=True)\n",
        "\n",
        "df_cut_train, df_cut_valid, df_cut_test = splitTrainTest(df_cut)\n",
        "df_cut_train = df_cut_train.reset_index(drop=True)\n",
        "df_cut_valid = df_cut_valid.reset_index(drop=True)\n",
        "df_cut_test = df_cut_test.reset_index(drop=True)\n",
        "\n",
        "X_train_key_seq, y_train_key_seq = createFrequence(df_cut_train, 5, 2000, True)\n",
        "X_valid_key_seq, y_valid_key_seq = createFrequence(df_cut_valid, 5, 2000, False)\n",
        "X_test_key_seq, y_test_key_seq = createFrequence(df_cut_test, 5, 2000, False)\n",
        "\n",
        "y_train_key_seq = buildLabel(y_train_key_seq,key_virus)\n",
        "y_valid_key_seq = buildLabel(y_valid_key_seq,key_virus)\n",
        "y_test_key_seq = buildLabel(y_test_key_seq,key_virus)\n",
        "\n",
        "X_train_key_seq, y_train_key_seq = shuffle(X_train_key_seq, y_train_key_seq, random_state=seed)"
      ],
      "execution_count": 0,
      "outputs": []
    },
    {
      "metadata": {
        "id": "jKpbg8BTXc3q",
        "colab_type": "code",
        "outputId": "3f2bf6b2-8218-4dd1-e854-d5e72ed67654",
        "colab": {
          "base_uri": "https://localhost:8080/",
          "height": 136
        }
      },
      "cell_type": "code",
      "source": [
        "pd.Series(y_train.reshape(-1)).value_counts()"
      ],
      "execution_count": 24,
      "outputs": [
        {
          "output_type": "execute_result",
          "data": {
            "text/plain": [
              "1    220\n",
              "5    217\n",
              "4    207\n",
              "6    204\n",
              "3    168\n",
              "2    160\n",
              "dtype: int64"
            ]
          },
          "metadata": {
            "tags": []
          },
          "execution_count": 24
        }
      ]
    },
    {
      "metadata": {
        "id": "UPWUaZSpXt22",
        "colab_type": "code",
        "outputId": "e8ce0ad5-000b-4c42-dff6-db98201ff090",
        "colab": {
          "base_uri": "https://localhost:8080/",
          "height": 139
        }
      },
      "cell_type": "code",
      "source": [
        "clf = SVC(kernel ='poly')\n",
        "clf.fit(X_train_key_seq, y_train_key_seq)\n",
        "y_pred = clf.predict(X_test_key_seq)\n",
        "\n",
        "acc, f1, precision, recall = evluate(y_pred,y_test_key_seq)\n",
        "print('accuracy :',acc)\n",
        "print('f1 :',f1)\n",
        "print('precision :',precision)\n",
        "print('recall :',recall)"
      ],
      "execution_count": 25,
      "outputs": [
        {
          "output_type": "stream",
          "text": [
            "/usr/local/lib/python3.6/dist-packages/sklearn/svm/base.py:196: FutureWarning: The default value of gamma will change from 'auto' to 'scale' in version 0.22 to account better for unscaled features. Set gamma explicitly to 'auto' or 'scale' to avoid this warning.\n",
            "  \"avoid this warning.\", FutureWarning)\n"
          ],
          "name": "stderr"
        },
        {
          "output_type": "stream",
          "text": [
            "accuracy : 0.9659574468085106\n",
            "f1 : 0.9702082228353007\n",
            "precision : 0.9738577378180077\n",
            "recall : 0.9672991224461812\n"
          ],
          "name": "stdout"
        }
      ]
    },
    {
      "metadata": {
        "id": "r6K-D-MdYULi",
        "colab_type": "text"
      },
      "cell_type": "markdown",
      "source": [
        "------"
      ]
    },
    {
      "metadata": {
        "colab_type": "text",
        "id": "XveS5O5k-hdD"
      },
      "cell_type": "markdown",
      "source": [
        "## 8000-10000"
      ]
    },
    {
      "metadata": {
        "colab_type": "code",
        "outputId": "bee3683b-95de-437e-ccee-421548e0380c",
        "id": "JDzFSoVf-hdE",
        "colab": {
          "base_uri": "https://localhost:8080/",
          "height": 347
        }
      },
      "cell_type": "code",
      "source": [
        "df_cut = df.copy()\n",
        "len_Sequences = [len(x) for x in df_cut['Sequences'].values]\n",
        "df_cut['len_Sequences'] = len_Sequences\n",
        "n, bins, patches = plt.hist(np.array(len_Sequences), 100, density=True, facecolor='g', alpha=0.75)\n",
        "plt.show()"
      ],
      "execution_count": 51,
      "outputs": [
        {
          "output_type": "display_data",
          "data": {
            "image/png": "[encoded data removed]",
            "text/plain": [
              "<Figure size 576x396 with 1 Axes>"
            ]
          },
          "metadata": {
            "tags": []
          }
        }
      ]
    },
    {
      "metadata": {
        "colab_type": "code",
        "outputId": "e40a4543-84eb-44c2-acf9-2e2272990059",
        "id": "PufBxzDv-hdO",
        "colab": {
          "base_uri": "https://localhost:8080/",
          "height": 204
        }
      },
      "cell_type": "code",
      "source": [
        "display(df_cut.head())"
      ],
      "execution_count": 52,
      "outputs": [
        {
          "output_type": "display_data",
          "data": {
            "text/html": [
              "<div>\n",
              "<style scoped>\n",
              "    .dataframe tbody tr th:only-of-type {\n",
              "        vertical-align: middle;\n",
              "    }\n",
              "\n",
              "    .dataframe tbody tr th {\n",
              "        vertical-align: top;\n",
              "    }\n",
              "\n",
              "    .dataframe thead th {\n",
              "        text-align: right;\n",
              "    }\n",
              "</style>\n",
              "<table border=\"1\" class=\"dataframe\">\n",
              "  <thead>\n",
              "    <tr style=\"text-align: right;\">\n",
              "      <th></th>\n",
              "      <th>Sequences</th>\n",
              "      <th>Label</th>\n",
              "      <th>len_Sequences</th>\n",
              "    </tr>\n",
              "  </thead>\n",
              "  <tbody>\n",
              "    <tr>\n",
              "      <th>0</th>\n",
              "      <td>AGCCAGGGACGTGTTGTATCCTNGGCAGTGGCCCACCCATAGGTCA...</td>\n",
              "      <td>hku</td>\n",
              "      <td>30851</td>\n",
              "    </tr>\n",
              "    <tr>\n",
              "      <th>1</th>\n",
              "      <td>TGGGGATTGTGAGCGATTTGCGTGCGTGCATCCCGCTTCACTGATC...</td>\n",
              "      <td>hku</td>\n",
              "      <td>31041</td>\n",
              "    </tr>\n",
              "    <tr>\n",
              "      <th>2</th>\n",
              "      <td>GACTAAAGATAAAAATTATAGCATTAGTCTATAATTTTATCTCCCT...</td>\n",
              "      <td>hku</td>\n",
              "      <td>25422</td>\n",
              "    </tr>\n",
              "    <tr>\n",
              "      <th>3</th>\n",
              "      <td>GACTAAAGATAAAAATTATAGCATTAGTCTATAATTTTATCTCCCT...</td>\n",
              "      <td>hku</td>\n",
              "      <td>25406</td>\n",
              "    </tr>\n",
              "    <tr>\n",
              "      <th>4</th>\n",
              "      <td>GACAAAGTTCAAAAATATATATATATATATTTTTTGCAACTCCTAG...</td>\n",
              "      <td>hku</td>\n",
              "      <td>26162</td>\n",
              "    </tr>\n",
              "  </tbody>\n",
              "</table>\n",
              "</div>"
            ],
            "text/plain": [
              "                                           Sequences Label  len_Sequences\n",
              "0  AGCCAGGGACGTGTTGTATCCTNGGCAGTGGCCCACCCATAGGTCA...   hku          30851\n",
              "1  TGGGGATTGTGAGCGATTTGCGTGCGTGCATCCCGCTTCACTGATC...   hku          31041\n",
              "2  GACTAAAGATAAAAATTATAGCATTAGTCTATAATTTTATCTCCCT...   hku          25422\n",
              "3  GACTAAAGATAAAAATTATAGCATTAGTCTATAATTTTATCTCCCT...   hku          25406\n",
              "4  GACAAAGTTCAAAAATATATATATATATATTTTTTGCAACTCCTAG...   hku          26162"
            ]
          },
          "metadata": {
            "tags": []
          }
        }
      ]
    },
    {
      "metadata": {
        "colab_type": "code",
        "id": "LD5ZldmO-hdK",
        "colab": {}
      },
      "cell_type": "code",
      "source": [
        "sub_Sequences = [x for x in df_cut['Sequences'].values]\n",
        "df_cut['sub_Sequences'] = sub_Sequences\n",
        "df_cut = df_cut[['sub_Sequences','Label','len_Sequences']]"
      ],
      "execution_count": 0,
      "outputs": []
    },
    {
      "metadata": {
        "colab_type": "code",
        "id": "6-JG8XdR-hdU",
        "colab": {
          "base_uri": "https://localhost:8080/",
          "height": 204
        },
        "outputId": "4bccc87d-29f7-4384-c67d-dfce13250fc9"
      },
      "cell_type": "code",
      "source": [
        "df_cut.rename(columns={'sub_Sequences': 'Sequences'}, inplace=True)\n",
        "\n",
        "df_cut_train, df_cut_valid, df_cut_test = splitTrainTest(df_cut)\n",
        "df_cut_train = df_cut_train.reset_index(drop=True)\n",
        "df_cut_valid = df_cut_valid.reset_index(drop=True)\n",
        "df_cut_test = df_cut_test.reset_index(drop=True)\n",
        "\n",
        "X_train_key_seq, y_train_key_seq = createFrequence(df_cut_train, 5, 2000, True)\n",
        "X_valid_key_seq, y_valid_key_seq = createFrequence(df_cut_valid, 5, 2000, False)\n",
        "X_test_key_seq, y_test_key_seq = createFrequence(df_cut_test, 5, 2000, False)\n",
        "\n",
        "y_train_key_seq = buildLabel(y_train_key_seq,key_virus)\n",
        "y_valid_key_seq = buildLabel(y_valid_key_seq,key_virus)\n",
        "y_test_key_seq = buildLabel(y_test_key_seq,key_virus)\n",
        "\n",
        "X_train_key_seq, y_train_key_seq = shuffle(X_train_key_seq, y_train_key_seq, random_state=seed)\n",
        "\n",
        "df_cut.head()\n"
      ],
      "execution_count": 54,
      "outputs": [
        {
          "output_type": "execute_result",
          "data": {
            "text/html": [
              "<div>\n",
              "<style scoped>\n",
              "    .dataframe tbody tr th:only-of-type {\n",
              "        vertical-align: middle;\n",
              "    }\n",
              "\n",
              "    .dataframe tbody tr th {\n",
              "        vertical-align: top;\n",
              "    }\n",
              "\n",
              "    .dataframe thead th {\n",
              "        text-align: right;\n",
              "    }\n",
              "</style>\n",
              "<table border=\"1\" class=\"dataframe\">\n",
              "  <thead>\n",
              "    <tr style=\"text-align: right;\">\n",
              "      <th></th>\n",
              "      <th>Sequences</th>\n",
              "      <th>Label</th>\n",
              "      <th>len_Sequences</th>\n",
              "    </tr>\n",
              "  </thead>\n",
              "  <tbody>\n",
              "    <tr>\n",
              "      <th>0</th>\n",
              "      <td>AGCCAGGGACGTGTTGTATCCTNGGCAGTGGCCCACCCATAGGTCA...</td>\n",
              "      <td>hku</td>\n",
              "      <td>30851</td>\n",
              "    </tr>\n",
              "    <tr>\n",
              "      <th>1</th>\n",
              "      <td>TGGGGATTGTGAGCGATTTGCGTGCGTGCATCCCGCTTCACTGATC...</td>\n",
              "      <td>hku</td>\n",
              "      <td>31041</td>\n",
              "    </tr>\n",
              "    <tr>\n",
              "      <th>2</th>\n",
              "      <td>GACTAAAGATAAAAATTATAGCATTAGTCTATAATTTTATCTCCCT...</td>\n",
              "      <td>hku</td>\n",
              "      <td>25422</td>\n",
              "    </tr>\n",
              "    <tr>\n",
              "      <th>3</th>\n",
              "      <td>GACTAAAGATAAAAATTATAGCATTAGTCTATAATTTTATCTCCCT...</td>\n",
              "      <td>hku</td>\n",
              "      <td>25406</td>\n",
              "    </tr>\n",
              "    <tr>\n",
              "      <th>4</th>\n",
              "      <td>GACAAAGTTCAAAAATATATATATATATATTTTTTGCAACTCCTAG...</td>\n",
              "      <td>hku</td>\n",
              "      <td>26162</td>\n",
              "    </tr>\n",
              "  </tbody>\n",
              "</table>\n",
              "</div>"
            ],
            "text/plain": [
              "                                           Sequences Label  len_Sequences\n",
              "0  AGCCAGGGACGTGTTGTATCCTNGGCAGTGGCCCACCCATAGGTCA...   hku          30851\n",
              "1  TGGGGATTGTGAGCGATTTGCGTGCGTGCATCCCGCTTCACTGATC...   hku          31041\n",
              "2  GACTAAAGATAAAAATTATAGCATTAGTCTATAATTTTATCTCCCT...   hku          25422\n",
              "3  GACTAAAGATAAAAATTATAGCATTAGTCTATAATTTTATCTCCCT...   hku          25406\n",
              "4  GACAAAGTTCAAAAATATATATATATATATTTTTTGCAACTCCTAG...   hku          26162"
            ]
          },
          "metadata": {
            "tags": []
          },
          "execution_count": 54
        }
      ]
    },
    {
      "metadata": {
        "id": "yBe_sMGMBaoc",
        "colab_type": "code",
        "colab": {
          "base_uri": "https://localhost:8080/",
          "height": 384
        },
        "outputId": "820ae89a-824c-4bde-a52f-7cdf8569b1d3"
      },
      "cell_type": "code",
      "source": [
        "len_Sequences = [len(x) for x in df_cut['Sequences'].values]\n",
        "n, bins, patches = plt.hist(np.array(len_Sequences), 100, facecolor='g', alpha=0.75)\n",
        "plt.show()\n",
        "print(len_Sequences)"
      ],
      "execution_count": 55,
      "outputs": [
        {
          "output_type": "display_data",
          "data": {
            "image/png": "[encoded data removed]",
            "text/plain": [
              "<Figure size 576x396 with 1 Axes>"
            ]
          },
          "metadata": {
            "tags": []
          }
        },
        {
          "output_type": "stream",
          "text": [
            "[30851, 31041, 25422, 25406, 26162, 26155, 30497, 30498, 30119, 30119, 30119, 30048, 30039, 30123, 30123, 30123, 30123, 30123, 30123, 30123, 30123, 30123, 30123, 30123, 30123, 30123, 30123, 30123, 30123, 30123, 30123, 30123, 30123, 30123, 30123, 30123, 30123, 30123, 30123, 30123, 30123, 30123, 30123, 30123, 30123, 30121, 30123, 30123, 30123, 30123, 30123, 30123, 30123, 30123, 30123, 30123, 30123, 30123, 30123, 30123, 30123, 30123, 30123, 30123, 30123, 30123, 30123, 30123, 30123, 30123, 30123, 30123, 30123, 30123, 30123, 30123, 30123, 30123, 30123, 30123, 30123, 30123, 30123, 30123, 30123, 30123, 30123, 30123, 30123, 30123, 30123, 30123, 30123, 30123, 30123, 30123, 30123, 30123, 30123, 30123, 30123, 30123, 30123, 30123, 30123, 30123, 30123, 30123, 30123, 30123, 30123, 30123, 30123, 30123, 30123, 30123, 30123, 30123, 30123, 30123, 30123, 30123, 30123, 30123, 30123, 30123, 30123, 30123, 30123, 30123, 30123, 30123, 30123, 30123, 30123, 30123, 30123, 30123, 30123, 30123, 30123, 30123, 30123, 30123, 30123, 30123, 30118, 30119, 30119, 30096, 30061, 30102, 30102, 30102, 30039, 30059, 30096, 30075, 30096, 30123, 30096, 30096, 30123, 30096, 30096, 30096, 30096, 30096, 30096, 30096, 30096, 30096, 30096, 30096, 30096, 30096, 30096, 30096, 30096, 30096, 30096, 30096, 30096, 30096, 30096, 30096, 30096, 30096, 30096, 30096, 30123, 30123, 30123, 30096, 30096, 30096, 30123, 30123, 30123, 30123, 30123, 30123, 30123, 30123, 30123, 30123, 30123, 29423, 29423, 29374, 29374, 29721, 29721, 30047, 30047, 30077, 30077, 30091, 30091, 29421, 29421, 29680, 29454, 29462, 29462, 29455, 29462, 29455, 29462, 29458, 29995, 29837, 29809, 30009, 30113, 30113, 30119, 28442, 28363, 28363, 28679, 26155, 25871, 25874, 30290, 29722, 26476, 28492, 28483, 28483, 28483, 28483, 28483, 28489, 28494, 28494, 31769, 31766, 31775, 31052, 31052, 31052, 30713, 30731, 30713, 30713, 30713, 30713, 30713, 30752, 30719, 30719, 30719, 30602, 30659, 30752, 30719, 30713, 30722, 30737, 30716, 30737, 30711, 30722, 30722, 30713, 30713, 30713, 30713, 30713, 30713, 30713, 30713, 30713, 30713, 30713, 30713, 30713, 30713, 30713, 30713, 30713, 30713, 30713, 30713, 30713, 30738, 30746, 30737, 30713, 30705, 30721, 30722, 30714, 30714, 30713, 30716, 30713, 30716, 30713, 30713, 30716, 30713, 30716, 30716, 30716, 30713, 30716, 30713, 30716, 30716, 30710, 30536, 30550, 30713, 30713, 30669, 30581, 30713, 30572, 30577, 30577, 30569, 30577, 30577, 30577, 30577, 30577, 30564, 30577, 30577, 30578, 30606, 30589, 30606, 30611, 30608, 30581, 30581, 30602, 30581, 30577, 30590, 30578, 30577, 30577, 30577, 30568, 30577, 30577, 30578, 30578, 30577, 30577, 30578, 30573, 30571, 30656, 30661, 30674, 30668, 30670, 30670, 30659, 30648, 30562, 30689, 30581, 30725, 30722, 30704, 30571, 30677, 30705, 30721, 30723, 30723, 30738, 30741, 30710, 30744, 31249, 31249, 31249, 31249, 26487, 26223, 26223, 28688, 28020, 28026, 28754, 27837, 27636, 27241, 27193, 27395, 27270, 27193, 27164, 27263, 27317, 27317, 27271, 27138, 27165, 27169, 27270, 27022, 27208, 27136, 27238, 27182, 27226, 27249, 27242, 27235, 27144, 27055, 27193, 26592, 27208, 27231, 29887, 29887, 29862, 29926, 29926, 29557, 29536, 29832, 29742, 29982, 29983, 29604, 29695, 29628, 29934, 29848, 29790, 29464, 29923, 29709, 29820, 29908, 29893, 29367, 29887, 29947, 29767, 29797, 29902, 29845, 29785, 29887, 29860, 29845, 29815, 29905, 29812, 30097, 29845, 29920, 29755, 29295, 29857, 29857, 29815, 27550, 27535, 27553, 27553, 27538, 27538, 27535, 27553, 27685, 27623, 27587, 27781, 27637, 27832, 27513, 27523, 27523, 27509, 27513, 27540, 27550, 27492, 27302, 27487, 27459, 27487, 27487, 27487, 27469, 27469, 27487, 27383, 27487, 27502, 27487, 27469, 27469, 27487, 27455, 27456, 27485, 27469, 27395, 27413, 27413, 27401, 27410, 27410, 27410, 27410, 27410, 27410, 27410, 27553, 27553, 27553, 27553, 27489, 27553, 27553, 26689, 26689, 30123, 30123, 30123, 30123, 30123, 30123, 30123, 30123, 30076, 30071, 30078, 30115, 30105, 30108, 30117, 30063, 30054, 30113, 30069, 30081, 30056, 30081, 30114, 30119, 30118, 30119, 30118, 30118, 30118, 30113, 30119, 30119, 30117, 30118, 30117, 30116, 30110, 30116, 30118, 30109, 30116, 30115, 30113, 30114, 30116, 30116, 30122, 30118, 30120, 30120, 30118, 30109, 30115, 30110, 30118, 30117, 30118, 30119, 30117, 30108, 30118, 30115, 30117, 30119, 30117, 30122, 30111, 30110, 30118, 30122, 30118, 30122, 30113, 30119, 30121, 30118, 30117, 30122, 30107, 30110, 30120, 30120, 30122, 30122, 30114, 30113, 30118, 30118, 30116, 30116, 29559, 29559, 29559, 29559, 29559, 29559, 29559, 30112, 30112, 30114, 30099, 30097, 30099, 30101, 30099, 30101, 30107, 30099, 30099, 30099, 30088, 30042, 30035, 30031, 30123, 30123, 29901, 30104, 30055, 30055, 30119, 29267, 29783, 29880, 30040, 30096, 30087, 30076, 30096, 30096, 30096, 30089, 30096, 30096, 30096, 30096, 29695, 30123, 30123, 30096, 30096, 30096, 30096, 30096, 30096, 30096, 30096, 30096, 30096, 30096, 30114, 30114, 30123, 30120, 30096, 29566, 30123, 29890, 29874, 29919, 29918, 29774, 29809, 29918, 29799, 29785, 29896, 29896, 29896, 29896, 29896, 29751, 29751, 29896, 30105, 30105, 30100, 30100, 30099, 30099, 29831, 29831, 29831, 29831, 29831, 29831, 29831, 29831, 30119, 30083, 30116, 30113, 30114, 30113, 30010, 30121, 29809, 29851, 29851, 30108, 30111, 30118, 30082, 30118, 30106, 30110, 30118, 30123, 29908, 29908, 30090, 30086, 30055, 30063, 29896, 30082, 30064, 30054, 30055, 30055, 30055, 30055, 28773, 28773, 26552, 26552, 26077, 26077, 30488, 30488, 30487, 30482, 30482, 25425, 25430, 25430, 25422, 25422, 25422, 25422, 25411, 25422, 25422, 25422, 25422, 25422, 31100, 31100, 30904, 31116, 31096, 27165, 27165, 27164, 27164, 27164, 27155, 29107, 29136, 29155, 29114, 29136, 29122, 29136, 29112, 29114, 29134, 29676, 29728, 29728, 29695, 29695, 29695, 29695, 29704, 29704, 29677, 29677, 29687, 29687, 29711, 29711, 29704, 29704, 29704, 29704, 29704, 29704, 29716, 29716, 29681, 29681, 29695, 29695, 29709, 29749, 29736, 29540, 29731, 29741, 29739, 29751, 29737, 29739, 29721, 29723, 29714, 29727, 29751, 29751, 29751, 29736, 29751, 37971, 37971, 29751, 29751, 29736, 29751, 29751, 29751, 29499, 29711, 29525, 29725, 29745, 29740, 29732, 29751, 29512, 29602, 29602, 29731, 29602, 29751, 29727, 29518, 29683, 29736, 29736, 29736, 29736, 29736, 29740, 29632, 29727, 29757, 29754, 29746, 29640, 29645, 29760, 29730, 29730, 29720, 29731, 29736, 29742, 29742, 29751, 29530, 29765, 29729, 29765, 29699, 29736, 29736, 29736, 29709, 29736, 29736, 29350, 29350, 29350, 29350, 29716, 29732, 29682, 29730, 29730, 29728, 29738, 29738, 29745, 29592, 29013, 29711, 29705, 29711, 29706, 29711, 29767, 29715, 29716, 29722, 29716, 29712, 29577, 29719, 29713, 29661, 29720, 29670, 29741, 29740, 29714, 29717, 29725, 29710, 29713, 29715, 29745, 29729, 29729, 29727, 29729, 29729, 29729, 29729, 29729, 29729, 29729, 29729, 29725, 29727, 29727, 29727, 29725, 29727, 29727, 29727, 29461, 29728, 29715, 29731, 29706, 29749, 29683, 29683, 29647, 29725, 29802, 29732, 29710, 29741, 29770, 29782, 29741, 29743, 29743, 30311, 30307, 29769, 29792, 29787, 30309, 29723, 29723, 29694, 29751, 29646, 29646, 29646, 29646, 29646, 29646, 29727, 29742, 29736, 29746, 29746, 29751, 29751, 29751, 29751, 29675, 29687, 29665, 29687, 29646, 29646, 29665, 29628, 29646, 29636, 29646, 29644, 29646, 29647, 29688, 29687, 29687, 29687, 29687, 29687, 29687, 29687, 29687, 29687, 29687, 29689, 29687, 29687, 29687, 29687, 29687, 29687, 29687, 29644, 29644, 29644, 29644, 29644, 29644, 29727, 29727, 29727, 29727, 29720, 29720, 29720, 29720, 29720, 29720, 29646, 29646, 29646, 29646, 29646, 29646, 29646, 29646, 29646, 29646, 29646, 29646, 29646, 29646, 29646, 29646, 29646, 29646, 29646, 29646, 29721, 29720, 29721, 29648, 29721, 29721, 29646, 29646, 29646, 29646, 29646, 29645, 29645, 29646, 29646, 29646, 29646, 29646, 29646, 29646, 29646, 29646, 29645, 29645, 29646, 29646, 29059, 29573, 29573, 29573, 29727, 29727, 29687, 29687, 29687, 29687, 29687, 29687, 29687, 29687, 29687, 29687, 29687, 29687, 29687, 29687, 29687, 29687, 29687, 29687, 29646, 29687, 29646, 29648, 29647, 29647, 29646, 29648, 29687, 29646, 29647, 29616, 29647, 26083, 26083, 26396, 26396, 30286, 30286, 30316, 30286, 30286, 26041, 26041, 26227, 26227]\n"
          ],
          "name": "stdout"
        }
      ]
    },
    {
      "metadata": {
        "colab_type": "code",
        "outputId": "83127972-b7f2-4097-837a-9ea291f0b92a",
        "id": "DPgF629L-hde",
        "colab": {
          "base_uri": "https://localhost:8080/",
          "height": 139
        }
      },
      "cell_type": "code",
      "source": [
        "clf = SVC()\n",
        "clf.fit(X_train_key_seq, y_train_key_seq)\n",
        "y_pred = clf.predict(X_test_key_seq)\n",
        "\n",
        "acc, f1, precision, recall = evluate(y_pred,y_test_key_seq)\n",
        "print('accuracy :',acc)\n",
        "print('f1 :',f1)\n",
        "print('precision :',precision)\n",
        "print('recall :',recall)"
      ],
      "execution_count": 57,
      "outputs": [
        {
          "output_type": "stream",
          "text": [
            "/usr/local/lib/python3.6/dist-packages/sklearn/svm/base.py:196: FutureWarning: The default value of gamma will change from 'auto' to 'scale' in version 0.22 to account better for unscaled features. Set gamma explicitly to 'auto' or 'scale' to avoid this warning.\n",
            "  \"avoid this warning.\", FutureWarning)\n"
          ],
          "name": "stderr"
        },
        {
          "output_type": "stream",
          "text": [
            "accuracy : 0.9191489361702128\n",
            "f1 : 0.8992588522588522\n",
            "precision : 0.9338688610240334\n",
            "recall : 0.8794334342128459\n"
          ],
          "name": "stdout"
        }
      ]
    },
    {
      "metadata": {
        "colab_type": "text",
        "id": "JP9cx4Jo-hd5"
      },
      "cell_type": "markdown",
      "source": [
        "------"
      ]
    },
    {
      "metadata": {
        "id": "gUUph7O1Gd3K",
        "colab_type": "code",
        "colab": {}
      },
      "cell_type": "code",
      "source": [
        "df_train, df_valid, df_test = splitTrainTest(df)\n",
        "df_train = df_train.reset_index(drop=True)\n",
        "df_valid = df_valid.reset_index(drop=True)\n",
        "df_test = df_test.reset_index(drop=True)\n",
        "\n",
        "X_train_key_seq, y_train_key_seq = createFrequence(df_train, 5, 20000, True)\n",
        "X_valid_key_seq, y_valid_key_seq = createFrequence(df_valid, 5, 20000, False)\n",
        "X_test_key_seq, y_test_key_seq = createFrequence(df_test, 5, 20000, False)\n",
        "\n",
        "y_train_key_seq = buildLabel(y_train_key_seq,key_virus)\n",
        "y_valid_key_seq = buildLabel(y_valid_key_seq,key_virus)\n",
        "y_test_key_seq = buildLabel(y_test_key_seq,key_virus)\n",
        "\n",
        "X_train_key_seq, y_train_key_seq = shuffle(X_train_key_seq, y_train_key_seq, random_state=seed)\n",
        "\n",
        "train_acc = [] \n",
        "test_acc = []\n",
        "number_sv = []\n",
        "runtime = []\n",
        "range_c = 200\n",
        "for log_c in np.arange(0,6,6/range_c):\n",
        "  c = np.exp(log_c)\n",
        "  clf = SVC(C=c,gamma ='auto')\n",
        "  start_time = time.time()\n",
        "  clf.fit(X_train_key_seq, y_train_key_seq)\n",
        "  end_time = time.time()\n",
        "  y_pred_train = clf.predict(X_train_key_seq)\n",
        "  y_pred = clf.predict(X_test_key_seq)\n",
        "  \n",
        "  number_sv.append(np.sum(clf.n_support_))\n",
        "  acc_train, _, _, _ = evluate(y_pred_train,y_train_key_seq)\n",
        "  acc_test, _, _, _ = evluate(y_pred,y_test_key_seq)\n",
        "  train_acc.append(acc_train)\n",
        "  test_acc.append(acc_test)\n",
        "  runtime.append(end_time - start_time)"
      ],
      "execution_count": 0,
      "outputs": []
    },
    {
      "metadata": {
        "id": "FD9jruARat1Z",
        "colab_type": "code",
        "colab": {
          "base_uri": "https://localhost:8080/",
          "height": 3417
        },
        "outputId": "668323b7-a573-4c71-b942-04e6801ea4e5"
      },
      "cell_type": "code",
      "source": [
        "number_sv"
      ],
      "execution_count": 79,
      "outputs": [
        {
          "output_type": "execute_result",
          "data": {
            "text/plain": [
              "[283,\n",
              " 281,\n",
              " 280,\n",
              " 280,\n",
              " 280,\n",
              " 280,\n",
              " 279,\n",
              " 278,\n",
              " 278,\n",
              " 278,\n",
              " 278,\n",
              " 279,\n",
              " 279,\n",
              " 277,\n",
              " 277,\n",
              " 277,\n",
              " 277,\n",
              " 276,\n",
              " 270,\n",
              " 270,\n",
              " 270,\n",
              " 270,\n",
              " 270,\n",
              " 270,\n",
              " 271,\n",
              " 272,\n",
              " 272,\n",
              " 272,\n",
              " 273,\n",
              " 273,\n",
              " 273,\n",
              " 274,\n",
              " 274,\n",
              " 274,\n",
              " 274,\n",
              " 274,\n",
              " 275,\n",
              " 275,\n",
              " 275,\n",
              " 276,\n",
              " 277,\n",
              " 277,\n",
              " 277,\n",
              " 277,\n",
              " 277,\n",
              " 277,\n",
              " 277,\n",
              " 277,\n",
              " 278,\n",
              " 278,\n",
              " 279,\n",
              " 280,\n",
              " 280,\n",
              " 280,\n",
              " 281,\n",
              " 282,\n",
              " 283,\n",
              " 284,\n",
              " 284,\n",
              " 284,\n",
              " 285,\n",
              " 285,\n",
              " 287,\n",
              " 287,\n",
              " 287,\n",
              " 288,\n",
              " 289,\n",
              " 289,\n",
              " 288,\n",
              " 288,\n",
              " 288,\n",
              " 289,\n",
              " 290,\n",
              " 289,\n",
              " 291,\n",
              " 290,\n",
              " 293,\n",
              " 291,\n",
              " 297,\n",
              " 288,\n",
              " 288,\n",
              " 288,\n",
              " 288,\n",
              " 288,\n",
              " 288,\n",
              " 294,\n",
              " 287,\n",
              " 287,\n",
              " 287,\n",
              " 287,\n",
              " 287,\n",
              " 287,\n",
              " 287,\n",
              " 287,\n",
              " 288,\n",
              " 288,\n",
              " 288,\n",
              " 288,\n",
              " 287,\n",
              " 287,\n",
              " 287,\n",
              " 286,\n",
              " 286,\n",
              " 286,\n",
              " 286,\n",
              " 286,\n",
              " 285,\n",
              " 285,\n",
              " 287,\n",
              " 286,\n",
              " 286,\n",
              " 286,\n",
              " 286,\n",
              " 286,\n",
              " 285,\n",
              " 286,\n",
              " 286,\n",
              " 286,\n",
              " 286,\n",
              " 286,\n",
              " 286,\n",
              " 286,\n",
              " 285,\n",
              " 285,\n",
              " 285,\n",
              " 285,\n",
              " 284,\n",
              " 283,\n",
              " 283,\n",
              " 283,\n",
              " 283,\n",
              " 283,\n",
              " 283,\n",
              " 283,\n",
              " 282,\n",
              " 282,\n",
              " 282,\n",
              " 282,\n",
              " 281,\n",
              " 281,\n",
              " 281,\n",
              " 280,\n",
              " 279,\n",
              " 279,\n",
              " 279,\n",
              " 279,\n",
              " 279,\n",
              " 279,\n",
              " 279,\n",
              " 279,\n",
              " 279,\n",
              " 280,\n",
              " 280,\n",
              " 279,\n",
              " 279,\n",
              " 278,\n",
              " 278,\n",
              " 278,\n",
              " 277,\n",
              " 277,\n",
              " 277,\n",
              " 277,\n",
              " 276,\n",
              " 276,\n",
              " 276,\n",
              " 276,\n",
              " 276,\n",
              " 274,\n",
              " 274,\n",
              " 274,\n",
              " 274,\n",
              " 274,\n",
              " 274,\n",
              " 274,\n",
              " 274,\n",
              " 274,\n",
              " 274,\n",
              " 274,\n",
              " 274,\n",
              " 274,\n",
              " 274,\n",
              " 274,\n",
              " 274,\n",
              " 274,\n",
              " 274,\n",
              " 274,\n",
              " 274,\n",
              " 274,\n",
              " 274,\n",
              " 274,\n",
              " 274,\n",
              " 274,\n",
              " 274,\n",
              " 274,\n",
              " 274,\n",
              " 274,\n",
              " 274,\n",
              " 274,\n",
              " 274,\n",
              " 274]"
            ]
          },
          "metadata": {
            "tags": []
          },
          "execution_count": 79
        }
      ]
    },
    {
      "metadata": {
        "id": "bwvHnZS1I-69",
        "colab_type": "code",
        "colab": {
          "base_uri": "https://localhost:8080/",
          "height": 1007
        },
        "outputId": "b47a9154-7e0d-471c-f656-e89904a87638"
      },
      "cell_type": "code",
      "source": [
        "domain_c = np.arange(0,6,6/range_c)\n",
        "domain_c = np.exp(domain_c)\n",
        "plt.plot(domain_c, np.array(train_acc), 'r', domain_c, np.array(test_acc), 'b')\n",
        "plt.legend(('train', 'test'),loc='upper right')\n",
        "plt.show()\n",
        "\n",
        "plt.plot(domain_c, np.array(number_sv), 'r')\n",
        "plt.show()\n",
        "\n",
        "plt.plot(domain_c, np.array(runtime), 'r')\n",
        "plt.show()"
      ],
      "execution_count": 78,
      "outputs": [
        {
          "output_type": "display_data",
          "data": {
            "image/png": "[encoded data removed]",
            "text/plain": [
              "<Figure size 576x396 with 1 Axes>"
            ]
          },
          "metadata": {
            "tags": []
          }
        },
        {
          "output_type": "display_data",
          "data": {
            "image/png": "[encoded data removed]",
            "text/plain": [
              "<Figure size 576x396 with 1 Axes>"
            ]
          },
          "metadata": {
            "tags": []
          }
        },
        {
          "output_type": "display_data",
          "data": {
            "image/png": "[encoded data removed]",
            "text/plain": [
              "<Figure size 576x396 with 1 Axes>"
            ]
          },
          "metadata": {
            "tags": []
          }
        }
      ]
    },
    {
      "metadata": {
        "id": "Un3yFxwcGaP-",
        "colab_type": "text"
      },
      "cell_type": "markdown",
      "source": [
        "----"
      ]
    },
    {
      "metadata": {
        "id": "q2Y4c5_XLpHv",
        "colab_type": "text"
      },
      "cell_type": "markdown",
      "source": [
        "## creted data majority"
      ]
    },
    {
      "metadata": {
        "id": "zxbD0-WOLuv6",
        "colab_type": "code",
        "colab": {}
      },
      "cell_type": "code",
      "source": [
        "num_sub_seq = 5\n",
        "len_sub_seq = int(length/num_sub_seq)\n",
        "df_majority = df.copy()\n",
        "\n",
        "for i in np.arange(num_sub_seq):\n",
        "  sub_seq_name ='sub_Sequences_'+ str(i)\n",
        "  sub_Sequences = [x[i*len_sub_seq:(i+1)*len_sub_seq] for x in df_majority['Sequences'].values]\n",
        "  df_majority[sub_seq_name] = sub_Sequences"
      ],
      "execution_count": 0,
      "outputs": []
    },
    {
      "metadata": {
        "id": "eVA2toFZDtDk",
        "colab_type": "text"
      },
      "cell_type": "markdown",
      "source": [
        "## majority vote"
      ]
    },
    {
      "metadata": {
        "colab_type": "code",
        "outputId": "72262d48-2a88-4e1a-ad5c-e439a48e6b7e",
        "id": "zYwSKUdhC_pB",
        "colab": {
          "base_uri": "https://localhost:8080/",
          "height": 207
        }
      },
      "cell_type": "code",
      "source": [
        "X_train_major = []\n",
        "y_train_major = []\n",
        "X_valid_major = []\n",
        "y_valid_major = []\n",
        "X_test_major = []\n",
        "y_test_major = []\n",
        "\n",
        "svc_sub_seq = []\n",
        "\n",
        "y_pred_val_major = []\n",
        "y_pred_test_major = []\n",
        "\n",
        "\n",
        "for i in np.arange(num_sub_seq):\n",
        "  \n",
        "  sub_seq_name ='sub_Sequences_'+ str(i)\n",
        "  \n",
        "  df_cut_maj = df_majority[[sub_seq_name,'Label']].copy()\n",
        "  df_cut_maj.rename(columns={ sub_seq_name : 'Sequences'}, inplace=True)\n",
        "  \n",
        "  df_majority_train,df_majority_valid, df_majority_test = splitTrainTest(df_cut_maj)\n",
        "  df_majority_train = df_majority_train.reset_index(drop=True)\n",
        "  df_majority_valid = df_majority_valid.reset_index(drop=True)\n",
        "  df_majority_test = df_majority_test.reset_index(drop=True)\n",
        "  \n",
        "  X_train_A, y_train_A = createFrequence(df_majority_train, 5, len_sub_seq, True)\n",
        "  X_valid_A, y_valid_A = createFrequence(df_majority_valid, 5, len_sub_seq, False)\n",
        "  X_test_A, y_test_A = createFrequence(df_majority_test, 5, len_sub_seq, False)\n",
        "  y_train_A = buildLabel(y_train_A,key_virus)\n",
        "  y_valid_A = buildLabel(y_valid_A,key_virus)\n",
        "  y_test_A = buildLabel(y_test_A,key_virus)\n",
        "\n",
        "  X_train_A, y_train_A = shuffle(X_train_A, y_train_A, random_state=seed)\n",
        "  \n",
        "  X_train_major.append(X_train_A)\n",
        "  X_valid_major.append(X_valid_A)\n",
        "  X_test_major.append(X_test_A)\n",
        "  \n",
        "  if(i == 0):\n",
        "    y_train_major.append(y_train_A)\n",
        "    y_valid_major.append(y_valid_A)\n",
        "    y_test_major.append(y_test_A)\n",
        "  \n",
        "  \n",
        "  clf = SVC()\n",
        "  clf.fit(X_train_major[i], y_train_major[0].reshape(-1))\n",
        "  svc_sub_seq.append(clf)\n",
        "  \n",
        "  ## predict val set\n",
        "  y_pred_val = clf.predict(X_valid_A)\n",
        "  y_pred_test = clf.predict(X_test_A)\n",
        "  \n",
        "  y_pred_val_major.append(y_pred_val)\n",
        "  y_pred_test_major.append(y_pred_test)\n",
        "  ##"
      ],
      "execution_count": 34,
      "outputs": [
        {
          "output_type": "stream",
          "text": [
            "/usr/local/lib/python3.6/dist-packages/sklearn/svm/base.py:196: FutureWarning: The default value of gamma will change from 'auto' to 'scale' in version 0.22 to account better for unscaled features. Set gamma explicitly to 'auto' or 'scale' to avoid this warning.\n",
            "  \"avoid this warning.\", FutureWarning)\n",
            "/usr/local/lib/python3.6/dist-packages/sklearn/svm/base.py:196: FutureWarning: The default value of gamma will change from 'auto' to 'scale' in version 0.22 to account better for unscaled features. Set gamma explicitly to 'auto' or 'scale' to avoid this warning.\n",
            "  \"avoid this warning.\", FutureWarning)\n",
            "/usr/local/lib/python3.6/dist-packages/sklearn/svm/base.py:196: FutureWarning: The default value of gamma will change from 'auto' to 'scale' in version 0.22 to account better for unscaled features. Set gamma explicitly to 'auto' or 'scale' to avoid this warning.\n",
            "  \"avoid this warning.\", FutureWarning)\n",
            "/usr/local/lib/python3.6/dist-packages/sklearn/svm/base.py:196: FutureWarning: The default value of gamma will change from 'auto' to 'scale' in version 0.22 to account better for unscaled features. Set gamma explicitly to 'auto' or 'scale' to avoid this warning.\n",
            "  \"avoid this warning.\", FutureWarning)\n",
            "/usr/local/lib/python3.6/dist-packages/sklearn/svm/base.py:196: FutureWarning: The default value of gamma will change from 'auto' to 'scale' in version 0.22 to account better for unscaled features. Set gamma explicitly to 'auto' or 'scale' to avoid this warning.\n",
            "  \"avoid this warning.\", FutureWarning)\n"
          ],
          "name": "stderr"
        }
      ]
    },
    {
      "metadata": {
        "colab_type": "code",
        "outputId": "62df2f37-4fbd-485b-bcc1-f75808aaeb94",
        "id": "C1vCECiUC_pL",
        "colab": {
          "base_uri": "https://localhost:8080/",
          "height": 187
        }
      },
      "cell_type": "code",
      "source": [
        "y_real_predict_val = []\n",
        "y_real_predict_test = []\n",
        "\n",
        "for i in np.arange(len(y_valid_major[0])):\n",
        "  all_predict_val = [] \n",
        "  for j in np.arange(num_sub_seq):\n",
        "    all_predict_val.append(y_pred_val_major[j][i])\n",
        "    \n",
        "  all_predict_val = np.array(all_predict_val) \n",
        "  y_real_predict_val.append(mode(all_predict_val)[0])\n",
        "  \n",
        "\n",
        "for i in np.arange(len(y_pred_test_major[0])):\n",
        "  all_predict_test = []\n",
        "  for j in np.arange(num_sub_seq):\n",
        "    all_predict_test.append(y_pred_test_major[j][i])\n",
        "  all_predict_test = np.array(all_predict_test)\n",
        "  y_real_predict_test.append(mode(all_predict_test)[0])\n",
        "  \n",
        "\n",
        "print('val set')\n",
        "acc, f1, precision, recall = evluate(y_real_predict_val,y_valid_major[0])\n",
        "print('accuracy :',acc)\n",
        "print('f1 :',f1)\n",
        "print('precision :',precision)\n",
        "print('recall :',recall)  \n",
        "\n",
        "\n",
        "#print(len(y_real_predict_test))\n",
        "#print(len(y_test_major[0]))\n",
        "\n",
        "print('test set')\n",
        "acc, f1, precision, recall = evluate(y_real_predict_test,y_test_major[0])\n",
        "print('accuracy :',acc)\n",
        "print('f1 :',f1)\n",
        "print('precision :',precision)\n",
        "print('recall :',recall)\n",
        "\n"
      ],
      "execution_count": 35,
      "outputs": [
        {
          "output_type": "stream",
          "text": [
            "val set\n",
            "accuracy : 0.9747899159663865\n",
            "f1 : 0.9785806785806787\n",
            "precision : 0.9823369565217391\n",
            "recall : 0.97534165181224\n",
            "test set\n",
            "accuracy : 0.9638297872340426\n",
            "f1 : 0.9552771842311981\n",
            "precision : 0.9693873460849524\n",
            "recall : 0.9431502321208204\n"
          ],
          "name": "stdout"
        }
      ]
    },
    {
      "metadata": {
        "id": "YGvb6fD2IpDI",
        "colab_type": "text"
      },
      "cell_type": "markdown",
      "source": [
        "----"
      ]
    },
    {
      "metadata": {
        "id": "d9mzTqQAYWGm",
        "colab_type": "text"
      },
      "cell_type": "markdown",
      "source": [
        "## majority vote 2"
      ]
    },
    {
      "metadata": {
        "id": "X4od-7_qGu-9",
        "colab_type": "code",
        "outputId": "3a477090-a06b-4961-ffe2-fa44298ed160",
        "colab": {
          "base_uri": "https://localhost:8080/",
          "height": 139
        }
      },
      "cell_type": "code",
      "source": [
        "\n",
        "for i in np.arange(num_sub_seq):\n",
        "  if i == 0:\n",
        "    X_train_maj_merge = np.copy(X_train_major[0])\n",
        "    y_train_maj_merge = list(y_train_major[0].copy())\n",
        "  else:\n",
        "    X_to_merge = np.copy(X_train_major[i])\n",
        "    y_to_merge = y_train_major[0].copy()\n",
        "    \n",
        "    X_train_maj_merge = np.vstack((X_train_maj_merge,X_to_merge))\n",
        "    y_train_maj_merge = y_train_maj_merge + list(y_to_merge)\n",
        "\n",
        "#print(X_train_maj_merge.shape)\n",
        "#print(len(y_train_maj_merge)) \n",
        "\n",
        "#print(X_train_major[0].shape)\n",
        "#print(len(y_train_major[0]))\n",
        "  ##\n",
        "\n",
        "clf = SVC()\n",
        "clf.fit(X_train_maj_merge, y_train_maj_merge)\n",
        "\n",
        "#print(y_train_maj_merge)\n"
      ],
      "execution_count": 36,
      "outputs": [
        {
          "output_type": "stream",
          "text": [
            "/usr/local/lib/python3.6/dist-packages/sklearn/svm/base.py:196: FutureWarning: The default value of gamma will change from 'auto' to 'scale' in version 0.22 to account better for unscaled features. Set gamma explicitly to 'auto' or 'scale' to avoid this warning.\n",
            "  \"avoid this warning.\", FutureWarning)\n"
          ],
          "name": "stderr"
        },
        {
          "output_type": "execute_result",
          "data": {
            "text/plain": [
              "SVC(C=1.0, cache_size=200, class_weight=None, coef0=0.0,\n",
              "  decision_function_shape='ovr', degree=3, gamma='auto_deprecated',\n",
              "  kernel='rbf', max_iter=-1, probability=False, random_state=None,\n",
              "  shrinking=True, tol=0.001, verbose=False)"
            ]
          },
          "metadata": {
            "tags": []
          },
          "execution_count": 36
        }
      ]
    },
    {
      "metadata": {
        "id": "lmoZaUZeTi3j",
        "colab_type": "code",
        "colab": {}
      },
      "cell_type": "code",
      "source": [
        "y_pred_val_maj = []\n",
        "y_pred_test_maj = []\n",
        "for i in np.arange(num_sub_seq):\n",
        "  y_pred_val = clf.predict(X_valid_major[i])\n",
        "  y_pred_val_maj.append(y_pred_val)\n",
        "  \n",
        "  y_pred_test = clf.predict(X_test_major[i])\n",
        "  y_pred_test_maj.append(y_pred_test)\n",
        "  "
      ],
      "execution_count": 0,
      "outputs": []
    },
    {
      "metadata": {
        "id": "6tyAq89IlVqW",
        "colab_type": "code",
        "outputId": "72bb76df-e8f3-4070-8d7e-f1ee2277b4d2",
        "colab": {
          "base_uri": "https://localhost:8080/",
          "height": 221
        }
      },
      "cell_type": "code",
      "source": [
        "\n",
        "y_real_predict_major_val = []\n",
        "y_real_predict_major_test = []\n",
        "\n",
        "for i in np.arange(len(y_valid_major[0])):\n",
        "  all_predict_val = [] \n",
        "  for j in np.arange(num_sub_seq):\n",
        "    all_predict_val.append(y_pred_val_maj[j][i])\n",
        "    \n",
        "  all_predict_val = np.array(all_predict_val) \n",
        "  y_real_predict_major_val.append(mode(all_predict_val)[0])\n",
        "  \n",
        "\n",
        "for i in np.arange(len(y_pred_test_major[0])):\n",
        "  all_predict_test = []\n",
        "  for j in np.arange(num_sub_seq):\n",
        "    all_predict_test.append(y_pred_test_maj[j][i])\n",
        "  all_predict_test = np.array(all_predict_test)\n",
        "  y_real_predict_major_test.append(mode(all_predict_test)[0])\n",
        "  \n",
        "\n",
        "print('val set')\n",
        "acc, f1, precision, recall = evluate(y_real_predict_major_val,y_valid_major[0])\n",
        "print('accuracy :',acc)\n",
        "print('f1 :',f1)\n",
        "print('precision :',precision)\n",
        "print('recall :',recall)  \n",
        "\n",
        "\n",
        "print(len(y_real_predict_test))\n",
        "print(len(y_test_major[0]))\n",
        "\n",
        "print('test set')\n",
        "acc, f1, precision, recall = evluate(y_real_predict_major_test,y_test_major[0])\n",
        "print('accuracy :',acc)\n",
        "print('f1 :',f1)\n",
        "print('precision :',precision)\n",
        "print('recall :',recall)\n",
        "\n"
      ],
      "execution_count": 38,
      "outputs": [
        {
          "output_type": "stream",
          "text": [
            "val set\n",
            "accuracy : 0.9747899159663865\n",
            "f1 : 0.9785806785806787\n",
            "precision : 0.9823369565217391\n",
            "recall : 0.97534165181224\n",
            "470\n",
            "470\n",
            "test set\n",
            "accuracy : 0.9638297872340426\n",
            "f1 : 0.9552771842311981\n",
            "precision : 0.9693873460849524\n",
            "recall : 0.9431502321208204\n"
          ],
          "name": "stdout"
        }
      ]
    },
    {
      "metadata": {
        "id": "5i7eXad7DAt9",
        "colab_type": "text"
      },
      "cell_type": "markdown",
      "source": [
        "-----"
      ]
    },
    {
      "metadata": {
        "id": "GAT9tlBWDE9s",
        "colab_type": "text"
      },
      "cell_type": "markdown",
      "source": [
        "------"
      ]
    },
    {
      "metadata": {
        "id": "WNg7N0uFeFfO",
        "colab_type": "code",
        "outputId": "33cf6643-ad00-4334-8fee-cea3a2ed1e93",
        "colab": {
          "base_uri": "https://localhost:8080/",
          "height": 224
        }
      },
      "cell_type": "code",
      "source": [
        "df_majority.head()"
      ],
      "execution_count": 39,
      "outputs": [
        {
          "output_type": "execute_result",
          "data": {
            "text/html": [
              "<div>\n",
              "<style scoped>\n",
              "    .dataframe tbody tr th:only-of-type {\n",
              "        vertical-align: middle;\n",
              "    }\n",
              "\n",
              "    .dataframe tbody tr th {\n",
              "        vertical-align: top;\n",
              "    }\n",
              "\n",
              "    .dataframe thead th {\n",
              "        text-align: right;\n",
              "    }\n",
              "</style>\n",
              "<table border=\"1\" class=\"dataframe\">\n",
              "  <thead>\n",
              "    <tr style=\"text-align: right;\">\n",
              "      <th></th>\n",
              "      <th>Sequences</th>\n",
              "      <th>Label</th>\n",
              "      <th>sub_Sequences_0</th>\n",
              "      <th>sub_Sequences_1</th>\n",
              "      <th>sub_Sequences_2</th>\n",
              "      <th>sub_Sequences_3</th>\n",
              "      <th>sub_Sequences_4</th>\n",
              "    </tr>\n",
              "  </thead>\n",
              "  <tbody>\n",
              "    <tr>\n",
              "      <th>0</th>\n",
              "      <td>AGCCAGGGACGTGTTGTATCCTNGGCAGTGGCCCACCCATAGGTCA...</td>\n",
              "      <td>hku</td>\n",
              "      <td>AGCCAGGGACGTGTTGTATCCTNGGCAGTGGCCCACCCATAGGTCA...</td>\n",
              "      <td>CTGGACAGCAGTTCGTTAAAGAGACTACCGATATGGTTAAGTCTAA...</td>\n",
              "      <td>ATTGACGGATGAAAGTTGTAATAACTTGGTGCCAACATATTTGAAG...</td>\n",
              "      <td>TTGGAGCGTATGGCAGATTTGGCTCTTACTAATATGTATAAAGAAG...</td>\n",
              "      <td>AAAGCCTCTTCTTTGCTGCAAGTGTTGTTACGATCACGTTATGGCA...</td>\n",
              "    </tr>\n",
              "    <tr>\n",
              "      <th>1</th>\n",
              "      <td>TGGGGATTGTGAGCGATTTGCGTGCGTGCATCCCGCTTCACTGATC...</td>\n",
              "      <td>hku</td>\n",
              "      <td>TGGGGATTGTGAGCGATTTGCGTGCGTGCATCCCGCTTCACTGATC...</td>\n",
              "      <td>TTTGAAATTGCCCAATTGTATGGTTCTTGTATAACACCTAATGTAT...</td>\n",
              "      <td>ATGCTTTAATAGCAACTGCGCATTCTTCTATAAAACAGGGTACGCA...</td>\n",
              "      <td>TGAATTTGTTAATATGGCTAGCTTTGTTGAATATGAAGTTGCTAAG...</td>\n",
              "      <td>AGATCTTGGATAGCTACAGTGTTATTTTAAGTACTTGTGATGGACA...</td>\n",
              "    </tr>\n",
              "    <tr>\n",
              "      <th>2</th>\n",
              "      <td>GACTAAAGATAAAAATTATAGCATTAGTCTATAATTTTATCTCCCT...</td>\n",
              "      <td>hku</td>\n",
              "      <td>GACTAAAGATAAAAATTATAGCATTAGTCTATAATTTTATCTCCCT...</td>\n",
              "      <td>GAACCAAGCCAAGGAACTTGACCTTAACCTTCAGCAATACTGCGTC...</td>\n",
              "      <td>CAGTTGTACACACCACCTAAATTTGCAGTTGTTCAGAGTCTTAAGA...</td>\n",
              "      <td>TCTTGTTGGCATATTAACACCCGATAATCAAGACCTCCTGGGTCAG...</td>\n",
              "      <td>CGCTGCGGCTATGAGTATAATGGCGTCCATCCAGCTCATGCTTTGA...</td>\n",
              "    </tr>\n",
              "    <tr>\n",
              "      <th>3</th>\n",
              "      <td>GACTAAAGATAAAAATTATAGCATTAGTCTATAATTTTATCTCCCT...</td>\n",
              "      <td>hku</td>\n",
              "      <td>GACTAAAGATAAAAATTATAGCATTAGTCTATAATTTTATCTCCCT...</td>\n",
              "      <td>CTTGACCTTAACCTTCAGCAATACTGCGTCTACCTGAAGACTTGCC...</td>\n",
              "      <td>CTAAATTTGCAGTTGTTCAGAGTCTTAAGACCAAGCTGCAAGCAGG...</td>\n",
              "      <td>ACACCCGACAATCAAGACCTCCTGGGTCAGATCTATGACTTTGGAG...</td>\n",
              "      <td>ATAATGGCGTCCATCCAGCTCATGCTTTGACCTGGCATGATTGTGG...</td>\n",
              "    </tr>\n",
              "    <tr>\n",
              "      <th>4</th>\n",
              "      <td>GACAAAGTTCAAAAATATATATATATATATTTTTTGCAACTCCTAG...</td>\n",
              "      <td>hku</td>\n",
              "      <td>GACAAAGTTCAAAAATATATATATATATATTTTTTGCAACTCCTAG...</td>\n",
              "      <td>TTGCCATTGATGAACTATACCAGGAGTACAGAAATGGTAATCCCAG...</td>\n",
              "      <td>TGGTAAGTACAAAGGTGAACAATGGGCCCATATGGTATCCATTGCT...</td>\n",
              "      <td>CTATAGAGTATGATGGTTTCCAATATGACTTTACTGACTTTAAGCG...</td>\n",
              "      <td>TGAATACCGCTGTGATGAACCATTAGCCAAACTAGTAGGTGTCTCT...</td>\n",
              "    </tr>\n",
              "  </tbody>\n",
              "</table>\n",
              "</div>"
            ],
            "text/plain": [
              "                                           Sequences Label  \\\n",
              "0  AGCCAGGGACGTGTTGTATCCTNGGCAGTGGCCCACCCATAGGTCA...   hku   \n",
              "1  TGGGGATTGTGAGCGATTTGCGTGCGTGCATCCCGCTTCACTGATC...   hku   \n",
              "2  GACTAAAGATAAAAATTATAGCATTAGTCTATAATTTTATCTCCCT...   hku   \n",
              "3  GACTAAAGATAAAAATTATAGCATTAGTCTATAATTTTATCTCCCT...   hku   \n",
              "4  GACAAAGTTCAAAAATATATATATATATATTTTTTGCAACTCCTAG...   hku   \n",
              "\n",
              "                                     sub_Sequences_0  \\\n",
              "0  AGCCAGGGACGTGTTGTATCCTNGGCAGTGGCCCACCCATAGGTCA...   \n",
              "1  TGGGGATTGTGAGCGATTTGCGTGCGTGCATCCCGCTTCACTGATC...   \n",
              "2  GACTAAAGATAAAAATTATAGCATTAGTCTATAATTTTATCTCCCT...   \n",
              "3  GACTAAAGATAAAAATTATAGCATTAGTCTATAATTTTATCTCCCT...   \n",
              "4  GACAAAGTTCAAAAATATATATATATATATTTTTTGCAACTCCTAG...   \n",
              "\n",
              "                                     sub_Sequences_1  \\\n",
              "0  CTGGACAGCAGTTCGTTAAAGAGACTACCGATATGGTTAAGTCTAA...   \n",
              "1  TTTGAAATTGCCCAATTGTATGGTTCTTGTATAACACCTAATGTAT...   \n",
              "2  GAACCAAGCCAAGGAACTTGACCTTAACCTTCAGCAATACTGCGTC...   \n",
              "3  CTTGACCTTAACCTTCAGCAATACTGCGTCTACCTGAAGACTTGCC...   \n",
              "4  TTGCCATTGATGAACTATACCAGGAGTACAGAAATGGTAATCCCAG...   \n",
              "\n",
              "                                     sub_Sequences_2  \\\n",
              "0  ATTGACGGATGAAAGTTGTAATAACTTGGTGCCAACATATTTGAAG...   \n",
              "1  ATGCTTTAATAGCAACTGCGCATTCTTCTATAAAACAGGGTACGCA...   \n",
              "2  CAGTTGTACACACCACCTAAATTTGCAGTTGTTCAGAGTCTTAAGA...   \n",
              "3  CTAAATTTGCAGTTGTTCAGAGTCTTAAGACCAAGCTGCAAGCAGG...   \n",
              "4  TGGTAAGTACAAAGGTGAACAATGGGCCCATATGGTATCCATTGCT...   \n",
              "\n",
              "                                     sub_Sequences_3  \\\n",
              "0  TTGGAGCGTATGGCAGATTTGGCTCTTACTAATATGTATAAAGAAG...   \n",
              "1  TGAATTTGTTAATATGGCTAGCTTTGTTGAATATGAAGTTGCTAAG...   \n",
              "2  TCTTGTTGGCATATTAACACCCGATAATCAAGACCTCCTGGGTCAG...   \n",
              "3  ACACCCGACAATCAAGACCTCCTGGGTCAGATCTATGACTTTGGAG...   \n",
              "4  CTATAGAGTATGATGGTTTCCAATATGACTTTACTGACTTTAAGCG...   \n",
              "\n",
              "                                     sub_Sequences_4  \n",
              "0  AAAGCCTCTTCTTTGCTGCAAGTGTTGTTACGATCACGTTATGGCA...  \n",
              "1  AGATCTTGGATAGCTACAGTGTTATTTTAAGTACTTGTGATGGACA...  \n",
              "2  CGCTGCGGCTATGAGTATAATGGCGTCCATCCAGCTCATGCTTTGA...  \n",
              "3  ATAATGGCGTCCATCCAGCTCATGCTTTGACCTGGCATGATTGTGG...  \n",
              "4  TGAATACCGCTGTGATGAACCATTAGCCAAACTAGTAGGTGTCTCT...  "
            ]
          },
          "metadata": {
            "tags": []
          },
          "execution_count": 39
        }
      ]
    },
    {
      "metadata": {
        "id": "bKv7VXfhMo1j",
        "colab_type": "code",
        "outputId": "22433c66-5b13-4c29-f867-5378f2606996",
        "colab": {
          "base_uri": "https://localhost:8080/",
          "height": 34
        }
      },
      "cell_type": "code",
      "source": [
        "\n",
        "\n",
        "print('sub_Sequences_' +str(8))"
      ],
      "execution_count": 40,
      "outputs": [
        {
          "output_type": "stream",
          "text": [
            "sub_Sequences_8\n"
          ],
          "name": "stdout"
        }
      ]
    },
    {
      "metadata": {
        "colab_type": "code",
        "id": "z10ZByeQ8Wat",
        "outputId": "3f3c050c-b18b-41b6-ef9a-2363c0a31ce2",
        "colab": {
          "base_uri": "https://localhost:8080/",
          "height": 71
        }
      },
      "cell_type": "code",
      "source": [
        "clf = SVC()\n",
        "clf.fit(X_train, y_train.reshape(-1))\n",
        "y_pred = clf.predict(X_test)"
      ],
      "execution_count": 41,
      "outputs": [
        {
          "output_type": "stream",
          "text": [
            "/usr/local/lib/python3.6/dist-packages/sklearn/svm/base.py:196: FutureWarning: The default value of gamma will change from 'auto' to 'scale' in version 0.22 to account better for unscaled features. Set gamma explicitly to 'auto' or 'scale' to avoid this warning.\n",
            "  \"avoid this warning.\", FutureWarning)\n"
          ],
          "name": "stderr"
        }
      ]
    },
    {
      "metadata": {
        "colab_type": "code",
        "id": "5b1c-_ZJ8Way",
        "outputId": "53536cde-b9a4-4b0c-e10e-0c4c7886ce09",
        "colab": {
          "base_uri": "https://localhost:8080/",
          "height": 85
        }
      },
      "cell_type": "code",
      "source": [
        "acc, f1, precision, recall = evluate(y_pred,y_test)\n",
        "print('accuracy :',acc)\n",
        "print('f1 :',f1)\n",
        "print('precision :',precision)\n",
        "print('recall :',recall)"
      ],
      "execution_count": 42,
      "outputs": [
        {
          "output_type": "stream",
          "text": [
            "accuracy : 0.9191489361702128\n",
            "f1 : 0.8992588522588522\n",
            "precision : 0.9338688610240334\n",
            "recall : 0.8794334342128459\n"
          ],
          "name": "stdout"
        }
      ]
    },
    {
      "metadata": {
        "id": "rJ_AL8_edj0x",
        "colab_type": "text"
      },
      "cell_type": "markdown",
      "source": [
        "---"
      ]
    },
    {
      "metadata": {
        "id": "PWGip2vNeMUV",
        "colab_type": "text"
      },
      "cell_type": "markdown",
      "source": [
        "---"
      ]
    },
    {
      "metadata": {
        "id": "hKcsyw0ZfLNN",
        "colab_type": "text"
      },
      "cell_type": "markdown",
      "source": [
        "---"
      ]
    }
  ]
}