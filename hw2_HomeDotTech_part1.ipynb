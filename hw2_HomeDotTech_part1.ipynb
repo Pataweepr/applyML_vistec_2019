{
  "nbformat": 4,
  "nbformat_minor": 0,
  "metadata": {
    "colab": {
      "name": "hw2_HomeDotTech_part1.ipynb",
      "version": "0.3.2",
      "provenance": [],
      "collapsed_sections": [],
      "include_colab_link": true
    },
    "kernelspec": {
      "name": "python3",
      "display_name": "Python 3"
    }
  },
  "cells": [
    {
      "cell_type": "markdown",
      "metadata": {
        "id": "view-in-github",
        "colab_type": "text"
      },
      "source": [
        "<a href=\"https://colab.research.google.com/github/Pataweepr/applyML_vistec_2019/blob/master/hw2_HomeDotTech_part1.ipynb\" target=\"_parent\"><img src=\"https://colab.research.google.com/assets/colab-badge.svg\" alt=\"Open In Colab\"/></a>"
      ]
    },
    {
      "metadata": {
        "id": "ByDiTugkD3PF",
        "colab_type": "code",
        "colab": {}
      },
      "cell_type": "code",
      "source": [
        "import numpy as np\n",
        "import pandas as pd\n",
        "import matplotlib.pyplot as plt\n",
        "from sklearn.cluster import KMeans\n",
        "from sklearn.neighbors import NearestNeighbors\n",
        "from scipy.stats import mode\n",
        "from sklearn import preprocessing"
      ],
      "execution_count": 0,
      "outputs": []
    },
    {
      "metadata": {
        "id": "OcrnkyvogePf",
        "colab_type": "text"
      },
      "cell_type": "markdown",
      "source": [
        "# HW2: Thailand Real Estate Recommendation using k-NN\n",
        "\n",
        "The data used here is part of the [Home Hackathon 2018](https://www.homedottech.com/homehackathon-2018/) by courtesy of HomeDotTech. \n",
        "\n",
        "[Home.co.th](https://www.home.co.th/) is a website that has the most comprehensive data about real estate in Thailand. It is one of the leading website in Thailand for real estates and has millions of page views per month.\n",
        "\n",
        "The data we will be using are page view logs from the website, and the properties of housings and condominiums around Thailand.\n",
        "\n",
        "We would like to use this data to create simple recommendation systems for real estate.\n",
        "\n",
        "First to get the data go to this [link](https://drive.google.com/file/d/1X-cacRIF30acXyKotSmDZu5qc8Gs84Wm/view?usp=sharing) and click **add to Drive**\n",
        "\n",
        "We will use this data by linking it with our Google Colab notebook, by using the command below, click the link, and follow the steps to let Google Colab link to your Google Drive by copying the authorization code and pasting it into the space provided."
      ]
    },
    {
      "metadata": {
        "id": "cJJwrN7DIZgZ",
        "colab_type": "code",
        "colab": {}
      },
      "cell_type": "code",
      "source": [
        "from google.colab import drive\n",
        "drive.mount('/content/gdrive/')"
      ],
      "execution_count": 0,
      "outputs": []
    },
    {
      "metadata": {
        "id": "3TWLuYA2PdSb",
        "colab_type": "text"
      },
      "cell_type": "markdown",
      "source": [
        "Now that we have mounted the drive. We can access it by simple linux commands. To use linux commands in Colab, we can use the prefix \"!\" in front of the command.\n",
        "\n",
        "The command below unzips the *For_participants.zip* file and list the current directory on the machine that host our Colab."
      ]
    },
    {
      "metadata": {
        "id": "3wLO4PJCIaKs",
        "colab_type": "code",
        "colab": {}
      },
      "cell_type": "code",
      "source": [
        "!unzip '/content/gdrive/My Drive/For_participants.zip'\n",
        "!ls"
      ],
      "execution_count": 0,
      "outputs": []
    },
    {
      "metadata": {
        "id": "tppcYAf4P4tn",
        "colab_type": "text"
      },
      "cell_type": "markdown",
      "source": [
        "You should notice three files\n",
        "\n",
        "\n",
        "1.   **project_main.csv** explains each property. The details such as location (latitude, longtitude), price, housing type, build date, etc. are listed here.\n",
        "2.   **project_facility.csv** explains the facilities in each property. The format for each line is the id of the project follow by the type of the facility (another kind of id). The id for facilities are \n",
        "\n",
        "1: swimming pool\n",
        "\n",
        "2: club house\n",
        "\n",
        "3: park\n",
        "\n",
        "4: fitness\n",
        "\n",
        "5: security\n",
        "\n",
        "6: playground\n",
        "\n",
        "3.   **userLog_201801_201802_for_participants.csv** shows the user page views. Each view entry has a user id, the project visited, time, etc. The data is from January 2018 to February 22nd.\n",
        "\n",
        "You can also read the data dictionary for more information [here](https://drive.google.com/file/d/1uN8lRjoJQ3f-Ui69V5wwWGw13elvvaXq/view?usp=sharing)"
      ]
    },
    {
      "metadata": {
        "id": "MkX72JUarm5h",
        "colab_type": "text"
      },
      "cell_type": "markdown",
      "source": [
        "The files are in a csv format. **However, the delimiter used is a ';' instead of a ','**.  A sample function for reading the provided files are shown below."
      ]
    },
    {
      "metadata": {
        "id": "QFufCvqODOfy",
        "colab_type": "code",
        "colab": {}
      },
      "cell_type": "code",
      "source": [
        "def readDataFromDrive(file_name):\n",
        "  raw_data = pd.read_csv(file_name,delimiter= ';')\n",
        "  return raw_data;"
      ],
      "execution_count": 0,
      "outputs": []
    },
    {
      "metadata": {
        "id": "aBu3QDsfcDMG",
        "colab_type": "text"
      },
      "cell_type": "markdown",
      "source": [
        "# Data exploration and cleaning"
      ]
    },
    {
      "metadata": {
        "id": "roD4K39il3aP",
        "colab_type": "text"
      },
      "cell_type": "markdown",
      "source": [
        "## TODO#1: Explore project_main.csv\n",
        "\n",
        "Read *project_main.csv* and explore the data using pandas.head(), pandas.summary()\n",
        "\n",
        "What columns do you think are redundant?\n",
        "\n",
        "**Ans:**\n",
        "\n",
        "Drop those columns.\n",
        "\n",
        "We will use only the projects in Bangkok (province_id = 10). Remove the projects outside of Bangkok.\n",
        "\n",
        "Also, convert possible numbers and text to numbers using *.infer_objects()*"
      ]
    },
    {
      "metadata": {
        "id": "8Wc1TrjKxahD",
        "colab_type": "code",
        "colab": {}
      },
      "cell_type": "code",
      "source": [
        "################################################################################\n",
        "#                            WRITE YOUR CODE BELOW                             #\n",
        "################################################################################\n"
      ],
      "execution_count": 0,
      "outputs": []
    },
    {
      "metadata": {
        "id": "K-94Cjlcy4DS",
        "colab_type": "text"
      },
      "cell_type": "markdown",
      "source": [
        "<details>\n",
        "    <summary>SOLUTION HERE!</summary>\n",
        "      <pre>\n",
        "        <code>\n",
        "project_main = readDataFromDrive('project_main.csv')\n",
        "project_main = project_main.loc[project_main['province_id'] == 10]\n",
        "print(project_main.shape)\n",
        "project_main = project_main.drop(columns=['project_land_size_ngan', 'project_land_size_wa'])\n",
        "project_main.loc[project_main[\"project_status\"] == \"A\", \"project_status\"] = 1\n",
        "project_main.loc[project_main[\"project_status\"] == \"U\", \"project_status\"] = 0\n",
        "project_main = project_main.infer_objects()\n",
        "print(project_main.head())\n",
        "project_main.describe()\n",
        "        </code>\n",
        "      </pre>\n",
        "</details>\n",
        "\n"
      ]
    },
    {
      "metadata": {
        "id": "Eev1SbQYl_Ae",
        "colab_type": "text"
      },
      "cell_type": "markdown",
      "source": [
        "## TODO#2: NaN removal\n",
        "\n",
        "Note how there are many missing values in the data. Remove the projects with no location information (no latitude or longtitude info). Fill the missing starting prices with the mode of the starting price."
      ]
    },
    {
      "metadata": {
        "id": "2N83pVt7xl2x",
        "colab_type": "code",
        "colab": {}
      },
      "cell_type": "code",
      "source": [
        "################################################################################\n",
        "#                            WRITE YOUR CODE BELOW                             #\n",
        "################################################################################\n"
      ],
      "execution_count": 0,
      "outputs": []
    },
    {
      "metadata": {
        "colab_type": "text",
        "id": "NXa9VVrr76PH"
      },
      "cell_type": "markdown",
      "source": [
        "<details>\n",
        "    <summary>SOLUTION HERE!</summary>\n",
        "      <pre>\n",
        "        <code>\n",
        "project_main = project_main.dropna(subset=['lat','lon'])\n",
        "project_main[\"starting_price\"] = project_main[\"starting_price\"].fillna(project_main[\"starting_price\"].mode().iloc[0])\n",
        "        </code>\n",
        "      </pre>\n",
        "</details>"
      ]
    },
    {
      "metadata": {
        "id": "AF89hUwyzNDV",
        "colab_type": "text"
      },
      "cell_type": "markdown",
      "source": [
        "## TODO#3: Explore Project_facility.csv\n",
        "\n",
        "Check out the file *project_facility.csv*. If we want to describe each project using these information, do you think it is easy to use the information provided as is? Why?\n",
        "\n",
        "**ans:**\n"
      ]
    },
    {
      "metadata": {
        "id": "Kjw1O2CVxcmi",
        "colab_type": "code",
        "colab": {}
      },
      "cell_type": "code",
      "source": [
        "################################################################################\n",
        "#                            WRITE YOUR CODE BELOW                             #\n",
        "################################################################################\n"
      ],
      "execution_count": 0,
      "outputs": []
    },
    {
      "metadata": {
        "id": "hNhYR25VQm-8",
        "colab_type": "text"
      },
      "cell_type": "markdown",
      "source": [
        "## TODO#4: Change the data into a useable format\n",
        "Change the data format of project_facility into a table that describe whether a facility has a certain type of facility in binary format (yes/no). Hint: you can use [pd.crosstab](https://pandas.pydata.org/pandas-docs/version/0.23.4/generated/pandas.crosstab.html) to do this."
      ]
    },
    {
      "metadata": {
        "id": "5p4wfZdGxmco",
        "colab_type": "code",
        "colab": {}
      },
      "cell_type": "code",
      "source": [
        "################################################################################\n",
        "#                            WRITE YOUR CODE BELOW                             #\n",
        "################################################################################\n"
      ],
      "execution_count": 0,
      "outputs": []
    },
    {
      "metadata": {
        "colab_type": "text",
        "id": "Qf9aFs3k8fwX"
      },
      "cell_type": "markdown",
      "source": [
        "<details>\n",
        "    <summary>SOLUTION HERE!</summary>\n",
        "      <pre>\n",
        "        <code>\n",
        "project_facility_table = pd.crosstab(project_facility['project_id'], project_facility['facility_id'], rownames=['project_id'], colnames=['facility_id'])\n",
        "print(project_facility_table.index)\n",
        "project_facility_table.head()\n",
        "        </code>\n",
        "      </pre>\n",
        "</details>"
      ]
    },
    {
      "metadata": {
        "id": "SuOjAgoWQC93",
        "colab_type": "text"
      },
      "cell_type": "markdown",
      "source": [
        "## TODO#5: Remove missing information that does not exist in both files\n",
        "\n",
        "We want to use only projects that have facility information. Remove the projects that do not exist in both files. You may find [pandas.DataFrame.isin](https://pandas.pydata.org/pandas-docs/stable/reference/api/pandas.DataFrame.isin.html) useful."
      ]
    },
    {
      "metadata": {
        "id": "DH_JZKdcc4ll",
        "colab_type": "code",
        "colab": {}
      },
      "cell_type": "code",
      "source": [
        "################################################################################\n",
        "#                            WRITE YOUR CODE BELOW                             #\n",
        "################################################################################\n"
      ],
      "execution_count": 0,
      "outputs": []
    },
    {
      "metadata": {
        "colab_type": "text",
        "id": "sqv5aBkS8r2h"
      },
      "cell_type": "markdown",
      "source": [
        "<details>\n",
        "    <summary>SOLUTION HERE!</summary>\n",
        "      <pre>\n",
        "        <code>\n",
        "project_facility_table = project_facility_table.loc[project_facility_table.index.isin(project_main['project_id'])]\n",
        "project_main = project_main.loc[project_main['project_id'].isin(project_facility_table.index.astype(int))]\n",
        "project_main = project_main.sort_values('project_id')\n",
        "print(project_facility_table.shape)\n",
        "print(project_main.shape)\n",
        "project_facility_table.head()\n",
        "        </code>\n",
        "      </pre>\n",
        "</details>"
      ]
    },
    {
      "metadata": {
        "id": "kXbSDY3lxdZC",
        "colab_type": "code",
        "colab": {}
      },
      "cell_type": "code",
      "source": [
        "# Double check whether this looks okay\n",
        "project_main.head()"
      ],
      "execution_count": 0,
      "outputs": []
    },
    {
      "metadata": {
        "id": "cSbW8ujnf0ja",
        "colab_type": "code",
        "colab": {}
      },
      "cell_type": "code",
      "source": [
        "# Double check whether this looks okay\n",
        "project_main.iloc[0]"
      ],
      "execution_count": 0,
      "outputs": []
    },
    {
      "metadata": {
        "id": "SLgCn82OzrQc",
        "colab_type": "text"
      },
      "cell_type": "markdown",
      "source": [
        "## TODO#6: Explore userLog_201801_201802_for_participants.csv\n",
        "\n",
        "Read the userLog file and look at the data.\n",
        "\n",
        "How many entries are there?\n",
        "\n",
        "**Ans:**"
      ]
    },
    {
      "metadata": {
        "id": "ksRpe8e2ajVa",
        "colab_type": "code",
        "colab": {}
      },
      "cell_type": "code",
      "source": [
        "################################################################################\n",
        "#                            WRITE YOUR CODE BELOW                             #\n",
        "################################################################################\n"
      ],
      "execution_count": 0,
      "outputs": []
    },
    {
      "metadata": {
        "id": "Nwywh7_uENh0",
        "colab_type": "text"
      },
      "cell_type": "markdown",
      "source": [
        "Remove the entries for the projects that we have already removed."
      ]
    },
    {
      "metadata": {
        "id": "jFlYQc7mnuoM",
        "colab_type": "code",
        "colab": {}
      },
      "cell_type": "code",
      "source": [
        "################################################################################\n",
        "#                            WRITE YOUR CODE BELOW                             #\n",
        "################################################################################\n"
      ],
      "execution_count": 0,
      "outputs": []
    },
    {
      "metadata": {
        "id": "Q2nUl6TwP0c6",
        "colab_type": "text"
      },
      "cell_type": "markdown",
      "source": [
        "<details>\n",
        "    <summary>SOLUTION HERE!</summary>\n",
        "    <code>\n",
        "  userLog = userLog.loc[userLog['project_id'].isin(project_facility_table.index.astype(int))]\n",
        "  </code>\n",
        "</details>\n",
        "\n"
      ]
    },
    {
      "metadata": {
        "id": "U4h3JYoIXFsc",
        "colab_type": "text"
      },
      "cell_type": "markdown",
      "source": [
        "## TODO#7: Let's see how often the users visit Home.co.th\n",
        "\n",
        "To explore the useLog file, we want to see how the users behave.\n",
        "\n",
        "First we will aggregate the number of times each user visit the site.\n",
        "\n",
        "Use [pd.value_counts](https://pandas.pydata.org/pandas-docs/stable/reference/api/pandas.Series.value_counts.html) to help count the amount of times each user visit the site."
      ]
    },
    {
      "metadata": {
        "id": "p8CWwKunxf47",
        "colab_type": "code",
        "colab": {}
      },
      "cell_type": "code",
      "source": [
        "################################################################################\n",
        "#                            WRITE YOUR CODE BELOW                             #\n",
        "################################################################################\n"
      ],
      "execution_count": 0,
      "outputs": []
    },
    {
      "metadata": {
        "id": "8KtVPpnS97aE",
        "colab_type": "text"
      },
      "cell_type": "markdown",
      "source": [
        "<details>\n",
        "    <summary>SOLUTION HERE!</summary>\n",
        "  <pre>\n",
        "  <code>\n",
        "  userLog_freq_user = userLog['userCode'].value_counts()\n",
        "  userLog_freq_user_np  = np.array(userLog_freq_user.values)\n",
        "  print(userLog_freq_user_np.shape)\n",
        "  userLog_freq_user.head()\n",
        "  </code>\n",
        "  </pre>\n",
        "</details>\n",
        "\n",
        "\n"
      ]
    },
    {
      "metadata": {
        "id": "5ClYwT6z0jQb",
        "colab_type": "text"
      },
      "cell_type": "markdown",
      "source": [
        "Show a histogram of the view counts per user. Also use *pd.head()* to list the top viewers of this site."
      ]
    },
    {
      "metadata": {
        "id": "Bo48mxtHg_Y3",
        "colab_type": "code",
        "colab": {}
      },
      "cell_type": "code",
      "source": [
        "################################################################################\n",
        "#                            WRITE YOUR CODE BELOW                             #\n",
        "################################################################################\n"
      ],
      "execution_count": 0,
      "outputs": []
    },
    {
      "metadata": {
        "id": "owLV1wxP00yX",
        "colab_type": "text"
      },
      "cell_type": "markdown",
      "source": [
        "## TODO#8: View statistics\n",
        "Find the mean, median, and mode of the view counts. Also find the 95th percentile of the view counts. Hint: use [np.percentile](https://docs.scipy.org/doc/numpy-1.15.0/reference/generated/numpy.percentile.html)\n",
        "\n",
        "**Ans:**"
      ]
    },
    {
      "metadata": {
        "id": "zikNtaP2hzpF",
        "colab_type": "code",
        "colab": {}
      },
      "cell_type": "code",
      "source": [
        "################################################################################\n",
        "#                            WRITE YOUR CODE BELOW                             #\n",
        "################################################################################\n"
      ],
      "execution_count": 0,
      "outputs": []
    },
    {
      "metadata": {
        "id": "6Gs-cYCCNW9u",
        "colab_type": "text"
      },
      "cell_type": "markdown",
      "source": [
        "## TODO#9: userLog cleaning\n",
        "\n",
        "From TODO#7-8, and the fact that this is a log from a 50 day peroid, are there any problems with the data contained in *userLog*? Explain your hypothesis.\n",
        "\n",
        "**Ans:**"
      ]
    },
    {
      "metadata": {
        "id": "n9qIvS-GOV4L",
        "colab_type": "text"
      },
      "cell_type": "markdown",
      "source": [
        "## TODO#10: userLog pruning\n",
        "\n",
        "Let's prune out the suspicious users. To be safe, we will only **keep users that have more than 4 views and less than 41 views**. We have a minimum cutoff so that we can have better information about the users to train our recommendation system.\n",
        "\n",
        "You may use [pd.index](https://pandas.pydata.org/pandas-docs/version/0.23.4/generated/pandas.Index.html)  to help do the filtering.\n",
        "\n",
        "Check your answer by plotting a histogram of the views after the pruning."
      ]
    },
    {
      "metadata": {
        "id": "FhAX6jKbz7cB",
        "colab_type": "code",
        "colab": {}
      },
      "cell_type": "code",
      "source": [
        "################################################################################\n",
        "#                            WRITE YOUR CODE BELOW                             #\n",
        "################################################################################\n"
      ],
      "execution_count": 0,
      "outputs": []
    },
    {
      "metadata": {
        "id": "cIqf3PdvTTZI",
        "colab_type": "text"
      },
      "cell_type": "markdown",
      "source": [
        "<details>\n",
        "    <summary>SOLUTION HERE!</summary>\n",
        "  <pre>\n",
        "  <code>\n",
        "\n",
        "userLog_freq_user = userLog_freq_user.loc[userLog_freq_user <= 40 ]\n",
        "userLog_freq_user = userLog_freq_user.loc[userLog_freq_user >= 5 ]\n",
        "userLog_freq_user_np = np.array(userLog_freq_user.values)\n",
        "\n",
        "n, bins, patches = plt.hist(userLog_freq_user_np, 100, density=True, facecolor='g', alpha=0.75)\n",
        "plt.show()\n",
        "\n",
        "userLog = userLog.loc[userLog['userCode'].isin(userLog_freq_user.index)]\n",
        "  </code>\n",
        "  </pre>\n",
        "</details>\n",
        "\n"
      ]
    },
    {
      "metadata": {
        "id": "Q-6x2k2BEeo2",
        "colab_type": "text"
      },
      "cell_type": "markdown",
      "source": [
        "##Optional \n",
        "\n",
        "Can you do better userLog filtering by based on daily views instead of total views? For example, a user shouldn't view more than 20 pages within a day, etc."
      ]
    },
    {
      "metadata": {
        "id": "mddaS5baEwQa",
        "colab_type": "code",
        "colab": {}
      },
      "cell_type": "code",
      "source": [
        "################################################################################\n",
        "#                            WRITE YOUR CODE BELOW                             #\n",
        "################################################################################"
      ],
      "execution_count": 0,
      "outputs": []
    },
    {
      "metadata": {
        "id": "Rkxdaoaj-4wU",
        "colab_type": "text"
      },
      "cell_type": "markdown",
      "source": [
        "------"
      ]
    },
    {
      "metadata": {
        "id": "JRQ43uf5nySR",
        "colab_type": "text"
      },
      "cell_type": "markdown",
      "source": [
        "#Recommendation system"
      ]
    },
    {
      "metadata": {
        "id": "QTymaWEqAHhI",
        "colab_type": "text"
      },
      "cell_type": "markdown",
      "source": [
        "## TODO#11: Train and test split\n",
        "\n",
        "We will split the log data into training and test set for our recommendation system.\n",
        "\n",
        "For the training set, we will use the days between 15-18 February.\n",
        "For the testing set, we will use the days between 19-22 February.\n",
        "\n",
        "Filter the userLog dataframe using the criterion, and create two dataframes:\n",
        "*userLog_train* and *userLog_test*."
      ]
    },
    {
      "metadata": {
        "id": "i5OpfwXf5aOi",
        "colab_type": "code",
        "colab": {}
      },
      "cell_type": "code",
      "source": [
        "################################################################################\n",
        "#                            WRITE YOUR CODE BELOW                             #\n",
        "################################################################################\n"
      ],
      "execution_count": 0,
      "outputs": []
    },
    {
      "metadata": {
        "id": "qUd1gYB_B8HK",
        "colab_type": "text"
      },
      "cell_type": "markdown",
      "source": [
        "<details>\n",
        "    <summary>SOLUTION HERE!</summary>\n",
        "  <pre>\n",
        "<code>\n",
        "userLog_freq_day = pd.crosstab(userLog['userCode'], [userLog['year'], userLog['month'], userLog['day']], rownames =['userCode'], colnames=['year','month','day'])\n",
        "\n",
        "userLog_last_month  = userLog.loc[userLog['month'] == 2]\n",
        "userLog_train = userLog_last_month.loc[ userLog_last_month['day'] >=15]\n",
        "userLog_train = userLog_train.loc[ userLog_train['day'] < 19]\n",
        "userLog_test = userLog_last_month.loc[ userLog_last_month['day'] >= 19]\n",
        "\n",
        "print(userLog_train.shape)\n",
        "print(userLog_test.shape)\n",
        "\n",
        "userLog_freq_day.head()\n",
        "</code>\n",
        "</pre>\n",
        "</details>\n",
        "\n",
        "\n",
        "\n",
        "\n",
        "\n"
      ]
    },
    {
      "metadata": {
        "id": "42QTsyV2BLnw",
        "colab_type": "text"
      },
      "cell_type": "markdown",
      "source": [
        "## TODO#12: Format the train and test data\n",
        "Create a dataframe as specified below. Hint: use pd.crosstab"
      ]
    },
    {
      "metadata": {
        "id": "YDTlvyzl2nka",
        "colab_type": "code",
        "colab": {}
      },
      "cell_type": "code",
      "source": [
        "################################################################################\n",
        "#                            WRITE YOUR CODE BELOW                             #\n",
        "################################################################################\n",
        "# Create freq_user_seen_proj_train: a dataframe that has\n",
        "# User id as rows\n",
        "# Project id as columns (the value is the number of visits for that user)\n",
        "# using the training data\n"
      ],
      "execution_count": 0,
      "outputs": []
    },
    {
      "metadata": {
        "id": "EpdYFx4bAzQH",
        "colab_type": "text"
      },
      "cell_type": "markdown",
      "source": [
        "<details>\n",
        "    <summary>SOLUTION HERE!</summary>\n",
        "  <pre>\n",
        "<code>\n",
        "freq_user_seen_proj_train = pd.crosstab(userLog_train['userCode'], userLog_train['project_id'], rownames=['userCode'], colnames=['project_id'])\n",
        "freq_user_seen_proj_train_np = np.array(freq_user_seen_proj_train.values)\n",
        "print(freq_user_seen_proj_train_np.shape)\n",
        "\n",
        "freq_user_seen_proj_train.head()\n",
        "</code>\n",
        "</pre>\n",
        "</details>\n",
        "\n"
      ]
    },
    {
      "metadata": {
        "id": "-vNDMW_v3irk",
        "colab_type": "code",
        "colab": {}
      },
      "cell_type": "code",
      "source": [
        "################################################################################\n",
        "#                            WRITE YOUR CODE BELOW                             #\n",
        "################################################################################\n",
        "# Create freq_user_seen_proj_test: a dataframe that has\n",
        "# User id as rows\n",
        "# Project id as columns (the value is the number of visits for that user)\n",
        "# using the test data\n"
      ],
      "execution_count": 0,
      "outputs": []
    },
    {
      "metadata": {
        "id": "wLWoMR0qBAem",
        "colab_type": "text"
      },
      "cell_type": "markdown",
      "source": [
        "<details>\n",
        "    <summary>SOLUTION HERE!</summary>\n",
        "  <pre>\n",
        "<code>\n",
        "freq_user_seen_proj_test = pd.crosstab(userLog_test['userCode'], userLog_test['project_id'], rownames=['userCode'], colnames=['project_id'])\n",
        "freq_user_seen_proj_test_np = np.array(freq_user_seen_proj_test.values)\n",
        "print(freq_user_seen_proj_test_np.shape)\n",
        "\n",
        "freq_user_seen_proj_test.head()\n",
        "</code>\n",
        "</pre>\n",
        "</details>\n",
        "\n"
      ]
    },
    {
      "metadata": {
        "id": "mnFbvtoizeWT",
        "colab_type": "text"
      },
      "cell_type": "markdown",
      "source": [
        "\n",
        "## TODO#13:  Normalize the data\n",
        "\n",
        "In machine learning, we usually normalize the data before putting it into a machine learning model. If we do not normalize the data, the model usually latches onto the feature with highest variance.\n",
        "\n",
        "For example, consider the following projects:\n",
        "\n",
        "\n",
        "```\n",
        "           lat  lon   price\n",
        "Project A: 13.0 100.2 4000000\n",
        "Project B: 14.0 105.3 4500000\n",
        "Project C: 13.1 100.1 5000000\n",
        "```\n",
        "\n",
        "If we compute the Euclidean distance between each projects. Project A will be closer to project B than project C, even though project A and C lies within the same region.\n",
        "\n",
        "Thus, we usually scale (or in machine learning jargon, normalize) each input feature to be in the same range.\n",
        "\n",
        "We can either do **min-max scaling** (scale the min to 0 and max to 1), **standardization** (scale the input to have 0 mean and std of 1), etc, depending on the type of data. We use min-max scaling for features we believe have a limited range, and vice versa.\n",
        "\n",
        "Create a function *normalize(x)* that takes in a numpy array *x* and normalize it to 0 and 1. You may find [Preprocessing data](https://scikit-learn.org/stable/modules/preprocessing.html?fbclid=IwAR3jCj2F4T1qZqgqwM-rYSlLC_WymKPa4tF4DYk5AfcwlIL0cyiIdi4VMpA#preprocessing-scaler) helpful.\n",
        "\n",
        "Note that when we have training and test data, we have to normalize by the statistics in the training data, and then apply those statistics to the test data as well. However, for this particular lab we do not have to scale the features from the test data."
      ]
    },
    {
      "metadata": {
        "id": "gqsJzM8UpYnH",
        "colab_type": "code",
        "colab": {}
      },
      "cell_type": "code",
      "source": [
        "def normalize(x):\n",
        "  ################################################################################\n",
        "  #                            WRITE YOUR CODE BELOW                             #\n",
        "  ################################################################################\n",
        "  \n",
        "  return\n"
      ],
      "execution_count": 0,
      "outputs": []
    },
    {
      "metadata": {
        "id": "qYwDLpOQsSpo",
        "colab_type": "code",
        "colab": {}
      },
      "cell_type": "code",
      "source": [
        "# Test the function here.\n",
        "# where each row is one data entry\n",
        "# each column represents each feature value\n",
        "x = np.array([[1.0,2.0,3.0,5.0],[4.0,5.0,6.0,5.0],[3.0,1.0,9.0,5.0]])\n",
        "print(normalize(x))\n",
        "# You should get the following\n",
        "#[[0.         0.25       0.         0.        ]\n",
        "# [1.         1.         0.5        0.        ]\n",
        "# [0.66666667 0.         1.         0.        ]]"
      ],
      "execution_count": 0,
      "outputs": []
    },
    {
      "metadata": {
        "id": "2gtI7xfM1joC",
        "colab_type": "text"
      },
      "cell_type": "markdown",
      "source": [
        "## Recommendation system using k-Nearest Neighbors\n",
        "\n",
        "We will use k-NN to create a recommendation systems. Given a new user, find the most similar user, and recommend that new user with the projects the most similar user visted.\n",
        "\n",
        "To do this, we have to answer the two questions, **how do we define a user, and how do we quantify similarity between users**.\n",
        "\n",
        "We can answer the first question by defining features that represents each user, and we can answer the second question by defining distance metrics to be used with k-NN.\n",
        "\n",
        "For the following part of this lab, we will define a user using the average of properties of the project he/she visted.\n",
        "\n",
        "\n",
        "\n"
      ]
    },
    {
      "metadata": {
        "id": "IZ7WsEehtKa-",
        "colab_type": "text"
      },
      "cell_type": "markdown",
      "source": [
        "## Recommendation using user features\n",
        "\n",
        "### TODO#14:  user feature creation\n",
        "\n",
        "Write a function that takes\n",
        "\n",
        "1) UserLog_data_frame: the dataFrame containing the userLog from the training set\n",
        "\n",
        "2) user_code: the user ids to create the feature for ( e.g. freq_user_seen_proj_train.index )\n",
        "\n",
        "and returns\n",
        "\n",
        "np_data: a np array that each row corresponds to each user_code, with the columns containing the average of the features calculated from the project visted\n",
        "\n",
        "The features include\n",
        "\n",
        "\n",
        "*   Latitude\n",
        "*   Longtitude\n",
        "*   Starting Price\n",
        "*   Facilities"
      ]
    },
    {
      "metadata": {
        "id": "Hm2cLZ9gxoR3",
        "colab_type": "code",
        "colab": {}
      },
      "cell_type": "code",
      "source": [
        "def feature_sel(userLog_data_frame,user_code):\n",
        "  np_data = np.zeros((user_code.shape[0], 3 + project_facility_table.shape[1]))\n",
        "\n",
        "  for i in np.arange(user_code.shape[0]):\n",
        "    user_sel = user_code[i]\n",
        "    userLog_dataF_sel = userLog_data_frame.loc[userLog_data_frame['userCode'] == user_sel]\n",
        "    proj_id_sel = userLog_dataF_sel['project_id'].values\n",
        "    input_np_data = np.zeros((proj_id_sel.shape[0],3 + project_facility_table.shape[1]))\n",
        "    for j in np.arange(proj_id_sel.shape[0]):\n",
        "      user_proj_far = project_facility_table.loc[project_facility_table.index == proj_id_sel[j]]\n",
        "      user_proj_main = project_main.loc[project_main['project_id'] == proj_id_sel[j]]\n",
        "      input_np_data[j,:] = np.hstack(( np.array(user_proj_main[[\"lat\",\"lon\",\"starting_price\"]].values) ,  np.array(user_proj_far.values) ))\n",
        "  ################################################################################\n",
        "  #                            WRITE YOUR CODE BELOW                             #\n",
        "  ################################################################################\n",
        "    # Compute the mean in input_np_data and put it in np_data, be careful with the axis\n",
        "\n",
        "  return np_data;"
      ],
      "execution_count": 0,
      "outputs": []
    },
    {
      "metadata": {
        "id": "KZBqT8Qm07mf",
        "colab_type": "code",
        "colab": {}
      },
      "cell_type": "code",
      "source": [
        "# Test the function on a small subset of user_code first\n",
        "project_main_np_data_tmp = feature_sel(userLog_train,freq_user_seen_proj_train.index[:10])\n",
        "print(project_main_np_data_tmp)"
      ],
      "execution_count": 0,
      "outputs": []
    },
    {
      "metadata": {
        "id": "NYduVdTzNQwB",
        "colab_type": "text"
      },
      "cell_type": "markdown",
      "source": [
        "<details>\n",
        "    <summary>SOLUTION HERE!</summary>\n",
        "  <pre>\n",
        "<code>\n",
        "def feature_sel(userLog_data_frame,user_code):\n",
        "  np_data = np.zeros((user_code.shape[0], 3 + project_facility_table.shape[1]))\n",
        "  \n",
        "  for i in np.arange(user_code.shape[0]):\n",
        "    user_sel = user_code[i]\n",
        "    #print(user_sel)\n",
        "    userLog_dataF_sel = userLog_data_frame.loc[userLog_data_frame['userCode'] == user_sel]\n",
        "    proj_id_sel = userLog_dataF_sel['project_id'].values\n",
        "    input_np_data = np.zeros((proj_id_sel.shape[0],3 + project_facility_table.shape[1]))\n",
        "    # print(proj_id_sel)\n",
        "    for j in np.arange(proj_id_sel.shape[0]):\n",
        "      user_proj_far = project_facility_table.loc[project_facility_table.index == proj_id_sel[j]]\n",
        "      user_proj_main = project_main.loc[project_main['project_id'] == proj_id_sel[j]]\n",
        "      input_np_data[j,:] = np.hstack(( np.array(user_proj_main[[\"lat\",\"lon\",\"starting_price\"]].values) ,  np.array(user_proj_far.values) ))\n",
        "    np_data[i,:] = np.mean(input_np_data,axis=0)\n",
        "  return np_data;\n",
        "</code>\n",
        "</pre>\n",
        "</details>\n",
        "\n"
      ]
    },
    {
      "metadata": {
        "id": "j6kIcvT6q960",
        "colab_type": "text"
      },
      "cell_type": "markdown",
      "source": [
        "### TODO#15: create the training features\n",
        "\n",
        "Use *feature_sel()* and *normalize()* from above to create training features. This does take a while to run."
      ]
    },
    {
      "metadata": {
        "id": "6xJZ6wOTw56N",
        "colab_type": "code",
        "colab": {}
      },
      "cell_type": "code",
      "source": [
        "################################################################################\n",
        "#                            WRITE YOUR CODE BELOW                             #\n",
        "################################################################################\n"
      ],
      "execution_count": 0,
      "outputs": []
    },
    {
      "metadata": {
        "id": "Mvgs8b2kFKH7",
        "colab_type": "text"
      },
      "cell_type": "markdown",
      "source": [
        "<details>\n",
        "    <summary>SOLUTION HERE!</summary>\n",
        "  <pre>\n",
        "<code>\n",
        "project_main_np_data_nor = feature_sel(userLog_train,freq_user_seen_proj_train.index)\n",
        "project_main_np_data_nor = normalize(project_main_np_data_nor)\n",
        "print(project_main_np_data_nor.shape)\n",
        "</code>\n",
        "</pre>\n",
        "</details>\n",
        "\n"
      ]
    },
    {
      "metadata": {
        "id": "uAVmaQsQ8UFi",
        "colab_type": "text"
      },
      "cell_type": "markdown",
      "source": [
        "###TODO#16: perform nearest neighbors\n",
        "Create a k-nn model using sk-learn. See [Nearest Neighbors example](https://scikit-learn.org/stable/modules/neighbors.html) for how to use it.\n",
        "\n",
        "Use *n_neighbors = 5* and *algorithm = 'ball_tree'* for the k-nn setting. Ball tree is one of the methods to make k-NN faster.\n",
        "\n",
        "Calculate the nearest neighbors of the data in the training set."
      ]
    },
    {
      "metadata": {
        "id": "23sj6QnT22aF",
        "colab_type": "code",
        "colab": {}
      },
      "cell_type": "code",
      "source": [
        "################################################################################\n",
        "#                            WRITE YOUR CODE BELOW                             #\n",
        "################################################################################\n"
      ],
      "execution_count": 0,
      "outputs": []
    },
    {
      "metadata": {
        "id": "FCVkPdw6-EU8",
        "colab_type": "text"
      },
      "cell_type": "markdown",
      "source": [
        "<details>\n",
        "    <summary>SOLUTION HERE!</summary>\n",
        "  <pre>\n",
        "<code>\n",
        "nbrs_proj = NearestNeighbors(n_neighbors=5, algorithm='ball_tree').fit(project_main_np_data_nor)\n",
        "distances, indices = nbrs_proj.kneighbors(project_main_np_data_nor)\n",
        "</code>\n",
        "</pre>\n",
        "</details>"
      ]
    },
    {
      "metadata": {
        "id": "Cq6USarFgu85",
        "colab_type": "text"
      },
      "cell_type": "markdown",
      "source": [
        "## Evaluation \n",
        "\n",
        "We will be using [Mean Average Precision](http://sdsawtelle.github.io/blog/output/mean-average-precision-MAP-for-recommender-systems.html?fbclid=IwAR2UOfz0a_2Ig60aQ2HszgZq63nch96Hbzod2q54kDZRZT_mPzdsxJXyPj0) to evaluate our performance. \n",
        "\n",
        "The task is to recommend **projects that the user have not seen before.** Thus, we need to prune out the projects that the users had already seen in the training set.\n",
        "\n",
        "To do so, we need to create a recommendation list from our k-NN results. We will use the following functions:\n",
        "\n",
        "1.   proj_seen: create a dictionary of projects viewed by user\n",
        "    *   data_freq_seen (input): df of frequence of views by user in our case freq_user_seen_proj_train or freq_user_seen_proj_test\n",
        "    *   output: dictionary of projects viewed by user. {userid: list of project ids}\n",
        "2.   index_to_usercode: create a dictionary of usercode from nearest neighbor indices\n",
        "    *   nn_index (input): output from k-NN (indices)\n",
        "    *   user_code_list (input): list of user id, i.e. freq_user_seen_proj_train.index\n",
        "    *   output :  dict of user id to nearest user ids. {userid: list of userids}\n",
        "3.   proj_recommend: create the recommendation list\n",
        "    *   nn_dict (input): output of index_to_usercode\n",
        "    *   dict_seen_train (input): output of proj_seen from freq_user_seen_proj_train (training set)\n",
        "    *   output: dict of recommended list for each user (contains old entries)\n",
        "4.   proj_repeat: prune out the projects that the users had already seen\n",
        "    *   dict_train (input): dict from training (output from proj_seen) \n",
        "    *   dict_test (input): dict from testing (output from proj_seen or proj_recommend)\n",
        "    *   output: dict_test that has the projects in dict_train removed\n",
        "5.   mean_average_precision: find MAP@k\n",
        "    *   dict_recommend (input): dict of recommendations (only new items)\n",
        "    *   dict_test (input): dict of ground truths (only new items)\n",
        "    *   k (input): parameter for MAP@k\n",
        "    *   output: MAP@k value\n"
      ]
    },
    {
      "metadata": {
        "id": "j7owX01XfTYW",
        "colab_type": "code",
        "colab": {}
      },
      "cell_type": "code",
      "source": [
        "def proj_recommend(nn_dict,dict_seen_train):\n",
        "  nn_proj = {}\n",
        "  for user_code_nn in nn_dict:\n",
        "    list_proj = []\n",
        "    for user_in_list in nn_dict[user_code_nn]:\n",
        "      list_proj = list_proj + list(dict_seen_train[user_in_list])\n",
        "    nn_proj[user_code_nn] = list_proj\n",
        "  return nn_proj\n",
        "\n",
        "####################################################################\n",
        "\n",
        "def index_to_usercode(nn_index,user_code_list):\n",
        "  nn_dict = {}\n",
        "  for i in np.arange(nn_index.shape[0]):\n",
        "    nn_list = []\n",
        "    nn_name = user_code_list[i]\n",
        "    for j in np.arange(nn_index.shape[1]):\n",
        "      ind = nn_index[i][j]\n",
        "      nn_list.append(user_code_list[ind])\n",
        "    nn_dict[nn_name] = nn_list\n",
        "  return nn_dict\n",
        "\n",
        "####################################################################\n",
        "\n",
        "def proj_repeat_out(dict_train,dict_test):\n",
        "  dict_out = {} \n",
        "  for user_code in dict_test:\n",
        "    if user_code in dict_train:\n",
        "      list_proj_train = np.array(dict_train[user_code])\n",
        "      list_proj_test = np.array(dict_test[user_code])\n",
        "      bool_list = np.isin(list_proj_test ,list_proj_train)\n",
        "      dict_out[user_code] = list(list_proj_test[~bool_list])\n",
        "  return dict_out\n",
        "\n",
        "####################################################################\n",
        "\n",
        "def proj_seen(data_freq_seen):\n",
        "  all_colums = data_freq_seen.columns\n",
        "  all_index = data_freq_seen.index\n",
        "  output_list = {}\n",
        "  for index in np.arange(len(all_index)):\n",
        "    np_array = np.array(data_freq_seen.iloc[index])\n",
        "    output_list[all_index[index]] = all_colums[np_array > 0].values\n",
        "  return output_list\n",
        "\n",
        "####################################################################\n",
        "\n",
        "def mean_average_precision(dict_recomment,dict_test,k):\n",
        "  list_map_at_k = []\n",
        "  for user_code in dict_test:\n",
        "    list_map_at_k_user_i = []\n",
        "    list_proj_rec = np.array(dict_recomment[user_code])\n",
        "    list_proj_test = np.array(dict_test[user_code])\n",
        "    \n",
        "    ##########\n",
        "    \n",
        "    for i in np.arange(k):\n",
        "      if(i == len(list_proj_rec) or len(list_proj_test) == 0 or len(list_proj_rec) == 0):\n",
        "        break\n",
        "      bool_list = np.isin(list_proj_rec[0:i+1],list_proj_test)\n",
        "      list_map_at_k_user_i.append(np.sum(bool_list)/(i+1))\n",
        "    \n",
        "    ##########\n",
        "    # if fail   \n",
        "    if len(list_map_at_k_user_i) == 0:\n",
        "      if len(list_proj_test) != 0:\n",
        "        list_map_at_k_user_i.append(0)\n",
        "    \n",
        "    \n",
        "    if len(list_map_at_k_user_i) != 0:\n",
        "      number = np.mean(np.array(list_map_at_k_user_i))\n",
        "      list_map_at_k.append(number)\n",
        "\n",
        "  return np.mean(np.array(list_map_at_k))"
      ],
      "execution_count": 0,
      "outputs": []
    },
    {
      "metadata": {
        "id": "F946y6f-dYw1",
        "colab_type": "code",
        "colab": {}
      },
      "cell_type": "code",
      "source": [
        "# Create the groundtruth and the recommendation list\n",
        "\n",
        "dict_user_test = proj_seen(freq_user_seen_proj_test)\n",
        "dict_user_train = proj_seen(freq_user_seen_proj_train)\n",
        "dict_user_test = proj_repeat_out(dict_user_train,dict_user_test)\n",
        "\n",
        "nn_dict_rec = index_to_usercode(indices,freq_user_seen_proj_train.index)\n",
        "\n",
        "dict_user_rec = proj_recommend(nn_dict_rec,dict_user_train)\n",
        "dict_user_rec = proj_repeat_out(dict_user_train,dict_user_rec)\n",
        "\n",
        "#################################################################\n",
        "\n",
        "k = 3\n",
        "map_k = mean_average_precision(dict_user_rec,dict_user_test,k)\n",
        "print('Your MAP@k result : ', map_k)"
      ],
      "execution_count": 0,
      "outputs": []
    },
    {
      "metadata": {
        "id": "dHaf9eC3IatW",
        "colab_type": "text"
      },
      "cell_type": "markdown",
      "source": [
        "You should get 0.0177522349936143."
      ]
    },
    {
      "metadata": {
        "id": "X9387YRrAwBX",
        "colab_type": "text"
      },
      "cell_type": "markdown",
      "source": [
        "## Recommendation using views (collaborative filtering)\n",
        "\n",
        "### TODO#14:  number of views matrix creation\n",
        "\n",
        "Create a np matrix that contains the view for each user-project pair, normalize,a nd then create a k-nn recommender"
      ]
    },
    {
      "metadata": {
        "id": "Bfv4ulti29zQ",
        "colab_type": "code",
        "colab": {}
      },
      "cell_type": "code",
      "source": [
        "################################################################################\n",
        "#                            WRITE YOUR CODE BELOW                             #\n",
        "################################################################################\n"
      ],
      "execution_count": 0,
      "outputs": []
    },
    {
      "metadata": {
        "id": "DWaDNwNgH3jh",
        "colab_type": "text"
      },
      "cell_type": "markdown",
      "source": [
        "<details>\n",
        "    <summary>SOLUTION HERE!</summary>\n",
        "  <pre>\n",
        "  <code>\n",
        "  freq_user_seen_proj_train_nor = normalize(freq_user_seen_proj_train_np) \n",
        "  nbrs_user_numberical = NearestNeighbors(n_neighbors=5, algorithm='ball_tree').fit(freq_user_seen_proj_train_nor) \n",
        "  distances, indices = nbrs_user_numberical.kneighbors(freq_user_seen_proj_train_nor)\n",
        "  </code>\n",
        "  </pre>\n",
        "</details>\n",
        "\n",
        "\n"
      ]
    },
    {
      "metadata": {
        "id": "KsTCpH4qBhQN",
        "colab_type": "text"
      },
      "cell_type": "markdown",
      "source": [
        "Evaluate the recommendation just like the case for user feature."
      ]
    },
    {
      "metadata": {
        "id": "XKQrIi5R_Rsv",
        "colab_type": "code",
        "colab": {}
      },
      "cell_type": "code",
      "source": [
        "################################################################################\n",
        "#                            WRITE YOUR CODE BELOW                             #\n",
        "################################################################################\n"
      ],
      "execution_count": 0,
      "outputs": []
    },
    {
      "metadata": {
        "id": "JSW_j7sIzD_c",
        "colab_type": "text"
      },
      "cell_type": "markdown",
      "source": [
        "### TODO#15:  binary view matrix creation\n",
        "\n",
        "There are many ways to create user-project view matrix. Previously, we use the amount of views. However, we can also use a binary representation that signifies whether a user had view a project or not.\n",
        "\n",
        "Repeat the previous steps to create a k-NN recommender. Be sure to use **Jaccard** distance which is better suited for binary features. For more information about Jaccard distance see [distance function](https://scikit-learn.org/stable/modules/generated/sklearn.neighbors.DistanceMetric.html#sklearn.neighbors.DistanceMetric)."
      ]
    },
    {
      "metadata": {
        "id": "TTg0OMUMtNoH",
        "colab_type": "code",
        "colab": {}
      },
      "cell_type": "code",
      "source": [
        "################################################################################\n",
        "#                            WRITE YOUR CODE BELOW                             #\n",
        "################################################################################\n"
      ],
      "execution_count": 0,
      "outputs": []
    },
    {
      "metadata": {
        "id": "iynWysLLOpMc",
        "colab_type": "text"
      },
      "cell_type": "markdown",
      "source": [
        "<details>\n",
        "    <summary>SOLUTION HERE!</summary>\n",
        "  <pre>\n",
        "<code>\n",
        "nbrs_user = NearestNeighbors(n_neighbors= 5, algorithm='auto',metric='jaccard' ).fit(freq_user_seen_proj_train_np >= 1)\n",
        "distances, indices = nbrs_user.kneighbors(freq_user_seen_proj_train_np >= 1)\n",
        "</code>\n",
        "</pre>\n",
        "</details>\n",
        "\n",
        "\n"
      ]
    },
    {
      "metadata": {
        "id": "C_WaA-8d7RRs",
        "colab_type": "text"
      },
      "cell_type": "markdown",
      "source": [
        "Evaluate the recommendation just like the case for user feature."
      ]
    },
    {
      "metadata": {
        "id": "0seLsUCGID5z",
        "colab_type": "code",
        "colab": {}
      },
      "cell_type": "code",
      "source": [
        "################################################################################\n",
        "#                            WRITE YOUR CODE BELOW                             #\n",
        "################################################################################"
      ],
      "execution_count": 0,
      "outputs": []
    },
    {
      "metadata": {
        "id": "P1iOJeNhhc4L",
        "colab_type": "text"
      },
      "cell_type": "markdown",
      "source": [
        "You should get the following numbers for MAP@3\n",
        "\n",
        "**user-profile feature**                          0.0177522349936143\n",
        "\n",
        "**number of views matrix feature**    0.028544061302681997\n",
        "\n",
        "**binary view matrix feature**              0.027203065134099615\n",
        "\n"
      ]
    }
  ]
}
